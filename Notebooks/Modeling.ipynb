{
 "cells": [
  {
   "cell_type": "code",
   "execution_count": 1,
   "metadata": {
    "collapsed": true
   },
   "outputs": [],
   "source": [
    "from time import time\n",
    "import pandas as pd\n",
    "import numpy as np\n",
    "import seaborn as sns\n",
    "import matplotlib\n",
    "import random\n",
    "from sklearn.preprocessing import StandardScaler, MaxAbsScaler, MinMaxScaler, Imputer\n",
    "from sklearn.model_selection import cross_val_score, TimeSeriesSplit, GridSearchCV, RandomizedSearchCV\n",
    "from sklearn.metrics import classification_report, confusion_matrix, accuracy_score, precision_score, recall_score\n",
    "from sklearn.naive_bayes import MultinomialNB, BernoulliNB, GaussianNB\n",
    "from sklearn.linear_model import LogisticRegression, SGDClassifier\n",
    "from sklearn.tree import DecisionTreeClassifier, ExtraTreeClassifier\n",
    "from sklearn.neighbors import KNeighborsClassifier\n",
    "from sklearn.ensemble import VotingClassifier, RandomForestClassifier, BaggingClassifier, AdaBoostClassifier, GradientBoostingClassifier\n",
    "from sklearn.svm import SVC\n",
    "from scipy.stats import randint\n",
    "from sklearn.metrics import mean_squared_error\n",
    "import matplotlib.pyplot as plt\n",
    "from IPython.display import display\n",
    "from sklearn import metrics\n",
    "from catboost import CatBoostClassifier\n",
    "from mlxtend.classifier import StackingClassifier\n",
    "from xgboost import XGBClassifier\n",
    "from sklearn.metrics import mean_squared_error\n",
    "from sklearn.decomposition import PCA \n",
    "\n",
    "%matplotlib inline\n",
    "pd.options.mode.chained_assignment = None  # default='warn'"
   ]
  },
  {
   "cell_type": "markdown",
   "metadata": {},
   "source": [
    "#### *Loading the data*"
   ]
  },
  {
   "cell_type": "code",
   "execution_count": 191,
   "metadata": {
    "collapsed": true
   },
   "outputs": [],
   "source": [
    "data = pd.read_csv('new_data.csv')"
   ]
  },
  {
   "cell_type": "code",
   "execution_count": 192,
   "metadata": {},
   "outputs": [
    {
     "data": {
      "text/html": [
       "<div>\n",
       "<style>\n",
       "    .dataframe thead tr:only-child th {\n",
       "        text-align: right;\n",
       "    }\n",
       "\n",
       "    .dataframe thead th {\n",
       "        text-align: left;\n",
       "    }\n",
       "\n",
       "    .dataframe tbody tr th {\n",
       "        vertical-align: top;\n",
       "    }\n",
       "</style>\n",
       "<table border=\"1\" class=\"dataframe\">\n",
       "  <thead>\n",
       "    <tr style=\"text-align: right;\">\n",
       "      <th></th>\n",
       "      <th>Date</th>\n",
       "      <th>30mortgage_one_change</th>\n",
       "      <th>30mortgage_five_change</th>\n",
       "      <th>15mortgage_one_change</th>\n",
       "      <th>15mortgage_five_change</th>\n",
       "      <th>Case_shiller_index_one_change</th>\n",
       "      <th>Case_shiller_index_five_change</th>\n",
       "      <th>us_libor_one_change</th>\n",
       "      <th>us_libor_five_change</th>\n",
       "      <th>uk_libor_one_change</th>\n",
       "      <th>...</th>\n",
       "      <th>chf_gold_one_change_5d_max</th>\n",
       "      <th>jpy_gold_one_change_5d_max</th>\n",
       "      <th>cad_gold_one_change_5d_max</th>\n",
       "      <th>aud_gold_one_change_5d_max</th>\n",
       "      <th>us_crude_one_change_5d_max</th>\n",
       "      <th>eur_crude_one_change_5d_max</th>\n",
       "      <th>chf_crude_one_change_5d_max</th>\n",
       "      <th>dollar_one_change_5d_max</th>\n",
       "      <th>returns</th>\n",
       "      <th>target</th>\n",
       "    </tr>\n",
       "  </thead>\n",
       "  <tbody>\n",
       "    <tr>\n",
       "      <th>0</th>\n",
       "      <td>2005-12-05</td>\n",
       "      <td>0.000000</td>\n",
       "      <td>0.000000</td>\n",
       "      <td>0.000000</td>\n",
       "      <td>0.000000</td>\n",
       "      <td>0.0</td>\n",
       "      <td>0.0</td>\n",
       "      <td>0.001702</td>\n",
       "      <td>-0.002468</td>\n",
       "      <td>0.007907</td>\n",
       "      <td>...</td>\n",
       "      <td>0.018251</td>\n",
       "      <td>0.019389</td>\n",
       "      <td>0.013652</td>\n",
       "      <td>0.013872</td>\n",
       "      <td>0.020950</td>\n",
       "      <td>0.025314</td>\n",
       "      <td>0.022836</td>\n",
       "      <td>0.007591</td>\n",
       "      <td>-0.000656</td>\n",
       "      <td>0</td>\n",
       "    </tr>\n",
       "    <tr>\n",
       "      <th>1</th>\n",
       "      <td>2005-12-06</td>\n",
       "      <td>0.000000</td>\n",
       "      <td>0.000000</td>\n",
       "      <td>0.000000</td>\n",
       "      <td>0.000000</td>\n",
       "      <td>0.0</td>\n",
       "      <td>0.0</td>\n",
       "      <td>0.000309</td>\n",
       "      <td>-0.002467</td>\n",
       "      <td>0.004184</td>\n",
       "      <td>...</td>\n",
       "      <td>0.018251</td>\n",
       "      <td>0.019389</td>\n",
       "      <td>0.013652</td>\n",
       "      <td>0.013872</td>\n",
       "      <td>0.020950</td>\n",
       "      <td>0.025314</td>\n",
       "      <td>0.022836</td>\n",
       "      <td>0.002841</td>\n",
       "      <td>0.005143</td>\n",
       "      <td>1</td>\n",
       "    </tr>\n",
       "    <tr>\n",
       "      <th>2</th>\n",
       "      <td>2005-12-07</td>\n",
       "      <td>0.000000</td>\n",
       "      <td>0.000000</td>\n",
       "      <td>0.000000</td>\n",
       "      <td>0.000000</td>\n",
       "      <td>0.0</td>\n",
       "      <td>0.0</td>\n",
       "      <td>-0.000462</td>\n",
       "      <td>-0.008736</td>\n",
       "      <td>0.000000</td>\n",
       "      <td>...</td>\n",
       "      <td>0.018251</td>\n",
       "      <td>0.019389</td>\n",
       "      <td>0.013652</td>\n",
       "      <td>0.013872</td>\n",
       "      <td>0.020950</td>\n",
       "      <td>0.025314</td>\n",
       "      <td>0.022836</td>\n",
       "      <td>0.005143</td>\n",
       "      <td>-0.006967</td>\n",
       "      <td>0</td>\n",
       "    </tr>\n",
       "    <tr>\n",
       "      <th>3</th>\n",
       "      <td>2005-12-08</td>\n",
       "      <td>0.009585</td>\n",
       "      <td>0.009585</td>\n",
       "      <td>0.010327</td>\n",
       "      <td>0.010327</td>\n",
       "      <td>0.0</td>\n",
       "      <td>0.0</td>\n",
       "      <td>0.016854</td>\n",
       "      <td>0.014344</td>\n",
       "      <td>-0.010417</td>\n",
       "      <td>...</td>\n",
       "      <td>0.012413</td>\n",
       "      <td>0.014592</td>\n",
       "      <td>0.010714</td>\n",
       "      <td>0.012662</td>\n",
       "      <td>0.025346</td>\n",
       "      <td>0.016225</td>\n",
       "      <td>0.014269</td>\n",
       "      <td>0.005143</td>\n",
       "      <td>-0.000110</td>\n",
       "      <td>0</td>\n",
       "    </tr>\n",
       "    <tr>\n",
       "      <th>4</th>\n",
       "      <td>2005-12-09</td>\n",
       "      <td>0.000000</td>\n",
       "      <td>0.009585</td>\n",
       "      <td>0.000000</td>\n",
       "      <td>0.010327</td>\n",
       "      <td>0.0</td>\n",
       "      <td>0.0</td>\n",
       "      <td>0.015815</td>\n",
       "      <td>0.034535</td>\n",
       "      <td>-0.069474</td>\n",
       "      <td>...</td>\n",
       "      <td>0.014779</td>\n",
       "      <td>0.014592</td>\n",
       "      <td>0.011737</td>\n",
       "      <td>0.012662</td>\n",
       "      <td>0.025346</td>\n",
       "      <td>0.016225</td>\n",
       "      <td>0.014269</td>\n",
       "      <td>0.005143</td>\n",
       "      <td>-0.012937</td>\n",
       "      <td>0</td>\n",
       "    </tr>\n",
       "  </tbody>\n",
       "</table>\n",
       "<p>5 rows × 387 columns</p>\n",
       "</div>"
      ],
      "text/plain": [
       "         Date  30mortgage_one_change  30mortgage_five_change  \\\n",
       "0  2005-12-05               0.000000                0.000000   \n",
       "1  2005-12-06               0.000000                0.000000   \n",
       "2  2005-12-07               0.000000                0.000000   \n",
       "3  2005-12-08               0.009585                0.009585   \n",
       "4  2005-12-09               0.000000                0.009585   \n",
       "\n",
       "   15mortgage_one_change  15mortgage_five_change  \\\n",
       "0               0.000000                0.000000   \n",
       "1               0.000000                0.000000   \n",
       "2               0.000000                0.000000   \n",
       "3               0.010327                0.010327   \n",
       "4               0.000000                0.010327   \n",
       "\n",
       "   Case_shiller_index_one_change  Case_shiller_index_five_change  \\\n",
       "0                            0.0                             0.0   \n",
       "1                            0.0                             0.0   \n",
       "2                            0.0                             0.0   \n",
       "3                            0.0                             0.0   \n",
       "4                            0.0                             0.0   \n",
       "\n",
       "   us_libor_one_change  us_libor_five_change  uk_libor_one_change   ...    \\\n",
       "0             0.001702             -0.002468             0.007907   ...     \n",
       "1             0.000309             -0.002467             0.004184   ...     \n",
       "2            -0.000462             -0.008736             0.000000   ...     \n",
       "3             0.016854              0.014344            -0.010417   ...     \n",
       "4             0.015815              0.034535            -0.069474   ...     \n",
       "\n",
       "   chf_gold_one_change_5d_max  jpy_gold_one_change_5d_max  \\\n",
       "0                    0.018251                    0.019389   \n",
       "1                    0.018251                    0.019389   \n",
       "2                    0.018251                    0.019389   \n",
       "3                    0.012413                    0.014592   \n",
       "4                    0.014779                    0.014592   \n",
       "\n",
       "   cad_gold_one_change_5d_max  aud_gold_one_change_5d_max  \\\n",
       "0                    0.013652                    0.013872   \n",
       "1                    0.013652                    0.013872   \n",
       "2                    0.013652                    0.013872   \n",
       "3                    0.010714                    0.012662   \n",
       "4                    0.011737                    0.012662   \n",
       "\n",
       "   us_crude_one_change_5d_max  eur_crude_one_change_5d_max  \\\n",
       "0                    0.020950                     0.025314   \n",
       "1                    0.020950                     0.025314   \n",
       "2                    0.020950                     0.025314   \n",
       "3                    0.025346                     0.016225   \n",
       "4                    0.025346                     0.016225   \n",
       "\n",
       "   chf_crude_one_change_5d_max  dollar_one_change_5d_max   returns  target  \n",
       "0                     0.022836                  0.007591 -0.000656       0  \n",
       "1                     0.022836                  0.002841  0.005143       1  \n",
       "2                     0.022836                  0.005143 -0.006967       0  \n",
       "3                     0.014269                  0.005143 -0.000110       0  \n",
       "4                     0.014269                  0.005143 -0.012937       0  \n",
       "\n",
       "[5 rows x 387 columns]"
      ]
     },
     "execution_count": 192,
     "metadata": {},
     "output_type": "execute_result"
    }
   ],
   "source": [
    "data.head()"
   ]
  },
  {
   "cell_type": "code",
   "execution_count": 193,
   "metadata": {},
   "outputs": [
    {
     "data": {
      "text/html": [
       "<div>\n",
       "<style>\n",
       "    .dataframe thead tr:only-child th {\n",
       "        text-align: right;\n",
       "    }\n",
       "\n",
       "    .dataframe thead th {\n",
       "        text-align: left;\n",
       "    }\n",
       "\n",
       "    .dataframe tbody tr th {\n",
       "        vertical-align: top;\n",
       "    }\n",
       "</style>\n",
       "<table border=\"1\" class=\"dataframe\">\n",
       "  <thead>\n",
       "    <tr style=\"text-align: right;\">\n",
       "      <th></th>\n",
       "      <th>30mortgage_one_change</th>\n",
       "      <th>30mortgage_five_change</th>\n",
       "      <th>15mortgage_one_change</th>\n",
       "      <th>15mortgage_five_change</th>\n",
       "      <th>Case_shiller_index_one_change</th>\n",
       "      <th>Case_shiller_index_five_change</th>\n",
       "      <th>us_libor_one_change</th>\n",
       "      <th>us_libor_five_change</th>\n",
       "      <th>uk_libor_one_change</th>\n",
       "      <th>uk_libor_five_change</th>\n",
       "      <th>...</th>\n",
       "      <th>chf_gold_one_change_5d_max</th>\n",
       "      <th>jpy_gold_one_change_5d_max</th>\n",
       "      <th>cad_gold_one_change_5d_max</th>\n",
       "      <th>aud_gold_one_change_5d_max</th>\n",
       "      <th>us_crude_one_change_5d_max</th>\n",
       "      <th>eur_crude_one_change_5d_max</th>\n",
       "      <th>chf_crude_one_change_5d_max</th>\n",
       "      <th>dollar_one_change_5d_max</th>\n",
       "      <th>returns</th>\n",
       "      <th>target</th>\n",
       "    </tr>\n",
       "    <tr>\n",
       "      <th>Date</th>\n",
       "      <th></th>\n",
       "      <th></th>\n",
       "      <th></th>\n",
       "      <th></th>\n",
       "      <th></th>\n",
       "      <th></th>\n",
       "      <th></th>\n",
       "      <th></th>\n",
       "      <th></th>\n",
       "      <th></th>\n",
       "      <th></th>\n",
       "      <th></th>\n",
       "      <th></th>\n",
       "      <th></th>\n",
       "      <th></th>\n",
       "      <th></th>\n",
       "      <th></th>\n",
       "      <th></th>\n",
       "      <th></th>\n",
       "      <th></th>\n",
       "      <th></th>\n",
       "    </tr>\n",
       "  </thead>\n",
       "  <tbody>\n",
       "    <tr>\n",
       "      <th>2005-12-05</th>\n",
       "      <td>0.000000</td>\n",
       "      <td>0.000000</td>\n",
       "      <td>0.000000</td>\n",
       "      <td>0.000000</td>\n",
       "      <td>0.0</td>\n",
       "      <td>0.0</td>\n",
       "      <td>0.001702</td>\n",
       "      <td>-0.002468</td>\n",
       "      <td>0.007907</td>\n",
       "      <td>0.058400</td>\n",
       "      <td>...</td>\n",
       "      <td>0.018251</td>\n",
       "      <td>0.019389</td>\n",
       "      <td>0.013652</td>\n",
       "      <td>0.013872</td>\n",
       "      <td>0.020950</td>\n",
       "      <td>0.025314</td>\n",
       "      <td>0.022836</td>\n",
       "      <td>0.007591</td>\n",
       "      <td>-0.000656</td>\n",
       "      <td>0</td>\n",
       "    </tr>\n",
       "    <tr>\n",
       "      <th>2005-12-06</th>\n",
       "      <td>0.000000</td>\n",
       "      <td>0.000000</td>\n",
       "      <td>0.000000</td>\n",
       "      <td>0.000000</td>\n",
       "      <td>0.0</td>\n",
       "      <td>0.0</td>\n",
       "      <td>0.000309</td>\n",
       "      <td>-0.002467</td>\n",
       "      <td>0.004184</td>\n",
       "      <td>0.020734</td>\n",
       "      <td>...</td>\n",
       "      <td>0.018251</td>\n",
       "      <td>0.019389</td>\n",
       "      <td>0.013652</td>\n",
       "      <td>0.013872</td>\n",
       "      <td>0.020950</td>\n",
       "      <td>0.025314</td>\n",
       "      <td>0.022836</td>\n",
       "      <td>0.002841</td>\n",
       "      <td>0.005143</td>\n",
       "      <td>1</td>\n",
       "    </tr>\n",
       "    <tr>\n",
       "      <th>2005-12-07</th>\n",
       "      <td>0.000000</td>\n",
       "      <td>0.000000</td>\n",
       "      <td>0.000000</td>\n",
       "      <td>0.000000</td>\n",
       "      <td>0.0</td>\n",
       "      <td>0.0</td>\n",
       "      <td>-0.000462</td>\n",
       "      <td>-0.008736</td>\n",
       "      <td>0.000000</td>\n",
       "      <td>0.010526</td>\n",
       "      <td>...</td>\n",
       "      <td>0.018251</td>\n",
       "      <td>0.019389</td>\n",
       "      <td>0.013652</td>\n",
       "      <td>0.013872</td>\n",
       "      <td>0.020950</td>\n",
       "      <td>0.025314</td>\n",
       "      <td>0.022836</td>\n",
       "      <td>0.005143</td>\n",
       "      <td>-0.006967</td>\n",
       "      <td>0</td>\n",
       "    </tr>\n",
       "    <tr>\n",
       "      <th>2005-12-08</th>\n",
       "      <td>0.009585</td>\n",
       "      <td>0.009585</td>\n",
       "      <td>0.010327</td>\n",
       "      <td>0.010327</td>\n",
       "      <td>0.0</td>\n",
       "      <td>0.0</td>\n",
       "      <td>0.016854</td>\n",
       "      <td>0.014344</td>\n",
       "      <td>-0.010417</td>\n",
       "      <td>0.071630</td>\n",
       "      <td>...</td>\n",
       "      <td>0.012413</td>\n",
       "      <td>0.014592</td>\n",
       "      <td>0.010714</td>\n",
       "      <td>0.012662</td>\n",
       "      <td>0.025346</td>\n",
       "      <td>0.016225</td>\n",
       "      <td>0.014269</td>\n",
       "      <td>0.005143</td>\n",
       "      <td>-0.000110</td>\n",
       "      <td>0</td>\n",
       "    </tr>\n",
       "    <tr>\n",
       "      <th>2005-12-09</th>\n",
       "      <td>0.000000</td>\n",
       "      <td>0.009585</td>\n",
       "      <td>0.000000</td>\n",
       "      <td>0.010327</td>\n",
       "      <td>0.0</td>\n",
       "      <td>0.0</td>\n",
       "      <td>0.015815</td>\n",
       "      <td>0.034535</td>\n",
       "      <td>-0.069474</td>\n",
       "      <td>-0.068002</td>\n",
       "      <td>...</td>\n",
       "      <td>0.014779</td>\n",
       "      <td>0.014592</td>\n",
       "      <td>0.011737</td>\n",
       "      <td>0.012662</td>\n",
       "      <td>0.025346</td>\n",
       "      <td>0.016225</td>\n",
       "      <td>0.014269</td>\n",
       "      <td>0.005143</td>\n",
       "      <td>-0.012937</td>\n",
       "      <td>0</td>\n",
       "    </tr>\n",
       "  </tbody>\n",
       "</table>\n",
       "<p>5 rows × 386 columns</p>\n",
       "</div>"
      ],
      "text/plain": [
       "            30mortgage_one_change  30mortgage_five_change  \\\n",
       "Date                                                        \n",
       "2005-12-05               0.000000                0.000000   \n",
       "2005-12-06               0.000000                0.000000   \n",
       "2005-12-07               0.000000                0.000000   \n",
       "2005-12-08               0.009585                0.009585   \n",
       "2005-12-09               0.000000                0.009585   \n",
       "\n",
       "            15mortgage_one_change  15mortgage_five_change  \\\n",
       "Date                                                        \n",
       "2005-12-05               0.000000                0.000000   \n",
       "2005-12-06               0.000000                0.000000   \n",
       "2005-12-07               0.000000                0.000000   \n",
       "2005-12-08               0.010327                0.010327   \n",
       "2005-12-09               0.000000                0.010327   \n",
       "\n",
       "            Case_shiller_index_one_change  Case_shiller_index_five_change  \\\n",
       "Date                                                                        \n",
       "2005-12-05                            0.0                             0.0   \n",
       "2005-12-06                            0.0                             0.0   \n",
       "2005-12-07                            0.0                             0.0   \n",
       "2005-12-08                            0.0                             0.0   \n",
       "2005-12-09                            0.0                             0.0   \n",
       "\n",
       "            us_libor_one_change  us_libor_five_change  uk_libor_one_change  \\\n",
       "Date                                                                         \n",
       "2005-12-05             0.001702             -0.002468             0.007907   \n",
       "2005-12-06             0.000309             -0.002467             0.004184   \n",
       "2005-12-07            -0.000462             -0.008736             0.000000   \n",
       "2005-12-08             0.016854              0.014344            -0.010417   \n",
       "2005-12-09             0.015815              0.034535            -0.069474   \n",
       "\n",
       "            uk_libor_five_change   ...    chf_gold_one_change_5d_max  \\\n",
       "Date                               ...                                 \n",
       "2005-12-05              0.058400   ...                      0.018251   \n",
       "2005-12-06              0.020734   ...                      0.018251   \n",
       "2005-12-07              0.010526   ...                      0.018251   \n",
       "2005-12-08              0.071630   ...                      0.012413   \n",
       "2005-12-09             -0.068002   ...                      0.014779   \n",
       "\n",
       "            jpy_gold_one_change_5d_max  cad_gold_one_change_5d_max  \\\n",
       "Date                                                                 \n",
       "2005-12-05                    0.019389                    0.013652   \n",
       "2005-12-06                    0.019389                    0.013652   \n",
       "2005-12-07                    0.019389                    0.013652   \n",
       "2005-12-08                    0.014592                    0.010714   \n",
       "2005-12-09                    0.014592                    0.011737   \n",
       "\n",
       "            aud_gold_one_change_5d_max  us_crude_one_change_5d_max  \\\n",
       "Date                                                                 \n",
       "2005-12-05                    0.013872                    0.020950   \n",
       "2005-12-06                    0.013872                    0.020950   \n",
       "2005-12-07                    0.013872                    0.020950   \n",
       "2005-12-08                    0.012662                    0.025346   \n",
       "2005-12-09                    0.012662                    0.025346   \n",
       "\n",
       "            eur_crude_one_change_5d_max  chf_crude_one_change_5d_max  \\\n",
       "Date                                                                   \n",
       "2005-12-05                     0.025314                     0.022836   \n",
       "2005-12-06                     0.025314                     0.022836   \n",
       "2005-12-07                     0.025314                     0.022836   \n",
       "2005-12-08                     0.016225                     0.014269   \n",
       "2005-12-09                     0.016225                     0.014269   \n",
       "\n",
       "            dollar_one_change_5d_max   returns  target  \n",
       "Date                                                    \n",
       "2005-12-05                  0.007591 -0.000656       0  \n",
       "2005-12-06                  0.002841  0.005143       1  \n",
       "2005-12-07                  0.005143 -0.006967       0  \n",
       "2005-12-08                  0.005143 -0.000110       0  \n",
       "2005-12-09                  0.005143 -0.012937       0  \n",
       "\n",
       "[5 rows x 386 columns]"
      ]
     },
     "execution_count": 193,
     "metadata": {},
     "output_type": "execute_result"
    }
   ],
   "source": [
    "data.Date = pd.to_datetime(data.Date)\n",
    "data.set_index('Date', inplace=True)\n",
    "data.head()"
   ]
  },
  {
   "cell_type": "code",
   "execution_count": 16,
   "metadata": {},
   "outputs": [
    {
     "data": {
      "text/plain": [
       "0L"
      ]
     },
     "execution_count": 16,
     "metadata": {},
     "output_type": "execute_result"
    }
   ],
   "source": [
    "data.isnull().sum().sum()"
   ]
  },
  {
   "cell_type": "code",
   "execution_count": 17,
   "metadata": {},
   "outputs": [
    {
     "data": {
      "text/plain": [
       "dollar_one_change            1.000000\n",
       "EUR/USD_one_change           0.742144\n",
       "USEERI_one_change            0.700334\n",
       "SDK/USD_one_change           0.609863\n",
       "SWF/USD_one_change           0.557583\n",
       "GBP/USD_one_change           0.519880\n",
       "dollar_one_change_5d_mean    0.444081\n",
       "dollar_five_change           0.443886\n",
       "CAD/USD_one_change           0.416505\n",
       "AUD/USD_one_change           0.404256\n",
       "Name: dollar_one_change, dtype: float64"
      ]
     },
     "execution_count": 17,
     "metadata": {},
     "output_type": "execute_result"
    }
   ],
   "source": [
    "data.corr()['dollar_one_change'].sort_values(ascending=False)[:10]"
   ]
  },
  {
   "cell_type": "code",
   "execution_count": 18,
   "metadata": {},
   "outputs": [
    {
     "data": {
      "text/plain": [
       "target                                     1.000000\n",
       "aus10_yield_one_change_5d_std              0.045410\n",
       "ita10_yield_one_change_5d_std              0.043489\n",
       "jpy_libor_one_change                       0.042627\n",
       "us_2year_bond_futures_one_change_5d_std    0.042603\n",
       "cac_40_one_change_5d_std                   0.038509\n",
       "EuroEERI_one_change_5d_std                 0.037568\n",
       "eu_stoxx_50_one_change_5d_std              0.036909\n",
       "chf_libor_one_change_5d_std                0.035640\n",
       "fra10_yield_one_change_5d_std              0.035616\n",
       "Name: target, dtype: float64"
      ]
     },
     "execution_count": 18,
     "metadata": {},
     "output_type": "execute_result"
    }
   ],
   "source": [
    "data.corr()['target'].sort_values(ascending=False)[:10]"
   ]
  },
  {
   "cell_type": "code",
   "execution_count": 19,
   "metadata": {
    "collapsed": true
   },
   "outputs": [],
   "source": [
    "y = data.target.values"
   ]
  },
  {
   "cell_type": "markdown",
   "metadata": {},
   "source": [
    "#### *Calculate the Baseline*\n"
   ]
  },
  {
   "cell_type": "code",
   "execution_count": 20,
   "metadata": {},
   "outputs": [
    {
     "data": {
      "text/plain": [
       "0.52"
      ]
     },
     "execution_count": 20,
     "metadata": {},
     "output_type": "execute_result"
    }
   ],
   "source": [
    "round(1 - y.mean(), 2)"
   ]
  },
  {
   "cell_type": "markdown",
   "metadata": {},
   "source": [
    "#### *Train/test split*"
   ]
  },
  {
   "cell_type": "code",
   "execution_count": 305,
   "metadata": {},
   "outputs": [
    {
     "data": {
      "text/plain": [
       "2442"
      ]
     },
     "execution_count": 305,
     "metadata": {},
     "output_type": "execute_result"
    }
   ],
   "source": [
    "# Train set - 80% of the data\n",
    "train_set = int(round(data.shape[0]*.8))\n",
    "train_set"
   ]
  },
  {
   "cell_type": "markdown",
   "metadata": {},
   "source": [
    "#### Train set"
   ]
  },
  {
   "cell_type": "code",
   "execution_count": 306,
   "metadata": {},
   "outputs": [
    {
     "data": {
      "text/plain": [
       "(2442, 384)"
      ]
     },
     "execution_count": 306,
     "metadata": {},
     "output_type": "execute_result"
    }
   ],
   "source": [
    "X_train = data.iloc[:train_set, :-2]\n",
    "X_train.shape"
   ]
  },
  {
   "cell_type": "code",
   "execution_count": 307,
   "metadata": {},
   "outputs": [
    {
     "data": {
      "text/plain": [
       "(2442,)"
      ]
     },
     "execution_count": 307,
     "metadata": {},
     "output_type": "execute_result"
    }
   ],
   "source": [
    "y_train = data.iloc[:train_set, -1].values\n",
    "y_train.shape"
   ]
  },
  {
   "cell_type": "markdown",
   "metadata": {},
   "source": [
    "#### Test set"
   ]
  },
  {
   "cell_type": "code",
   "execution_count": 308,
   "metadata": {},
   "outputs": [
    {
     "data": {
      "text/plain": [
       "(610, 384)"
      ]
     },
     "execution_count": 308,
     "metadata": {},
     "output_type": "execute_result"
    }
   ],
   "source": [
    "X_test = data.iloc[train_set:, :-2]\n",
    "X_test.shape"
   ]
  },
  {
   "cell_type": "code",
   "execution_count": 309,
   "metadata": {},
   "outputs": [
    {
     "data": {
      "text/plain": [
       "(610,)"
      ]
     },
     "execution_count": 309,
     "metadata": {},
     "output_type": "execute_result"
    }
   ],
   "source": [
    "y_test = data.iloc[train_set:, -1].values\n",
    "y_test.shape"
   ]
  },
  {
   "cell_type": "markdown",
   "metadata": {},
   "source": [
    "#### Train/Validation split on Train set to run GridSearchCV"
   ]
  },
  {
   "cell_type": "code",
   "execution_count": 310,
   "metadata": {},
   "outputs": [
    {
     "data": {
      "text/plain": [
       "1954"
      ]
     },
     "execution_count": 310,
     "metadata": {},
     "output_type": "execute_result"
    }
   ],
   "source": [
    "train_set = int(round(X_train.shape[0]*.8))\n",
    "train_set"
   ]
  },
  {
   "cell_type": "code",
   "execution_count": 311,
   "metadata": {
    "scrolled": true
   },
   "outputs": [
    {
     "data": {
      "text/plain": [
       "(1954, 384)"
      ]
     },
     "execution_count": 311,
     "metadata": {},
     "output_type": "execute_result"
    }
   ],
   "source": [
    "X_train_val = X_train.iloc[:train_set, :]\n",
    "X_train_val.shape"
   ]
  },
  {
   "cell_type": "code",
   "execution_count": 312,
   "metadata": {},
   "outputs": [
    {
     "data": {
      "text/plain": [
       "(1954,)"
      ]
     },
     "execution_count": 312,
     "metadata": {},
     "output_type": "execute_result"
    }
   ],
   "source": [
    "y_train_val = y_train[:train_set]\n",
    "y_train_val.shape"
   ]
  },
  {
   "cell_type": "code",
   "execution_count": 313,
   "metadata": {},
   "outputs": [
    {
     "data": {
      "text/plain": [
       "(488, 384)"
      ]
     },
     "execution_count": 313,
     "metadata": {},
     "output_type": "execute_result"
    }
   ],
   "source": [
    "X_test_val = X_train.iloc[train_set:, :]\n",
    "X_test_val.shape"
   ]
  },
  {
   "cell_type": "code",
   "execution_count": 314,
   "metadata": {},
   "outputs": [
    {
     "data": {
      "text/plain": [
       "(488,)"
      ]
     },
     "execution_count": 314,
     "metadata": {},
     "output_type": "execute_result"
    }
   ],
   "source": [
    "y_test_val = y_train[train_set:]\n",
    "y_test_val.shape"
   ]
  },
  {
   "cell_type": "markdown",
   "metadata": {},
   "source": [
    "#### Standardization of the data"
   ]
  },
  {
   "cell_type": "code",
   "execution_count": 315,
   "metadata": {
    "collapsed": true
   },
   "outputs": [],
   "source": [
    "X_train = X_train_val\n",
    "X_test = X_test_val"
   ]
  },
  {
   "cell_type": "code",
   "execution_count": 321,
   "metadata": {
    "collapsed": true
   },
   "outputs": [],
   "source": [
    "ss = StandardScaler()\n",
    "X_train = ss.fit_transform(X_train_val)\n",
    "X_test = ss.transform(X_test_val)"
   ]
  },
  {
   "cell_type": "code",
   "execution_count": 322,
   "metadata": {
    "collapsed": true
   },
   "outputs": [],
   "source": [
    "y_train = y_train_val\n",
    "y_test = y_test_val"
   ]
  },
  {
   "cell_type": "code",
   "execution_count": null,
   "metadata": {
    "collapsed": true
   },
   "outputs": [],
   "source": []
  },
  {
   "cell_type": "markdown",
   "metadata": {},
   "source": [
    "#### Cross-validation scoring"
   ]
  },
  {
   "cell_type": "code",
   "execution_count": 33,
   "metadata": {
    "scrolled": false
   },
   "outputs": [
    {
     "name": "stdout",
     "output_type": "stream",
     "text": [
      "KNeighbors CV Score:\t0.504 ± 0.027\n",
      "Baseline score:\t 0.52\n",
      "Accuracy score:\t  0.51\n",
      "Precision score:\t  0.53\n",
      "Recall score:\t  0.39 \n",
      "\n",
      "Logistic Regression CV Score:\t0.507 ± 0.04\n",
      "Baseline score:\t 0.52\n",
      "Accuracy score:\t  0.52\n",
      "Precision score:\t  0.54\n",
      "Recall score:\t  0.46 \n",
      "\n",
      "BernoulliNB CV Score:\t0.51 ± 0.01\n",
      "Baseline score:\t 0.52\n",
      "Accuracy score:\t  0.51\n",
      "Precision score:\t  0.54\n",
      "Recall score:\t  0.47 \n",
      "\n",
      "SVC CV Score:\t0.515 ± 0.029\n",
      "Baseline score:\t 0.52\n",
      "Accuracy score:\t  0.49\n",
      "Precision score:\t  0.52\n",
      "Recall score:\t  0.23 \n",
      "\n",
      "Decision Tree CV Score:\t0.49 ± 0.034\n",
      "Baseline score:\t 0.52\n",
      "Accuracy score:\t  0.49\n",
      "Precision score:\t  0.51\n",
      "Recall score:\t  0.53 \n",
      "\n",
      "Bagging DT CV Score:\t0.499 ± 0.023\n",
      "Baseline score:\t 0.52\n",
      "Accuracy score:\t  0.49\n",
      "Precision score:\t  0.52\n",
      "Recall score:\t  0.34 \n",
      "\n",
      "Ada Boost DT CV Score:\t0.484 ± 0.028\n",
      "Baseline score:\t 0.52\n",
      "Accuracy score:\t  0.53\n",
      "Precision score:\t  0.56\n",
      "Recall score:\t  0.50 \n",
      "\n",
      "Random Forest CV Score:\t0.518 ± 0.03\n",
      "Baseline score:\t 0.52\n",
      "Accuracy score:\t  0.50\n",
      "Precision score:\t  0.54\n",
      "Recall score:\t  0.32 \n",
      "\n",
      "Extra Trees CV Score:\t0.503 ± 0.016\n",
      "Baseline score:\t 0.52\n",
      "Accuracy score:\t  0.50\n",
      "Precision score:\t  0.52\n",
      "Recall score:\t  0.50 \n",
      "\n",
      "SGD CV Score:\t0.51 ± 0.028\n",
      "Baseline score:\t 0.52\n",
      "Accuracy score:\t  0.49\n",
      "Precision score:\t  0.52\n",
      "Recall score:\t  0.33 \n",
      "\n",
      "Ada Boost SGD CV Score:\t0.493 ± 0.031\n",
      "Baseline score:\t 0.52\n",
      "Accuracy score:\t  0.50\n",
      "Precision score:\t  0.52\n",
      "Recall score:\t  0.46 \n",
      "\n",
      "Gradient Boost CV Score:\t0.51 ± 0.016\n",
      "Baseline score:\t 0.52\n",
      "Accuracy score:\t  0.52\n",
      "Precision score:\t  0.54\n",
      "Recall score:\t  0.52 \n",
      "\n",
      "CatBoost CV Score:\t0.518 ± 0.031\n",
      "Baseline score:\t 0.52\n",
      "Accuracy score:\t  0.53\n",
      "Precision score:\t  0.57\n",
      "Recall score:\t  0.40 \n",
      "\n",
      "XGBoost CV Score:\t0.494 ± 0.029\n",
      "Baseline score:\t 0.52\n",
      "Accuracy score:\t  0.52\n",
      "Precision score:\t  0.54\n",
      "Recall score:\t  0.49 \n",
      "\n"
     ]
    }
   ],
   "source": [
    "cv = TimeSeriesSplit(n_splits=5) \n",
    "knn = KNeighborsClassifier()\n",
    "lr = LogisticRegression(penalty='l1')\n",
    "bn = BernoulliNB()\n",
    "svc = SVC()\n",
    "dtc = DecisionTreeClassifier(splitter='random')\n",
    "bc = BaggingClassifier(base_estimator=dtc, n_estimators=500, n_jobs=2)\n",
    "ab_d = AdaBoostClassifier(base_estimator=dtc, n_estimators=500, learning_rate=0.05)\n",
    "rf = RandomForestClassifier(n_jobs=2)\n",
    "et = ExtraTreeClassifier()\n",
    "sgd = SGDClassifier()\n",
    "ab_s = AdaBoostClassifier(base_estimator = sgd, algorithm='SAMME', n_estimators=500, learning_rate=0.05)\n",
    "gb = GradientBoostingClassifier(n_estimators=500, learning_rate=0.05)\n",
    "catboost = CatBoostClassifier()\n",
    "xgboost = XGBClassifier(n_estimators=500, n_jobs=2)\n",
    "\n",
    "def score(model, name):\n",
    "    results = pd.DataFrame()\n",
    "    s = cross_val_score(model, X_train, y_train, cv=cv)\n",
    "    print(\"{} CV Score:\\t{:0.3} ± {:0.3}\".format(name, s.mean().round(3), s.std().round(3)))\n",
    "    model.fit(X_train,y_train)\n",
    "    y_pred = model.predict(X_test)\n",
    "\n",
    "    print \"Baseline score:\\t {:.2f}\".format(1 - y.mean())\n",
    "    print \"Accuracy score:\\t {: .2f}\".format(accuracy_score(y_test, y_pred))\n",
    "    print \"Precision score:\\t {: .2f}\".format(precision_score(y_test, y_pred))\n",
    "    print \"Recall score:\\t {: .2f}\".format(recall_score(y_test, y_pred)), '\\n'\n",
    "\n",
    "score(knn, \"KNeighbors\")\n",
    "score(lr, \"Logistic Regression\")\n",
    "score(bn, \"BernoulliNB\")\n",
    "score(svc, \"SVC\")\n",
    "score(dtc, \"Decision Tree\")\n",
    "score(bc, \"Bagging DT\")\n",
    "score(ab_d, \"Ada Boost DT\")\n",
    "score(rf, \"Random Forest\")\n",
    "score(et, \"Extra Trees\")\n",
    "score(sgd, \"SGD\")\n",
    "score(ab_s, \"Ada Boost SGD\")\n",
    "score(gb, \"Gradient Boost\")\n",
    "score(catboost, \"CatBoost\")\n",
    "score(xgboost, \"XGBoost\")"
   ]
  },
  {
   "cell_type": "markdown",
   "metadata": {},
   "source": [
    "## Modeling"
   ]
  },
  {
   "cell_type": "markdown",
   "metadata": {},
   "source": [
    "### KNeighborsClassifier"
   ]
  },
  {
   "cell_type": "code",
   "execution_count": 38,
   "metadata": {},
   "outputs": [
    {
     "name": "stdout",
     "output_type": "stream",
     "text": [
      "Fitting 5 folds for each of 30 candidates, totalling 150 fits\n"
     ]
    },
    {
     "name": "stderr",
     "output_type": "stream",
     "text": [
      "[Parallel(n_jobs=-1)]: Done  42 tasks      | elapsed:   27.9s\n",
      "[Parallel(n_jobs=-1)]: Done 150 out of 150 | elapsed:  1.6min finished\n"
     ]
    },
    {
     "data": {
      "text/plain": [
       "GridSearchCV(cv=TimeSeriesSplit(n_splits=5), error_score='raise',\n",
       "       estimator=KNeighborsClassifier(algorithm='auto', leaf_size=30, metric='minkowski',\n",
       "           metric_params=None, n_jobs=1, n_neighbors=5, p=2,\n",
       "           weights='uniform'),\n",
       "       fit_params={}, iid=True, n_jobs=-1,\n",
       "       param_grid={'n_neighbors': [2, 3, 4, 5, 6], 'metric': ['minkowski', 'euclidean', 'manhattan'], 'weights': ['uniform', 'distance']},\n",
       "       pre_dispatch='2*n_jobs', refit=True, return_train_score=True,\n",
       "       scoring=None, verbose=1)"
      ]
     },
     "execution_count": 38,
     "metadata": {},
     "output_type": "execute_result"
    }
   ],
   "source": [
    "# parameters to tune\n",
    "param_grid = {'n_neighbors': [2, 3, 4, 5, 6],\n",
    "              'weights': ['uniform', 'distance'],\n",
    "              'metric': ['minkowski','euclidean','manhattan']\n",
    "             }\n",
    "knn = KNeighborsClassifier()\n",
    "cv = TimeSeriesSplit(n_splits=5)\n",
    "\n",
    "# run grid search\n",
    "grid_search_knn = GridSearchCV(knn, param_grid=param_grid, cv=cv, n_jobs=-1, verbose=1)\n",
    "grid_search_knn.fit(X_train, y_train)"
   ]
  },
  {
   "cell_type": "code",
   "execution_count": 39,
   "metadata": {},
   "outputs": [
    {
     "name": "stdout",
     "output_type": "stream",
     "text": [
      "Best model:\n",
      "KNeighborsClassifier(algorithm='auto', leaf_size=30, metric='manhattan',\n",
      "           metric_params=None, n_jobs=1, n_neighbors=4, p=2,\n",
      "           weights='uniform')\n"
     ]
    }
   ],
   "source": [
    "# best model estimator\n",
    "knn_best_model = grid_search_knn.best_estimator_\n",
    "print \"Best model:\\n\", knn_best_model"
   ]
  },
  {
   "cell_type": "code",
   "execution_count": 40,
   "metadata": {},
   "outputs": [
    {
     "name": "stdout",
     "output_type": "stream",
     "text": [
      "Best parameters:\n",
      "{'n_neighbors': 4, 'metric': 'manhattan', 'weights': 'uniform'}\n"
     ]
    }
   ],
   "source": [
    "# best tuned parameters\n",
    "knn_best_parameters = grid_search_knn.best_params_\n",
    "print \"Best parameters:\\n\", knn_best_parameters"
   ]
  },
  {
   "cell_type": "code",
   "execution_count": 97,
   "metadata": {},
   "outputs": [
    {
     "name": "stdout",
     "output_type": "stream",
     "text": [
      "Baseline score:\t0.52\n",
      "Best score:\t0.48\n",
      "Precision score: 0.50\n",
      "Recall score:  0.24\n"
     ]
    }
   ],
   "source": [
    "# best score\n",
    "knn_best_score = knn_best_model.score(X_test, y_test)\n",
    "\n",
    "# model predictions\n",
    "knn_pred = knn_best_model.predict(X_test)\n",
    "knn_precision = precision_score(y_test, knn_pred)\n",
    "knn_recall = recall_score(y_test, knn_pred)\n",
    "print \"Baseline score:\\t{:.2f}\".format(1 - y.mean())\n",
    "print \"Best score:\\t{:.2f}\".format(knn_best_score)\n",
    "print \"Precision score:{: .2f}\".format(knn_precision)\n",
    "print \"Recall score: {: .2f}\".format(knn_recall)"
   ]
  },
  {
   "cell_type": "markdown",
   "metadata": {},
   "source": [
    "### BernoulliNB"
   ]
  },
  {
   "cell_type": "code",
   "execution_count": 52,
   "metadata": {},
   "outputs": [
    {
     "name": "stdout",
     "output_type": "stream",
     "text": [
      "Fitting 5 folds for each of 4 candidates, totalling 20 fits\n"
     ]
    },
    {
     "name": "stderr",
     "output_type": "stream",
     "text": [
      "[Parallel(n_jobs=2)]: Done  20 out of  20 | elapsed:    0.6s finished\n"
     ]
    },
    {
     "data": {
      "text/plain": [
       "GridSearchCV(cv=TimeSeriesSplit(n_splits=5), error_score='raise',\n",
       "       estimator=BernoulliNB(alpha=1.0, binarize=0.0, class_prior=None, fit_prior=True),\n",
       "       fit_params={}, iid=True, n_jobs=2,\n",
       "       param_grid={'alpha': [0.001, 0.01], 'fit_prior': [True, False], 'class_prior': [None]},\n",
       "       pre_dispatch='2*n_jobs', refit=True, return_train_score=True,\n",
       "       scoring='precision', verbose=1)"
      ]
     },
     "execution_count": 52,
     "metadata": {},
     "output_type": "execute_result"
    }
   ],
   "source": [
    "# parameters to tune\n",
    "param_grid = {'alpha': [1e-3, 1e-2],\n",
    "              'fit_prior': [True, False],\n",
    "              'class_prior': [None]\n",
    "             }\n",
    "bn = BernoulliNB()\n",
    "cv = TimeSeriesSplit(n_splits=5)\n",
    "\n",
    "# run grid search\n",
    "grid_search_bn = GridSearchCV(bn, param_grid=param_grid, cv=cv, n_jobs=2, verbose=1, scoring='precision')\n",
    "grid_search_bn.fit(X_train, y_train)"
   ]
  },
  {
   "cell_type": "code",
   "execution_count": 53,
   "metadata": {},
   "outputs": [
    {
     "name": "stdout",
     "output_type": "stream",
     "text": [
      "Best model:\n",
      "BernoulliNB(alpha=0.001, binarize=0.0, class_prior=None, fit_prior=True)\n"
     ]
    }
   ],
   "source": [
    "# best model estimator\n",
    "bn_best_model = grid_search_bn.best_estimator_\n",
    "print \"Best model:\\n\", bn_best_model"
   ]
  },
  {
   "cell_type": "code",
   "execution_count": 54,
   "metadata": {},
   "outputs": [
    {
     "name": "stdout",
     "output_type": "stream",
     "text": [
      "Best parameters:\n",
      "{'alpha': 0.001, 'fit_prior': True, 'class_prior': None}\n"
     ]
    }
   ],
   "source": [
    "# best tuned parameters\n",
    "bn_best_parameters = grid_search_bn.best_params_\n",
    "print \"Best parameters:\\n\", bn_best_parameters"
   ]
  },
  {
   "cell_type": "code",
   "execution_count": 98,
   "metadata": {},
   "outputs": [
    {
     "name": "stdout",
     "output_type": "stream",
     "text": [
      "Baseline score:\t0.521\n",
      "Best score:\t0.51\n",
      "Precision score: 0.54\n",
      "Recall score:  0.47\n"
     ]
    }
   ],
   "source": [
    "# best score\n",
    "bn_best_score = bn_best_model.score(X_test, y_test)\n",
    "# model predictions\n",
    "bn_pred = bn_best_model.predict(X_test)\n",
    "bn_precision = precision_score(y_test, bn_pred)\n",
    "bn_recall = recall_score(y_test, bn_pred)\n",
    "print \"Baseline score:\\t{:.3f}\".format(1 - y.mean())\n",
    "print \"Best score:\\t{:.2f}\".format(bn_best_score)\n",
    "print \"Precision score:{: .2f}\".format(bn_precision)\n",
    "print \"Recall score: {: .2f}\".format(bn_recall)"
   ]
  },
  {
   "cell_type": "markdown",
   "metadata": {},
   "source": [
    "### Support Vector Classification"
   ]
  },
  {
   "cell_type": "code",
   "execution_count": 56,
   "metadata": {},
   "outputs": [
    {
     "name": "stdout",
     "output_type": "stream",
     "text": [
      "Fitting 5 folds for each of 120 candidates, totalling 600 fits\n"
     ]
    },
    {
     "name": "stderr",
     "output_type": "stream",
     "text": [
      "[Parallel(n_jobs=-1)]: Done  42 tasks      | elapsed:   25.4s\n",
      "[Parallel(n_jobs=-1)]: Done 192 tasks      | elapsed:  2.0min\n",
      "[Parallel(n_jobs=-1)]: Done 442 tasks      | elapsed:  5.4min\n",
      "[Parallel(n_jobs=-1)]: Done 600 out of 600 | elapsed: 23.0min finished\n"
     ]
    },
    {
     "data": {
      "text/plain": [
       "GridSearchCV(cv=TimeSeriesSplit(n_splits=5), error_score='raise',\n",
       "       estimator=SVC(C=1.0, cache_size=200, class_weight=None, coef0=0.0,\n",
       "  decision_function_shape=None, degree=3, gamma='auto', kernel='rbf',\n",
       "  max_iter=-1, probability=False, random_state=None, shrinking=True,\n",
       "  tol=0.001, verbose=False),\n",
       "       fit_params={}, iid=True, n_jobs=-1,\n",
       "       param_grid={'kernel': ['linear', 'poly', 'rbf'], 'C': [0.001, 0.01, 0.1, 1, 10], 'gamma': [0.001, 0.01, 0.1, 1], 'class_weight': ['balanced', None]},\n",
       "       pre_dispatch='2*n_jobs', refit=True, return_train_score=True,\n",
       "       scoring=None, verbose=1)"
      ]
     },
     "execution_count": 56,
     "metadata": {},
     "output_type": "execute_result"
    }
   ],
   "source": [
    "# parameters to tune\n",
    "Cs = [0.001, 0.01, 0.1, 1, 10]\n",
    "gammas = [0.001, 0.01, 0.1, 1]\n",
    "param_grid = {'C': Cs, \n",
    "              'gamma' : gammas,\n",
    "              'class_weight': ['balanced', None],\n",
    "              'kernel': ['linear', 'poly', 'rbf']\n",
    "             }\n",
    "svc = SVC()\n",
    "cv = TimeSeriesSplit(n_splits=5)\n",
    "\n",
    "# run grid search\n",
    "grid_search_svc = GridSearchCV(svc, param_grid=param_grid, cv=cv, n_jobs=-1, verbose=1)\n",
    "grid_search_svc.fit(X_train, y_train)"
   ]
  },
  {
   "cell_type": "code",
   "execution_count": 57,
   "metadata": {},
   "outputs": [
    {
     "name": "stdout",
     "output_type": "stream",
     "text": [
      "Best model:\n",
      "SVC(C=0.001, cache_size=200, class_weight=None, coef0=0.0,\n",
      "  decision_function_shape=None, degree=3, gamma=0.001, kernel='linear',\n",
      "  max_iter=-1, probability=False, random_state=None, shrinking=True,\n",
      "  tol=0.001, verbose=False)\n"
     ]
    }
   ],
   "source": [
    "# best model estimator\n",
    "svc_best_model = grid_search_svc.best_estimator_\n",
    "print \"Best model:\\n\", svc_best_model"
   ]
  },
  {
   "cell_type": "code",
   "execution_count": 58,
   "metadata": {},
   "outputs": [
    {
     "name": "stdout",
     "output_type": "stream",
     "text": [
      "Best parameters:\n",
      "{'kernel': 'linear', 'C': 0.001, 'gamma': 0.001, 'class_weight': None}\n"
     ]
    }
   ],
   "source": [
    "# best tuned parameters\n",
    "svc_best_parameters = grid_search_svc.best_params_\n",
    "print \"Best parameters:\\n\", svc_best_parameters"
   ]
  },
  {
   "cell_type": "code",
   "execution_count": 99,
   "metadata": {},
   "outputs": [
    {
     "name": "stdout",
     "output_type": "stream",
     "text": [
      "Baseline score:\t0.521\n",
      "Best score:\t0.50\n",
      "Precision score: 0.54\n",
      "Recall score:  0.29\n"
     ]
    }
   ],
   "source": [
    "# best score\n",
    "svc_best_score = svc_best_model.score(X_test, y_test)\n",
    "# model predictions\n",
    "svc_pred = svc_best_model.predict(X_test)\n",
    "svc_precision = precision_score(y_test, svc_pred)\n",
    "svc_recall = recall_score(y_test, svc_pred)\n",
    "print \"Baseline score:\\t{:.3f}\".format(1 - y.mean())\n",
    "print \"Best score:\\t{:.2f}\".format(svc_best_score)\n",
    "print \"Precision score:{: .2f}\".format(svc_precision)\n",
    "print \"Recall score: {: .2f}\".format(svc_recall)"
   ]
  },
  {
   "cell_type": "markdown",
   "metadata": {},
   "source": [
    "### DecisionTreeClassifier"
   ]
  },
  {
   "cell_type": "code",
   "execution_count": 335,
   "metadata": {},
   "outputs": [
    {
     "name": "stdout",
     "output_type": "stream",
     "text": [
      "Fitting 3 folds for each of 1600 candidates, totalling 4800 fits\n"
     ]
    },
    {
     "name": "stderr",
     "output_type": "stream",
     "text": [
      "[Parallel(n_jobs=2)]: Done  83 tasks      | elapsed:    4.6s\n",
      "[Parallel(n_jobs=2)]: Done 383 tasks      | elapsed:   17.6s\n",
      "[Parallel(n_jobs=2)]: Done 883 tasks      | elapsed:   37.2s\n",
      "[Parallel(n_jobs=2)]: Done 2183 tasks      | elapsed:  1.3min\n",
      "[Parallel(n_jobs=2)]: Done 3983 tasks      | elapsed:  3.1min\n",
      "[Parallel(n_jobs=2)]: Done 4800 out of 4800 | elapsed:  3.7min finished\n"
     ]
    },
    {
     "data": {
      "text/plain": [
       "GridSearchCV(cv=TimeSeriesSplit(n_splits=3), error_score='raise',\n",
       "       estimator=DecisionTreeClassifier(class_weight=None, criterion='gini', max_depth=None,\n",
       "            max_features=None, max_leaf_nodes=None,\n",
       "            min_impurity_split=1e-07, min_samples_leaf=1,\n",
       "            min_samples_split=2, min_weight_fraction_leaf=0.0,\n",
       "            presort=False, random_state=None, splitter='best'),\n",
       "       fit_params={}, iid=True, n_jobs=2,\n",
       "       param_grid={'splitter': ['best', 'random'], 'min_samples_leaf': [17, 15, 16, 14, 13], 'min_samples_split': [7, 5, 6, 4], 'criterion': ['gini', 'entropy'], 'max_features': [0.9, 0.8, 0.7, 0.5, 0.6], 'max_depth': [6, 4, 5, 3]},\n",
       "       pre_dispatch='2*n_jobs', refit=True, return_train_score=True,\n",
       "       scoring=None, verbose=1)"
      ]
     },
     "execution_count": 335,
     "metadata": {},
     "output_type": "execute_result"
    }
   ],
   "source": [
    "# parameters to tune\n",
    "param_grid = {\"splitter\": [\"best\", \"random\"],\n",
    "              \"max_depth\": [6, 4, 5, 3],\n",
    "              \"max_features\": [0.9, 0.8, 0.7, 0.5, 0.6],\n",
    "              \"min_samples_split\": [7, 5, 6, 4],\n",
    "              \"min_samples_leaf\": [17, 15, 16, 14, 13],\n",
    "              \"criterion\": [\"gini\", \"entropy\"]}\n",
    "cv = TimeSeriesSplit(n_splits=3)\n",
    "dtc = DecisionTreeClassifier()\n",
    "grid_search_dtc = GridSearchCV(dtc, param_grid=param_grid, verbose=1, cv=cv, n_jobs=2)\n",
    "grid_search_dtc.fit(X_train, y_train)"
   ]
  },
  {
   "cell_type": "code",
   "execution_count": 336,
   "metadata": {},
   "outputs": [
    {
     "name": "stdout",
     "output_type": "stream",
     "text": [
      "Best model:\n",
      "DecisionTreeClassifier(class_weight=None, criterion='entropy', max_depth=4,\n",
      "            max_features=0.6, max_leaf_nodes=None,\n",
      "            min_impurity_split=1e-07, min_samples_leaf=16,\n",
      "            min_samples_split=4, min_weight_fraction_leaf=0.0,\n",
      "            presort=False, random_state=None, splitter='random')\n"
     ]
    }
   ],
   "source": [
    "# best model estimator\n",
    "dtc_best_model = grid_search_dtc.best_estimator_\n",
    "print \"Best model:\\n\", dtc_best_model"
   ]
  },
  {
   "cell_type": "code",
   "execution_count": 337,
   "metadata": {},
   "outputs": [
    {
     "name": "stdout",
     "output_type": "stream",
     "text": [
      "Best parameters:\n",
      "{'splitter': 'random', 'min_samples_leaf': 16, 'min_samples_split': 4, 'criterion': 'entropy', 'max_features': 0.6, 'max_depth': 4}\n"
     ]
    }
   ],
   "source": [
    "# best tuned parameters\n",
    "dtc_best_parameters = grid_search_dtc.best_params_\n",
    "print \"Best parameters:\\n\", dtc_best_parameters"
   ]
  },
  {
   "cell_type": "code",
   "execution_count": 338,
   "metadata": {
    "scrolled": true
   },
   "outputs": [
    {
     "name": "stdout",
     "output_type": "stream",
     "text": [
      "Baseline score:\t0.521\n",
      "Best score:\t0.539\n",
      "Precision score: 0.56\n",
      "Recall score:  0.57\n"
     ]
    }
   ],
   "source": [
    "# best score\n",
    "dtc_best_score = dtc_best_model.score(X_test, y_test)\n",
    "# model predictions\n",
    "dtc_pred = dtc_best_model.predict(X_test)\n",
    "dtc_precision = precision_score(y_test, dtc_pred)\n",
    "dtc_recall = recall_score(y_test, dtc_pred)\n",
    "print \"Baseline score:\\t{:.3f}\".format(1 - y.mean())\n",
    "print \"Best score:\\t{:.3f}\".format(dtc_best_score)\n",
    "print \"Precision score:{: .2f}\".format(dtc_precision)\n",
    "print \"Recall score: {: .2f}\".format(dtc_recall)"
   ]
  },
  {
   "cell_type": "code",
   "execution_count": 339,
   "metadata": {
    "collapsed": true
   },
   "outputs": [],
   "source": [
    "dtc_feature_importances = pd.DataFrame(dtc_best_model.feature_importances_,\n",
    "                                   index = data.iloc[:train_set, :-2].columns,\n",
    "                                    columns=['importance'])\n",
    "top_10 = dtc_feature_importances.sort_values(by='importance', ascending=True).tail(10)"
   ]
  },
  {
   "cell_type": "code",
   "execution_count": 340,
   "metadata": {},
   "outputs": [
    {
     "data": {
      "text/html": [
       "<div>\n",
       "<style>\n",
       "    .dataframe thead tr:only-child th {\n",
       "        text-align: right;\n",
       "    }\n",
       "\n",
       "    .dataframe thead th {\n",
       "        text-align: left;\n",
       "    }\n",
       "\n",
       "    .dataframe tbody tr th {\n",
       "        vertical-align: top;\n",
       "    }\n",
       "</style>\n",
       "<table border=\"1\" class=\"dataframe\">\n",
       "  <thead>\n",
       "    <tr style=\"text-align: right;\">\n",
       "      <th></th>\n",
       "      <th>importance</th>\n",
       "    </tr>\n",
       "  </thead>\n",
       "  <tbody>\n",
       "    <tr>\n",
       "      <th>fra10_yield_one_change_5d_std</th>\n",
       "      <td>0.213248</td>\n",
       "    </tr>\n",
       "    <tr>\n",
       "      <th>UKEERI_one_change_5d_mean</th>\n",
       "      <td>0.139419</td>\n",
       "    </tr>\n",
       "    <tr>\n",
       "      <th>uk_ftse_one_change_5d_std</th>\n",
       "      <td>0.126773</td>\n",
       "    </tr>\n",
       "    <tr>\n",
       "      <th>us_30year_bond_features_one_change_5d_std</th>\n",
       "      <td>0.123264</td>\n",
       "    </tr>\n",
       "    <tr>\n",
       "      <th>Eonia Rate_one_change_5d_min</th>\n",
       "      <td>0.109274</td>\n",
       "    </tr>\n",
       "    <tr>\n",
       "      <th>eu10_yield_five_change</th>\n",
       "      <td>0.102619</td>\n",
       "    </tr>\n",
       "    <tr>\n",
       "      <th>USEERI_one_change_5d_std</th>\n",
       "      <td>0.068056</td>\n",
       "    </tr>\n",
       "    <tr>\n",
       "      <th>eur_crude_one_change</th>\n",
       "      <td>0.059415</td>\n",
       "    </tr>\n",
       "    <tr>\n",
       "      <th>us_gold_one_change_5d_std</th>\n",
       "      <td>0.057931</td>\n",
       "    </tr>\n",
       "    <tr>\n",
       "      <th>dollar_one_change_5d_max</th>\n",
       "      <td>0.000000</td>\n",
       "    </tr>\n",
       "  </tbody>\n",
       "</table>\n",
       "</div>"
      ],
      "text/plain": [
       "                                           importance\n",
       "fra10_yield_one_change_5d_std                0.213248\n",
       "UKEERI_one_change_5d_mean                    0.139419\n",
       "uk_ftse_one_change_5d_std                    0.126773\n",
       "us_30year_bond_features_one_change_5d_std    0.123264\n",
       "Eonia Rate_one_change_5d_min                 0.109274\n",
       "eu10_yield_five_change                       0.102619\n",
       "USEERI_one_change_5d_std                     0.068056\n",
       "eur_crude_one_change                         0.059415\n",
       "us_gold_one_change_5d_std                    0.057931\n",
       "dollar_one_change_5d_max                     0.000000"
      ]
     },
     "execution_count": 340,
     "metadata": {},
     "output_type": "execute_result"
    }
   ],
   "source": [
    "top_10.sort_values(by='importance', ascending=False)"
   ]
  },
  {
   "cell_type": "code",
   "execution_count": 512,
   "metadata": {},
   "outputs": [
    {
     "data": {
      "image/png": "[encoded data removed]",
      "text/plain": [
       "<matplotlib.figure.Figure at 0x127543850>"
      ]
     },
     "metadata": {},
     "output_type": "display_data"
    }
   ],
   "source": [
    "top_10.plot(kind = \"barh\", figsize=(10,6), fontsize=14)\n",
    "plt.title(\"Top 10 important features in DecisionTreeClassifier Model\", fontsize=20, color='w')\n",
    "plt.xticks(color='w')\n",
    "plt.yticks(color='b')\n",
    "plt.show()"
   ]
  },
  {
   "cell_type": "markdown",
   "metadata": {},
   "source": [
    "### SGDClassifier\n"
   ]
  },
  {
   "cell_type": "code",
   "execution_count": 64,
   "metadata": {
    "scrolled": true
   },
   "outputs": [
    {
     "name": "stdout",
     "output_type": "stream",
     "text": [
      "Fitting 5 folds for each of 1600 candidates, totalling 8000 fits\n"
     ]
    },
    {
     "name": "stderr",
     "output_type": "stream",
     "text": [
      "[Parallel(n_jobs=2)]: Done 240 tasks      | elapsed:    4.1s\n",
      "[Parallel(n_jobs=2)]: Done 1140 tasks      | elapsed:   19.3s\n",
      "[Parallel(n_jobs=2)]: Done 2640 tasks      | elapsed:   45.2s\n",
      "[Parallel(n_jobs=2)]: Done 4740 tasks      | elapsed:  1.4min\n",
      "[Parallel(n_jobs=2)]: Done 7440 tasks      | elapsed:  2.2min\n",
      "[Parallel(n_jobs=2)]: Done 8000 out of 8000 | elapsed:  2.4min finished\n"
     ]
    },
    {
     "data": {
      "text/plain": [
       "GridSearchCV(cv=TimeSeriesSplit(n_splits=5), error_score='raise',\n",
       "       estimator=SGDClassifier(alpha=0.0001, average=False, class_weight=None, epsilon=0.1,\n",
       "       eta0=0.0, fit_intercept=True, l1_ratio=0.15,\n",
       "       learning_rate='optimal', loss='hinge', n_iter=5, n_jobs=1,\n",
       "       penalty='l2', power_t=0.5, random_state=None, shuffle=True,\n",
       "       verbose=0, warm_start=False),\n",
       "       fit_params={}, iid=True, n_jobs=2,\n",
       "       param_grid={'penalty': ['l1', 'l2'], 'alpha': array([  1.00000e-05,   1.59986e-05,   2.55955e-05,   4.09492e-05,\n",
       "         6.55129e-05,   1.04811e-04,   1.67683e-04,   2.68270e-04,\n",
       "         4.29193e-04,   6.86649e-04,   1.09854e-03,   1.75751e-03,\n",
       "         2.81177e-03,   4.49843e-03,   7.19686e-03,  ...), 'class_weight': ['balanced', None], 'loss': ['hinge', 'log'], 'l1_ratio': [0.05, 0.1, 0.15, 0.3]},\n",
       "       pre_dispatch='2*n_jobs', refit=True, return_train_score=True,\n",
       "       scoring=None, verbose=1)"
      ]
     },
     "execution_count": 64,
     "metadata": {},
     "output_type": "execute_result"
    }
   ],
   "source": [
    "param_grid = {\n",
    "    'penalty':['l1','l2'],\n",
    "    'alpha':np.logspace(-5,5,50),\n",
    "    'l1_ratio': [0.05, 0.1, 0.15, 0.30],\n",
    "    'class_weight': ['balanced', None],\n",
    "    'loss': ['hinge', 'log']\n",
    "}\n",
    "cv = TimeSeriesSplit(n_splits=5)\n",
    "sgd = SGDClassifier()\n",
    "grid_search_sgd = GridSearchCV(sgd, param_grid=param_grid, cv=cv, n_jobs=2, verbose=1)\n",
    "grid_search_sgd.fit(X_train, y_train)"
   ]
  },
  {
   "cell_type": "code",
   "execution_count": 65,
   "metadata": {},
   "outputs": [
    {
     "name": "stdout",
     "output_type": "stream",
     "text": [
      "Best model:\n",
      "SGDClassifier(alpha=3.2374575428176464, average=False, class_weight=None,\n",
      "       epsilon=0.1, eta0=0.0, fit_intercept=True, l1_ratio=0.15,\n",
      "       learning_rate='optimal', loss='hinge', n_iter=5, n_jobs=1,\n",
      "       penalty='l2', power_t=0.5, random_state=None, shuffle=True,\n",
      "       verbose=0, warm_start=False)\n"
     ]
    }
   ],
   "source": [
    "# best model estimator\n",
    "sgd_best_model = grid_search_sgd.best_estimator_\n",
    "print \"Best model:\\n\", sgd_best_model"
   ]
  },
  {
   "cell_type": "code",
   "execution_count": 66,
   "metadata": {},
   "outputs": [
    {
     "name": "stdout",
     "output_type": "stream",
     "text": [
      "Best parameters:\n",
      "{'penalty': 'l2', 'alpha': 3.2374575428176464, 'loss': 'hinge', 'l1_ratio': 0.15, 'class_weight': None}\n"
     ]
    }
   ],
   "source": [
    "# best tuned parameters\n",
    "sgd_best_parameters = grid_search_sgd.best_params_\n",
    "print \"Best parameters:\\n\", sgd_best_parameters"
   ]
  },
  {
   "cell_type": "code",
   "execution_count": 101,
   "metadata": {},
   "outputs": [
    {
     "name": "stdout",
     "output_type": "stream",
     "text": [
      "Baseline score:\t0.521\n",
      "Best score:\t0.480\n",
      "Precision score: 0.50\n",
      "Recall score:  0.13\n"
     ]
    }
   ],
   "source": [
    "# best score\n",
    "sgd_best_score = sgd_best_model.score(X_test, y_test)\n",
    "# model predictions\n",
    "sgd_pred = sgd_best_model.predict(X_test)\n",
    "sgd_precision = precision_score(y_test, sgd_pred)\n",
    "sgd_recall = recall_score(y_test, sgd_pred)\n",
    "print \"Baseline score:\\t{:.3f}\".format(1 - y.mean())\n",
    "print \"Best score:\\t{:.3f}\".format(sgd_best_score)\n",
    "print \"Precision score:{: .2f}\".format(sgd_precision)\n",
    "print \"Recall score: {: .2f}\".format(sgd_recall)"
   ]
  },
  {
   "cell_type": "markdown",
   "metadata": {},
   "source": [
    "### BaggingClassifier(SGDClassifier)"
   ]
  },
  {
   "cell_type": "code",
   "execution_count": 162,
   "metadata": {},
   "outputs": [
    {
     "data": {
      "text/plain": [
       "SGDClassifier(alpha=0.1206792640639329, average=False, class_weight=None,\n",
       "       epsilon=0.1, eta0=0.0, fit_intercept=True, l1_ratio=0.05,\n",
       "       learning_rate='optimal', loss='log', n_iter=5, n_jobs=1,\n",
       "       penalty='l2', power_t=0.5, random_state=None, shuffle=True,\n",
       "       verbose=0, warm_start=False)"
      ]
     },
     "execution_count": 162,
     "metadata": {},
     "output_type": "execute_result"
    }
   ],
   "source": [
    "sgd_best_model"
   ]
  },
  {
   "cell_type": "code",
   "execution_count": 68,
   "metadata": {
    "scrolled": true
   },
   "outputs": [
    {
     "name": "stdout",
     "output_type": "stream",
     "text": [
      "Fitting 5 folds for each of 36 candidates, totalling 180 fits\n"
     ]
    },
    {
     "name": "stderr",
     "output_type": "stream",
     "text": [
      "/Users/iurigo/anaconda/lib/python2.7/site-packages/sklearn/externals/joblib/parallel.py:540: UserWarning: Multiprocessing-backed parallel loops cannot be nested, setting n_jobs=1\n",
      "  **self._backend_args)\n",
      "/Users/iurigo/anaconda/lib/python2.7/site-packages/sklearn/externals/joblib/parallel.py:540: UserWarning: Multiprocessing-backed parallel loops cannot be nested, setting n_jobs=1\n",
      "  **self._backend_args)\n",
      "[Parallel(n_jobs=2)]: Done  46 tasks      | elapsed:  2.9min\n",
      "[Parallel(n_jobs=2)]: Done 180 out of 180 | elapsed: 12.5min finished\n"
     ]
    },
    {
     "data": {
      "text/plain": [
       "GridSearchCV(cv=TimeSeriesSplit(n_splits=5), error_score='raise',\n",
       "       estimator=BaggingClassifier(base_estimator=SGDClassifier(alpha=0.0001, average=False, class_weight=None, epsilon=0.1,\n",
       "       eta0=0.0, fit_intercept=True, l1_ratio=0.15,\n",
       "       learning_rate='optimal', loss='hinge', n_iter=5, n_jobs=1,\n",
       "       penalty='l2', power_t=0.5, random_state=None, shuffle=Tru...n_estimators=10, n_jobs=2, oob_score=False,\n",
       "         random_state=None, verbose=0, warm_start=False),\n",
       "       fit_params={}, iid=True, n_jobs=2,\n",
       "       param_grid={'n_estimators': [450, 500], 'max_samples': [0.6, 0.5, 0.7], 'bootstrap': [True, False], 'max_features': [0.7, 0.5, 0.6]},\n",
       "       pre_dispatch='2*n_jobs', refit=True, return_train_score=True,\n",
       "       scoring=None, verbose=1)"
      ]
     },
     "execution_count": 68,
     "metadata": {},
     "output_type": "execute_result"
    }
   ],
   "source": [
    "param_grid = {\"n_estimators\": [450, 500],\n",
    "              \"max_samples\": [0.6, 0.5, 0.7],\n",
    "              \"max_features\": [0.7, 0.5, 0.6],\n",
    "              'bootstrap': [True, False]\n",
    "             }\n",
    "sgd_best_model\n",
    "sgd = SGDClassifier()\n",
    "bc_sgd = BaggingClassifier(sgd, n_jobs=2)\n",
    "\n",
    "# run grid search\n",
    "grid_search_bc_sgd = GridSearchCV(bc_sgd, param_grid=param_grid, cv=cv, n_jobs=2, verbose=1)\n",
    "grid_search_bc_sgd.fit(X_train, y_train)"
   ]
  },
  {
   "cell_type": "code",
   "execution_count": 69,
   "metadata": {
    "scrolled": false
   },
   "outputs": [
    {
     "name": "stdout",
     "output_type": "stream",
     "text": [
      "Best model:\n",
      "BaggingClassifier(base_estimator=SGDClassifier(alpha=0.0001, average=False, class_weight=None, epsilon=0.1,\n",
      "       eta0=0.0, fit_intercept=True, l1_ratio=0.15,\n",
      "       learning_rate='optimal', loss='hinge', n_iter=5, n_jobs=1,\n",
      "       penalty='l2', power_t=0.5, random_state=None, shuffle=True,\n",
      "       verbose=0, warm_start=False),\n",
      "         bootstrap=True, bootstrap_features=False, max_features=0.7,\n",
      "         max_samples=0.5, n_estimators=500, n_jobs=2, oob_score=False,\n",
      "         random_state=None, verbose=0, warm_start=False)\n"
     ]
    }
   ],
   "source": [
    "# best model estimator\n",
    "bc_sgd_best_model = grid_search_bc_sgd.best_estimator_\n",
    "print \"Best model:\\n\", bc_sgd_best_model"
   ]
  },
  {
   "cell_type": "code",
   "execution_count": 70,
   "metadata": {},
   "outputs": [
    {
     "name": "stdout",
     "output_type": "stream",
     "text": [
      "Best parameters:\n",
      "{'max_features': 0.7, 'max_samples': 0.5, 'bootstrap': True, 'n_estimators': 500}\n"
     ]
    }
   ],
   "source": [
    "# best tuned parameters\n",
    "bc_sgd_best_parameters = grid_search_bc_sgd.best_params_\n",
    "print \"Best parameters:\\n\", bc_sgd_best_parameters"
   ]
  },
  {
   "cell_type": "code",
   "execution_count": 102,
   "metadata": {},
   "outputs": [
    {
     "name": "stdout",
     "output_type": "stream",
     "text": [
      "Baseline score:\t0.521\n",
      "Best score:\t0.490\n",
      "Precision score: 0.51\n",
      "Recall score:  0.46\n"
     ]
    }
   ],
   "source": [
    "# best score\n",
    "bc_sgd_best_score = bc_sgd_best_model.score(X_test, y_test)\n",
    "# model predictions\n",
    "bc_sgd_pred = bc_sgd_best_model.predict(X_test)\n",
    "bc_sgd_precision = precision_score(y_test, bc_sgd_pred)\n",
    "bc_sgd_recall = recall_score(y_test, bc_sgd_pred)\n",
    "print \"Baseline score:\\t{:.3f}\".format(1 - y.mean())\n",
    "print \"Best score:\\t{:.3f}\".format(bc_sgd_best_score)\n",
    "print \"Precision score:{: .2f}\".format(bc_sgd_precision)\n",
    "print \"Recall score: {: .2f}\".format(bc_sgd_recall)"
   ]
  },
  {
   "cell_type": "markdown",
   "metadata": {},
   "source": [
    "### BaggingClassifier"
   ]
  },
  {
   "cell_type": "code",
   "execution_count": 72,
   "metadata": {},
   "outputs": [
    {
     "name": "stdout",
     "output_type": "stream",
     "text": [
      "Fitting 5 folds for each of 18 candidates, totalling 90 fits\n"
     ]
    },
    {
     "name": "stderr",
     "output_type": "stream",
     "text": [
      "/Users/iurigo/anaconda/lib/python2.7/site-packages/sklearn/externals/joblib/parallel.py:540: UserWarning: Multiprocessing-backed parallel loops cannot be nested, setting n_jobs=1\n",
      "  **self._backend_args)\n",
      "/Users/iurigo/anaconda/lib/python2.7/site-packages/sklearn/externals/joblib/parallel.py:540: UserWarning: Multiprocessing-backed parallel loops cannot be nested, setting n_jobs=1\n",
      "  **self._backend_args)\n",
      "[Parallel(n_jobs=2)]: Done  46 tasks      | elapsed: 26.1min\n",
      "[Parallel(n_jobs=2)]: Done  90 out of  90 | elapsed: 60.8min finished\n"
     ]
    },
    {
     "data": {
      "text/plain": [
       "GridSearchCV(cv=TimeSeriesSplit(n_splits=5), error_score='raise',\n",
       "       estimator=BaggingClassifier(base_estimator=DecisionTreeClassifier(class_weight=None, criterion='gini', max_depth=None,\n",
       "            max_features=None, max_leaf_nodes=None,\n",
       "            min_impurity_split=1e-07, min_samples_leaf=1,\n",
       "            min_samples_split=2, min_weight_fraction_leaf=0.0,\n",
       "        ...n_estimators=10, n_jobs=2, oob_score=False,\n",
       "         random_state=None, verbose=0, warm_start=False),\n",
       "       fit_params={}, iid=True, n_jobs=2,\n",
       "       param_grid={'n_estimators': [1000], 'max_samples': [1.0, 0.5, 0.1], 'bootstrap': [True, False], 'max_features': [1.0, 0.5, 0.1]},\n",
       "       pre_dispatch='2*n_jobs', refit=True, return_train_score=True,\n",
       "       scoring=None, verbose=1)"
      ]
     },
     "execution_count": 72,
     "metadata": {},
     "output_type": "execute_result"
    }
   ],
   "source": [
    "param_grid = {\"n_estimators\": [1000],\n",
    "              \"max_samples\": [1.0, 0.5, 0.1],\n",
    "              \"max_features\": [1.0, 0.5, 0.1],\n",
    "              'bootstrap': [True, False]\n",
    "             }\n",
    "cv = TimeSeriesSplit(n_splits=5)\n",
    "dtc = DecisionTreeClassifier()\n",
    "bc = BaggingClassifier(dtc, n_jobs=2)\n",
    "\n",
    "# run grid search\n",
    "grid_search_bc = GridSearchCV(bc, param_grid=param_grid, cv=cv, n_jobs=2, verbose=1)\n",
    "grid_search_bc.fit(X_train, y_train)"
   ]
  },
  {
   "cell_type": "code",
   "execution_count": 73,
   "metadata": {},
   "outputs": [
    {
     "name": "stdout",
     "output_type": "stream",
     "text": [
      "Best model:\n",
      "BaggingClassifier(base_estimator=DecisionTreeClassifier(class_weight=None, criterion='gini', max_depth=None,\n",
      "            max_features=None, max_leaf_nodes=None,\n",
      "            min_impurity_split=1e-07, min_samples_leaf=1,\n",
      "            min_samples_split=2, min_weight_fraction_leaf=0.0,\n",
      "            presort=False, random_state=None, splitter='best'),\n",
      "         bootstrap=False, bootstrap_features=False, max_features=0.5,\n",
      "         max_samples=0.1, n_estimators=1000, n_jobs=2, oob_score=False,\n",
      "         random_state=None, verbose=0, warm_start=False)\n"
     ]
    }
   ],
   "source": [
    "# best model estimator\n",
    "bc_best_model = grid_search_bc.best_estimator_\n",
    "print \"Best model:\\n\", bc_best_model"
   ]
  },
  {
   "cell_type": "code",
   "execution_count": 74,
   "metadata": {},
   "outputs": [
    {
     "name": "stdout",
     "output_type": "stream",
     "text": [
      "Best parameters:\n",
      "{'max_features': 0.5, 'max_samples': 0.1, 'bootstrap': False, 'n_estimators': 1000}\n"
     ]
    }
   ],
   "source": [
    "# best tuned parameters\n",
    "bc_best_parameters = grid_search_bc.best_params_\n",
    "print \"Best parameters:\\n\", bc_best_parameters"
   ]
  },
  {
   "cell_type": "code",
   "execution_count": 103,
   "metadata": {
    "scrolled": false
   },
   "outputs": [
    {
     "name": "stdout",
     "output_type": "stream",
     "text": [
      "Baseline score:\t0.521\n",
      "Best score:\t0.504\n",
      "Precision score: 0.55\n",
      "Recall score:  0.26\n"
     ]
    }
   ],
   "source": [
    "# best score\n",
    "bc_best_score = bc_best_model.score(X_test, y_test)\n",
    "# model predictions\n",
    "bc_pred = bc_best_model.predict(X_test)\n",
    "bc_precision = precision_score(y_test, bc_pred)\n",
    "bc_recall = recall_score(y_test, bc_pred)\n",
    "print \"Baseline score:\\t{:.3f}\".format(1 - y.mean())\n",
    "print \"Best score:\\t{:.3f}\".format(bc_best_score)\n",
    "print \"Precision score:{: .2f}\".format(bc_precision)\n",
    "print \"Recall score: {: .2f}\".format(bc_recall)"
   ]
  },
  {
   "cell_type": "markdown",
   "metadata": {},
   "source": [
    "### AdaBoostClassifier (DecisionTreeClassifier)"
   ]
  },
  {
   "cell_type": "code",
   "execution_count": 108,
   "metadata": {
    "scrolled": true
   },
   "outputs": [
    {
     "name": "stdout",
     "output_type": "stream",
     "text": [
      "Fitting 3 folds for each of 12 candidates, totalling 36 fits\n",
      "[CV] n_estimators=800, base_estimator__criterion=gini, base_estimator__splitter=best \n",
      "[CV] n_estimators=800, base_estimator__criterion=gini, base_estimator__splitter=best \n",
      "[CV]  n_estimators=800, base_estimator__criterion=gini, base_estimator__splitter=best, total=   0.2s\n",
      "[CV] n_estimators=800, base_estimator__criterion=gini, base_estimator__splitter=best \n",
      "[CV]  n_estimators=800, base_estimator__criterion=gini, base_estimator__splitter=best, total=   0.4s\n",
      "[CV] n_estimators=850, base_estimator__criterion=gini, base_estimator__splitter=best \n",
      "[CV]  n_estimators=850, base_estimator__criterion=gini, base_estimator__splitter=best, total=   0.2s\n",
      "[CV] n_estimators=850, base_estimator__criterion=gini, base_estimator__splitter=best \n",
      "[CV]  n_estimators=800, base_estimator__criterion=gini, base_estimator__splitter=best, total=   0.7s\n",
      "[CV] n_estimators=850, base_estimator__criterion=gini, base_estimator__splitter=best \n",
      "[CV]  n_estimators=850, base_estimator__criterion=gini, base_estimator__splitter=best, total=   0.4s\n",
      "[CV] n_estimators=1000, base_estimator__criterion=gini, base_estimator__splitter=best \n",
      "[CV]  n_estimators=1000, base_estimator__criterion=gini, base_estimator__splitter=best, total=   0.2s\n",
      "[CV] n_estimators=1000, base_estimator__criterion=gini, base_estimator__splitter=best \n",
      "[CV]  n_estimators=1000, base_estimator__criterion=gini, base_estimator__splitter=best, total=   0.4s\n",
      "[CV] n_estimators=1000, base_estimator__criterion=gini, base_estimator__splitter=best \n",
      "[CV]  n_estimators=850, base_estimator__criterion=gini, base_estimator__splitter=best, total=   0.8s\n",
      "[CV] n_estimators=800, base_estimator__criterion=gini, base_estimator__splitter=random \n",
      "[CV]  n_estimators=800, base_estimator__criterion=gini, base_estimator__splitter=random, total=   0.0s\n",
      "[CV] n_estimators=800, base_estimator__criterion=gini, base_estimator__splitter=random \n",
      "[CV]  n_estimators=800, base_estimator__criterion=gini, base_estimator__splitter=random, total=   0.1s\n",
      "[CV] n_estimators=800, base_estimator__criterion=gini, base_estimator__splitter=random \n",
      "[CV]  n_estimators=800, base_estimator__criterion=gini, base_estimator__splitter=random, total=   0.1s\n",
      "[CV] n_estimators=850, base_estimator__criterion=gini, base_estimator__splitter=random \n",
      "[CV]  n_estimators=850, base_estimator__criterion=gini, base_estimator__splitter=random, total=   0.0s\n",
      "[CV] n_estimators=850, base_estimator__criterion=gini, base_estimator__splitter=random \n",
      "[CV]  n_estimators=850, base_estimator__criterion=gini, base_estimator__splitter=random, total=   0.1s\n",
      "[CV] n_estimators=850, base_estimator__criterion=gini, base_estimator__splitter=random \n",
      "[CV]  n_estimators=850, base_estimator__criterion=gini, base_estimator__splitter=random, total=   0.1s\n",
      "[CV] n_estimators=1000, base_estimator__criterion=gini, base_estimator__splitter=random \n",
      "[CV]  n_estimators=1000, base_estimator__criterion=gini, base_estimator__splitter=random, total=   0.0s\n",
      "[CV] n_estimators=1000, base_estimator__criterion=gini, base_estimator__splitter=random \n",
      "[CV]  n_estimators=1000, base_estimator__criterion=gini, base_estimator__splitter=random, total=   0.1s\n",
      "[CV] n_estimators=1000, base_estimator__criterion=gini, base_estimator__splitter=random \n",
      "[CV]  n_estimators=1000, base_estimator__criterion=gini, base_estimator__splitter=random, total=   0.1s\n",
      "[CV] n_estimators=800, base_estimator__criterion=entropy, base_estimator__splitter=best \n",
      "[CV]  n_estimators=1000, base_estimator__criterion=gini, base_estimator__splitter=best, total=   1.0s\n",
      "[CV] n_estimators=800, base_estimator__criterion=entropy, base_estimator__splitter=best \n",
      "[CV]  n_estimators=800, base_estimator__criterion=entropy, base_estimator__splitter=best, total=   0.3s\n",
      "[CV] n_estimators=800, base_estimator__criterion=entropy, base_estimator__splitter=best \n",
      "[CV]  n_estimators=800, base_estimator__criterion=entropy, base_estimator__splitter=best, total=   0.8s\n",
      "[CV] n_estimators=850, base_estimator__criterion=entropy, base_estimator__splitter=best \n",
      "[CV]  n_estimators=850, base_estimator__criterion=entropy, base_estimator__splitter=best, total=   0.2s\n",
      "[CV] n_estimators=850, base_estimator__criterion=entropy, base_estimator__splitter=best \n",
      "[CV]  n_estimators=800, base_estimator__criterion=entropy, base_estimator__splitter=best, total=   1.2s\n",
      "[CV] n_estimators=850, base_estimator__criterion=entropy, base_estimator__splitter=best \n",
      "[CV]  n_estimators=850, base_estimator__criterion=entropy, base_estimator__splitter=best, total=   0.8s\n",
      "[CV] n_estimators=1000, base_estimator__criterion=entropy, base_estimator__splitter=best \n",
      "[CV]  n_estimators=1000, base_estimator__criterion=entropy, base_estimator__splitter=best, total=   0.3s\n",
      "[CV] n_estimators=1000, base_estimator__criterion=entropy, base_estimator__splitter=best \n",
      "[CV]  n_estimators=850, base_estimator__criterion=entropy, base_estimator__splitter=best, total=   1.1s\n",
      "[CV] n_estimators=1000, base_estimator__criterion=entropy, base_estimator__splitter=best \n",
      "[CV]  n_estimators=1000, base_estimator__criterion=entropy, base_estimator__splitter=best, total=   0.7s\n",
      "[CV] n_estimators=800, base_estimator__criterion=entropy, base_estimator__splitter=random \n",
      "[CV]  n_estimators=800, base_estimator__criterion=entropy, base_estimator__splitter=random, total=   0.0s\n",
      "[CV] n_estimators=800, base_estimator__criterion=entropy, base_estimator__splitter=random \n",
      "[CV]  n_estimators=800, base_estimator__criterion=entropy, base_estimator__splitter=random, total=   0.1s\n",
      "[CV] n_estimators=800, base_estimator__criterion=entropy, base_estimator__splitter=random \n",
      "[CV]  n_estimators=800, base_estimator__criterion=entropy, base_estimator__splitter=random, total=   0.2s\n",
      "[CV] n_estimators=850, base_estimator__criterion=entropy, base_estimator__splitter=random \n",
      "[CV]  n_estimators=850, base_estimator__criterion=entropy, base_estimator__splitter=random, total=   0.1s\n",
      "[CV] n_estimators=850, base_estimator__criterion=entropy, base_estimator__splitter=random \n",
      "[CV]  n_estimators=850, base_estimator__criterion=entropy, base_estimator__splitter=random, total=   0.1s\n",
      "[CV] n_estimators=850, base_estimator__criterion=entropy, base_estimator__splitter=random \n",
      "[CV]  n_estimators=850, base_estimator__criterion=entropy, base_estimator__splitter=random, total=   0.1s\n",
      "[CV] n_estimators=1000, base_estimator__criterion=entropy, base_estimator__splitter=random \n",
      "[CV]  n_estimators=1000, base_estimator__criterion=entropy, base_estimator__splitter=random, total=   0.0s\n",
      "[CV] n_estimators=1000, base_estimator__criterion=entropy, base_estimator__splitter=random \n",
      "[CV]  n_estimators=1000, base_estimator__criterion=entropy, base_estimator__splitter=random, total=   0.1s\n",
      "[CV] n_estimators=1000, base_estimator__criterion=entropy, base_estimator__splitter=random \n",
      "[CV]  n_estimators=1000, base_estimator__criterion=entropy, base_estimator__splitter=best, total=   1.2s\n",
      "[CV]  n_estimators=1000, base_estimator__criterion=entropy, base_estimator__splitter=random, total=   0.1s\n"
     ]
    },
    {
     "name": "stderr",
     "output_type": "stream",
     "text": [
      "[Parallel(n_jobs=2)]: Done  36 out of  36 | elapsed:    6.7s finished\n"
     ]
    },
    {
     "data": {
      "text/plain": [
       "GridSearchCV(cv=TimeSeriesSplit(n_splits=3), error_score='raise',\n",
       "       estimator=AdaBoostClassifier(algorithm='SAMME.R',\n",
       "          base_estimator=DecisionTreeClassifier(class_weight=None, criterion='gini', max_depth=None,\n",
       "            max_features=None, max_leaf_nodes=None,\n",
       "            min_impurity_split=1e-07, min_samples_leaf=1,\n",
       "            min_samples_split=2, min_weight_fraction_leaf=0.0,\n",
       "            presort=False, random_state=None, splitter='best'),\n",
       "          learning_rate=1.0, n_estimators=50, random_state=None),\n",
       "       fit_params={}, iid=True, n_jobs=2,\n",
       "       param_grid={'n_estimators': [800, 850, 1000], 'base_estimator__criterion': ['gini', 'entropy'], 'base_estimator__splitter': ['best', 'random']},\n",
       "       pre_dispatch='2*n_jobs', refit=True, return_train_score=True,\n",
       "       scoring=None, verbose=2)"
      ]
     },
     "execution_count": 108,
     "metadata": {},
     "output_type": "execute_result"
    }
   ],
   "source": [
    "# parameters to tune\n",
    "param_grid = {\"base_estimator__criterion\" : [\"gini\", \"entropy\"],\n",
    "              \"base_estimator__splitter\" :   [\"best\", \"random\"],\n",
    "              \"n_estimators\": [800, 850, 1000]\n",
    "             }\n",
    "cv = TimeSeriesSplit(n_splits=3)\n",
    "dtc = DecisionTreeClassifier()\n",
    "abc = AdaBoostClassifier(base_estimator = dtc)\n",
    "\n",
    "# run grid search\n",
    "grid_search_abc = GridSearchCV(abc, param_grid=param_grid, cv=cv, n_jobs=2, verbose=2)\n",
    "grid_search_abc.fit(X_train, y_train)"
   ]
  },
  {
   "cell_type": "code",
   "execution_count": 109,
   "metadata": {},
   "outputs": [
    {
     "name": "stdout",
     "output_type": "stream",
     "text": [
      "Best model:\n",
      "AdaBoostClassifier(algorithm='SAMME.R',\n",
      "          base_estimator=DecisionTreeClassifier(class_weight=None, criterion='gini', max_depth=None,\n",
      "            max_features=None, max_leaf_nodes=None,\n",
      "            min_impurity_split=1e-07, min_samples_leaf=1,\n",
      "            min_samples_split=2, min_weight_fraction_leaf=0.0,\n",
      "            presort=False, random_state=None, splitter='random'),\n",
      "          learning_rate=1.0, n_estimators=850, random_state=None)\n"
     ]
    }
   ],
   "source": [
    "# best model estimator\n",
    "abc_best_model = grid_search_abc.best_estimator_\n",
    "print \"Best model:\\n\", abc_best_model"
   ]
  },
  {
   "cell_type": "code",
   "execution_count": 110,
   "metadata": {},
   "outputs": [
    {
     "name": "stdout",
     "output_type": "stream",
     "text": [
      "Best parameters:\n",
      "{'n_estimators': 850, 'base_estimator__criterion': 'gini', 'base_estimator__splitter': 'random'}\n"
     ]
    }
   ],
   "source": [
    "# best tuned parameters\n",
    "abc_best_parameters = grid_search_abc.best_params_\n",
    "print \"Best parameters:\\n\", abc_best_parameters"
   ]
  },
  {
   "cell_type": "code",
   "execution_count": 111,
   "metadata": {
    "scrolled": true
   },
   "outputs": [
    {
     "name": "stdout",
     "output_type": "stream",
     "text": [
      "Baseline score:\t0.521\n",
      "Best score:\t0.502\n",
      "Precision score: 0.52\n",
      "Recall score:  0.50\n"
     ]
    }
   ],
   "source": [
    "# best score\n",
    "abc_best_score = abc_best_model.score(X_test, y_test)\n",
    "# model predictions\n",
    "abc_pred = abc_best_model.predict(X_test)\n",
    "abc_precision = precision_score(y_test, abc_pred)\n",
    "abc_recall = recall_score(y_test, abc_pred)\n",
    "print \"Baseline score:\\t{:.3f}\".format(1 - y.mean())\n",
    "print \"Best score:\\t{:.3f}\".format(abc_best_score)\n",
    "print \"Precision score:{: .2f}\".format(abc_precision)\n",
    "print \"Recall score: {: .2f}\".format(abc_recall)"
   ]
  },
  {
   "cell_type": "code",
   "execution_count": 237,
   "metadata": {
    "collapsed": true
   },
   "outputs": [],
   "source": [
    "abc_feature_importances = pd.DataFrame(abc_best_model.feature_importances_,\n",
    "                                   index = data.iloc[:train_set, :-2].columns,\n",
    "                                    columns=['importance'])\n",
    "top_10 = abc_feature_importances.sort_values(by='importance', ascending=True).tail(10)"
   ]
  },
  {
   "cell_type": "code",
   "execution_count": 238,
   "metadata": {},
   "outputs": [
    {
     "data": {
      "text/html": [
       "<div>\n",
       "<style>\n",
       "    .dataframe thead tr:only-child th {\n",
       "        text-align: right;\n",
       "    }\n",
       "\n",
       "    .dataframe thead th {\n",
       "        text-align: left;\n",
       "    }\n",
       "\n",
       "    .dataframe tbody tr th {\n",
       "        vertical-align: top;\n",
       "    }\n",
       "</style>\n",
       "<table border=\"1\" class=\"dataframe\">\n",
       "  <thead>\n",
       "    <tr style=\"text-align: right;\">\n",
       "      <th></th>\n",
       "      <th>importance</th>\n",
       "    </tr>\n",
       "  </thead>\n",
       "  <tbody>\n",
       "    <tr>\n",
       "      <th>eur_crude_one_change_5d_mean</th>\n",
       "      <td>0.015068</td>\n",
       "    </tr>\n",
       "    <tr>\n",
       "      <th>aus10_yield_one_change_5d_std</th>\n",
       "      <td>0.012734</td>\n",
       "    </tr>\n",
       "    <tr>\n",
       "      <th>uk_gilt_one_change_5d_mean</th>\n",
       "      <td>0.012140</td>\n",
       "    </tr>\n",
       "    <tr>\n",
       "      <th>JPY/USD_one_change_5d_min</th>\n",
       "      <td>0.011993</td>\n",
       "    </tr>\n",
       "    <tr>\n",
       "      <th>USEERI_one_change_5d_std</th>\n",
       "      <td>0.011756</td>\n",
       "    </tr>\n",
       "    <tr>\n",
       "      <th>eu_stoxx_50_one_change_5d_min</th>\n",
       "      <td>0.011626</td>\n",
       "    </tr>\n",
       "    <tr>\n",
       "      <th>EUR/USD_one_change_5d_std</th>\n",
       "      <td>0.011580</td>\n",
       "    </tr>\n",
       "    <tr>\n",
       "      <th>eu10_yield_one_change_5d_std</th>\n",
       "      <td>0.010424</td>\n",
       "    </tr>\n",
       "    <tr>\n",
       "      <th>us_crude_one_change</th>\n",
       "      <td>0.010267</td>\n",
       "    </tr>\n",
       "    <tr>\n",
       "      <th>AUD/USD_one_change_5d_std</th>\n",
       "      <td>0.009807</td>\n",
       "    </tr>\n",
       "  </tbody>\n",
       "</table>\n",
       "</div>"
      ],
      "text/plain": [
       "                               importance\n",
       "eur_crude_one_change_5d_mean     0.015068\n",
       "aus10_yield_one_change_5d_std    0.012734\n",
       "uk_gilt_one_change_5d_mean       0.012140\n",
       "JPY/USD_one_change_5d_min        0.011993\n",
       "USEERI_one_change_5d_std         0.011756\n",
       "eu_stoxx_50_one_change_5d_min    0.011626\n",
       "EUR/USD_one_change_5d_std        0.011580\n",
       "eu10_yield_one_change_5d_std     0.010424\n",
       "us_crude_one_change              0.010267\n",
       "AUD/USD_one_change_5d_std        0.009807"
      ]
     },
     "execution_count": 238,
     "metadata": {},
     "output_type": "execute_result"
    }
   ],
   "source": [
    "top_10.sort_values(by='importance', ascending=False)"
   ]
  },
  {
   "cell_type": "code",
   "execution_count": 239,
   "metadata": {},
   "outputs": [
    {
     "data": {
      "image/png": "[encoded data removed]",
      "text/plain": [
       "<matplotlib.figure.Figure at 0x1166fd450>"
      ]
     },
     "metadata": {},
     "output_type": "display_data"
    }
   ],
   "source": [
    "top_10.plot(kind = \"barh\", figsize=(10,6), fontsize=14)\n",
    "plt.title(\"Top 10 important features in AdaBoostClassifier Model\", fontsize=14)\n",
    "plt.show()"
   ]
  },
  {
   "cell_type": "markdown",
   "metadata": {},
   "source": [
    "### AdaBoostClassifier (SGDClassifier)"
   ]
  },
  {
   "cell_type": "code",
   "execution_count": 93,
   "metadata": {
    "scrolled": true
   },
   "outputs": [
    {
     "name": "stdout",
     "output_type": "stream",
     "text": [
      "Fitting 3 folds for each of 12 candidates, totalling 36 fits\n",
      "[CV] n_estimators=500, base_estimator__l1_ratio=0.05 .................\n",
      "[CV] n_estimators=500, base_estimator__l1_ratio=0.05 .................\n",
      "[CV] .. n_estimators=500, base_estimator__l1_ratio=0.05, total=   1.8s\n",
      "[CV] n_estimators=500, base_estimator__l1_ratio=0.05 .................\n",
      "[CV] .. n_estimators=500, base_estimator__l1_ratio=0.05, total=   2.4s\n",
      "[CV] n_estimators=550, base_estimator__l1_ratio=0.05 .................\n",
      "[CV] .. n_estimators=550, base_estimator__l1_ratio=0.05, total=   1.0s\n",
      "[CV] n_estimators=550, base_estimator__l1_ratio=0.05 .................\n",
      "[CV] .. n_estimators=500, base_estimator__l1_ratio=0.05, total=   4.0s\n",
      "[CV] n_estimators=550, base_estimator__l1_ratio=0.05 .................\n",
      "[CV] .. n_estimators=550, base_estimator__l1_ratio=0.05, total=   3.1s\n",
      "[CV] n_estimators=600, base_estimator__l1_ratio=0.05 .................\n",
      "[CV] .. n_estimators=600, base_estimator__l1_ratio=0.05, total=   2.9s\n",
      "[CV] n_estimators=600, base_estimator__l1_ratio=0.05 .................\n",
      "[CV] .. n_estimators=550, base_estimator__l1_ratio=0.05, total=   3.7s\n",
      "[CV] n_estimators=600, base_estimator__l1_ratio=0.05 .................\n",
      "[CV] .. n_estimators=600, base_estimator__l1_ratio=0.05, total=   2.1s\n",
      "[CV] n_estimators=500, base_estimator__l1_ratio=0.1 ..................\n",
      "[CV] .. n_estimators=600, base_estimator__l1_ratio=0.05, total=   3.9s\n",
      "[CV] n_estimators=500, base_estimator__l1_ratio=0.1 ..................\n",
      "[CV] ... n_estimators=500, base_estimator__l1_ratio=0.1, total=   1.9s\n",
      "[CV] n_estimators=500, base_estimator__l1_ratio=0.1 ..................\n",
      "[CV] ... n_estimators=500, base_estimator__l1_ratio=0.1, total=   2.5s\n",
      "[CV] n_estimators=550, base_estimator__l1_ratio=0.1 ..................\n",
      "[CV] ... n_estimators=550, base_estimator__l1_ratio=0.1, total=   1.6s\n",
      "[CV] n_estimators=550, base_estimator__l1_ratio=0.1 ..................\n",
      "[CV] ... n_estimators=500, base_estimator__l1_ratio=0.1, total=   4.6s\n",
      "[CV] n_estimators=550, base_estimator__l1_ratio=0.1 ..................\n",
      "[CV] ... n_estimators=550, base_estimator__l1_ratio=0.1, total=   2.9s\n",
      "[CV] n_estimators=600, base_estimator__l1_ratio=0.1 ..................\n",
      "[CV] ... n_estimators=550, base_estimator__l1_ratio=0.1, total=   3.6s\n",
      "[CV] n_estimators=600, base_estimator__l1_ratio=0.1 ..................\n",
      "[CV] ... n_estimators=600, base_estimator__l1_ratio=0.1, total=   2.4s\n",
      "[CV] n_estimators=600, base_estimator__l1_ratio=0.1 ..................\n",
      "[CV] ... n_estimators=600, base_estimator__l1_ratio=0.1, total=   2.2s\n",
      "[CV] n_estimators=500, base_estimator__l1_ratio=0.15 .................\n",
      "[CV] .. n_estimators=500, base_estimator__l1_ratio=0.15, total=   2.0s\n",
      "[CV] n_estimators=500, base_estimator__l1_ratio=0.15 .................\n",
      "[CV] ... n_estimators=600, base_estimator__l1_ratio=0.1, total=   3.5s\n",
      "[CV] n_estimators=500, base_estimator__l1_ratio=0.15 .................\n",
      "[CV] .. n_estimators=500, base_estimator__l1_ratio=0.15, total=   3.3s\n",
      "[CV] n_estimators=550, base_estimator__l1_ratio=0.15 .................\n",
      "[CV] .. n_estimators=550, base_estimator__l1_ratio=0.15, total=   1.8s\n",
      "[CV] n_estimators=550, base_estimator__l1_ratio=0.15 .................\n",
      "[CV] .. n_estimators=500, base_estimator__l1_ratio=0.15, total=   4.0s\n",
      "[CV] n_estimators=550, base_estimator__l1_ratio=0.15 .................\n",
      "[CV] .. n_estimators=550, base_estimator__l1_ratio=0.15, total=   2.5s\n",
      "[CV] n_estimators=600, base_estimator__l1_ratio=0.15 .................\n",
      "[CV] .. n_estimators=600, base_estimator__l1_ratio=0.15, total=   0.2s\n",
      "[CV] n_estimators=600, base_estimator__l1_ratio=0.15 .................\n",
      "[CV] .. n_estimators=550, base_estimator__l1_ratio=0.15, total=   3.0s\n",
      "[CV] n_estimators=600, base_estimator__l1_ratio=0.15 .................\n",
      "[CV] .. n_estimators=600, base_estimator__l1_ratio=0.15, total=   2.4s\n",
      "[CV] n_estimators=500, base_estimator__l1_ratio=0.3 ..................\n",
      "[CV] .. n_estimators=600, base_estimator__l1_ratio=0.15, total=   3.9s\n",
      "[CV] n_estimators=500, base_estimator__l1_ratio=0.3 ..................\n",
      "[CV] ... n_estimators=500, base_estimator__l1_ratio=0.3, total=   1.9s\n",
      "[CV] n_estimators=500, base_estimator__l1_ratio=0.3 ..................\n",
      "[CV] ... n_estimators=500, base_estimator__l1_ratio=0.3, total=   2.3s\n",
      "[CV] n_estimators=550, base_estimator__l1_ratio=0.3 ..................\n",
      "[CV] ... n_estimators=500, base_estimator__l1_ratio=0.3, total=   3.6s\n",
      "[CV] n_estimators=550, base_estimator__l1_ratio=0.3 ..................\n",
      "[CV] ... n_estimators=550, base_estimator__l1_ratio=0.3, total=   0.8s\n",
      "[CV] n_estimators=550, base_estimator__l1_ratio=0.3 ..................\n",
      "[CV] ... n_estimators=550, base_estimator__l1_ratio=0.3, total=   2.3s\n",
      "[CV] n_estimators=600, base_estimator__l1_ratio=0.3 ..................\n",
      "[CV] ... n_estimators=600, base_estimator__l1_ratio=0.3, total=   1.1s\n",
      "[CV] n_estimators=600, base_estimator__l1_ratio=0.3 ..................\n",
      "[CV] ... n_estimators=550, base_estimator__l1_ratio=0.3, total=   4.5s\n",
      "[CV] n_estimators=600, base_estimator__l1_ratio=0.3 ..................\n",
      "[CV] ... n_estimators=600, base_estimator__l1_ratio=0.3, total=   2.9s\n",
      "[CV] ... n_estimators=600, base_estimator__l1_ratio=0.3, total=   2.4s\n"
     ]
    },
    {
     "name": "stderr",
     "output_type": "stream",
     "text": [
      "[Parallel(n_jobs=2)]: Done  36 out of  36 | elapsed:   50.4s finished\n"
     ]
    },
    {
     "data": {
      "text/plain": [
       "GridSearchCV(cv=TimeSeriesSplit(n_splits=3), error_score='raise',\n",
       "       estimator=AdaBoostClassifier(algorithm='SAMME',\n",
       "          base_estimator=SGDClassifier(alpha=0.0001, average=False, class_weight=None, epsilon=0.1,\n",
       "       eta0=0.0, fit_intercept=True, l1_ratio=0.15,\n",
       "       learning_rate='optimal', loss='hinge', n_iter=5, n_jobs=1,\n",
       "       penalty='l2', power_t=0.5, random_state=None, shuffle=True,\n",
       "       verbose=0, warm_start=False),\n",
       "          learning_rate=0.05, n_estimators=50, random_state=None),\n",
       "       fit_params={}, iid=True, n_jobs=2,\n",
       "       param_grid={'n_estimators': [500, 550, 600], 'base_estimator__l1_ratio': [0.05, 0.1, 0.15, 0.3]},\n",
       "       pre_dispatch='2*n_jobs', refit=True, return_train_score=True,\n",
       "       scoring=None, verbose=2)"
      ]
     },
     "execution_count": 93,
     "metadata": {},
     "output_type": "execute_result"
    }
   ],
   "source": [
    "# parameters to tune\n",
    "param_grid = {\n",
    "              'base_estimator__l1_ratio': [0.05, 0.1, 0.15, 0.30],\n",
    "              \"n_estimators\": [500, 550, 600]}\n",
    "\n",
    "sgd = SGDClassifier()\n",
    "cv = TimeSeriesSplit(n_splits=3)\n",
    "abc_sgd = AdaBoostClassifier(base_estimator = sgd, algorithm='SAMME', learning_rate=0.05)\n",
    "\n",
    "# run grid search\n",
    "grid_search_abc_sgd = GridSearchCV(abc_sgd, param_grid=param_grid, cv=cv, n_jobs=2, verbose=2)\n",
    "grid_search_abc_sgd.fit(X_train, y_train)"
   ]
  },
  {
   "cell_type": "code",
   "execution_count": 94,
   "metadata": {},
   "outputs": [
    {
     "name": "stdout",
     "output_type": "stream",
     "text": [
      "Best model:\n",
      "AdaBoostClassifier(algorithm='SAMME',\n",
      "          base_estimator=SGDClassifier(alpha=0.0001, average=False, class_weight=None, epsilon=0.1,\n",
      "       eta0=0.0, fit_intercept=True, l1_ratio=0.3, learning_rate='optimal',\n",
      "       loss='hinge', n_iter=5, n_jobs=1, penalty='l2', power_t=0.5,\n",
      "       random_state=None, shuffle=True, verbose=0, warm_start=False),\n",
      "          learning_rate=0.05, n_estimators=600, random_state=None)\n"
     ]
    }
   ],
   "source": [
    "# best model estimator\n",
    "abc_sgd_best_model = grid_search_abc_sgd.best_estimator_\n",
    "print \"Best model:\\n\", abc_sgd_best_model"
   ]
  },
  {
   "cell_type": "code",
   "execution_count": 95,
   "metadata": {},
   "outputs": [
    {
     "name": "stdout",
     "output_type": "stream",
     "text": [
      "Best parameters:\n",
      "{'n_estimators': 600, 'base_estimator__l1_ratio': 0.3}\n"
     ]
    }
   ],
   "source": [
    "# best tuned parameters\n",
    "abc_sgd_best_parameters = grid_search_abc_sgd.best_params_\n",
    "print \"Best parameters:\\n\", abc_sgd_best_parameters"
   ]
  },
  {
   "cell_type": "code",
   "execution_count": 96,
   "metadata": {
    "scrolled": true
   },
   "outputs": [
    {
     "name": "stdout",
     "output_type": "stream",
     "text": [
      "Baseline score:\t0.521\n",
      "Best score:\t0.500\n",
      "Precision score: 0.52\n",
      "Recall score:  0.47\n"
     ]
    }
   ],
   "source": [
    "# best score\n",
    "abc_sgd_best_score = abc_sgd_best_model.score(X_test, y_test)\n",
    "# model predictions\n",
    "abc_sgd_pred = abc_sgd_best_model.predict(X_test)\n",
    "abc_sgd_precision = precision_score(y_test, abc_sgd_pred)\n",
    "abc_sgd_recall = recall_score(y_test, abc_sgd_pred)\n",
    "print \"Baseline score:\\t{:.3f}\".format(1 - y.mean())\n",
    "print \"Best score:\\t{:.3f}\".format(abc_sgd_best_score)\n",
    "print \"Precision score:{: .2f}\".format(abc_sgd_precision)\n",
    "print \"Recall score: {: .2f}\".format(abc_sgd_recall)"
   ]
  },
  {
   "cell_type": "markdown",
   "metadata": {},
   "source": [
    "### RandomForestClassifier\n"
   ]
  },
  {
   "cell_type": "code",
   "execution_count": 133,
   "metadata": {
    "scrolled": true
   },
   "outputs": [
    {
     "name": "stdout",
     "output_type": "stream",
     "text": [
      "Fitting 5 folds for each of 3 candidates, totalling 15 fits\n",
      "[CV] n_estimators=190 ................................................\n",
      "[CV] n_estimators=190 ................................................\n",
      "[CV] ................................. n_estimators=190, total=   1.5s\n",
      "[CV] n_estimators=190 ................................................\n",
      "[CV] ................................. n_estimators=190, total=   2.1s\n",
      "[CV] n_estimators=190 ................................................\n",
      "[CV] ................................. n_estimators=190, total=   2.6s\n",
      "[CV] n_estimators=190 ................................................\n",
      "[CV] ................................. n_estimators=190, total=   3.5s\n",
      "[CV] n_estimators=200 ................................................\n",
      "[CV] ................................. n_estimators=200, total=   1.3s\n",
      "[CV] n_estimators=200 ................................................\n",
      "[CV] ................................. n_estimators=190, total=   4.4s\n",
      "[CV] n_estimators=200 ................................................\n",
      "[CV] ................................. n_estimators=200, total=   2.0s\n",
      "[CV] n_estimators=200 ................................................\n",
      "[CV] ................................. n_estimators=200, total=   2.8s\n",
      "[CV] n_estimators=200 ................................................\n",
      "[CV] ................................. n_estimators=200, total=   3.7s\n",
      "[CV] n_estimators=210 ................................................\n",
      "[CV] ................................. n_estimators=210, total=   1.4s\n",
      "[CV] n_estimators=210 ................................................\n",
      "[CV] ................................. n_estimators=200, total=   4.7s\n",
      "[CV] n_estimators=210 ................................................\n",
      "[CV] ................................. n_estimators=210, total=   2.1s\n",
      "[CV] n_estimators=210 ................................................\n",
      "[CV] ................................. n_estimators=210, total=   3.0s\n",
      "[CV] n_estimators=210 ................................................\n",
      "[CV] ................................. n_estimators=210, total=   3.9s\n",
      "[CV] ................................. n_estimators=210, total=   4.7s\n"
     ]
    },
    {
     "name": "stderr",
     "output_type": "stream",
     "text": [
      "[Parallel(n_jobs=2)]: Done  15 out of  15 | elapsed:   25.0s finished\n"
     ]
    },
    {
     "data": {
      "text/plain": [
       "GridSearchCV(cv=TimeSeriesSplit(n_splits=5), error_score='raise',\n",
       "       estimator=RandomForestClassifier(bootstrap=True, class_weight=None, criterion='gini',\n",
       "            max_depth=None, max_features='auto', max_leaf_nodes=None,\n",
       "            min_impurity_split=1e-07, min_samples_leaf=1,\n",
       "            min_samples_split=2, min_weight_fraction_leaf=0.0,\n",
       "            n_estimators=10, n_jobs=1, oob_score=False, random_state=None,\n",
       "            verbose=0, warm_start=False),\n",
       "       fit_params={}, iid=True, n_jobs=2,\n",
       "       param_grid={'n_estimators': [190, 200, 210]},\n",
       "       pre_dispatch='2*n_jobs', refit=True, return_train_score=True,\n",
       "       scoring=None, verbose=2)"
      ]
     },
     "execution_count": 133,
     "metadata": {},
     "output_type": "execute_result"
    }
   ],
   "source": [
    "# parameters to tune\n",
    "param_grid = {\"n_estimators\": [190, 200, 210],\n",
    "              \"bootstrap\": [True, False],\n",
    "              \"min_samples_leaf\": [1, 2, 3],\n",
    "              \"max_features\": [1.0, 0.5, 0.1],\n",
    "              \"max_depth\": [None, 3, 5]\n",
    "             }\n",
    "rf = RandomForestClassifier()\n",
    "grid_search_rf = GridSearchCV(rf, param_grid=param_grid, verbose=2, cv=cv, n_jobs=2)\n",
    "grid_search_rf.fit(X_train, y_train)"
   ]
  },
  {
   "cell_type": "code",
   "execution_count": 137,
   "metadata": {},
   "outputs": [
    {
     "name": "stdout",
     "output_type": "stream",
     "text": [
      "Best model:\n",
      "RandomForestClassifier(bootstrap=True, class_weight=None, criterion='gini',\n",
      "            max_depth=None, max_features='auto', max_leaf_nodes=None,\n",
      "            min_impurity_split=1e-07, min_samples_leaf=1,\n",
      "            min_samples_split=2, min_weight_fraction_leaf=0.0,\n",
      "            n_estimators=200, n_jobs=1, oob_score=False, random_state=None,\n",
      "            verbose=0, warm_start=False)\n"
     ]
    }
   ],
   "source": [
    "# best model estimator\n",
    "rf_best_model = grid_search_rf.best_estimator_\n",
    "print \"Best model:\\n\", rf_best_model"
   ]
  },
  {
   "cell_type": "code",
   "execution_count": 138,
   "metadata": {},
   "outputs": [
    {
     "name": "stdout",
     "output_type": "stream",
     "text": [
      "Best parameters:\n",
      "{'n_estimators': 200}\n"
     ]
    }
   ],
   "source": [
    "# best tuned parameters\n",
    "rf_best_parameters = grid_search_rf.best_params_\n",
    "print \"Best parameters:\\n\", rf_best_parameters"
   ]
  },
  {
   "cell_type": "code",
   "execution_count": 139,
   "metadata": {
    "scrolled": true
   },
   "outputs": [
    {
     "name": "stdout",
     "output_type": "stream",
     "text": [
      "Baseline score:\t0.521\n",
      "Best score:\t0.516\n",
      "Precision score: 0.55\n",
      "Recall score:  0.36\n"
     ]
    }
   ],
   "source": [
    "# best score\n",
    "rf_best_score = rf_best_model.score(X_test, y_test)\n",
    "# model predictions\n",
    "rf_pred = rf_best_model.predict(X_test)\n",
    "rf_precision = precision_score(y_test, rf_pred)\n",
    "rf_recall = recall_score(y_test, rf_pred)\n",
    "print \"Baseline score:\\t{:.3f}\".format(1 - y.mean())\n",
    "print \"Best score:\\t{:.3f}\".format(rf_best_score)\n",
    "print \"Precision score:{: .2f}\".format(rf_precision)\n",
    "print \"Recall score: {: .2f}\".format(rf_recall)"
   ]
  },
  {
   "cell_type": "code",
   "execution_count": 233,
   "metadata": {
    "collapsed": true
   },
   "outputs": [],
   "source": [
    "rf_feature_importances = pd.DataFrame(rf_best_model.feature_importances_,\n",
    "                                   index = data.iloc[:train_set, :-2].columns,\n",
    "                                    columns=['importance'])\n",
    "top_10 = rf_feature_importances.sort_values(by='importance', ascending=True).tail(10)"
   ]
  },
  {
   "cell_type": "code",
   "execution_count": 234,
   "metadata": {},
   "outputs": [
    {
     "data": {
      "text/html": [
       "<div>\n",
       "<style>\n",
       "    .dataframe thead tr:only-child th {\n",
       "        text-align: right;\n",
       "    }\n",
       "\n",
       "    .dataframe thead th {\n",
       "        text-align: left;\n",
       "    }\n",
       "\n",
       "    .dataframe tbody tr th {\n",
       "        vertical-align: top;\n",
       "    }\n",
       "</style>\n",
       "<table border=\"1\" class=\"dataframe\">\n",
       "  <thead>\n",
       "    <tr style=\"text-align: right;\">\n",
       "      <th></th>\n",
       "      <th>importance</th>\n",
       "    </tr>\n",
       "  </thead>\n",
       "  <tbody>\n",
       "    <tr>\n",
       "      <th>SONIA_one_change</th>\n",
       "      <td>0.004716</td>\n",
       "    </tr>\n",
       "    <tr>\n",
       "      <th>dollar_one_change</th>\n",
       "      <td>0.004245</td>\n",
       "    </tr>\n",
       "    <tr>\n",
       "      <th>us10_yield_one_change</th>\n",
       "      <td>0.004020</td>\n",
       "    </tr>\n",
       "    <tr>\n",
       "      <th>EUR/USD_one_change</th>\n",
       "      <td>0.003992</td>\n",
       "    </tr>\n",
       "    <tr>\n",
       "      <th>SwedEERI_one_change</th>\n",
       "      <td>0.003944</td>\n",
       "    </tr>\n",
       "    <tr>\n",
       "      <th>us_crude_one_change</th>\n",
       "      <td>0.003900</td>\n",
       "    </tr>\n",
       "    <tr>\n",
       "      <th>swed_omx_one_change</th>\n",
       "      <td>0.003837</td>\n",
       "    </tr>\n",
       "    <tr>\n",
       "      <th>ita10_yield_one_change</th>\n",
       "      <td>0.003832</td>\n",
       "    </tr>\n",
       "    <tr>\n",
       "      <th>JPY/USD_one_change</th>\n",
       "      <td>0.003819</td>\n",
       "    </tr>\n",
       "    <tr>\n",
       "      <th>can10_yield_one_change</th>\n",
       "      <td>0.003785</td>\n",
       "    </tr>\n",
       "  </tbody>\n",
       "</table>\n",
       "</div>"
      ],
      "text/plain": [
       "                        importance\n",
       "SONIA_one_change          0.004716\n",
       "dollar_one_change         0.004245\n",
       "us10_yield_one_change     0.004020\n",
       "EUR/USD_one_change        0.003992\n",
       "SwedEERI_one_change       0.003944\n",
       "us_crude_one_change       0.003900\n",
       "swed_omx_one_change       0.003837\n",
       "ita10_yield_one_change    0.003832\n",
       "JPY/USD_one_change        0.003819\n",
       "can10_yield_one_change    0.003785"
      ]
     },
     "execution_count": 234,
     "metadata": {},
     "output_type": "execute_result"
    }
   ],
   "source": [
    "top_10.sort_values(by='importance', ascending=False)"
   ]
  },
  {
   "cell_type": "code",
   "execution_count": 235,
   "metadata": {},
   "outputs": [
    {
     "data": {
      "image/png": "[encoded data removed]",
      "text/plain": [
       "<matplotlib.figure.Figure at 0x115c7d9d0>"
      ]
     },
     "metadata": {},
     "output_type": "display_data"
    }
   ],
   "source": [
    "top_10.plot(kind = \"barh\", figsize=(10,6), fontsize=14)\n",
    "plt.title(\"Top 10 important features in RandomForestClassifier Model\", fontsize=14)\n",
    "plt.show()"
   ]
  },
  {
   "cell_type": "markdown",
   "metadata": {},
   "source": [
    "### GradientBoostingClassifier"
   ]
  },
  {
   "cell_type": "code",
   "execution_count": 121,
   "metadata": {},
   "outputs": [
    {
     "name": "stdout",
     "output_type": "stream",
     "text": [
      "Fitting 3 folds for each of 27 candidates, totalling 81 fits\n",
      "[CV] max_features=1.0, n_estimators=100, learning_rate=0.05 ..........\n",
      "[CV] max_features=1.0, n_estimators=100, learning_rate=0.05 ..........\n",
      "[CV]  max_features=1.0, n_estimators=100, learning_rate=0.05, total=   2.0s\n",
      "[CV] max_features=1.0, n_estimators=100, learning_rate=0.05 ..........\n",
      "[CV]  max_features=1.0, n_estimators=100, learning_rate=0.05, total=   3.6s\n",
      "[CV] max_features=1.0, n_estimators=200, learning_rate=0.05 ..........\n",
      "[CV]  max_features=1.0, n_estimators=200, learning_rate=0.05, total=   3.1s\n",
      "[CV] max_features=1.0, n_estimators=200, learning_rate=0.05 ..........\n",
      "[CV]  max_features=1.0, n_estimators=100, learning_rate=0.05, total=   4.9s\n",
      "[CV] max_features=1.0, n_estimators=200, learning_rate=0.05 ..........\n",
      "[CV]  max_features=1.0, n_estimators=200, learning_rate=0.05, total=   6.7s\n",
      "[CV] max_features=1.0, n_estimators=500, learning_rate=0.05 ..........\n",
      "[CV]  max_features=1.0, n_estimators=200, learning_rate=0.05, total=  10.2s\n",
      "[CV] max_features=1.0, n_estimators=500, learning_rate=0.05 ..........\n",
      "[CV]  max_features=1.0, n_estimators=500, learning_rate=0.05, total=   7.7s\n",
      "[CV] max_features=1.0, n_estimators=500, learning_rate=0.05 ..........\n",
      "[CV]  max_features=1.0, n_estimators=500, learning_rate=0.05, total=  15.7s\n",
      "[CV] max_features=0.5, n_estimators=100, learning_rate=0.05 ..........\n",
      "[CV]  max_features=0.5, n_estimators=100, learning_rate=0.05, total=   0.9s\n",
      "[CV] max_features=0.5, n_estimators=100, learning_rate=0.05 ..........\n",
      "[CV]  max_features=0.5, n_estimators=100, learning_rate=0.05, total=   1.7s\n",
      "[CV] max_features=0.5, n_estimators=100, learning_rate=0.05 ..........\n",
      "[CV]  max_features=0.5, n_estimators=100, learning_rate=0.05, total=   2.6s\n",
      "[CV] max_features=0.5, n_estimators=200, learning_rate=0.05 ..........\n",
      "[CV]  max_features=0.5, n_estimators=200, learning_rate=0.05, total=   1.7s\n",
      "[CV] max_features=0.5, n_estimators=200, learning_rate=0.05 ..........\n",
      "[CV]  max_features=0.5, n_estimators=200, learning_rate=0.05, total=   3.3s\n",
      "[CV] max_features=0.5, n_estimators=200, learning_rate=0.05 ..........\n",
      "[CV]  max_features=1.0, n_estimators=500, learning_rate=0.05, total=  24.4s\n",
      "[CV] max_features=0.5, n_estimators=500, learning_rate=0.05 ..........\n",
      "[CV]  max_features=0.5, n_estimators=200, learning_rate=0.05, total=   5.1s\n",
      "[CV] max_features=0.5, n_estimators=500, learning_rate=0.05 ..........\n",
      "[CV]  max_features=0.5, n_estimators=500, learning_rate=0.05, total=   4.1s\n",
      "[CV] max_features=0.5, n_estimators=500, learning_rate=0.05 ..........\n",
      "[CV]  max_features=0.5, n_estimators=500, learning_rate=0.05, total=   8.1s\n",
      "[CV] max_features=0.1, n_estimators=100, learning_rate=0.05 ..........\n",
      "[CV]  max_features=0.1, n_estimators=100, learning_rate=0.05, total=   0.3s\n",
      "[CV] max_features=0.1, n_estimators=100, learning_rate=0.05 ..........\n",
      "[CV]  max_features=0.1, n_estimators=100, learning_rate=0.05, total=   0.5s\n",
      "[CV] max_features=0.1, n_estimators=100, learning_rate=0.05 ..........\n",
      "[CV]  max_features=0.1, n_estimators=100, learning_rate=0.05, total=   0.7s\n",
      "[CV] max_features=0.1, n_estimators=200, learning_rate=0.05 ..........\n",
      "[CV]  max_features=0.1, n_estimators=200, learning_rate=0.05, total=   0.5s\n",
      "[CV] max_features=0.1, n_estimators=200, learning_rate=0.05 ..........\n",
      "[CV]  max_features=0.1, n_estimators=200, learning_rate=0.05, total=   0.9s\n",
      "[CV] max_features=0.1, n_estimators=200, learning_rate=0.05 ..........\n",
      "[CV]  max_features=0.1, n_estimators=200, learning_rate=0.05, total=   1.3s\n",
      "[CV] max_features=0.1, n_estimators=500, learning_rate=0.05 ..........\n",
      "[CV]  max_features=0.1, n_estimators=500, learning_rate=0.05, total=   1.2s\n",
      "[CV] max_features=0.1, n_estimators=500, learning_rate=0.05 ..........\n",
      "[CV]  max_features=0.5, n_estimators=500, learning_rate=0.05, total=  13.0s\n",
      "[CV] max_features=0.1, n_estimators=500, learning_rate=0.05 ..........\n",
      "[CV]  max_features=0.1, n_estimators=500, learning_rate=0.05, total=   2.1s\n",
      "[CV] max_features=1.0, n_estimators=100, learning_rate=0.3 ...........\n",
      "[CV]  max_features=1.0, n_estimators=100, learning_rate=0.3, total=   1.6s\n",
      "[CV] max_features=1.0, n_estimators=100, learning_rate=0.3 ...........\n",
      "[CV]  max_features=0.1, n_estimators=500, learning_rate=0.05, total=   3.1s\n",
      "[CV] max_features=1.0, n_estimators=100, learning_rate=0.3 ...........\n",
      "[CV]  max_features=1.0, n_estimators=100, learning_rate=0.3, total=   3.3s\n",
      "[CV] max_features=1.0, n_estimators=200, learning_rate=0.3 ...........\n",
      "[CV]  max_features=1.0, n_estimators=100, learning_rate=0.3, total=   4.9s\n",
      "[CV] max_features=1.0, n_estimators=200, learning_rate=0.3 ...........\n",
      "[CV]  max_features=1.0, n_estimators=200, learning_rate=0.3, total=   3.1s\n",
      "[CV] max_features=1.0, n_estimators=200, learning_rate=0.3 ...........\n",
      "[CV]  max_features=1.0, n_estimators=200, learning_rate=0.3, total=   6.4s\n",
      "[CV] max_features=1.0, n_estimators=500, learning_rate=0.3 ...........\n",
      "[CV]  max_features=1.0, n_estimators=200, learning_rate=0.3, total=   9.8s\n",
      "[CV] max_features=1.0, n_estimators=500, learning_rate=0.3 ...........\n",
      "[CV]  max_features=1.0, n_estimators=500, learning_rate=0.3, total=   4.7s\n",
      "[CV] max_features=1.0, n_estimators=500, learning_rate=0.3 ...........\n",
      "[CV]  max_features=1.0, n_estimators=500, learning_rate=0.3, total=  15.6s\n",
      "[CV] max_features=0.5, n_estimators=100, learning_rate=0.3 ...........\n",
      "[CV]  max_features=0.5, n_estimators=100, learning_rate=0.3, total=   0.9s\n",
      "[CV] max_features=0.5, n_estimators=100, learning_rate=0.3 ...........\n",
      "[CV]  max_features=0.5, n_estimators=100, learning_rate=0.3, total=   1.7s\n",
      "[CV] max_features=0.5, n_estimators=100, learning_rate=0.3 ...........\n"
     ]
    },
    {
     "name": "stderr",
     "output_type": "stream",
     "text": [
      "[Parallel(n_jobs=2)]: Done  37 tasks      | elapsed:  1.7min\n"
     ]
    },
    {
     "name": "stdout",
     "output_type": "stream",
     "text": [
      "[CV]  max_features=0.5, n_estimators=100, learning_rate=0.3, total=   2.6s\n",
      "[CV] max_features=0.5, n_estimators=200, learning_rate=0.3 ...........\n",
      "[CV]  max_features=0.5, n_estimators=200, learning_rate=0.3, total=   1.6s\n",
      "[CV] max_features=0.5, n_estimators=200, learning_rate=0.3 ...........\n",
      "[CV]  max_features=1.0, n_estimators=500, learning_rate=0.3, total=  24.3s\n",
      "[CV] max_features=0.5, n_estimators=200, learning_rate=0.3 ...........\n",
      "[CV]  max_features=0.5, n_estimators=200, learning_rate=0.3, total=   3.4s\n",
      "[CV] max_features=0.5, n_estimators=500, learning_rate=0.3 ...........\n",
      "[CV]  max_features=0.5, n_estimators=500, learning_rate=0.3, total=   2.6s\n",
      "[CV] max_features=0.5, n_estimators=500, learning_rate=0.3 ...........\n",
      "[CV]  max_features=0.5, n_estimators=200, learning_rate=0.3, total=   5.1s\n",
      "[CV] max_features=0.5, n_estimators=500, learning_rate=0.3 ...........\n",
      "[CV]  max_features=0.5, n_estimators=500, learning_rate=0.3, total=   8.1s\n",
      "[CV] max_features=0.1, n_estimators=100, learning_rate=0.3 ...........\n",
      "[CV]  max_features=0.1, n_estimators=100, learning_rate=0.3, total=   0.3s\n",
      "[CV] max_features=0.1, n_estimators=100, learning_rate=0.3 ...........\n",
      "[CV]  max_features=0.1, n_estimators=100, learning_rate=0.3, total=   0.5s\n",
      "[CV] max_features=0.1, n_estimators=100, learning_rate=0.3 ...........\n",
      "[CV]  max_features=0.1, n_estimators=100, learning_rate=0.3, total=   0.7s\n",
      "[CV] max_features=0.1, n_estimators=200, learning_rate=0.3 ...........\n",
      "[CV]  max_features=0.1, n_estimators=200, learning_rate=0.3, total=   0.5s\n",
      "[CV] max_features=0.1, n_estimators=200, learning_rate=0.3 ...........\n",
      "[CV]  max_features=0.1, n_estimators=200, learning_rate=0.3, total=   0.9s\n",
      "[CV] max_features=0.1, n_estimators=200, learning_rate=0.3 ...........\n",
      "[CV]  max_features=0.1, n_estimators=200, learning_rate=0.3, total=   1.3s\n",
      "[CV] max_features=0.1, n_estimators=500, learning_rate=0.3 ...........\n",
      "[CV]  max_features=0.1, n_estimators=500, learning_rate=0.3, total=   0.9s\n",
      "[CV] max_features=0.1, n_estimators=500, learning_rate=0.3 ...........\n",
      "[CV]  max_features=0.5, n_estimators=500, learning_rate=0.3, total=  12.8s\n",
      "[CV] max_features=0.1, n_estimators=500, learning_rate=0.3 ...........\n",
      "[CV]  max_features=0.1, n_estimators=500, learning_rate=0.3, total=   2.1s\n",
      "[CV] max_features=1.0, n_estimators=100, learning_rate=0.1 ...........\n",
      "[CV]  max_features=1.0, n_estimators=100, learning_rate=0.1, total=   1.6s\n",
      "[CV] max_features=1.0, n_estimators=100, learning_rate=0.1 ...........\n",
      "[CV]  max_features=0.1, n_estimators=500, learning_rate=0.3, total=   3.1s\n",
      "[CV] max_features=1.0, n_estimators=100, learning_rate=0.1 ...........\n",
      "[CV]  max_features=1.0, n_estimators=100, learning_rate=0.1, total=   3.4s\n",
      "[CV] max_features=1.0, n_estimators=200, learning_rate=0.1 ...........\n",
      "[CV]  max_features=1.0, n_estimators=100, learning_rate=0.1, total=   5.1s\n",
      "[CV] max_features=1.0, n_estimators=200, learning_rate=0.1 ...........\n",
      "[CV]  max_features=1.0, n_estimators=200, learning_rate=0.1, total=   3.1s\n",
      "[CV] max_features=1.0, n_estimators=200, learning_rate=0.1 ...........\n",
      "[CV]  max_features=1.0, n_estimators=200, learning_rate=0.1, total=   6.3s\n",
      "[CV] max_features=1.0, n_estimators=500, learning_rate=0.1 ...........\n",
      "[CV]  max_features=1.0, n_estimators=200, learning_rate=0.1, total=   9.8s\n",
      "[CV] max_features=1.0, n_estimators=500, learning_rate=0.1 ...........\n",
      "[CV]  max_features=1.0, n_estimators=500, learning_rate=0.1, total=   7.6s\n",
      "[CV] max_features=1.0, n_estimators=500, learning_rate=0.1 ...........\n",
      "[CV]  max_features=1.0, n_estimators=500, learning_rate=0.1, total=  15.7s\n",
      "[CV] max_features=0.5, n_estimators=100, learning_rate=0.1 ...........\n",
      "[CV]  max_features=0.5, n_estimators=100, learning_rate=0.1, total=   0.9s\n",
      "[CV] max_features=0.5, n_estimators=100, learning_rate=0.1 ...........\n",
      "[CV]  max_features=0.5, n_estimators=100, learning_rate=0.1, total=   1.7s\n",
      "[CV] max_features=0.5, n_estimators=100, learning_rate=0.1 ...........\n",
      "[CV]  max_features=0.5, n_estimators=100, learning_rate=0.1, total=   2.6s\n",
      "[CV] max_features=0.5, n_estimators=200, learning_rate=0.1 ...........\n",
      "[CV]  max_features=0.5, n_estimators=200, learning_rate=0.1, total=   1.6s\n",
      "[CV] max_features=0.5, n_estimators=200, learning_rate=0.1 ...........\n",
      "[CV]  max_features=0.5, n_estimators=200, learning_rate=0.1, total=   3.3s\n",
      "[CV] max_features=0.5, n_estimators=200, learning_rate=0.1 ...........\n",
      "[CV]  max_features=1.0, n_estimators=500, learning_rate=0.1, total=  24.4s\n",
      "[CV] max_features=0.5, n_estimators=500, learning_rate=0.1 ...........\n",
      "[CV]  max_features=0.5, n_estimators=200, learning_rate=0.1, total=   5.2s\n",
      "[CV] max_features=0.5, n_estimators=500, learning_rate=0.1 ...........\n",
      "[CV]  max_features=0.5, n_estimators=500, learning_rate=0.1, total=   4.1s\n",
      "[CV] max_features=0.5, n_estimators=500, learning_rate=0.1 ...........\n",
      "[CV]  max_features=0.5, n_estimators=500, learning_rate=0.1, total=   8.2s\n",
      "[CV] max_features=0.1, n_estimators=100, learning_rate=0.1 ...........\n",
      "[CV]  max_features=0.1, n_estimators=100, learning_rate=0.1, total=   0.3s\n",
      "[CV] max_features=0.1, n_estimators=100, learning_rate=0.1 ...........\n",
      "[CV]  max_features=0.1, n_estimators=100, learning_rate=0.1, total=   0.5s\n",
      "[CV] max_features=0.1, n_estimators=100, learning_rate=0.1 ...........\n",
      "[CV]  max_features=0.1, n_estimators=100, learning_rate=0.1, total=   0.7s\n",
      "[CV] max_features=0.1, n_estimators=200, learning_rate=0.1 ...........\n",
      "[CV]  max_features=0.1, n_estimators=200, learning_rate=0.1, total=   0.5s\n",
      "[CV] max_features=0.1, n_estimators=200, learning_rate=0.1 ...........\n",
      "[CV]  max_features=0.1, n_estimators=200, learning_rate=0.1, total=   0.9s\n",
      "[CV] max_features=0.1, n_estimators=200, learning_rate=0.1 ...........\n",
      "[CV]  max_features=0.1, n_estimators=200, learning_rate=0.1, total=   1.3s\n",
      "[CV] max_features=0.1, n_estimators=500, learning_rate=0.1 ...........\n",
      "[CV]  max_features=0.5, n_estimators=500, learning_rate=0.1, total=  13.0s\n",
      "[CV] max_features=0.1, n_estimators=500, learning_rate=0.1 ...........\n",
      "[CV]  max_features=0.1, n_estimators=500, learning_rate=0.1, total=   1.2s\n",
      "[CV] max_features=0.1, n_estimators=500, learning_rate=0.1 ...........\n",
      "[CV]  max_features=0.1, n_estimators=500, learning_rate=0.1, total=   2.2s\n",
      "[CV]  max_features=0.1, n_estimators=500, learning_rate=0.1, total=   2.9s\n"
     ]
    },
    {
     "name": "stderr",
     "output_type": "stream",
     "text": [
      "[Parallel(n_jobs=2)]: Done  81 out of  81 | elapsed:  3.2min finished\n"
     ]
    },
    {
     "data": {
      "text/plain": [
       "GridSearchCV(cv=TimeSeriesSplit(n_splits=3), error_score='raise',\n",
       "       estimator=GradientBoostingClassifier(criterion='friedman_mse', init=None,\n",
       "              learning_rate=0.1, loss='deviance', max_depth=3,\n",
       "              max_features=None, max_leaf_nodes=None,\n",
       "              min_impurity_split=1e-07, min_samples_leaf=1,\n",
       "              min_samples_split=2, min_weight_fraction_leaf=0.0,\n",
       "              n_estimators=100, presort='auto', random_state=None,\n",
       "              subsample=1.0, verbose=0, warm_start=False),\n",
       "       fit_params={}, iid=True, n_jobs=2,\n",
       "       param_grid={'max_features': [1.0, 0.5, 0.1], 'n_estimators': [100, 200, 500], 'learning_rate': [0.05, 0.3, 0.1]},\n",
       "       pre_dispatch='2*n_jobs', refit=True, return_train_score=True,\n",
       "       scoring=None, verbose=2)"
      ]
     },
     "execution_count": 121,
     "metadata": {},
     "output_type": "execute_result"
    }
   ],
   "source": [
    "# parameters to tune\n",
    "param_grid = {\"learning_rate\" : [0.05, 0.3, 0.1],\n",
    "#               \"max_depth\" :   [4,6,None],\n",
    "#               \"min_samples_leaf\": [3, 9, 17],\n",
    "              \"max_features\": [1.0, 0.5, 0.1],\n",
    "              \"n_estimators\": [100, 200, 500]\n",
    "              \n",
    "             }\n",
    "gb = GradientBoostingClassifier()\n",
    "# run grid search\n",
    "grid_search_gb = GridSearchCV(gb, param_grid=param_grid, verbose=2, cv=cv, n_jobs=2)\n",
    "grid_search_gb.fit(X_train, y_train)"
   ]
  },
  {
   "cell_type": "code",
   "execution_count": 122,
   "metadata": {},
   "outputs": [
    {
     "name": "stdout",
     "output_type": "stream",
     "text": [
      "Best model:\n",
      "GradientBoostingClassifier(criterion='friedman_mse', init=None,\n",
      "              learning_rate=0.1, loss='deviance', max_depth=3,\n",
      "              max_features=0.5, max_leaf_nodes=None,\n",
      "              min_impurity_split=1e-07, min_samples_leaf=1,\n",
      "              min_samples_split=2, min_weight_fraction_leaf=0.0,\n",
      "              n_estimators=100, presort='auto', random_state=None,\n",
      "              subsample=1.0, verbose=0, warm_start=False)\n"
     ]
    }
   ],
   "source": [
    "# best model estimator\n",
    "gb_best_model = grid_search_gb.best_estimator_\n",
    "print \"Best model:\\n\", gb_best_model"
   ]
  },
  {
   "cell_type": "code",
   "execution_count": 123,
   "metadata": {},
   "outputs": [
    {
     "name": "stdout",
     "output_type": "stream",
     "text": [
      "Best parameters:\n",
      "{'max_features': 0.5, 'n_estimators': 100, 'learning_rate': 0.1}\n"
     ]
    }
   ],
   "source": [
    "# best tuned parameters\n",
    "gb_best_parameters = grid_search_gb.best_params_\n",
    "print \"Best parameters:\\n\", gb_best_parameters"
   ]
  },
  {
   "cell_type": "code",
   "execution_count": 124,
   "metadata": {
    "scrolled": true
   },
   "outputs": [
    {
     "name": "stdout",
     "output_type": "stream",
     "text": [
      "Baseline score:\t0.521\n",
      "Best score:\t0.506\n",
      "Precision score: 0.53\n",
      "Recall score:  0.48\n"
     ]
    }
   ],
   "source": [
    "# best score\n",
    "gb_best_score = gb_best_model.score(X_test, y_test)\n",
    "# model predictions\n",
    "gb_pred = gb_best_model.predict(X_test)\n",
    "gb_precision = precision_score(y_test, gb_pred)\n",
    "gb_recall = recall_score(y_test, gb_pred)\n",
    "print \"Baseline score:\\t{:.3f}\".format(1 - y.mean())\n",
    "print \"Best score:\\t{:.3f}\".format(gb_best_score)\n",
    "print \"Precision score:{: .2f}\".format(gb_precision)\n",
    "print \"Recall score: {: .2f}\".format(gb_recall)"
   ]
  },
  {
   "cell_type": "code",
   "execution_count": 230,
   "metadata": {
    "collapsed": true
   },
   "outputs": [],
   "source": [
    "gb_feature_importances = pd.DataFrame(gb_best_model.feature_importances_,\n",
    "                                   index = data.iloc[:train_set, :-2].columns,\n",
    "                                    columns=['importance'])\n",
    "top_10 = gb_feature_importances.sort_values(by='importance', ascending=True).tail(10)"
   ]
  },
  {
   "cell_type": "code",
   "execution_count": 231,
   "metadata": {},
   "outputs": [
    {
     "data": {
      "text/html": [
       "<div>\n",
       "<style>\n",
       "    .dataframe thead tr:only-child th {\n",
       "        text-align: right;\n",
       "    }\n",
       "\n",
       "    .dataframe thead th {\n",
       "        text-align: left;\n",
       "    }\n",
       "\n",
       "    .dataframe tbody tr th {\n",
       "        vertical-align: top;\n",
       "    }\n",
       "</style>\n",
       "<table border=\"1\" class=\"dataframe\">\n",
       "  <thead>\n",
       "    <tr style=\"text-align: right;\">\n",
       "      <th></th>\n",
       "      <th>importance</th>\n",
       "    </tr>\n",
       "  </thead>\n",
       "  <tbody>\n",
       "    <tr>\n",
       "      <th>SONIA_one_change</th>\n",
       "      <td>0.025975</td>\n",
       "    </tr>\n",
       "    <tr>\n",
       "      <th>aus10_yield_one_change_5d_std</th>\n",
       "      <td>0.012835</td>\n",
       "    </tr>\n",
       "    <tr>\n",
       "      <th>CAD/USD_one_change_5d_std</th>\n",
       "      <td>0.012011</td>\n",
       "    </tr>\n",
       "    <tr>\n",
       "      <th>dollar_one_change</th>\n",
       "      <td>0.011663</td>\n",
       "    </tr>\n",
       "    <tr>\n",
       "      <th>UKEERI_one_change</th>\n",
       "      <td>0.011165</td>\n",
       "    </tr>\n",
       "    <tr>\n",
       "      <th>eu10_yield_one_change_5d_min</th>\n",
       "      <td>0.011084</td>\n",
       "    </tr>\n",
       "    <tr>\n",
       "      <th>ita10_yield_five_change</th>\n",
       "      <td>0.010298</td>\n",
       "    </tr>\n",
       "    <tr>\n",
       "      <th>JapEERI_five_change</th>\n",
       "      <td>0.009941</td>\n",
       "    </tr>\n",
       "    <tr>\n",
       "      <th>chf_gold_one_change_5d_max</th>\n",
       "      <td>0.009906</td>\n",
       "    </tr>\n",
       "    <tr>\n",
       "      <th>SDK/USD_one_change</th>\n",
       "      <td>0.009731</td>\n",
       "    </tr>\n",
       "  </tbody>\n",
       "</table>\n",
       "</div>"
      ],
      "text/plain": [
       "                               importance\n",
       "SONIA_one_change                 0.025975\n",
       "aus10_yield_one_change_5d_std    0.012835\n",
       "CAD/USD_one_change_5d_std        0.012011\n",
       "dollar_one_change                0.011663\n",
       "UKEERI_one_change                0.011165\n",
       "eu10_yield_one_change_5d_min     0.011084\n",
       "ita10_yield_five_change          0.010298\n",
       "JapEERI_five_change              0.009941\n",
       "chf_gold_one_change_5d_max       0.009906\n",
       "SDK/USD_one_change               0.009731"
      ]
     },
     "execution_count": 231,
     "metadata": {},
     "output_type": "execute_result"
    }
   ],
   "source": [
    "top_10.sort_values(by='importance', ascending=False)"
   ]
  },
  {
   "cell_type": "code",
   "execution_count": 232,
   "metadata": {},
   "outputs": [
    {
     "data": {
      "image/png": "[encoded data removed]",
      "text/plain": [
       "<matplotlib.figure.Figure at 0x112963250>"
      ]
     },
     "metadata": {},
     "output_type": "display_data"
    }
   ],
   "source": [
    "top_10.plot(kind = \"barh\", figsize=(10,6), fontsize=14)\n",
    "plt.title(\"Top 10 important features in GradientBoostingClassifier Model\", fontsize=14)\n",
    "plt.show()"
   ]
  },
  {
   "cell_type": "markdown",
   "metadata": {},
   "source": [
    "### ExtraTreeClassifier"
   ]
  },
  {
   "cell_type": "code",
   "execution_count": 140,
   "metadata": {
    "scrolled": true
   },
   "outputs": [
    {
     "name": "stdout",
     "output_type": "stream",
     "text": [
      "Fitting 5 folds for each of 288 candidates, totalling 1440 fits\n",
      "[CV] max_features=0.1, splitter=random, criterion=gini, max_depth=None, min_samples_leaf=1 \n",
      "[CV] max_features=0.1, splitter=random, criterion=gini, max_depth=None, min_samples_leaf=1 \n",
      "[CV]  max_features=0.1, splitter=random, criterion=gini, max_depth=None, min_samples_leaf=1, total=   0.0s\n",
      "[CV] max_features=0.1, splitter=random, criterion=gini, max_depth=None, min_samples_leaf=1 \n",
      "[CV]  max_features=0.1, splitter=random, criterion=gini, max_depth=None, min_samples_leaf=1, total=   0.0s\n",
      "[CV] max_features=0.1, splitter=random, criterion=gini, max_depth=None, min_samples_leaf=1 \n",
      "[CV]  max_features=0.1, splitter=random, criterion=gini, max_depth=None, min_samples_leaf=1, total=   0.0s\n",
      "[CV] max_features=0.1, splitter=random, criterion=gini, max_depth=None, min_samples_leaf=1 \n",
      "[CV]  max_features=0.1, splitter=random, criterion=gini, max_depth=None, min_samples_leaf=1, total=   0.0s\n",
      "[CV] max_features=0.1, splitter=best, criterion=gini, max_depth=None, min_samples_leaf=1 \n",
      "[CV]  max_features=0.1, splitter=random, criterion=gini, max_depth=None, min_samples_leaf=1, total=   0.0s\n",
      "[CV] max_features=0.1, splitter=best, criterion=gini, max_depth=None, min_samples_leaf=1 \n",
      "[CV]  max_features=0.1, splitter=best, criterion=gini, max_depth=None, min_samples_leaf=1, total=   0.0s\n",
      "[CV] max_features=0.1, splitter=best, criterion=gini, max_depth=None, min_samples_leaf=1 \n",
      "[CV]  max_features=0.1, splitter=best, criterion=gini, max_depth=None, min_samples_leaf=1, total=   0.0s\n",
      "[CV] max_features=0.1, splitter=best, criterion=gini, max_depth=None, min_samples_leaf=1 \n",
      "[CV]  max_features=0.1, splitter=best, criterion=gini, max_depth=None, min_samples_leaf=1, total=   0.1s\n",
      "[CV] max_features=0.1, splitter=random, criterion=gini, max_depth=None, min_samples_leaf=2 \n",
      "[CV]  max_features=0.1, splitter=random, criterion=gini, max_depth=None, min_samples_leaf=2, total=   0.0s\n",
      "[CV] max_features=0.1, splitter=random, criterion=gini, max_depth=None, min_samples_leaf=2 \n",
      "[CV]  max_features=0.1, splitter=random, criterion=gini, max_depth=None, min_samples_leaf=2, total=   0.0s\n",
      "[CV] max_features=0.1, splitter=random, criterion=gini, max_depth=None, min_samples_leaf=2 \n",
      "[CV]  max_features=0.1, splitter=best, criterion=gini, max_depth=None, min_samples_leaf=1, total=   0.1s\n",
      "[CV] max_features=0.1, splitter=best, criterion=gini, max_depth=None, min_samples_leaf=1 \n",
      "[CV]  max_features=0.1, splitter=random, criterion=gini, max_depth=None, min_samples_leaf=2, total=   0.0s\n",
      "[CV] max_features=0.1, splitter=random, criterion=gini, max_depth=None, min_samples_leaf=2 \n",
      "[CV]  max_features=0.1, splitter=random, criterion=gini, max_depth=None, min_samples_leaf=2, total=   0.0s\n",
      "[CV] max_features=0.1, splitter=random, criterion=gini, max_depth=None, min_samples_leaf=2 \n",
      "[CV]  max_features=0.1, splitter=random, criterion=gini, max_depth=None, min_samples_leaf=2, total=   0.0s\n",
      "[CV] max_features=0.1, splitter=best, criterion=gini, max_depth=None, min_samples_leaf=2 \n",
      "[CV]  max_features=0.1, splitter=best, criterion=gini, max_depth=None, min_samples_leaf=1, total=   0.1s\n",
      "[CV] max_features=0.1, splitter=best, criterion=gini, max_depth=None, min_samples_leaf=2 \n",
      "[CV]  max_features=0.1, splitter=best, criterion=gini, max_depth=None, min_samples_leaf=2, total=   0.0s\n",
      "[CV] max_features=0.1, splitter=random, criterion=gini, max_depth=None, min_samples_leaf=3 \n",
      "[CV]  max_features=0.1, splitter=random, criterion=gini, max_depth=None, min_samples_leaf=3, total=   0.0s\n",
      "[CV] max_features=0.1, splitter=random, criterion=gini, max_depth=None, min_samples_leaf=3 \n",
      "[CV]  max_features=0.1, splitter=best, criterion=gini, max_depth=None, min_samples_leaf=2, total=   0.0s\n",
      "[CV] max_features=0.1, splitter=best, criterion=gini, max_depth=None, min_samples_leaf=2 \n",
      "[CV]  max_features=0.1, splitter=random, criterion=gini, max_depth=None, min_samples_leaf=3, total=   0.0s\n",
      "[CV] max_features=0.1, splitter=random, criterion=gini, max_depth=None, min_samples_leaf=3 \n",
      "[CV]  max_features=0.1, splitter=random, criterion=gini, max_depth=None, min_samples_leaf=3, total=   0.0s\n",
      "[CV] max_features=0.1, splitter=random, criterion=gini, max_depth=None, min_samples_leaf=3 \n",
      "[CV]  max_features=0.1, splitter=best, criterion=gini, max_depth=None, min_samples_leaf=2, total=   0.1s\n",
      "[CV]  max_features=0.1, splitter=random, criterion=gini, max_depth=None, min_samples_leaf=3, total=   0.0s\n",
      "[CV] max_features=0.1, splitter=best, criterion=gini, max_depth=None, min_samples_leaf=2 \n",
      "[CV] max_features=0.1, splitter=random, criterion=gini, max_depth=None, min_samples_leaf=3 \n",
      "[CV]  max_features=0.1, splitter=random, criterion=gini, max_depth=None, min_samples_leaf=3, total=   0.0s\n",
      "[CV] max_features=0.1, splitter=best, criterion=gini, max_depth=None, min_samples_leaf=3 \n",
      "[CV]  max_features=0.1, splitter=best, criterion=gini, max_depth=None, min_samples_leaf=3, total=   0.0s\n",
      "[CV] max_features=0.1, splitter=best, criterion=gini, max_depth=None, min_samples_leaf=3 \n",
      "[CV]  max_features=0.1, splitter=best, criterion=gini, max_depth=None, min_samples_leaf=2, total=   0.1s\n",
      "[CV] max_features=0.1, splitter=best, criterion=gini, max_depth=None, min_samples_leaf=2 \n",
      "[CV]  max_features=0.1, splitter=best, criterion=gini, max_depth=None, min_samples_leaf=3, total=   0.0s\n",
      "[CV] max_features=0.1, splitter=best, criterion=gini, max_depth=None, min_samples_leaf=3 \n",
      "[CV]  max_features=0.1, splitter=best, criterion=gini, max_depth=None, min_samples_leaf=3, total=   0.1s\n",
      "[CV] max_features=0.1, splitter=best, criterion=gini, max_depth=None, min_samples_leaf=3 \n",
      "[CV]  max_features=0.1, splitter=best, criterion=gini, max_depth=None, min_samples_leaf=2, total=   0.1s\n",
      "[CV] max_features=0.1, splitter=random, criterion=gini, max_depth=None, min_samples_leaf=4 \n",
      "[CV]  max_features=0.1, splitter=random, criterion=gini, max_depth=None, min_samples_leaf=4, total=   0.0s\n",
      "[CV] max_features=0.1, splitter=random, criterion=gini, max_depth=None, min_samples_leaf=4 \n",
      "[CV]  max_features=0.1, splitter=best, criterion=gini, max_depth=None, min_samples_leaf=3, total=   0.1s\n",
      "[CV] max_features=0.1, splitter=best, criterion=gini, max_depth=None, min_samples_leaf=3 \n",
      "[CV]  max_features=0.1, splitter=random, criterion=gini, max_depth=None, min_samples_leaf=4, total=   0.0s\n",
      "[CV] max_features=0.1, splitter=random, criterion=gini, max_depth=None, min_samples_leaf=4 \n",
      "[CV]  max_features=0.1, splitter=random, criterion=gini, max_depth=None, min_samples_leaf=4, total=   0.0s\n",
      "[CV] max_features=0.1, splitter=best, criterion=gini, max_depth=None, min_samples_leaf=4 \n",
      "[CV]  max_features=0.1, splitter=best, criterion=gini, max_depth=None, min_samples_leaf=4, total=   0.0s\n",
      "[CV] max_features=0.1, splitter=best, criterion=gini, max_depth=None, min_samples_leaf=4 \n",
      "[CV]  max_features=0.1, splitter=best, criterion=gini, max_depth=None, min_samples_leaf=3, total=   0.1s\n",
      "[CV] max_features=0.1, splitter=random, criterion=gini, max_depth=None, min_samples_leaf=4 \n",
      "[CV]  max_features=0.1, splitter=best, criterion=gini, max_depth=None, min_samples_leaf=4, total=   0.0s\n",
      "[CV]  max_features=0.1, splitter=random, criterion=gini, max_depth=None, min_samples_leaf=4, total=   0.0s\n",
      "[CV] max_features=0.1, splitter=random, criterion=gini, max_depth=None, min_samples_leaf=4 \n",
      "[CV] max_features=0.1, splitter=best, criterion=gini, max_depth=None, min_samples_leaf=4 \n",
      "[CV]  max_features=0.1, splitter=random, criterion=gini, max_depth=None, min_samples_leaf=4, total=   0.0s\n",
      "[CV] max_features=0.5, splitter=random, criterion=gini, max_depth=None, min_samples_leaf=1 \n",
      "[CV]  max_features=0.5, splitter=random, criterion=gini, max_depth=None, min_samples_leaf=1, total=   0.0s\n",
      "[CV] max_features=0.5, splitter=random, criterion=gini, max_depth=None, min_samples_leaf=1 \n",
      "[CV]  max_features=0.1, splitter=best, criterion=gini, max_depth=None, min_samples_leaf=4, total=   0.1s\n",
      "[CV] max_features=0.1, splitter=best, criterion=gini, max_depth=None, min_samples_leaf=4 \n",
      "[CV]  max_features=0.5, splitter=random, criterion=gini, max_depth=None, min_samples_leaf=1, total=   0.0s\n",
      "[CV] max_features=0.5, splitter=random, criterion=gini, max_depth=None, min_samples_leaf=1 \n",
      "[CV]  max_features=0.5, splitter=random, criterion=gini, max_depth=None, min_samples_leaf=1, total=   0.0s\n"
     ]
    },
    {
     "name": "stdout",
     "output_type": "stream",
     "text": [
      "[CV] max_features=0.5, splitter=random, criterion=gini, max_depth=None, min_samples_leaf=1 \n",
      "[CV]  max_features=0.1, splitter=best, criterion=gini, max_depth=None, min_samples_leaf=4, total=   0.1s\n",
      "[CV] max_features=0.1, splitter=best, criterion=gini, max_depth=None, min_samples_leaf=4 \n",
      "[CV]  max_features=0.5, splitter=random, criterion=gini, max_depth=None, min_samples_leaf=1, total=   0.1s\n",
      "[CV] max_features=0.5, splitter=random, criterion=gini, max_depth=None, min_samples_leaf=1 \n",
      "[CV]  max_features=0.1, splitter=best, criterion=gini, max_depth=None, min_samples_leaf=4, total=   0.1s\n",
      "[CV] max_features=0.5, splitter=best, criterion=gini, max_depth=None, min_samples_leaf=1 \n",
      "[CV]  max_features=0.5, splitter=random, criterion=gini, max_depth=None, min_samples_leaf=1, total=   0.1s\n",
      "[CV] max_features=0.5, splitter=best, criterion=gini, max_depth=None, min_samples_leaf=1 \n",
      "[CV]  max_features=0.5, splitter=best, criterion=gini, max_depth=None, min_samples_leaf=1, total=   0.0s\n",
      "[CV] max_features=0.5, splitter=best, criterion=gini, max_depth=None, min_samples_leaf=1 \n",
      "[CV]  max_features=0.5, splitter=best, criterion=gini, max_depth=None, min_samples_leaf=1, total=   0.1s\n",
      "[CV] max_features=0.5, splitter=best, criterion=gini, max_depth=None, min_samples_leaf=1 \n",
      "[CV]  max_features=0.5, splitter=best, criterion=gini, max_depth=None, min_samples_leaf=1, total=   0.3s\n",
      "[CV] max_features=0.5, splitter=best, criterion=gini, max_depth=None, min_samples_leaf=1 \n",
      "[CV]  max_features=0.5, splitter=best, criterion=gini, max_depth=None, min_samples_leaf=1, total=   0.2s\n",
      "[CV] max_features=0.5, splitter=random, criterion=gini, max_depth=None, min_samples_leaf=2 \n",
      "[CV]  max_features=0.5, splitter=random, criterion=gini, max_depth=None, min_samples_leaf=2, total=   0.0s\n",
      "[CV] max_features=0.5, splitter=random, criterion=gini, max_depth=None, min_samples_leaf=2 \n",
      "[CV]  max_features=0.5, splitter=random, criterion=gini, max_depth=None, min_samples_leaf=2, total=   0.1s\n",
      "[CV] max_features=0.5, splitter=random, criterion=gini, max_depth=None, min_samples_leaf=2 \n",
      "[CV]  max_features=0.5, splitter=random, criterion=gini, max_depth=None, min_samples_leaf=2, total=   0.1s\n",
      "[CV] max_features=0.5, splitter=best, criterion=gini, max_depth=None, min_samples_leaf=2 \n",
      "[CV]  max_features=0.5, splitter=best, criterion=gini, max_depth=None, min_samples_leaf=2, total=   0.0s\n",
      "[CV]  max_features=0.5, splitter=best, criterion=gini, max_depth=None, min_samples_leaf=1, total=   0.4s\n",
      "[CV] max_features=0.5, splitter=random, criterion=gini, max_depth=None, min_samples_leaf=2 \n",
      "[CV] max_features=0.5, splitter=best, criterion=gini, max_depth=None, min_samples_leaf=2 \n",
      "[CV]  max_features=0.5, splitter=random, criterion=gini, max_depth=None, min_samples_leaf=2, total=   0.0s\n",
      "[CV] max_features=0.5, splitter=random, criterion=gini, max_depth=None, min_samples_leaf=2 \n",
      "[CV]  max_features=0.5, splitter=random, criterion=gini, max_depth=None, min_samples_leaf=2, total=   0.0s\n",
      "[CV] max_features=0.5, splitter=random, criterion=gini, max_depth=None, min_samples_leaf=3 \n",
      "[CV]  max_features=0.5, splitter=random, criterion=gini, max_depth=None, min_samples_leaf=3, total=   0.0s\n",
      "[CV] max_features=0.5, splitter=random, criterion=gini, max_depth=None, min_samples_leaf=3 \n",
      "[CV]  max_features=0.5, splitter=random, criterion=gini, max_depth=None, min_samples_leaf=3, total=   0.0s\n",
      "[CV] max_features=0.5, splitter=random, criterion=gini, max_depth=None, min_samples_leaf=3 \n",
      "[CV]  max_features=0.5, splitter=best, criterion=gini, max_depth=None, min_samples_leaf=2, total=   0.1s\n",
      "[CV] max_features=0.5, splitter=best, criterion=gini, max_depth=None, min_samples_leaf=2 \n",
      "[CV]  max_features=0.5, splitter=random, criterion=gini, max_depth=None, min_samples_leaf=3, total=   0.0s\n",
      "[CV] max_features=0.5, splitter=random, criterion=gini, max_depth=None, min_samples_leaf=3 \n",
      "[CV]  max_features=0.5, splitter=random, criterion=gini, max_depth=None, min_samples_leaf=3, total=   0.1s\n",
      "[CV] max_features=0.5, splitter=random, criterion=gini, max_depth=None, min_samples_leaf=3 \n",
      "[CV]  max_features=0.5, splitter=random, criterion=gini, max_depth=None, min_samples_leaf=3, total=   0.1s\n",
      "[CV] max_features=0.5, splitter=best, criterion=gini, max_depth=None, min_samples_leaf=3 \n",
      "[CV]  max_features=0.5, splitter=best, criterion=gini, max_depth=None, min_samples_leaf=2, total=   0.2s\n",
      "[CV]  max_features=0.5, splitter=best, criterion=gini, max_depth=None, min_samples_leaf=3, total=   0.1s\n",
      "[CV] max_features=0.5, splitter=best, criterion=gini, max_depth=None, min_samples_leaf=3 \n",
      "[CV] max_features=0.5, splitter=best, criterion=gini, max_depth=None, min_samples_leaf=2 \n",
      "[CV]  max_features=0.5, splitter=best, criterion=gini, max_depth=None, min_samples_leaf=3, total=   0.1s\n",
      "[CV] max_features=0.5, splitter=best, criterion=gini, max_depth=None, min_samples_leaf=3 \n",
      "[CV]  max_features=0.5, splitter=best, criterion=gini, max_depth=None, min_samples_leaf=2, total=   0.3s\n",
      "[CV] max_features=0.5, splitter=best, criterion=gini, max_depth=None, min_samples_leaf=2 \n",
      "[CV]  max_features=0.5, splitter=best, criterion=gini, max_depth=None, min_samples_leaf=3, total=   0.2s\n",
      "[CV] max_features=0.5, splitter=best, criterion=gini, max_depth=None, min_samples_leaf=3 \n",
      "[CV]  max_features=0.5, splitter=best, criterion=gini, max_depth=None, min_samples_leaf=3, total=   0.3s\n",
      "[CV] max_features=0.5, splitter=best, criterion=gini, max_depth=None, min_samples_leaf=3 \n",
      "[CV]  max_features=0.5, splitter=best, criterion=gini, max_depth=None, min_samples_leaf=2, total=   0.4s\n",
      "[CV] max_features=0.5, splitter=random, criterion=gini, max_depth=None, min_samples_leaf=4 \n",
      "[CV]  max_features=0.5, splitter=random, criterion=gini, max_depth=None, min_samples_leaf=4, total=   0.0s\n",
      "[CV] max_features=0.5, splitter=random, criterion=gini, max_depth=None, min_samples_leaf=4 \n",
      "[CV]  max_features=0.5, splitter=random, criterion=gini, max_depth=None, min_samples_leaf=4, total=   0.0s\n",
      "[CV] max_features=0.5, splitter=random, criterion=gini, max_depth=None, min_samples_leaf=4 \n",
      "[CV]  max_features=0.5, splitter=random, criterion=gini, max_depth=None, min_samples_leaf=4, total=   0.1s\n",
      "[CV] max_features=0.5, splitter=best, criterion=gini, max_depth=None, min_samples_leaf=4 \n",
      "[CV]  max_features=0.5, splitter=best, criterion=gini, max_depth=None, min_samples_leaf=4, total=   0.0s\n",
      "[CV] max_features=0.5, splitter=best, criterion=gini, max_depth=None, min_samples_leaf=4 \n",
      "[CV]  max_features=0.5, splitter=best, criterion=gini, max_depth=None, min_samples_leaf=3, total=   0.4s\n",
      "[CV] max_features=0.5, splitter=random, criterion=gini, max_depth=None, min_samples_leaf=4 \n",
      "[CV]  max_features=0.5, splitter=best, criterion=gini, max_depth=None, min_samples_leaf=4, total=   0.1s\n",
      "[CV] max_features=0.5, splitter=best, criterion=gini, max_depth=None, min_samples_leaf=4 \n",
      "[CV]  max_features=0.5, splitter=random, criterion=gini, max_depth=None, min_samples_leaf=4, total=   0.0s\n",
      "[CV] max_features=0.5, splitter=random, criterion=gini, max_depth=None, min_samples_leaf=4 \n",
      "[CV]  max_features=0.5, splitter=random, criterion=gini, max_depth=None, min_samples_leaf=4, total=   0.0s\n",
      "[CV] max_features=0.7, splitter=random, criterion=gini, max_depth=None, min_samples_leaf=1 \n",
      "[CV]  max_features=0.7, splitter=random, criterion=gini, max_depth=None, min_samples_leaf=1, total=   0.0s\n",
      "[CV] max_features=0.7, splitter=random, criterion=gini, max_depth=None, min_samples_leaf=1 \n",
      "[CV]  max_features=0.7, splitter=random, criterion=gini, max_depth=None, min_samples_leaf=1, total=   0.0s\n",
      "[CV] max_features=0.7, splitter=random, criterion=gini, max_depth=None, min_samples_leaf=1 \n",
      "[CV]  max_features=0.7, splitter=random, criterion=gini, max_depth=None, min_samples_leaf=1, total=   0.0s\n",
      "[CV] max_features=0.7, splitter=random, criterion=gini, max_depth=None, min_samples_leaf=1 \n",
      "[CV]  max_features=0.5, splitter=best, criterion=gini, max_depth=None, min_samples_leaf=4, total=   0.2s\n",
      "[CV] max_features=0.5, splitter=best, criterion=gini, max_depth=None, min_samples_leaf=4 \n",
      "[CV]  max_features=0.7, splitter=random, criterion=gini, max_depth=None, min_samples_leaf=1, total=   0.1s\n",
      "[CV] max_features=0.7, splitter=random, criterion=gini, max_depth=None, min_samples_leaf=1 \n",
      "[CV]  max_features=0.7, splitter=random, criterion=gini, max_depth=None, min_samples_leaf=1, total=   0.1s\n"
     ]
    },
    {
     "name": "stdout",
     "output_type": "stream",
     "text": [
      "[CV] max_features=0.7, splitter=best, criterion=gini, max_depth=None, min_samples_leaf=1 \n",
      "[CV]  max_features=0.7, splitter=best, criterion=gini, max_depth=None, min_samples_leaf=1, total=   0.1s\n",
      "[CV] max_features=0.7, splitter=best, criterion=gini, max_depth=None, min_samples_leaf=1 \n",
      "[CV]  max_features=0.5, splitter=best, criterion=gini, max_depth=None, min_samples_leaf=4, total=   0.3s\n",
      "[CV] max_features=0.5, splitter=best, criterion=gini, max_depth=None, min_samples_leaf=4 \n",
      "[CV]  max_features=0.7, splitter=best, criterion=gini, max_depth=None, min_samples_leaf=1, total=   0.2s\n",
      "[CV] max_features=0.7, splitter=best, criterion=gini, max_depth=None, min_samples_leaf=1 \n",
      "[CV]  max_features=0.5, splitter=best, criterion=gini, max_depth=None, min_samples_leaf=4, total=   0.3s\n",
      "[CV] max_features=0.7, splitter=best, criterion=gini, max_depth=None, min_samples_leaf=1 \n",
      "[CV]  max_features=0.7, splitter=best, criterion=gini, max_depth=None, min_samples_leaf=1, total=   0.3s\n",
      "[CV] max_features=0.7, splitter=random, criterion=gini, max_depth=None, min_samples_leaf=2 \n",
      "[CV]  max_features=0.7, splitter=random, criterion=gini, max_depth=None, min_samples_leaf=2, total=   0.1s\n",
      "[CV] max_features=0.7, splitter=random, criterion=gini, max_depth=None, min_samples_leaf=2 \n",
      "[CV]  max_features=0.7, splitter=random, criterion=gini, max_depth=None, min_samples_leaf=2, total=   0.1s\n",
      "[CV] max_features=0.7, splitter=random, criterion=gini, max_depth=None, min_samples_leaf=2 \n",
      "[CV]  max_features=0.7, splitter=random, criterion=gini, max_depth=None, min_samples_leaf=2, total=   0.1s\n",
      "[CV] max_features=0.7, splitter=best, criterion=gini, max_depth=None, min_samples_leaf=2 \n",
      "[CV]  max_features=0.7, splitter=best, criterion=gini, max_depth=None, min_samples_leaf=1, total=   0.4s\n",
      "[CV] max_features=0.7, splitter=best, criterion=gini, max_depth=None, min_samples_leaf=1 \n",
      "[CV]  max_features=0.7, splitter=best, criterion=gini, max_depth=None, min_samples_leaf=2, total=   0.1s\n",
      "[CV] max_features=0.7, splitter=best, criterion=gini, max_depth=None, min_samples_leaf=2 \n",
      "[CV]  max_features=0.7, splitter=best, criterion=gini, max_depth=None, min_samples_leaf=2, total=   0.1s\n",
      "[CV] max_features=0.7, splitter=best, criterion=gini, max_depth=None, min_samples_leaf=2 \n",
      "[CV]  max_features=0.7, splitter=best, criterion=gini, max_depth=None, min_samples_leaf=2, total=   0.2s\n",
      "[CV] max_features=0.7, splitter=best, criterion=gini, max_depth=None, min_samples_leaf=2 \n",
      "[CV]  max_features=0.7, splitter=best, criterion=gini, max_depth=None, min_samples_leaf=1, total=   0.4s\n",
      "[CV] max_features=0.7, splitter=random, criterion=gini, max_depth=None, min_samples_leaf=2 \n",
      "[CV]  max_features=0.7, splitter=random, criterion=gini, max_depth=None, min_samples_leaf=2, total=   0.0s\n",
      "[CV] max_features=0.7, splitter=random, criterion=gini, max_depth=None, min_samples_leaf=2 \n",
      "[CV]  max_features=0.7, splitter=random, criterion=gini, max_depth=None, min_samples_leaf=2, total=   0.0s\n",
      "[CV] max_features=0.7, splitter=random, criterion=gini, max_depth=None, min_samples_leaf=3 \n",
      "[CV]  max_features=0.7, splitter=random, criterion=gini, max_depth=None, min_samples_leaf=3, total=   0.0s\n",
      "[CV] max_features=0.7, splitter=random, criterion=gini, max_depth=None, min_samples_leaf=3 \n",
      "[CV]  max_features=0.7, splitter=random, criterion=gini, max_depth=None, min_samples_leaf=3, total=   0.0s\n",
      "[CV] max_features=0.7, splitter=random, criterion=gini, max_depth=None, min_samples_leaf=3 \n",
      "[CV]  max_features=0.7, splitter=random, criterion=gini, max_depth=None, min_samples_leaf=3, total=   0.0s\n",
      "[CV] max_features=0.7, splitter=random, criterion=gini, max_depth=None, min_samples_leaf=3 \n",
      "[CV]  max_features=0.7, splitter=random, criterion=gini, max_depth=None, min_samples_leaf=3, total=   0.1s\n",
      "[CV] max_features=0.7, splitter=random, criterion=gini, max_depth=None, min_samples_leaf=3 \n",
      "[CV]  max_features=0.7, splitter=random, criterion=gini, max_depth=None, min_samples_leaf=3, total=   0.1s\n",
      "[CV] max_features=0.7, splitter=best, criterion=gini, max_depth=None, min_samples_leaf=3 \n",
      "[CV]  max_features=0.7, splitter=best, criterion=gini, max_depth=None, min_samples_leaf=2, total=   0.4s\n",
      "[CV] max_features=0.7, splitter=best, criterion=gini, max_depth=None, min_samples_leaf=2 \n",
      "[CV]  max_features=0.7, splitter=best, criterion=gini, max_depth=None, min_samples_leaf=3, total=   0.1s\n",
      "[CV] max_features=0.7, splitter=best, criterion=gini, max_depth=None, min_samples_leaf=3 \n",
      "[CV]  max_features=0.7, splitter=best, criterion=gini, max_depth=None, min_samples_leaf=3, total=   0.2s\n",
      "[CV] max_features=0.7, splitter=best, criterion=gini, max_depth=None, min_samples_leaf=3 \n",
      "[CV]  max_features=0.7, splitter=best, criterion=gini, max_depth=None, min_samples_leaf=2, total=   0.5s\n",
      "[CV] max_features=0.7, splitter=best, criterion=gini, max_depth=None, min_samples_leaf=3 \n",
      "[CV]  max_features=0.7, splitter=best, criterion=gini, max_depth=None, min_samples_leaf=3, total=   0.3s\n",
      "[CV] max_features=0.7, splitter=random, criterion=gini, max_depth=None, min_samples_leaf=4 \n",
      "[CV]  max_features=0.7, splitter=random, criterion=gini, max_depth=None, min_samples_leaf=4, total=   0.0s\n",
      "[CV] max_features=0.7, splitter=random, criterion=gini, max_depth=None, min_samples_leaf=4 \n",
      "[CV]  max_features=0.7, splitter=random, criterion=gini, max_depth=None, min_samples_leaf=4, total=   0.1s\n",
      "[CV] max_features=0.7, splitter=random, criterion=gini, max_depth=None, min_samples_leaf=4 \n",
      "[CV]  max_features=0.7, splitter=random, criterion=gini, max_depth=None, min_samples_leaf=4, total=   0.1s\n",
      "[CV] max_features=0.7, splitter=best, criterion=gini, max_depth=None, min_samples_leaf=4 \n",
      "[CV]  max_features=0.7, splitter=best, criterion=gini, max_depth=None, min_samples_leaf=4, total=   0.1s\n",
      "[CV] max_features=0.7, splitter=best, criterion=gini, max_depth=None, min_samples_leaf=4 \n",
      "[CV]  max_features=0.7, splitter=best, criterion=gini, max_depth=None, min_samples_leaf=4, total=   0.1s\n",
      "[CV] max_features=0.7, splitter=best, criterion=gini, max_depth=None, min_samples_leaf=4 \n",
      "[CV]  max_features=0.7, splitter=best, criterion=gini, max_depth=None, min_samples_leaf=3, total=   0.4s\n",
      "[CV] max_features=0.7, splitter=best, criterion=gini, max_depth=None, min_samples_leaf=3 \n",
      "[CV]  max_features=0.7, splitter=best, criterion=gini, max_depth=None, min_samples_leaf=4, total=   0.2s\n",
      "[CV] max_features=0.7, splitter=best, criterion=gini, max_depth=None, min_samples_leaf=4 \n",
      "[CV]  max_features=0.7, splitter=best, criterion=gini, max_depth=None, min_samples_leaf=3, total=   0.5s\n",
      "[CV] max_features=0.7, splitter=random, criterion=gini, max_depth=None, min_samples_leaf=4 \n",
      "[CV]  max_features=0.7, splitter=random, criterion=gini, max_depth=None, min_samples_leaf=4, total=   0.0s\n",
      "[CV] max_features=0.7, splitter=random, criterion=gini, max_depth=None, min_samples_leaf=4 \n",
      "[CV]  max_features=0.7, splitter=random, criterion=gini, max_depth=None, min_samples_leaf=4, total=   0.0s\n",
      "[CV] max_features=0.1, splitter=random, criterion=gini, max_depth=1, min_samples_leaf=1 \n",
      "[CV]  max_features=0.1, splitter=random, criterion=gini, max_depth=1, min_samples_leaf=1, total=   0.0s\n",
      "[CV] max_features=0.1, splitter=random, criterion=gini, max_depth=1, min_samples_leaf=1 \n",
      "[CV]  max_features=0.1, splitter=random, criterion=gini, max_depth=1, min_samples_leaf=1, total=   0.0s\n",
      "[CV] max_features=0.1, splitter=random, criterion=gini, max_depth=1, min_samples_leaf=1 \n",
      "[CV]  max_features=0.7, splitter=best, criterion=gini, max_depth=None, min_samples_leaf=4, total=   0.4s\n",
      "[CV] max_features=0.7, splitter=best, criterion=gini, max_depth=None, min_samples_leaf=4 \n",
      "[CV]  max_features=0.1, splitter=random, criterion=gini, max_depth=1, min_samples_leaf=1, total=   0.0s\n",
      "[CV] max_features=0.1, splitter=random, criterion=gini, max_depth=1, min_samples_leaf=1 \n",
      "[CV]  max_features=0.1, splitter=random, criterion=gini, max_depth=1, min_samples_leaf=1, total=   0.0s\n",
      "[CV] max_features=0.1, splitter=random, criterion=gini, max_depth=1, min_samples_leaf=1 \n",
      "[CV]  max_features=0.1, splitter=random, criterion=gini, max_depth=1, min_samples_leaf=1, total=   0.0s\n",
      "[CV] max_features=0.1, splitter=best, criterion=gini, max_depth=1, min_samples_leaf=1 \n",
      "[CV]  max_features=0.1, splitter=best, criterion=gini, max_depth=1, min_samples_leaf=1, total=   0.0s\n"
     ]
    },
    {
     "name": "stdout",
     "output_type": "stream",
     "text": [
      "[CV] max_features=0.1, splitter=best, criterion=gini, max_depth=1, min_samples_leaf=1 \n",
      "[CV]  max_features=0.1, splitter=best, criterion=gini, max_depth=1, min_samples_leaf=1, total=   0.0s\n",
      "[CV] max_features=0.1, splitter=best, criterion=gini, max_depth=1, min_samples_leaf=1 \n",
      "[CV]  max_features=0.1, splitter=best, criterion=gini, max_depth=1, min_samples_leaf=1, total=   0.0s\n",
      "[CV] max_features=0.1, splitter=best, criterion=gini, max_depth=1, min_samples_leaf=1 \n",
      "[CV]  max_features=0.1, splitter=best, criterion=gini, max_depth=1, min_samples_leaf=1, total=   0.0s\n",
      "[CV] max_features=0.1, splitter=best, criterion=gini, max_depth=1, min_samples_leaf=1 \n",
      "[CV]  max_features=0.1, splitter=best, criterion=gini, max_depth=1, min_samples_leaf=1, total=   0.0s\n",
      "[CV] max_features=0.1, splitter=random, criterion=gini, max_depth=1, min_samples_leaf=2 \n",
      "[CV]  max_features=0.1, splitter=random, criterion=gini, max_depth=1, min_samples_leaf=2, total=   0.0s\n",
      "[CV] max_features=0.1, splitter=random, criterion=gini, max_depth=1, min_samples_leaf=2 \n",
      "[CV]  max_features=0.1, splitter=random, criterion=gini, max_depth=1, min_samples_leaf=2, total=   0.0s\n",
      "[CV] max_features=0.1, splitter=random, criterion=gini, max_depth=1, min_samples_leaf=2 \n",
      "[CV]  max_features=0.1, splitter=random, criterion=gini, max_depth=1, min_samples_leaf=2, total=   0.0s\n",
      "[CV] max_features=0.1, splitter=random, criterion=gini, max_depth=1, min_samples_leaf=2 \n",
      "[CV]  max_features=0.1, splitter=random, criterion=gini, max_depth=1, min_samples_leaf=2, total=   0.0s\n",
      "[CV] max_features=0.1, splitter=random, criterion=gini, max_depth=1, min_samples_leaf=2 \n",
      "[CV]  max_features=0.1, splitter=random, criterion=gini, max_depth=1, min_samples_leaf=2, total=   0.0s\n",
      "[CV] max_features=0.1, splitter=best, criterion=gini, max_depth=1, min_samples_leaf=2 \n",
      "[CV]  max_features=0.1, splitter=best, criterion=gini, max_depth=1, min_samples_leaf=2, total=   0.0s\n",
      "[CV] max_features=0.1, splitter=best, criterion=gini, max_depth=1, min_samples_leaf=2 \n",
      "[CV]  max_features=0.1, splitter=best, criterion=gini, max_depth=1, min_samples_leaf=2, total=   0.0s\n",
      "[CV] max_features=0.1, splitter=best, criterion=gini, max_depth=1, min_samples_leaf=2 \n",
      "[CV]  max_features=0.1, splitter=best, criterion=gini, max_depth=1, min_samples_leaf=2, total=   0.0s\n",
      "[CV] max_features=0.1, splitter=best, criterion=gini, max_depth=1, min_samples_leaf=2 \n",
      "[CV]  max_features=0.1, splitter=best, criterion=gini, max_depth=1, min_samples_leaf=2, total=   0.0s\n",
      "[CV] max_features=0.1, splitter=best, criterion=gini, max_depth=1, min_samples_leaf=2 \n",
      "[CV]  max_features=0.1, splitter=best, criterion=gini, max_depth=1, min_samples_leaf=2, total=   0.0s\n"
     ]
    },
    {
     "name": "stderr",
     "output_type": "stream",
     "text": [
      "[Parallel(n_jobs=2)]: Done 128 tasks      | elapsed:    7.4s\n"
     ]
    },
    {
     "name": "stdout",
     "output_type": "stream",
     "text": [
      "[CV] max_features=0.1, splitter=random, criterion=gini, max_depth=1, min_samples_leaf=3 \n",
      "[CV]  max_features=0.1, splitter=random, criterion=gini, max_depth=1, min_samples_leaf=3, total=   0.0s\n",
      "[CV] max_features=0.1, splitter=random, criterion=gini, max_depth=1, min_samples_leaf=3 \n",
      "[CV]  max_features=0.1, splitter=random, criterion=gini, max_depth=1, min_samples_leaf=3, total=   0.0s\n",
      "[CV] max_features=0.1, splitter=random, criterion=gini, max_depth=1, min_samples_leaf=3 \n",
      "[CV]  max_features=0.1, splitter=random, criterion=gini, max_depth=1, min_samples_leaf=3, total=   0.0s\n",
      "[CV] max_features=0.1, splitter=random, criterion=gini, max_depth=1, min_samples_leaf=3 \n",
      "[CV]  max_features=0.1, splitter=random, criterion=gini, max_depth=1, min_samples_leaf=3, total=   0.0s\n",
      "[CV] max_features=0.1, splitter=random, criterion=gini, max_depth=1, min_samples_leaf=3 \n",
      "[CV]  max_features=0.1, splitter=random, criterion=gini, max_depth=1, min_samples_leaf=3, total=   0.0s\n",
      "[CV] max_features=0.1, splitter=best, criterion=gini, max_depth=1, min_samples_leaf=3 \n",
      "[CV]  max_features=0.7, splitter=best, criterion=gini, max_depth=None, min_samples_leaf=4, total=   0.6s\n",
      "[CV]  max_features=0.1, splitter=best, criterion=gini, max_depth=1, min_samples_leaf=3, total=   0.0s\n",
      "[CV] max_features=0.1, splitter=best, criterion=gini, max_depth=1, min_samples_leaf=3 \n",
      "[CV] max_features=0.1, splitter=best, criterion=gini, max_depth=1, min_samples_leaf=3 \n",
      "[CV]  max_features=0.1, splitter=best, criterion=gini, max_depth=1, min_samples_leaf=3, total=   0.0s\n",
      "[CV]  max_features=0.1, splitter=best, criterion=gini, max_depth=1, min_samples_leaf=3, total=   0.0s\n",
      "[CV] max_features=0.1, splitter=best, criterion=gini, max_depth=1, min_samples_leaf=3 \n",
      "[CV] max_features=0.1, splitter=best, criterion=gini, max_depth=1, min_samples_leaf=3 \n",
      "[CV]  max_features=0.1, splitter=best, criterion=gini, max_depth=1, min_samples_leaf=3, total=   0.0s\n",
      "[CV] max_features=0.1, splitter=random, criterion=gini, max_depth=1, min_samples_leaf=4 \n",
      "[CV]  max_features=0.1, splitter=best, criterion=gini, max_depth=1, min_samples_leaf=3, total=   0.0s\n",
      "[CV] max_features=0.1, splitter=random, criterion=gini, max_depth=1, min_samples_leaf=4 \n",
      "[CV]  max_features=0.1, splitter=random, criterion=gini, max_depth=1, min_samples_leaf=4, total=   0.0s\n",
      "[CV] max_features=0.1, splitter=random, criterion=gini, max_depth=1, min_samples_leaf=4 \n",
      "[CV]  max_features=0.1, splitter=random, criterion=gini, max_depth=1, min_samples_leaf=4, total=   0.0s\n",
      "[CV] max_features=0.1, splitter=random, criterion=gini, max_depth=1, min_samples_leaf=4 \n",
      "[CV]  max_features=0.1, splitter=random, criterion=gini, max_depth=1, min_samples_leaf=4, total=   0.0s\n",
      "[CV]  max_features=0.1, splitter=random, criterion=gini, max_depth=1, min_samples_leaf=4, total=   0.0s\n",
      "[CV] max_features=0.1, splitter=random, criterion=gini, max_depth=1, min_samples_leaf=4 \n",
      "[CV] max_features=0.1, splitter=best, criterion=gini, max_depth=1, min_samples_leaf=4 \n",
      "[CV]  max_features=0.1, splitter=best, criterion=gini, max_depth=1, min_samples_leaf=4, total=   0.0s\n",
      "[CV]  max_features=0.1, splitter=random, criterion=gini, max_depth=1, min_samples_leaf=4, total=   0.0s\n",
      "[CV] max_features=0.1, splitter=best, criterion=gini, max_depth=1, min_samples_leaf=4 \n",
      "[CV] max_features=0.1, splitter=best, criterion=gini, max_depth=1, min_samples_leaf=4 \n",
      "[CV]  max_features=0.1, splitter=best, criterion=gini, max_depth=1, min_samples_leaf=4, total=   0.0s\n",
      "[CV]  max_features=0.1, splitter=best, criterion=gini, max_depth=1, min_samples_leaf=4, total=   0.0s\n",
      "[CV] max_features=0.1, splitter=best, criterion=gini, max_depth=1, min_samples_leaf=4 \n",
      "[CV] max_features=0.5, splitter=random, criterion=gini, max_depth=1, min_samples_leaf=1 \n",
      "[CV]  max_features=0.5, splitter=random, criterion=gini, max_depth=1, min_samples_leaf=1, total=   0.0s\n",
      "[CV] max_features=0.5, splitter=random, criterion=gini, max_depth=1, min_samples_leaf=1 \n",
      "[CV]  max_features=0.1, splitter=best, criterion=gini, max_depth=1, min_samples_leaf=4, total=   0.0s\n",
      "[CV] max_features=0.1, splitter=best, criterion=gini, max_depth=1, min_samples_leaf=4 \n",
      "[CV]  max_features=0.5, splitter=random, criterion=gini, max_depth=1, min_samples_leaf=1, total=   0.0s\n",
      "[CV] max_features=0.5, splitter=random, criterion=gini, max_depth=1, min_samples_leaf=1 \n",
      "[CV]  max_features=0.5, splitter=random, criterion=gini, max_depth=1, min_samples_leaf=1, total=   0.0s\n",
      "[CV]  max_features=0.1, splitter=best, criterion=gini, max_depth=1, min_samples_leaf=4, total=   0.0s\n",
      "[CV] max_features=0.5, splitter=random, criterion=gini, max_depth=1, min_samples_leaf=1 \n",
      "[CV] max_features=0.5, splitter=random, criterion=gini, max_depth=1, min_samples_leaf=1 \n",
      "[CV]  max_features=0.5, splitter=random, criterion=gini, max_depth=1, min_samples_leaf=1, total=   0.0s\n",
      "[CV] max_features=0.5, splitter=best, criterion=gini, max_depth=1, min_samples_leaf=1 \n",
      "[CV]  max_features=0.5, splitter=random, criterion=gini, max_depth=1, min_samples_leaf=1, total=   0.0s\n",
      "[CV] max_features=0.5, splitter=best, criterion=gini, max_depth=1, min_samples_leaf=1 \n",
      "[CV]  max_features=0.5, splitter=best, criterion=gini, max_depth=1, min_samples_leaf=1, total=   0.0s\n",
      "[CV] max_features=0.5, splitter=best, criterion=gini, max_depth=1, min_samples_leaf=1 \n",
      "[CV]  max_features=0.5, splitter=best, criterion=gini, max_depth=1, min_samples_leaf=1, total=   0.1s\n",
      "[CV] max_features=0.5, splitter=best, criterion=gini, max_depth=1, min_samples_leaf=1 \n",
      "[CV]  max_features=0.5, splitter=best, criterion=gini, max_depth=1, min_samples_leaf=1, total=   0.0s\n",
      "[CV] max_features=0.5, splitter=best, criterion=gini, max_depth=1, min_samples_leaf=1 \n",
      "[CV]  max_features=0.5, splitter=best, criterion=gini, max_depth=1, min_samples_leaf=1, total=   0.0s\n",
      "[CV]  max_features=0.5, splitter=best, criterion=gini, max_depth=1, min_samples_leaf=1, total=   0.1s\n",
      "[CV] max_features=0.5, splitter=random, criterion=gini, max_depth=1, min_samples_leaf=2 \n",
      "[CV] max_features=0.5, splitter=random, criterion=gini, max_depth=1, min_samples_leaf=2 \n",
      "[CV]  max_features=0.5, splitter=random, criterion=gini, max_depth=1, min_samples_leaf=2, total=   0.0s\n",
      "[CV] max_features=0.5, splitter=random, criterion=gini, max_depth=1, min_samples_leaf=2 \n",
      "[CV]  max_features=0.5, splitter=random, criterion=gini, max_depth=1, min_samples_leaf=2, total=   0.0s\n",
      "[CV] max_features=0.5, splitter=random, criterion=gini, max_depth=1, min_samples_leaf=2 \n",
      "[CV]  max_features=0.5, splitter=random, criterion=gini, max_depth=1, min_samples_leaf=2, total=   0.0s\n",
      "[CV] max_features=0.5, splitter=best, criterion=gini, max_depth=1, min_samples_leaf=2 \n",
      "[CV]  max_features=0.5, splitter=random, criterion=gini, max_depth=1, min_samples_leaf=2, total=   0.0s\n",
      "[CV] max_features=0.5, splitter=random, criterion=gini, max_depth=1, min_samples_leaf=2 \n",
      "[CV]  max_features=0.5, splitter=best, criterion=gini, max_depth=1, min_samples_leaf=2, total=   0.0s\n",
      "[CV] max_features=0.5, splitter=best, criterion=gini, max_depth=1, min_samples_leaf=2 \n",
      "[CV]  max_features=0.5, splitter=random, criterion=gini, max_depth=1, min_samples_leaf=2, total=   0.0s\n",
      "[CV] max_features=0.5, splitter=best, criterion=gini, max_depth=1, min_samples_leaf=2 \n",
      "[CV]  max_features=0.5, splitter=best, criterion=gini, max_depth=1, min_samples_leaf=2, total=   0.0s\n",
      "[CV] max_features=0.5, splitter=random, criterion=gini, max_depth=1, min_samples_leaf=3 \n",
      "[CV]  max_features=0.5, splitter=best, criterion=gini, max_depth=1, min_samples_leaf=2, total=   0.0s\n",
      "[CV] max_features=0.5, splitter=best, criterion=gini, max_depth=1, min_samples_leaf=2 \n",
      "[CV]  max_features=0.5, splitter=random, criterion=gini, max_depth=1, min_samples_leaf=3, total=   0.0s\n",
      "[CV] max_features=0.5, splitter=random, criterion=gini, max_depth=1, min_samples_leaf=3 \n",
      "[CV]  max_features=0.5, splitter=random, criterion=gini, max_depth=1, min_samples_leaf=3, total=   0.0s\n",
      "[CV] max_features=0.5, splitter=random, criterion=gini, max_depth=1, min_samples_leaf=3 \n",
      "[CV]  max_features=0.5, splitter=random, criterion=gini, max_depth=1, min_samples_leaf=3, total=   0.0s\n",
      "[CV]  max_features=0.5, splitter=best, criterion=gini, max_depth=1, min_samples_leaf=2, total=   0.0s\n",
      "[CV] max_features=0.5, splitter=random, criterion=gini, max_depth=1, min_samples_leaf=3 \n"
     ]
    },
    {
     "name": "stdout",
     "output_type": "stream",
     "text": [
      "[CV] max_features=0.5, splitter=best, criterion=gini, max_depth=1, min_samples_leaf=2 \n",
      "[CV]  max_features=0.5, splitter=random, criterion=gini, max_depth=1, min_samples_leaf=3, total=   0.0s\n",
      "[CV] max_features=0.5, splitter=random, criterion=gini, max_depth=1, min_samples_leaf=3 \n",
      "[CV]  max_features=0.5, splitter=random, criterion=gini, max_depth=1, min_samples_leaf=3, total=   0.0s\n",
      "[CV]  max_features=0.5, splitter=best, criterion=gini, max_depth=1, min_samples_leaf=2, total=   0.1s\n",
      "[CV] max_features=0.5, splitter=best, criterion=gini, max_depth=1, min_samples_leaf=3 \n",
      "[CV] max_features=0.5, splitter=best, criterion=gini, max_depth=1, min_samples_leaf=3 \n",
      "[CV]  max_features=0.5, splitter=best, criterion=gini, max_depth=1, min_samples_leaf=3, total=   0.0s\n",
      "[CV] max_features=0.5, splitter=best, criterion=gini, max_depth=1, min_samples_leaf=3 \n",
      "[CV]  max_features=0.5, splitter=best, criterion=gini, max_depth=1, min_samples_leaf=3, total=   0.0s\n",
      "[CV]  max_features=0.5, splitter=best, criterion=gini, max_depth=1, min_samples_leaf=3, total=   0.0s\n",
      "[CV] max_features=0.5, splitter=best, criterion=gini, max_depth=1, min_samples_leaf=3 \n",
      "[CV] max_features=0.5, splitter=best, criterion=gini, max_depth=1, min_samples_leaf=3 \n",
      "[CV]  max_features=0.5, splitter=best, criterion=gini, max_depth=1, min_samples_leaf=3, total=   0.0s\n",
      "[CV] max_features=0.5, splitter=random, criterion=gini, max_depth=1, min_samples_leaf=4 \n",
      "[CV]  max_features=0.5, splitter=best, criterion=gini, max_depth=1, min_samples_leaf=3, total=   0.1s\n",
      "[CV] max_features=0.5, splitter=random, criterion=gini, max_depth=1, min_samples_leaf=4 \n",
      "[CV]  max_features=0.5, splitter=random, criterion=gini, max_depth=1, min_samples_leaf=4, total=   0.0s\n",
      "[CV] max_features=0.5, splitter=random, criterion=gini, max_depth=1, min_samples_leaf=4 \n",
      "[CV]  max_features=0.5, splitter=random, criterion=gini, max_depth=1, min_samples_leaf=4, total=   0.0s\n",
      "[CV] max_features=0.5, splitter=random, criterion=gini, max_depth=1, min_samples_leaf=4 \n",
      "[CV]  max_features=0.5, splitter=random, criterion=gini, max_depth=1, min_samples_leaf=4, total=   0.0s\n",
      "[CV] max_features=0.5, splitter=best, criterion=gini, max_depth=1, min_samples_leaf=4 \n",
      "[CV]  max_features=0.5, splitter=random, criterion=gini, max_depth=1, min_samples_leaf=4, total=   0.0s\n",
      "[CV] max_features=0.5, splitter=random, criterion=gini, max_depth=1, min_samples_leaf=4 \n",
      "[CV]  max_features=0.5, splitter=best, criterion=gini, max_depth=1, min_samples_leaf=4, total=   0.0s\n",
      "[CV]  max_features=0.5, splitter=random, criterion=gini, max_depth=1, min_samples_leaf=4, total=   0.0s\n",
      "[CV] max_features=0.5, splitter=best, criterion=gini, max_depth=1, min_samples_leaf=4 \n",
      "[CV] max_features=0.5, splitter=best, criterion=gini, max_depth=1, min_samples_leaf=4 \n",
      "[CV]  max_features=0.5, splitter=best, criterion=gini, max_depth=1, min_samples_leaf=4, total=   0.0s\n",
      "[CV] max_features=0.7, splitter=random, criterion=gini, max_depth=1, min_samples_leaf=1 \n",
      "[CV]  max_features=0.5, splitter=best, criterion=gini, max_depth=1, min_samples_leaf=4, total=   0.0s\n",
      "[CV]  max_features=0.7, splitter=random, criterion=gini, max_depth=1, min_samples_leaf=1, total=   0.0s\n",
      "[CV] max_features=0.5, splitter=best, criterion=gini, max_depth=1, min_samples_leaf=4 \n",
      "[CV] max_features=0.7, splitter=random, criterion=gini, max_depth=1, min_samples_leaf=1 \n",
      "[CV]  max_features=0.7, splitter=random, criterion=gini, max_depth=1, min_samples_leaf=1, total=   0.0s\n",
      "[CV] max_features=0.7, splitter=random, criterion=gini, max_depth=1, min_samples_leaf=1 \n",
      "[CV]  max_features=0.7, splitter=random, criterion=gini, max_depth=1, min_samples_leaf=1, total=   0.0s\n",
      "[CV] max_features=0.7, splitter=random, criterion=gini, max_depth=1, min_samples_leaf=1 \n",
      "[CV]  max_features=0.5, splitter=best, criterion=gini, max_depth=1, min_samples_leaf=4, total=   0.1s\n",
      "[CV] max_features=0.5, splitter=best, criterion=gini, max_depth=1, min_samples_leaf=4 \n",
      "[CV]  max_features=0.7, splitter=random, criterion=gini, max_depth=1, min_samples_leaf=1, total=   0.0s\n",
      "[CV] max_features=0.7, splitter=random, criterion=gini, max_depth=1, min_samples_leaf=1 \n",
      "[CV]  max_features=0.7, splitter=random, criterion=gini, max_depth=1, min_samples_leaf=1, total=   0.0s\n",
      "[CV] max_features=0.7, splitter=best, criterion=gini, max_depth=1, min_samples_leaf=1 \n",
      "[CV]  max_features=0.5, splitter=best, criterion=gini, max_depth=1, min_samples_leaf=4, total=   0.1s\n",
      "[CV] max_features=0.7, splitter=best, criterion=gini, max_depth=1, min_samples_leaf=1 \n",
      "[CV]  max_features=0.7, splitter=best, criterion=gini, max_depth=1, min_samples_leaf=1, total=   0.0s\n",
      "[CV] max_features=0.7, splitter=best, criterion=gini, max_depth=1, min_samples_leaf=1 \n",
      "[CV]  max_features=0.7, splitter=best, criterion=gini, max_depth=1, min_samples_leaf=1, total=   0.0s\n",
      "[CV] max_features=0.7, splitter=best, criterion=gini, max_depth=1, min_samples_leaf=1 \n",
      "[CV]  max_features=0.7, splitter=best, criterion=gini, max_depth=1, min_samples_leaf=1, total=   0.1s\n",
      "[CV] max_features=0.7, splitter=best, criterion=gini, max_depth=1, min_samples_leaf=1 \n",
      "[CV]  max_features=0.7, splitter=best, criterion=gini, max_depth=1, min_samples_leaf=1, total=   0.0s\n",
      "[CV] max_features=0.7, splitter=random, criterion=gini, max_depth=1, min_samples_leaf=2 \n",
      "[CV]  max_features=0.7, splitter=random, criterion=gini, max_depth=1, min_samples_leaf=2, total=   0.0s\n",
      "[CV] max_features=0.7, splitter=random, criterion=gini, max_depth=1, min_samples_leaf=2 \n",
      "[CV]  max_features=0.7, splitter=best, criterion=gini, max_depth=1, min_samples_leaf=1, total=   0.1s\n",
      "[CV] max_features=0.7, splitter=random, criterion=gini, max_depth=1, min_samples_leaf=2 \n",
      "[CV]  max_features=0.7, splitter=random, criterion=gini, max_depth=1, min_samples_leaf=2, total=   0.0s\n",
      "[CV] max_features=0.7, splitter=random, criterion=gini, max_depth=1, min_samples_leaf=2 \n",
      "[CV]  max_features=0.7, splitter=random, criterion=gini, max_depth=1, min_samples_leaf=2, total=   0.0s\n",
      "[CV] max_features=0.7, splitter=random, criterion=gini, max_depth=1, min_samples_leaf=2 \n",
      "[CV]  max_features=0.7, splitter=random, criterion=gini, max_depth=1, min_samples_leaf=2, total=   0.0s\n",
      "[CV] max_features=0.7, splitter=best, criterion=gini, max_depth=1, min_samples_leaf=2 \n",
      "[CV]  max_features=0.7, splitter=random, criterion=gini, max_depth=1, min_samples_leaf=2, total=   0.0s\n",
      "[CV] max_features=0.7, splitter=best, criterion=gini, max_depth=1, min_samples_leaf=2 \n",
      "[CV]  max_features=0.7, splitter=best, criterion=gini, max_depth=1, min_samples_leaf=2, total=   0.0s\n",
      "[CV] max_features=0.7, splitter=random, criterion=gini, max_depth=1, min_samples_leaf=3 \n",
      "[CV]  max_features=0.7, splitter=best, criterion=gini, max_depth=1, min_samples_leaf=2, total=   0.0s\n",
      "[CV] max_features=0.7, splitter=best, criterion=gini, max_depth=1, min_samples_leaf=2 \n",
      "[CV]  max_features=0.7, splitter=random, criterion=gini, max_depth=1, min_samples_leaf=3, total=   0.0s\n",
      "[CV] max_features=0.7, splitter=random, criterion=gini, max_depth=1, min_samples_leaf=3 \n",
      "[CV]  max_features=0.7, splitter=random, criterion=gini, max_depth=1, min_samples_leaf=3, total=   0.0s\n",
      "[CV] max_features=0.7, splitter=random, criterion=gini, max_depth=1, min_samples_leaf=3 \n",
      "[CV]  max_features=0.7, splitter=best, criterion=gini, max_depth=1, min_samples_leaf=2, total=   0.0s\n",
      "[CV] max_features=0.7, splitter=best, criterion=gini, max_depth=1, min_samples_leaf=2 \n",
      "[CV]  max_features=0.7, splitter=random, criterion=gini, max_depth=1, min_samples_leaf=3, total=   0.0s\n",
      "[CV] max_features=0.7, splitter=random, criterion=gini, max_depth=1, min_samples_leaf=3 \n",
      "[CV]  max_features=0.7, splitter=random, criterion=gini, max_depth=1, min_samples_leaf=3, total=   0.0s\n",
      "[CV] max_features=0.7, splitter=random, criterion=gini, max_depth=1, min_samples_leaf=3 \n",
      "[CV]  max_features=0.7, splitter=random, criterion=gini, max_depth=1, min_samples_leaf=3, total=   0.0s\n",
      "[CV] max_features=0.7, splitter=best, criterion=gini, max_depth=1, min_samples_leaf=3 \n",
      "[CV]  max_features=0.7, splitter=best, criterion=gini, max_depth=1, min_samples_leaf=2, total=   0.1s\n",
      "[CV] max_features=0.7, splitter=best, criterion=gini, max_depth=1, min_samples_leaf=2 \n",
      "[CV]  max_features=0.7, splitter=best, criterion=gini, max_depth=1, min_samples_leaf=3, total=   0.0s\n"
     ]
    },
    {
     "name": "stdout",
     "output_type": "stream",
     "text": [
      "[CV] max_features=0.7, splitter=best, criterion=gini, max_depth=1, min_samples_leaf=3 \n",
      "[CV]  max_features=0.7, splitter=best, criterion=gini, max_depth=1, min_samples_leaf=3, total=   0.0s\n",
      "[CV] max_features=0.7, splitter=best, criterion=gini, max_depth=1, min_samples_leaf=3 \n",
      "[CV]  max_features=0.7, splitter=best, criterion=gini, max_depth=1, min_samples_leaf=2, total=   0.1s\n",
      "[CV] max_features=0.7, splitter=best, criterion=gini, max_depth=1, min_samples_leaf=3 \n",
      "[CV]  max_features=0.7, splitter=best, criterion=gini, max_depth=1, min_samples_leaf=3, total=   0.0s\n",
      "[CV] max_features=0.7, splitter=random, criterion=gini, max_depth=1, min_samples_leaf=4 \n",
      "[CV]  max_features=0.7, splitter=random, criterion=gini, max_depth=1, min_samples_leaf=4, total=   0.0s\n",
      "[CV] max_features=0.7, splitter=random, criterion=gini, max_depth=1, min_samples_leaf=4 \n",
      "[CV]  max_features=0.7, splitter=best, criterion=gini, max_depth=1, min_samples_leaf=3, total=   0.1s\n",
      "[CV] max_features=0.7, splitter=best, criterion=gini, max_depth=1, min_samples_leaf=3 \n",
      "[CV]  max_features=0.7, splitter=random, criterion=gini, max_depth=1, min_samples_leaf=4, total=   0.0s\n",
      "[CV] max_features=0.7, splitter=random, criterion=gini, max_depth=1, min_samples_leaf=4 \n",
      "[CV]  max_features=0.7, splitter=random, criterion=gini, max_depth=1, min_samples_leaf=4, total=   0.0s\n",
      "[CV] max_features=0.7, splitter=best, criterion=gini, max_depth=1, min_samples_leaf=4 \n",
      "[CV]  max_features=0.7, splitter=best, criterion=gini, max_depth=1, min_samples_leaf=4, total=   0.0s\n",
      "[CV] max_features=0.7, splitter=best, criterion=gini, max_depth=1, min_samples_leaf=4 \n",
      "[CV]  max_features=0.7, splitter=best, criterion=gini, max_depth=1, min_samples_leaf=3, total=   0.1s\n",
      "[CV] max_features=0.7, splitter=random, criterion=gini, max_depth=1, min_samples_leaf=4 \n",
      "[CV]  max_features=0.7, splitter=random, criterion=gini, max_depth=1, min_samples_leaf=4, total=   0.0s\n",
      "[CV] max_features=0.7, splitter=random, criterion=gini, max_depth=1, min_samples_leaf=4 \n",
      "[CV]  max_features=0.7, splitter=best, criterion=gini, max_depth=1, min_samples_leaf=4, total=   0.0s\n",
      "[CV] max_features=0.7, splitter=best, criterion=gini, max_depth=1, min_samples_leaf=4 \n",
      "[CV]  max_features=0.7, splitter=random, criterion=gini, max_depth=1, min_samples_leaf=4, total=   0.0s\n",
      "[CV] max_features=0.1, splitter=random, criterion=gini, max_depth=5, min_samples_leaf=1 \n",
      "[CV]  max_features=0.1, splitter=random, criterion=gini, max_depth=5, min_samples_leaf=1, total=   0.0s\n",
      "[CV] max_features=0.1, splitter=random, criterion=gini, max_depth=5, min_samples_leaf=1 \n",
      "[CV]  max_features=0.1, splitter=random, criterion=gini, max_depth=5, min_samples_leaf=1, total=   0.0s\n",
      "[CV]  max_features=0.7, splitter=best, criterion=gini, max_depth=1, min_samples_leaf=4, total=   0.1s\n",
      "[CV] max_features=0.7, splitter=best, criterion=gini, max_depth=1, min_samples_leaf=4 \n",
      "[CV] max_features=0.1, splitter=random, criterion=gini, max_depth=5, min_samples_leaf=1 \n",
      "[CV]  max_features=0.1, splitter=random, criterion=gini, max_depth=5, min_samples_leaf=1, total=   0.0s\n",
      "[CV] max_features=0.1, splitter=random, criterion=gini, max_depth=5, min_samples_leaf=1 \n",
      "[CV]  max_features=0.1, splitter=random, criterion=gini, max_depth=5, min_samples_leaf=1, total=   0.0s\n",
      "[CV] max_features=0.1, splitter=random, criterion=gini, max_depth=5, min_samples_leaf=1 \n",
      "[CV]  max_features=0.7, splitter=best, criterion=gini, max_depth=1, min_samples_leaf=4, total=   0.1s\n",
      "[CV] max_features=0.7, splitter=best, criterion=gini, max_depth=1, min_samples_leaf=4 \n",
      "[CV]  max_features=0.1, splitter=random, criterion=gini, max_depth=5, min_samples_leaf=1, total=   0.0s\n",
      "[CV] max_features=0.1, splitter=best, criterion=gini, max_depth=5, min_samples_leaf=1 \n",
      "[CV]  max_features=0.1, splitter=best, criterion=gini, max_depth=5, min_samples_leaf=1, total=   0.0s\n",
      "[CV] max_features=0.1, splitter=best, criterion=gini, max_depth=5, min_samples_leaf=1 \n",
      "[CV]  max_features=0.1, splitter=best, criterion=gini, max_depth=5, min_samples_leaf=1, total=   0.0s\n",
      "[CV] max_features=0.1, splitter=best, criterion=gini, max_depth=5, min_samples_leaf=1 \n",
      "[CV]  max_features=0.7, splitter=best, criterion=gini, max_depth=1, min_samples_leaf=4, total=   0.1s\n",
      "[CV] max_features=0.1, splitter=best, criterion=gini, max_depth=5, min_samples_leaf=1 \n",
      "[CV]  max_features=0.1, splitter=best, criterion=gini, max_depth=5, min_samples_leaf=1, total=   0.0s\n",
      "[CV] max_features=0.1, splitter=random, criterion=gini, max_depth=5, min_samples_leaf=2 \n",
      "[CV]  max_features=0.1, splitter=random, criterion=gini, max_depth=5, min_samples_leaf=2, total=   0.0s\n",
      "[CV] max_features=0.1, splitter=random, criterion=gini, max_depth=5, min_samples_leaf=2 \n",
      "[CV]  max_features=0.1, splitter=best, criterion=gini, max_depth=5, min_samples_leaf=1, total=   0.1s\n",
      "[CV] max_features=0.1, splitter=best, criterion=gini, max_depth=5, min_samples_leaf=1 \n",
      "[CV]  max_features=0.1, splitter=random, criterion=gini, max_depth=5, min_samples_leaf=2, total=   0.0s\n",
      "[CV] max_features=0.1, splitter=random, criterion=gini, max_depth=5, min_samples_leaf=2 \n",
      "[CV]  max_features=0.1, splitter=best, criterion=gini, max_depth=5, min_samples_leaf=1, total=   0.0s\n",
      "[CV]  max_features=0.1, splitter=random, criterion=gini, max_depth=5, min_samples_leaf=2, total=   0.0s\n",
      "[CV] max_features=0.1, splitter=best, criterion=gini, max_depth=5, min_samples_leaf=2 \n",
      "[CV] max_features=0.1, splitter=random, criterion=gini, max_depth=5, min_samples_leaf=2 \n",
      "[CV]  max_features=0.1, splitter=random, criterion=gini, max_depth=5, min_samples_leaf=2, total=   0.0s\n",
      "[CV] max_features=0.1, splitter=random, criterion=gini, max_depth=5, min_samples_leaf=2 \n",
      "[CV]  max_features=0.1, splitter=best, criterion=gini, max_depth=5, min_samples_leaf=2, total=   0.0s\n",
      "[CV] max_features=0.1, splitter=best, criterion=gini, max_depth=5, min_samples_leaf=2 \n",
      "[CV]  max_features=0.1, splitter=random, criterion=gini, max_depth=5, min_samples_leaf=2, total=   0.0s\n",
      "[CV] max_features=0.1, splitter=random, criterion=gini, max_depth=5, min_samples_leaf=3 \n",
      "[CV]  max_features=0.1, splitter=random, criterion=gini, max_depth=5, min_samples_leaf=3, total=   0.0s\n",
      "[CV] max_features=0.1, splitter=random, criterion=gini, max_depth=5, min_samples_leaf=3 \n",
      "[CV]  max_features=0.1, splitter=best, criterion=gini, max_depth=5, min_samples_leaf=2, total=   0.0s\n",
      "[CV] max_features=0.1, splitter=best, criterion=gini, max_depth=5, min_samples_leaf=2 \n",
      "[CV]  max_features=0.1, splitter=random, criterion=gini, max_depth=5, min_samples_leaf=3, total=   0.0s\n",
      "[CV] max_features=0.1, splitter=random, criterion=gini, max_depth=5, min_samples_leaf=3 \n",
      "[CV]  max_features=0.1, splitter=random, criterion=gini, max_depth=5, min_samples_leaf=3, total=   0.0s\n",
      "[CV] max_features=0.1, splitter=random, criterion=gini, max_depth=5, min_samples_leaf=3 \n",
      "[CV]  max_features=0.1, splitter=best, criterion=gini, max_depth=5, min_samples_leaf=2, total=   0.0s\n",
      "[CV] max_features=0.1, splitter=best, criterion=gini, max_depth=5, min_samples_leaf=2 \n",
      "[CV]  max_features=0.1, splitter=random, criterion=gini, max_depth=5, min_samples_leaf=3, total=   0.0s\n",
      "[CV] max_features=0.1, splitter=random, criterion=gini, max_depth=5, min_samples_leaf=3 \n",
      "[CV]  max_features=0.1, splitter=best, criterion=gini, max_depth=5, min_samples_leaf=2, total=   0.0s\n",
      "[CV]  max_features=0.1, splitter=random, criterion=gini, max_depth=5, min_samples_leaf=3, total=   0.0s\n",
      "[CV] max_features=0.1, splitter=best, criterion=gini, max_depth=5, min_samples_leaf=2 \n",
      "[CV] max_features=0.1, splitter=best, criterion=gini, max_depth=5, min_samples_leaf=3 \n",
      "[CV]  max_features=0.1, splitter=best, criterion=gini, max_depth=5, min_samples_leaf=3, total=   0.0s\n",
      "[CV] max_features=0.1, splitter=best, criterion=gini, max_depth=5, min_samples_leaf=3 \n",
      "[CV]  max_features=0.1, splitter=best, criterion=gini, max_depth=5, min_samples_leaf=3, total=   0.0s\n",
      "[CV]  max_features=0.1, splitter=best, criterion=gini, max_depth=5, min_samples_leaf=2, total=   0.1s\n",
      "[CV] max_features=0.1, splitter=best, criterion=gini, max_depth=5, min_samples_leaf=3 \n",
      "[CV] max_features=0.1, splitter=best, criterion=gini, max_depth=5, min_samples_leaf=3 \n",
      "[CV]  max_features=0.1, splitter=best, criterion=gini, max_depth=5, min_samples_leaf=3, total=   0.0s\n"
     ]
    },
    {
     "name": "stdout",
     "output_type": "stream",
     "text": [
      "[CV] max_features=0.1, splitter=random, criterion=gini, max_depth=5, min_samples_leaf=4 \n",
      "[CV]  max_features=0.1, splitter=best, criterion=gini, max_depth=5, min_samples_leaf=3, total=   0.1s\n",
      "[CV] max_features=0.1, splitter=best, criterion=gini, max_depth=5, min_samples_leaf=3 \n",
      "[CV]  max_features=0.1, splitter=random, criterion=gini, max_depth=5, min_samples_leaf=4, total=   0.0s\n",
      "[CV] max_features=0.1, splitter=random, criterion=gini, max_depth=5, min_samples_leaf=4 \n",
      "[CV]  max_features=0.1, splitter=random, criterion=gini, max_depth=5, min_samples_leaf=4, total=   0.0s\n",
      "[CV] max_features=0.1, splitter=random, criterion=gini, max_depth=5, min_samples_leaf=4 \n",
      "[CV]  max_features=0.1, splitter=random, criterion=gini, max_depth=5, min_samples_leaf=4, total=   0.0s\n",
      "[CV] max_features=0.1, splitter=best, criterion=gini, max_depth=5, min_samples_leaf=4 \n",
      "[CV]  max_features=0.1, splitter=best, criterion=gini, max_depth=5, min_samples_leaf=3, total=   0.1s\n",
      "[CV] max_features=0.1, splitter=random, criterion=gini, max_depth=5, min_samples_leaf=4 \n",
      "[CV]  max_features=0.1, splitter=best, criterion=gini, max_depth=5, min_samples_leaf=4, total=   0.0s\n",
      "[CV]  max_features=0.1, splitter=random, criterion=gini, max_depth=5, min_samples_leaf=4, total=   0.0s\n",
      "[CV] max_features=0.1, splitter=random, criterion=gini, max_depth=5, min_samples_leaf=4 \n",
      "[CV] max_features=0.1, splitter=best, criterion=gini, max_depth=5, min_samples_leaf=4 \n",
      "[CV]  max_features=0.1, splitter=random, criterion=gini, max_depth=5, min_samples_leaf=4, total=   0.0s\n",
      "[CV] max_features=0.5, splitter=random, criterion=gini, max_depth=5, min_samples_leaf=1 \n",
      "[CV]  max_features=0.1, splitter=best, criterion=gini, max_depth=5, min_samples_leaf=4, total=   0.0s\n",
      "[CV] max_features=0.1, splitter=best, criterion=gini, max_depth=5, min_samples_leaf=4 \n",
      "[CV]  max_features=0.5, splitter=random, criterion=gini, max_depth=5, min_samples_leaf=1, total=   0.0s\n",
      "[CV] max_features=0.5, splitter=random, criterion=gini, max_depth=5, min_samples_leaf=1 \n",
      "[CV]  max_features=0.5, splitter=random, criterion=gini, max_depth=5, min_samples_leaf=1, total=   0.0s\n",
      "[CV] max_features=0.5, splitter=random, criterion=gini, max_depth=5, min_samples_leaf=1 \n",
      "[CV]  max_features=0.1, splitter=best, criterion=gini, max_depth=5, min_samples_leaf=4, total=   0.0s\n",
      "[CV] max_features=0.1, splitter=best, criterion=gini, max_depth=5, min_samples_leaf=4 \n",
      "[CV]  max_features=0.5, splitter=random, criterion=gini, max_depth=5, min_samples_leaf=1, total=   0.0s\n",
      "[CV] max_features=0.5, splitter=random, criterion=gini, max_depth=5, min_samples_leaf=1 \n",
      "[CV]  max_features=0.1, splitter=best, criterion=gini, max_depth=5, min_samples_leaf=4, total=   0.0s\n",
      "[CV] max_features=0.1, splitter=best, criterion=gini, max_depth=5, min_samples_leaf=4 \n",
      "[CV]  max_features=0.5, splitter=random, criterion=gini, max_depth=5, min_samples_leaf=1, total=   0.0s\n",
      "[CV] max_features=0.5, splitter=random, criterion=gini, max_depth=5, min_samples_leaf=1 \n",
      "[CV]  max_features=0.5, splitter=random, criterion=gini, max_depth=5, min_samples_leaf=1, total=   0.0s\n",
      "[CV] max_features=0.5, splitter=best, criterion=gini, max_depth=5, min_samples_leaf=1 \n",
      "[CV]  max_features=0.1, splitter=best, criterion=gini, max_depth=5, min_samples_leaf=4, total=   0.1s\n",
      "[CV] max_features=0.5, splitter=best, criterion=gini, max_depth=5, min_samples_leaf=1 \n",
      "[CV]  max_features=0.5, splitter=best, criterion=gini, max_depth=5, min_samples_leaf=1, total=   0.0s\n",
      "[CV] max_features=0.5, splitter=best, criterion=gini, max_depth=5, min_samples_leaf=1 \n",
      "[CV]  max_features=0.5, splitter=best, criterion=gini, max_depth=5, min_samples_leaf=1, total=   0.1s\n",
      "[CV] max_features=0.5, splitter=best, criterion=gini, max_depth=5, min_samples_leaf=1 \n",
      "[CV]  max_features=0.5, splitter=best, criterion=gini, max_depth=5, min_samples_leaf=1, total=   0.2s\n",
      "[CV] max_features=0.5, splitter=best, criterion=gini, max_depth=5, min_samples_leaf=1 \n",
      "[CV]  max_features=0.5, splitter=best, criterion=gini, max_depth=5, min_samples_leaf=1, total=   0.1s\n",
      "[CV] max_features=0.5, splitter=random, criterion=gini, max_depth=5, min_samples_leaf=2 \n",
      "[CV]  max_features=0.5, splitter=random, criterion=gini, max_depth=5, min_samples_leaf=2, total=   0.0s\n",
      "[CV] max_features=0.5, splitter=random, criterion=gini, max_depth=5, min_samples_leaf=2 \n",
      "[CV]  max_features=0.5, splitter=random, criterion=gini, max_depth=5, min_samples_leaf=2, total=   0.0s\n",
      "[CV] max_features=0.5, splitter=random, criterion=gini, max_depth=5, min_samples_leaf=2 \n",
      "[CV]  max_features=0.5, splitter=random, criterion=gini, max_depth=5, min_samples_leaf=2, total=   0.0s\n",
      "[CV] max_features=0.5, splitter=best, criterion=gini, max_depth=5, min_samples_leaf=2 \n",
      "[CV]  max_features=0.5, splitter=best, criterion=gini, max_depth=5, min_samples_leaf=2, total=   0.0s\n",
      "[CV] max_features=0.5, splitter=best, criterion=gini, max_depth=5, min_samples_leaf=2 \n",
      "[CV]  max_features=0.5, splitter=best, criterion=gini, max_depth=5, min_samples_leaf=1, total=   0.2s\n",
      "[CV] max_features=0.5, splitter=random, criterion=gini, max_depth=5, min_samples_leaf=2 \n",
      "[CV]  max_features=0.5, splitter=random, criterion=gini, max_depth=5, min_samples_leaf=2, total=   0.0s\n",
      "[CV] max_features=0.5, splitter=random, criterion=gini, max_depth=5, min_samples_leaf=2 \n",
      "[CV]  max_features=0.5, splitter=random, criterion=gini, max_depth=5, min_samples_leaf=2, total=   0.0s\n",
      "[CV] max_features=0.5, splitter=random, criterion=gini, max_depth=5, min_samples_leaf=3 \n",
      "[CV]  max_features=0.5, splitter=random, criterion=gini, max_depth=5, min_samples_leaf=3, total=   0.0s\n",
      "[CV] max_features=0.5, splitter=random, criterion=gini, max_depth=5, min_samples_leaf=3 \n",
      "[CV]  max_features=0.5, splitter=best, criterion=gini, max_depth=5, min_samples_leaf=2, total=   0.1s\n",
      "[CV] max_features=0.5, splitter=best, criterion=gini, max_depth=5, min_samples_leaf=2 \n",
      "[CV]  max_features=0.5, splitter=random, criterion=gini, max_depth=5, min_samples_leaf=3, total=   0.0s\n",
      "[CV] max_features=0.5, splitter=random, criterion=gini, max_depth=5, min_samples_leaf=3 \n",
      "[CV]  max_features=0.5, splitter=random, criterion=gini, max_depth=5, min_samples_leaf=3, total=   0.0s\n",
      "[CV] max_features=0.5, splitter=random, criterion=gini, max_depth=5, min_samples_leaf=3 \n",
      "[CV]  max_features=0.5, splitter=random, criterion=gini, max_depth=5, min_samples_leaf=3, total=   0.0s\n",
      "[CV] max_features=0.5, splitter=random, criterion=gini, max_depth=5, min_samples_leaf=3 \n",
      "[CV]  max_features=0.5, splitter=random, criterion=gini, max_depth=5, min_samples_leaf=3, total=   0.0s\n",
      "[CV] max_features=0.5, splitter=best, criterion=gini, max_depth=5, min_samples_leaf=3 \n",
      "[CV]  max_features=0.5, splitter=best, criterion=gini, max_depth=5, min_samples_leaf=2, total=   0.1s\n",
      "[CV] max_features=0.5, splitter=best, criterion=gini, max_depth=5, min_samples_leaf=2 \n",
      "[CV]  max_features=0.5, splitter=best, criterion=gini, max_depth=5, min_samples_leaf=3, total=   0.0s\n",
      "[CV] max_features=0.5, splitter=best, criterion=gini, max_depth=5, min_samples_leaf=3 \n",
      "[CV]  max_features=0.5, splitter=best, criterion=gini, max_depth=5, min_samples_leaf=3, total=   0.1s\n",
      "[CV] max_features=0.5, splitter=best, criterion=gini, max_depth=5, min_samples_leaf=3 \n",
      "[CV]  max_features=0.5, splitter=best, criterion=gini, max_depth=5, min_samples_leaf=2, total=   0.2s\n",
      "[CV] max_features=0.5, splitter=best, criterion=gini, max_depth=5, min_samples_leaf=2 \n",
      "[CV]  max_features=0.5, splitter=best, criterion=gini, max_depth=5, min_samples_leaf=3, total=   0.1s\n",
      "[CV] max_features=0.5, splitter=best, criterion=gini, max_depth=5, min_samples_leaf=3 \n",
      "[CV]  max_features=0.5, splitter=best, criterion=gini, max_depth=5, min_samples_leaf=2, total=   0.2s\n",
      "[CV] max_features=0.5, splitter=random, criterion=gini, max_depth=5, min_samples_leaf=4 \n",
      "[CV]  max_features=0.5, splitter=best, criterion=gini, max_depth=5, min_samples_leaf=3, total=   0.2s\n",
      "[CV]  max_features=0.5, splitter=random, criterion=gini, max_depth=5, min_samples_leaf=4, total=   0.0s\n",
      "[CV] max_features=0.5, splitter=best, criterion=gini, max_depth=5, min_samples_leaf=3 \n",
      "[CV] max_features=0.5, splitter=random, criterion=gini, max_depth=5, min_samples_leaf=4 \n",
      "[CV]  max_features=0.5, splitter=random, criterion=gini, max_depth=5, min_samples_leaf=4, total=   0.0s\n"
     ]
    },
    {
     "name": "stdout",
     "output_type": "stream",
     "text": [
      "[CV] max_features=0.5, splitter=random, criterion=gini, max_depth=5, min_samples_leaf=4 \n",
      "[CV]  max_features=0.5, splitter=random, criterion=gini, max_depth=5, min_samples_leaf=4, total=   0.0s\n",
      "[CV] max_features=0.5, splitter=best, criterion=gini, max_depth=5, min_samples_leaf=4 \n",
      "[CV]  max_features=0.5, splitter=best, criterion=gini, max_depth=5, min_samples_leaf=4, total=   0.0s\n",
      "[CV] max_features=0.5, splitter=best, criterion=gini, max_depth=5, min_samples_leaf=4 \n",
      "[CV]  max_features=0.5, splitter=best, criterion=gini, max_depth=5, min_samples_leaf=4, total=   0.1s\n",
      "[CV] max_features=0.5, splitter=best, criterion=gini, max_depth=5, min_samples_leaf=4 \n",
      "[CV]  max_features=0.5, splitter=best, criterion=gini, max_depth=5, min_samples_leaf=3, total=   0.2s\n",
      "[CV] max_features=0.5, splitter=random, criterion=gini, max_depth=5, min_samples_leaf=4 \n",
      "[CV]  max_features=0.5, splitter=random, criterion=gini, max_depth=5, min_samples_leaf=4, total=   0.0s\n",
      "[CV] max_features=0.5, splitter=random, criterion=gini, max_depth=5, min_samples_leaf=4 \n",
      "[CV]  max_features=0.5, splitter=random, criterion=gini, max_depth=5, min_samples_leaf=4, total=   0.0s\n",
      "[CV] max_features=0.7, splitter=random, criterion=gini, max_depth=5, min_samples_leaf=1 \n",
      "[CV]  max_features=0.7, splitter=random, criterion=gini, max_depth=5, min_samples_leaf=1, total=   0.0s\n",
      "[CV] max_features=0.7, splitter=random, criterion=gini, max_depth=5, min_samples_leaf=1 \n",
      "[CV]  max_features=0.7, splitter=random, criterion=gini, max_depth=5, min_samples_leaf=1, total=   0.0s\n",
      "[CV] max_features=0.7, splitter=random, criterion=gini, max_depth=5, min_samples_leaf=1 \n",
      "[CV]  max_features=0.7, splitter=random, criterion=gini, max_depth=5, min_samples_leaf=1, total=   0.0s\n",
      "[CV] max_features=0.7, splitter=random, criterion=gini, max_depth=5, min_samples_leaf=1 \n",
      "[CV]  max_features=0.5, splitter=best, criterion=gini, max_depth=5, min_samples_leaf=4, total=   0.1s\n",
      "[CV] max_features=0.5, splitter=best, criterion=gini, max_depth=5, min_samples_leaf=4 \n",
      "[CV]  max_features=0.7, splitter=random, criterion=gini, max_depth=5, min_samples_leaf=1, total=   0.0s\n",
      "[CV] max_features=0.7, splitter=random, criterion=gini, max_depth=5, min_samples_leaf=1 \n",
      "[CV]  max_features=0.7, splitter=random, criterion=gini, max_depth=5, min_samples_leaf=1, total=   0.0s\n",
      "[CV] max_features=0.7, splitter=best, criterion=gini, max_depth=5, min_samples_leaf=1 \n",
      "[CV]  max_features=0.7, splitter=best, criterion=gini, max_depth=5, min_samples_leaf=1, total=   0.1s\n",
      "[CV] max_features=0.7, splitter=best, criterion=gini, max_depth=5, min_samples_leaf=1 \n",
      "[CV]  max_features=0.5, splitter=best, criterion=gini, max_depth=5, min_samples_leaf=4, total=   0.2s\n",
      "[CV] max_features=0.5, splitter=best, criterion=gini, max_depth=5, min_samples_leaf=4 \n",
      "[CV]  max_features=0.7, splitter=best, criterion=gini, max_depth=5, min_samples_leaf=1, total=   0.1s\n",
      "[CV] max_features=0.7, splitter=best, criterion=gini, max_depth=5, min_samples_leaf=1 \n",
      "[CV]  max_features=0.5, splitter=best, criterion=gini, max_depth=5, min_samples_leaf=4, total=   0.2s\n",
      "[CV] max_features=0.7, splitter=best, criterion=gini, max_depth=5, min_samples_leaf=1 \n",
      "[CV]  max_features=0.7, splitter=best, criterion=gini, max_depth=5, min_samples_leaf=1, total=   0.1s\n",
      "[CV] max_features=0.7, splitter=random, criterion=gini, max_depth=5, min_samples_leaf=2 \n",
      "[CV]  max_features=0.7, splitter=random, criterion=gini, max_depth=5, min_samples_leaf=2, total=   0.0s\n",
      "[CV] max_features=0.7, splitter=random, criterion=gini, max_depth=5, min_samples_leaf=2 \n",
      "[CV]  max_features=0.7, splitter=random, criterion=gini, max_depth=5, min_samples_leaf=2, total=   0.0s\n",
      "[CV] max_features=0.7, splitter=random, criterion=gini, max_depth=5, min_samples_leaf=2 \n",
      "[CV]  max_features=0.7, splitter=random, criterion=gini, max_depth=5, min_samples_leaf=2, total=   0.0s\n",
      "[CV] max_features=0.7, splitter=best, criterion=gini, max_depth=5, min_samples_leaf=2 \n",
      "[CV]  max_features=0.7, splitter=best, criterion=gini, max_depth=5, min_samples_leaf=1, total=   0.2s\n",
      "[CV] max_features=0.7, splitter=best, criterion=gini, max_depth=5, min_samples_leaf=1 \n",
      "[CV]  max_features=0.7, splitter=best, criterion=gini, max_depth=5, min_samples_leaf=2, total=   0.1s\n",
      "[CV] max_features=0.7, splitter=best, criterion=gini, max_depth=5, min_samples_leaf=2 \n",
      "[CV]  max_features=0.7, splitter=best, criterion=gini, max_depth=5, min_samples_leaf=2, total=   0.1s\n",
      "[CV] max_features=0.7, splitter=best, criterion=gini, max_depth=5, min_samples_leaf=2 \n",
      "[CV]  max_features=0.7, splitter=best, criterion=gini, max_depth=5, min_samples_leaf=2, total=   0.1s\n",
      "[CV] max_features=0.7, splitter=best, criterion=gini, max_depth=5, min_samples_leaf=2 \n",
      "[CV]  max_features=0.7, splitter=best, criterion=gini, max_depth=5, min_samples_leaf=1, total=   0.3s\n",
      "[CV] max_features=0.7, splitter=random, criterion=gini, max_depth=5, min_samples_leaf=2 \n",
      "[CV]  max_features=0.7, splitter=random, criterion=gini, max_depth=5, min_samples_leaf=2, total=   0.0s\n",
      "[CV] max_features=0.7, splitter=random, criterion=gini, max_depth=5, min_samples_leaf=2 \n",
      "[CV]  max_features=0.7, splitter=random, criterion=gini, max_depth=5, min_samples_leaf=2, total=   0.0s\n",
      "[CV] max_features=0.7, splitter=random, criterion=gini, max_depth=5, min_samples_leaf=3 \n",
      "[CV]  max_features=0.7, splitter=random, criterion=gini, max_depth=5, min_samples_leaf=3, total=   0.0s\n",
      "[CV] max_features=0.7, splitter=random, criterion=gini, max_depth=5, min_samples_leaf=3 \n",
      "[CV]  max_features=0.7, splitter=random, criterion=gini, max_depth=5, min_samples_leaf=3, total=   0.0s\n",
      "[CV] max_features=0.7, splitter=random, criterion=gini, max_depth=5, min_samples_leaf=3 \n",
      "[CV]  max_features=0.7, splitter=random, criterion=gini, max_depth=5, min_samples_leaf=3, total=   0.0s\n",
      "[CV] max_features=0.7, splitter=random, criterion=gini, max_depth=5, min_samples_leaf=3 \n",
      "[CV]  max_features=0.7, splitter=random, criterion=gini, max_depth=5, min_samples_leaf=3, total=   0.0s\n",
      "[CV] max_features=0.7, splitter=random, criterion=gini, max_depth=5, min_samples_leaf=3 \n",
      "[CV]  max_features=0.7, splitter=random, criterion=gini, max_depth=5, min_samples_leaf=3, total=   0.0s\n",
      "[CV] max_features=0.7, splitter=best, criterion=gini, max_depth=5, min_samples_leaf=3 \n",
      "[CV]  max_features=0.7, splitter=best, criterion=gini, max_depth=5, min_samples_leaf=2, total=   0.3s\n",
      "[CV] max_features=0.7, splitter=best, criterion=gini, max_depth=5, min_samples_leaf=2 \n",
      "[CV]  max_features=0.7, splitter=best, criterion=gini, max_depth=5, min_samples_leaf=3, total=   0.1s\n",
      "[CV] max_features=0.7, splitter=best, criterion=gini, max_depth=5, min_samples_leaf=3 \n",
      "[CV]  max_features=0.7, splitter=best, criterion=gini, max_depth=5, min_samples_leaf=3, total=   0.1s\n",
      "[CV] max_features=0.7, splitter=best, criterion=gini, max_depth=5, min_samples_leaf=3 \n",
      "[CV]  max_features=0.7, splitter=best, criterion=gini, max_depth=5, min_samples_leaf=2, total=   0.3s\n",
      "[CV] max_features=0.7, splitter=best, criterion=gini, max_depth=5, min_samples_leaf=3 \n",
      "[CV]  max_features=0.7, splitter=best, criterion=gini, max_depth=5, min_samples_leaf=3, total=   0.1s\n",
      "[CV] max_features=0.7, splitter=random, criterion=gini, max_depth=5, min_samples_leaf=4 \n",
      "[CV]  max_features=0.7, splitter=random, criterion=gini, max_depth=5, min_samples_leaf=4, total=   0.0s\n",
      "[CV] max_features=0.7, splitter=random, criterion=gini, max_depth=5, min_samples_leaf=4 \n",
      "[CV]  max_features=0.7, splitter=random, criterion=gini, max_depth=5, min_samples_leaf=4, total=   0.0s\n",
      "[CV] max_features=0.7, splitter=random, criterion=gini, max_depth=5, min_samples_leaf=4 \n",
      "[CV]  max_features=0.7, splitter=random, criterion=gini, max_depth=5, min_samples_leaf=4, total=   0.0s\n",
      "[CV] max_features=0.7, splitter=best, criterion=gini, max_depth=5, min_samples_leaf=4 \n",
      "[CV]  max_features=0.7, splitter=best, criterion=gini, max_depth=5, min_samples_leaf=4, total=   0.1s\n",
      "[CV] max_features=0.7, splitter=best, criterion=gini, max_depth=5, min_samples_leaf=4 \n",
      "[CV]  max_features=0.7, splitter=best, criterion=gini, max_depth=5, min_samples_leaf=3, total=   0.2s\n",
      "[CV] max_features=0.7, splitter=best, criterion=gini, max_depth=5, min_samples_leaf=3 \n",
      "[CV]  max_features=0.7, splitter=best, criterion=gini, max_depth=5, min_samples_leaf=4, total=   0.1s\n"
     ]
    },
    {
     "name": "stdout",
     "output_type": "stream",
     "text": [
      "[CV] max_features=0.7, splitter=best, criterion=gini, max_depth=5, min_samples_leaf=4 \n",
      "[CV]  max_features=0.7, splitter=best, criterion=gini, max_depth=5, min_samples_leaf=4, total=   0.1s\n",
      "[CV] max_features=0.7, splitter=best, criterion=gini, max_depth=5, min_samples_leaf=4 \n",
      "[CV]  max_features=0.7, splitter=best, criterion=gini, max_depth=5, min_samples_leaf=3, total=   0.2s\n",
      "[CV] max_features=0.7, splitter=random, criterion=gini, max_depth=5, min_samples_leaf=4 \n",
      "[CV]  max_features=0.7, splitter=random, criterion=gini, max_depth=5, min_samples_leaf=4, total=   0.0s\n",
      "[CV] max_features=0.7, splitter=random, criterion=gini, max_depth=5, min_samples_leaf=4 \n",
      "[CV]  max_features=0.7, splitter=random, criterion=gini, max_depth=5, min_samples_leaf=4, total=   0.0s\n",
      "[CV] max_features=0.1, splitter=random, criterion=gini, max_depth=7, min_samples_leaf=1 \n",
      "[CV]  max_features=0.1, splitter=random, criterion=gini, max_depth=7, min_samples_leaf=1, total=   0.0s\n",
      "[CV] max_features=0.1, splitter=random, criterion=gini, max_depth=7, min_samples_leaf=1 \n",
      "[CV]  max_features=0.1, splitter=random, criterion=gini, max_depth=7, min_samples_leaf=1, total=   0.0s\n",
      "[CV] max_features=0.1, splitter=random, criterion=gini, max_depth=7, min_samples_leaf=1 \n",
      "[CV]  max_features=0.1, splitter=random, criterion=gini, max_depth=7, min_samples_leaf=1, total=   0.0s\n",
      "[CV] max_features=0.1, splitter=random, criterion=gini, max_depth=7, min_samples_leaf=1 \n",
      "[CV]  max_features=0.1, splitter=random, criterion=gini, max_depth=7, min_samples_leaf=1, total=   0.0s\n",
      "[CV] max_features=0.1, splitter=random, criterion=gini, max_depth=7, min_samples_leaf=1 \n",
      "[CV]  max_features=0.1, splitter=random, criterion=gini, max_depth=7, min_samples_leaf=1, total=   0.0s\n",
      "[CV] max_features=0.1, splitter=best, criterion=gini, max_depth=7, min_samples_leaf=1 \n",
      "[CV]  max_features=0.1, splitter=best, criterion=gini, max_depth=7, min_samples_leaf=1, total=   0.0s\n",
      "[CV] max_features=0.1, splitter=best, criterion=gini, max_depth=7, min_samples_leaf=1 \n",
      "[CV]  max_features=0.7, splitter=best, criterion=gini, max_depth=5, min_samples_leaf=4, total=   0.3s\n",
      "[CV] max_features=0.7, splitter=best, criterion=gini, max_depth=5, min_samples_leaf=4 \n",
      "[CV]  max_features=0.1, splitter=best, criterion=gini, max_depth=7, min_samples_leaf=1, total=   0.0s\n",
      "[CV] max_features=0.1, splitter=best, criterion=gini, max_depth=7, min_samples_leaf=1 \n",
      "[CV]  max_features=0.1, splitter=best, criterion=gini, max_depth=7, min_samples_leaf=1, total=   0.0s\n",
      "[CV] max_features=0.1, splitter=best, criterion=gini, max_depth=7, min_samples_leaf=1 \n",
      "[CV]  max_features=0.1, splitter=best, criterion=gini, max_depth=7, min_samples_leaf=1, total=   0.1s\n",
      "[CV] max_features=0.1, splitter=best, criterion=gini, max_depth=7, min_samples_leaf=1 \n",
      "[CV]  max_features=0.1, splitter=best, criterion=gini, max_depth=7, min_samples_leaf=1, total=   0.1s\n",
      "[CV] max_features=0.1, splitter=random, criterion=gini, max_depth=7, min_samples_leaf=2 \n",
      "[CV]  max_features=0.1, splitter=random, criterion=gini, max_depth=7, min_samples_leaf=2, total=   0.0s\n",
      "[CV] max_features=0.1, splitter=random, criterion=gini, max_depth=7, min_samples_leaf=2 \n",
      "[CV]  max_features=0.1, splitter=random, criterion=gini, max_depth=7, min_samples_leaf=2, total=   0.0s\n",
      "[CV] max_features=0.1, splitter=random, criterion=gini, max_depth=7, min_samples_leaf=2 \n",
      "[CV]  max_features=0.7, splitter=best, criterion=gini, max_depth=5, min_samples_leaf=4, total=   0.3s\n",
      "[CV]  max_features=0.1, splitter=random, criterion=gini, max_depth=7, min_samples_leaf=2, total=   0.0s\n",
      "[CV] max_features=0.1, splitter=random, criterion=gini, max_depth=7, min_samples_leaf=2 \n",
      "[CV] max_features=0.1, splitter=best, criterion=gini, max_depth=7, min_samples_leaf=2 \n",
      "[CV]  max_features=0.1, splitter=random, criterion=gini, max_depth=7, min_samples_leaf=2, total=   0.0s\n",
      "[CV] max_features=0.1, splitter=random, criterion=gini, max_depth=7, min_samples_leaf=2 \n",
      "[CV]  max_features=0.1, splitter=best, criterion=gini, max_depth=7, min_samples_leaf=2, total=   0.0s\n",
      "[CV] max_features=0.1, splitter=best, criterion=gini, max_depth=7, min_samples_leaf=2 \n",
      "[CV]  max_features=0.1, splitter=random, criterion=gini, max_depth=7, min_samples_leaf=2, total=   0.0s\n",
      "[CV] max_features=0.1, splitter=best, criterion=gini, max_depth=7, min_samples_leaf=2 \n",
      "[CV]  max_features=0.1, splitter=best, criterion=gini, max_depth=7, min_samples_leaf=2, total=   0.0s\n",
      "[CV] max_features=0.1, splitter=random, criterion=gini, max_depth=7, min_samples_leaf=3 \n",
      "[CV]  max_features=0.1, splitter=best, criterion=gini, max_depth=7, min_samples_leaf=2, total=   0.0s\n",
      "[CV]  max_features=0.1, splitter=random, criterion=gini, max_depth=7, min_samples_leaf=3, total=   0.0s\n",
      "[CV] max_features=0.1, splitter=best, criterion=gini, max_depth=7, min_samples_leaf=2 \n",
      "[CV] max_features=0.1, splitter=random, criterion=gini, max_depth=7, min_samples_leaf=3 \n",
      "[CV]  max_features=0.1, splitter=random, criterion=gini, max_depth=7, min_samples_leaf=3, total=   0.0s\n",
      "[CV] max_features=0.1, splitter=random, criterion=gini, max_depth=7, min_samples_leaf=3 \n",
      "[CV]  max_features=0.1, splitter=random, criterion=gini, max_depth=7, min_samples_leaf=3, total=   0.0s\n",
      "[CV] max_features=0.1, splitter=random, criterion=gini, max_depth=7, min_samples_leaf=3 \n",
      "[CV]  max_features=0.1, splitter=random, criterion=gini, max_depth=7, min_samples_leaf=3, total=   0.0s\n",
      "[CV] max_features=0.1, splitter=random, criterion=gini, max_depth=7, min_samples_leaf=3 \n",
      "[CV]  max_features=0.1, splitter=best, criterion=gini, max_depth=7, min_samples_leaf=2, total=   0.1s\n",
      "[CV] max_features=0.1, splitter=best, criterion=gini, max_depth=7, min_samples_leaf=2 \n",
      "[CV]  max_features=0.1, splitter=random, criterion=gini, max_depth=7, min_samples_leaf=3, total=   0.0s\n",
      "[CV] max_features=0.1, splitter=best, criterion=gini, max_depth=7, min_samples_leaf=3 \n",
      "[CV]  max_features=0.1, splitter=best, criterion=gini, max_depth=7, min_samples_leaf=3, total=   0.0s\n",
      "[CV] max_features=0.1, splitter=best, criterion=gini, max_depth=7, min_samples_leaf=3 \n",
      "[CV]  max_features=0.1, splitter=best, criterion=gini, max_depth=7, min_samples_leaf=2, total=   0.1s\n",
      "[CV] max_features=0.1, splitter=best, criterion=gini, max_depth=7, min_samples_leaf=3 \n",
      "[CV]  max_features=0.1, splitter=best, criterion=gini, max_depth=7, min_samples_leaf=3, total=   0.0s\n",
      "[CV] max_features=0.1, splitter=best, criterion=gini, max_depth=7, min_samples_leaf=3 \n",
      "[CV]  max_features=0.1, splitter=best, criterion=gini, max_depth=7, min_samples_leaf=3, total=   0.0s\n",
      "[CV] max_features=0.1, splitter=random, criterion=gini, max_depth=7, min_samples_leaf=4 \n",
      "[CV]  max_features=0.1, splitter=best, criterion=gini, max_depth=7, min_samples_leaf=3, total=   0.1s\n",
      "[CV] max_features=0.1, splitter=best, criterion=gini, max_depth=7, min_samples_leaf=3 \n",
      "[CV]  max_features=0.1, splitter=random, criterion=gini, max_depth=7, min_samples_leaf=4, total=   0.0s\n",
      "[CV] max_features=0.1, splitter=random, criterion=gini, max_depth=7, min_samples_leaf=4 \n",
      "[CV]  max_features=0.1, splitter=random, criterion=gini, max_depth=7, min_samples_leaf=4, total=   0.0s\n",
      "[CV] max_features=0.1, splitter=random, criterion=gini, max_depth=7, min_samples_leaf=4 \n",
      "[CV]  max_features=0.1, splitter=random, criterion=gini, max_depth=7, min_samples_leaf=4, total=   0.0s\n",
      "[CV]  max_features=0.1, splitter=best, criterion=gini, max_depth=7, min_samples_leaf=3, total=   0.1s\n",
      "[CV] max_features=0.1, splitter=random, criterion=gini, max_depth=7, min_samples_leaf=4 \n",
      "[CV] max_features=0.1, splitter=best, criterion=gini, max_depth=7, min_samples_leaf=4 \n",
      "[CV]  max_features=0.1, splitter=random, criterion=gini, max_depth=7, min_samples_leaf=4, total=   0.0s\n",
      "[CV] max_features=0.1, splitter=random, criterion=gini, max_depth=7, min_samples_leaf=4 \n",
      "[CV]  max_features=0.1, splitter=best, criterion=gini, max_depth=7, min_samples_leaf=4, total=   0.0s\n",
      "[CV] max_features=0.1, splitter=best, criterion=gini, max_depth=7, min_samples_leaf=4 \n",
      "[CV]  max_features=0.1, splitter=random, criterion=gini, max_depth=7, min_samples_leaf=4, total=   0.0s\n",
      "[CV] max_features=0.5, splitter=random, criterion=gini, max_depth=7, min_samples_leaf=1 \n",
      "[CV]  max_features=0.5, splitter=random, criterion=gini, max_depth=7, min_samples_leaf=1, total=   0.0s\n"
     ]
    },
    {
     "name": "stdout",
     "output_type": "stream",
     "text": [
      "[CV] max_features=0.5, splitter=random, criterion=gini, max_depth=7, min_samples_leaf=1 \n",
      "[CV]  max_features=0.1, splitter=best, criterion=gini, max_depth=7, min_samples_leaf=4, total=   0.0s\n",
      "[CV] max_features=0.1, splitter=best, criterion=gini, max_depth=7, min_samples_leaf=4 \n",
      "[CV]  max_features=0.5, splitter=random, criterion=gini, max_depth=7, min_samples_leaf=1, total=   0.0s\n",
      "[CV] max_features=0.5, splitter=random, criterion=gini, max_depth=7, min_samples_leaf=1 \n",
      "[CV]  max_features=0.5, splitter=random, criterion=gini, max_depth=7, min_samples_leaf=1, total=   0.0s\n",
      "[CV]  max_features=0.1, splitter=best, criterion=gini, max_depth=7, min_samples_leaf=4, total=   0.0s\n",
      "[CV] max_features=0.5, splitter=random, criterion=gini, max_depth=7, min_samples_leaf=1 \n",
      "[CV] max_features=0.1, splitter=best, criterion=gini, max_depth=7, min_samples_leaf=4 \n",
      "[CV]  max_features=0.5, splitter=random, criterion=gini, max_depth=7, min_samples_leaf=1, total=   0.0s\n",
      "[CV] max_features=0.5, splitter=random, criterion=gini, max_depth=7, min_samples_leaf=1 \n",
      "[CV]  max_features=0.1, splitter=best, criterion=gini, max_depth=7, min_samples_leaf=4, total=   0.1s\n",
      "[CV] max_features=0.1, splitter=best, criterion=gini, max_depth=7, min_samples_leaf=4 \n",
      "[CV]  max_features=0.5, splitter=random, criterion=gini, max_depth=7, min_samples_leaf=1, total=   0.0s\n",
      "[CV] max_features=0.5, splitter=best, criterion=gini, max_depth=7, min_samples_leaf=1 \n",
      "[CV]  max_features=0.1, splitter=best, criterion=gini, max_depth=7, min_samples_leaf=4, total=   0.1s\n",
      "[CV]  max_features=0.5, splitter=best, criterion=gini, max_depth=7, min_samples_leaf=1, total=   0.0s\n",
      "[CV] max_features=0.5, splitter=best, criterion=gini, max_depth=7, min_samples_leaf=1 \n",
      "[CV] max_features=0.5, splitter=best, criterion=gini, max_depth=7, min_samples_leaf=1 \n",
      "[CV]  max_features=0.5, splitter=best, criterion=gini, max_depth=7, min_samples_leaf=1, total=   0.1s\n",
      "[CV] max_features=0.5, splitter=best, criterion=gini, max_depth=7, min_samples_leaf=1 \n",
      "[CV]  max_features=0.5, splitter=best, criterion=gini, max_depth=7, min_samples_leaf=1, total=   0.2s\n",
      "[CV] max_features=0.5, splitter=best, criterion=gini, max_depth=7, min_samples_leaf=1 \n",
      "[CV]  max_features=0.5, splitter=best, criterion=gini, max_depth=7, min_samples_leaf=1, total=   0.1s\n",
      "[CV] max_features=0.5, splitter=random, criterion=gini, max_depth=7, min_samples_leaf=2 \n",
      "[CV]  max_features=0.5, splitter=random, criterion=gini, max_depth=7, min_samples_leaf=2, total=   0.0s\n",
      "[CV] max_features=0.5, splitter=random, criterion=gini, max_depth=7, min_samples_leaf=2 \n",
      "[CV]  max_features=0.5, splitter=random, criterion=gini, max_depth=7, min_samples_leaf=2, total=   0.0s\n",
      "[CV] max_features=0.5, splitter=random, criterion=gini, max_depth=7, min_samples_leaf=2 \n",
      "[CV]  max_features=0.5, splitter=random, criterion=gini, max_depth=7, min_samples_leaf=2, total=   0.0s\n",
      "[CV] max_features=0.5, splitter=best, criterion=gini, max_depth=7, min_samples_leaf=2 \n",
      "[CV]  max_features=0.5, splitter=best, criterion=gini, max_depth=7, min_samples_leaf=2, total=   0.0s\n",
      "[CV] max_features=0.5, splitter=best, criterion=gini, max_depth=7, min_samples_leaf=2 \n",
      "[CV]  max_features=0.5, splitter=best, criterion=gini, max_depth=7, min_samples_leaf=1, total=   0.3s\n",
      "[CV] max_features=0.5, splitter=random, criterion=gini, max_depth=7, min_samples_leaf=2 \n",
      "[CV]  max_features=0.5, splitter=random, criterion=gini, max_depth=7, min_samples_leaf=2, total=   0.0s\n",
      "[CV] max_features=0.5, splitter=random, criterion=gini, max_depth=7, min_samples_leaf=2 \n",
      "[CV]  max_features=0.5, splitter=random, criterion=gini, max_depth=7, min_samples_leaf=2, total=   0.0s\n",
      "[CV] max_features=0.5, splitter=random, criterion=gini, max_depth=7, min_samples_leaf=3 \n",
      "[CV]  max_features=0.5, splitter=best, criterion=gini, max_depth=7, min_samples_leaf=2, total=   0.1s\n",
      "[CV] max_features=0.5, splitter=best, criterion=gini, max_depth=7, min_samples_leaf=2 \n",
      "[CV]  max_features=0.5, splitter=random, criterion=gini, max_depth=7, min_samples_leaf=3, total=   0.0s\n",
      "[CV] max_features=0.5, splitter=random, criterion=gini, max_depth=7, min_samples_leaf=3 \n",
      "[CV]  max_features=0.5, splitter=random, criterion=gini, max_depth=7, min_samples_leaf=3, total=   0.0s\n",
      "[CV] max_features=0.5, splitter=random, criterion=gini, max_depth=7, min_samples_leaf=3 \n",
      "[CV]  max_features=0.5, splitter=random, criterion=gini, max_depth=7, min_samples_leaf=3, total=   0.0s\n",
      "[CV] max_features=0.5, splitter=random, criterion=gini, max_depth=7, min_samples_leaf=3 \n",
      "[CV]  max_features=0.5, splitter=random, criterion=gini, max_depth=7, min_samples_leaf=3, total=   0.0s\n",
      "[CV] max_features=0.5, splitter=random, criterion=gini, max_depth=7, min_samples_leaf=3 \n",
      "[CV]  max_features=0.5, splitter=best, criterion=gini, max_depth=7, min_samples_leaf=2, total=   0.2s\n",
      "[CV] max_features=0.5, splitter=best, criterion=gini, max_depth=7, min_samples_leaf=2 \n",
      "[CV]  max_features=0.5, splitter=random, criterion=gini, max_depth=7, min_samples_leaf=3, total=   0.0s\n",
      "[CV] max_features=0.5, splitter=best, criterion=gini, max_depth=7, min_samples_leaf=3 \n",
      "[CV]  max_features=0.5, splitter=best, criterion=gini, max_depth=7, min_samples_leaf=3, total=   0.0s\n",
      "[CV] max_features=0.5, splitter=best, criterion=gini, max_depth=7, min_samples_leaf=3 \n",
      "[CV]  max_features=0.5, splitter=best, criterion=gini, max_depth=7, min_samples_leaf=3, total=   0.1s\n",
      "[CV] max_features=0.5, splitter=best, criterion=gini, max_depth=7, min_samples_leaf=3 \n",
      "[CV]  max_features=0.5, splitter=best, criterion=gini, max_depth=7, min_samples_leaf=2, total=   0.2s\n",
      "[CV] max_features=0.5, splitter=best, criterion=gini, max_depth=7, min_samples_leaf=2 \n",
      "[CV]  max_features=0.5, splitter=best, criterion=gini, max_depth=7, min_samples_leaf=3, total=   0.2s\n",
      "[CV] max_features=0.5, splitter=best, criterion=gini, max_depth=7, min_samples_leaf=3 \n",
      "[CV]  max_features=0.5, splitter=best, criterion=gini, max_depth=7, min_samples_leaf=2, total=   0.2s\n",
      "[CV] max_features=0.5, splitter=random, criterion=gini, max_depth=7, min_samples_leaf=4 \n",
      "[CV]  max_features=0.5, splitter=random, criterion=gini, max_depth=7, min_samples_leaf=4, total=   0.0s\n",
      "[CV] max_features=0.5, splitter=random, criterion=gini, max_depth=7, min_samples_leaf=4 \n",
      "[CV]  max_features=0.5, splitter=best, criterion=gini, max_depth=7, min_samples_leaf=3, total=   0.2s\n",
      "[CV] max_features=0.5, splitter=best, criterion=gini, max_depth=7, min_samples_leaf=3 \n",
      "[CV]  max_features=0.5, splitter=random, criterion=gini, max_depth=7, min_samples_leaf=4, total=   0.0s\n",
      "[CV] max_features=0.5, splitter=random, criterion=gini, max_depth=7, min_samples_leaf=4 \n",
      "[CV]  max_features=0.5, splitter=random, criterion=gini, max_depth=7, min_samples_leaf=4, total=   0.0s\n",
      "[CV] max_features=0.5, splitter=best, criterion=gini, max_depth=7, min_samples_leaf=4 \n",
      "[CV]  max_features=0.5, splitter=best, criterion=gini, max_depth=7, min_samples_leaf=4, total=   0.0s\n",
      "[CV] max_features=0.5, splitter=best, criterion=gini, max_depth=7, min_samples_leaf=4 \n",
      "[CV]  max_features=0.5, splitter=best, criterion=gini, max_depth=7, min_samples_leaf=4, total=   0.1s\n",
      "[CV] max_features=0.5, splitter=best, criterion=gini, max_depth=7, min_samples_leaf=4 \n",
      "[CV]  max_features=0.5, splitter=best, criterion=gini, max_depth=7, min_samples_leaf=3, total=   0.3s\n",
      "[CV] max_features=0.5, splitter=random, criterion=gini, max_depth=7, min_samples_leaf=4 \n",
      "[CV]  max_features=0.5, splitter=random, criterion=gini, max_depth=7, min_samples_leaf=4, total=   0.0s\n",
      "[CV] max_features=0.5, splitter=random, criterion=gini, max_depth=7, min_samples_leaf=4 \n",
      "[CV]  max_features=0.5, splitter=random, criterion=gini, max_depth=7, min_samples_leaf=4, total=   0.0s\n",
      "[CV] max_features=0.7, splitter=random, criterion=gini, max_depth=7, min_samples_leaf=1 \n",
      "[CV]  max_features=0.7, splitter=random, criterion=gini, max_depth=7, min_samples_leaf=1, total=   0.0s\n",
      "[CV] max_features=0.7, splitter=random, criterion=gini, max_depth=7, min_samples_leaf=1 \n",
      "[CV]  max_features=0.5, splitter=best, criterion=gini, max_depth=7, min_samples_leaf=4, total=   0.2s\n",
      "[CV] max_features=0.5, splitter=best, criterion=gini, max_depth=7, min_samples_leaf=4 \n",
      "[CV]  max_features=0.7, splitter=random, criterion=gini, max_depth=7, min_samples_leaf=1, total=   0.0s\n"
     ]
    },
    {
     "name": "stdout",
     "output_type": "stream",
     "text": [
      "[CV] max_features=0.7, splitter=random, criterion=gini, max_depth=7, min_samples_leaf=1 \n",
      "[CV]  max_features=0.7, splitter=random, criterion=gini, max_depth=7, min_samples_leaf=1, total=   0.0s\n",
      "[CV] max_features=0.7, splitter=random, criterion=gini, max_depth=7, min_samples_leaf=1 \n",
      "[CV]  max_features=0.7, splitter=random, criterion=gini, max_depth=7, min_samples_leaf=1, total=   0.0s\n",
      "[CV] max_features=0.7, splitter=random, criterion=gini, max_depth=7, min_samples_leaf=1 \n",
      "[CV]  max_features=0.7, splitter=random, criterion=gini, max_depth=7, min_samples_leaf=1, total=   0.1s\n",
      "[CV] max_features=0.7, splitter=best, criterion=gini, max_depth=7, min_samples_leaf=1 \n",
      "[CV]  max_features=0.5, splitter=best, criterion=gini, max_depth=7, min_samples_leaf=4, total=   0.2s\n",
      "[CV] max_features=0.5, splitter=best, criterion=gini, max_depth=7, min_samples_leaf=4 \n",
      "[CV]  max_features=0.7, splitter=best, criterion=gini, max_depth=7, min_samples_leaf=1, total=   0.1s\n",
      "[CV] max_features=0.7, splitter=best, criterion=gini, max_depth=7, min_samples_leaf=1 \n",
      "[CV]  max_features=0.7, splitter=best, criterion=gini, max_depth=7, min_samples_leaf=1, total=   0.1s\n",
      "[CV] max_features=0.7, splitter=best, criterion=gini, max_depth=7, min_samples_leaf=1 \n",
      "[CV]  max_features=0.5, splitter=best, criterion=gini, max_depth=7, min_samples_leaf=4, total=   0.2s\n",
      "[CV] max_features=0.7, splitter=best, criterion=gini, max_depth=7, min_samples_leaf=1 \n",
      "[CV]  max_features=0.7, splitter=best, criterion=gini, max_depth=7, min_samples_leaf=1, total=   0.2s\n",
      "[CV] max_features=0.7, splitter=random, criterion=gini, max_depth=7, min_samples_leaf=2 \n",
      "[CV]  max_features=0.7, splitter=random, criterion=gini, max_depth=7, min_samples_leaf=2, total=   0.0s\n",
      "[CV] max_features=0.7, splitter=random, criterion=gini, max_depth=7, min_samples_leaf=2 \n",
      "[CV]  max_features=0.7, splitter=random, criterion=gini, max_depth=7, min_samples_leaf=2, total=   0.0s\n",
      "[CV] max_features=0.7, splitter=random, criterion=gini, max_depth=7, min_samples_leaf=2 \n",
      "[CV]  max_features=0.7, splitter=random, criterion=gini, max_depth=7, min_samples_leaf=2, total=   0.1s\n",
      "[CV] max_features=0.7, splitter=best, criterion=gini, max_depth=7, min_samples_leaf=2 \n",
      "[CV]  max_features=0.7, splitter=best, criterion=gini, max_depth=7, min_samples_leaf=1, total=   0.3s\n",
      "[CV]  max_features=0.7, splitter=best, criterion=gini, max_depth=7, min_samples_leaf=2, total=   0.1s\n",
      "[CV] max_features=0.7, splitter=best, criterion=gini, max_depth=7, min_samples_leaf=1 \n",
      "[CV] max_features=0.7, splitter=best, criterion=gini, max_depth=7, min_samples_leaf=2 \n",
      "[CV]  max_features=0.7, splitter=best, criterion=gini, max_depth=7, min_samples_leaf=2, total=   0.1s\n",
      "[CV] max_features=0.7, splitter=best, criterion=gini, max_depth=7, min_samples_leaf=2 \n",
      "[CV]  max_features=0.7, splitter=best, criterion=gini, max_depth=7, min_samples_leaf=2, total=   0.2s\n",
      "[CV] max_features=0.7, splitter=best, criterion=gini, max_depth=7, min_samples_leaf=2 \n",
      "[CV]  max_features=0.7, splitter=best, criterion=gini, max_depth=7, min_samples_leaf=1, total=   0.3s\n",
      "[CV] max_features=0.7, splitter=random, criterion=gini, max_depth=7, min_samples_leaf=2 \n",
      "[CV]  max_features=0.7, splitter=random, criterion=gini, max_depth=7, min_samples_leaf=2, total=   0.0s\n",
      "[CV] max_features=0.7, splitter=random, criterion=gini, max_depth=7, min_samples_leaf=2 \n",
      "[CV]  max_features=0.7, splitter=random, criterion=gini, max_depth=7, min_samples_leaf=2, total=   0.0s\n",
      "[CV] max_features=0.7, splitter=random, criterion=gini, max_depth=7, min_samples_leaf=3 \n",
      "[CV]  max_features=0.7, splitter=random, criterion=gini, max_depth=7, min_samples_leaf=3, total=   0.0s\n",
      "[CV] max_features=0.7, splitter=random, criterion=gini, max_depth=7, min_samples_leaf=3 \n",
      "[CV]  max_features=0.7, splitter=random, criterion=gini, max_depth=7, min_samples_leaf=3, total=   0.0s\n",
      "[CV] max_features=0.7, splitter=random, criterion=gini, max_depth=7, min_samples_leaf=3 \n",
      "[CV]  max_features=0.7, splitter=random, criterion=gini, max_depth=7, min_samples_leaf=3, total=   0.0s\n",
      "[CV] max_features=0.7, splitter=random, criterion=gini, max_depth=7, min_samples_leaf=3 \n",
      "[CV]  max_features=0.7, splitter=random, criterion=gini, max_depth=7, min_samples_leaf=3, total=   0.0s\n",
      "[CV] max_features=0.7, splitter=random, criterion=gini, max_depth=7, min_samples_leaf=3 \n",
      "[CV]  max_features=0.7, splitter=random, criterion=gini, max_depth=7, min_samples_leaf=3, total=   0.1s\n",
      "[CV] max_features=0.7, splitter=best, criterion=gini, max_depth=7, min_samples_leaf=3 \n",
      "[CV]  max_features=0.7, splitter=best, criterion=gini, max_depth=7, min_samples_leaf=3, total=   0.1s\n",
      "[CV] max_features=0.7, splitter=best, criterion=gini, max_depth=7, min_samples_leaf=3 \n",
      "[CV]  max_features=0.7, splitter=best, criterion=gini, max_depth=7, min_samples_leaf=2, total=   0.3s\n",
      "[CV] max_features=0.7, splitter=best, criterion=gini, max_depth=7, min_samples_leaf=2 \n",
      "[CV]  max_features=0.7, splitter=best, criterion=gini, max_depth=7, min_samples_leaf=3, total=   0.1s\n",
      "[CV] max_features=0.7, splitter=best, criterion=gini, max_depth=7, min_samples_leaf=3 \n",
      "[CV]  max_features=0.7, splitter=best, criterion=gini, max_depth=7, min_samples_leaf=3, total=   0.2s\n",
      "[CV]  max_features=0.7, splitter=best, criterion=gini, max_depth=7, min_samples_leaf=2, total=   0.3s\n",
      "[CV] max_features=0.7, splitter=best, criterion=gini, max_depth=7, min_samples_leaf=3 \n",
      "[CV] max_features=0.7, splitter=random, criterion=gini, max_depth=7, min_samples_leaf=4 \n",
      "[CV]  max_features=0.7, splitter=random, criterion=gini, max_depth=7, min_samples_leaf=4, total=   0.0s\n",
      "[CV] max_features=0.7, splitter=random, criterion=gini, max_depth=7, min_samples_leaf=4 \n",
      "[CV]  max_features=0.7, splitter=random, criterion=gini, max_depth=7, min_samples_leaf=4, total=   0.0s\n",
      "[CV] max_features=0.7, splitter=random, criterion=gini, max_depth=7, min_samples_leaf=4 \n",
      "[CV]  max_features=0.7, splitter=random, criterion=gini, max_depth=7, min_samples_leaf=4, total=   0.0s\n",
      "[CV] max_features=0.7, splitter=best, criterion=gini, max_depth=7, min_samples_leaf=4 \n",
      "[CV]  max_features=0.7, splitter=best, criterion=gini, max_depth=7, min_samples_leaf=4, total=   0.1s\n",
      "[CV] max_features=0.7, splitter=best, criterion=gini, max_depth=7, min_samples_leaf=4 \n",
      "[CV]  max_features=0.7, splitter=best, criterion=gini, max_depth=7, min_samples_leaf=3, total=   0.3s\n",
      "[CV] max_features=0.7, splitter=best, criterion=gini, max_depth=7, min_samples_leaf=3 \n",
      "[CV]  max_features=0.7, splitter=best, criterion=gini, max_depth=7, min_samples_leaf=4, total=   0.1s\n",
      "[CV] max_features=0.7, splitter=best, criterion=gini, max_depth=7, min_samples_leaf=4 \n",
      "[CV]  max_features=0.7, splitter=best, criterion=gini, max_depth=7, min_samples_leaf=4, total=   0.2s\n",
      "[CV] max_features=0.7, splitter=best, criterion=gini, max_depth=7, min_samples_leaf=4 \n",
      "[CV]  max_features=0.7, splitter=best, criterion=gini, max_depth=7, min_samples_leaf=3, total=   0.3s\n",
      "[CV] max_features=0.7, splitter=random, criterion=gini, max_depth=7, min_samples_leaf=4 \n",
      "[CV]  max_features=0.7, splitter=random, criterion=gini, max_depth=7, min_samples_leaf=4, total=   0.0s\n",
      "[CV] max_features=0.7, splitter=random, criterion=gini, max_depth=7, min_samples_leaf=4 \n",
      "[CV]  max_features=0.7, splitter=random, criterion=gini, max_depth=7, min_samples_leaf=4, total=   0.0s\n",
      "[CV] max_features=0.1, splitter=random, criterion=gini, max_depth=9, min_samples_leaf=1 \n",
      "[CV]  max_features=0.1, splitter=random, criterion=gini, max_depth=9, min_samples_leaf=1, total=   0.0s\n",
      "[CV] max_features=0.1, splitter=random, criterion=gini, max_depth=9, min_samples_leaf=1 \n",
      "[CV]  max_features=0.1, splitter=random, criterion=gini, max_depth=9, min_samples_leaf=1, total=   0.0s\n",
      "[CV] max_features=0.1, splitter=random, criterion=gini, max_depth=9, min_samples_leaf=1 \n",
      "[CV]  max_features=0.1, splitter=random, criterion=gini, max_depth=9, min_samples_leaf=1, total=   0.0s\n",
      "[CV] max_features=0.1, splitter=random, criterion=gini, max_depth=9, min_samples_leaf=1 \n",
      "[CV]  max_features=0.1, splitter=random, criterion=gini, max_depth=9, min_samples_leaf=1, total=   0.0s\n",
      "[CV] max_features=0.1, splitter=random, criterion=gini, max_depth=9, min_samples_leaf=1 \n",
      "[CV]  max_features=0.1, splitter=random, criterion=gini, max_depth=9, min_samples_leaf=1, total=   0.0s\n"
     ]
    },
    {
     "name": "stdout",
     "output_type": "stream",
     "text": [
      "[CV] max_features=0.1, splitter=best, criterion=gini, max_depth=9, min_samples_leaf=1 \n",
      "[CV]  max_features=0.7, splitter=best, criterion=gini, max_depth=7, min_samples_leaf=4, total=   0.3s\n",
      "[CV] max_features=0.7, splitter=best, criterion=gini, max_depth=7, min_samples_leaf=4 \n",
      "[CV]  max_features=0.1, splitter=best, criterion=gini, max_depth=9, min_samples_leaf=1, total=   0.0s\n",
      "[CV] max_features=0.1, splitter=best, criterion=gini, max_depth=9, min_samples_leaf=1 \n",
      "[CV]  max_features=0.1, splitter=best, criterion=gini, max_depth=9, min_samples_leaf=1, total=   0.0s\n",
      "[CV] max_features=0.1, splitter=best, criterion=gini, max_depth=9, min_samples_leaf=1 \n",
      "[CV]  max_features=0.1, splitter=best, criterion=gini, max_depth=9, min_samples_leaf=1, total=   0.0s\n",
      "[CV] max_features=0.1, splitter=best, criterion=gini, max_depth=9, min_samples_leaf=1 \n",
      "[CV]  max_features=0.1, splitter=best, criterion=gini, max_depth=9, min_samples_leaf=1, total=   0.1s\n",
      "[CV] max_features=0.1, splitter=best, criterion=gini, max_depth=9, min_samples_leaf=1 \n",
      "[CV]  max_features=0.1, splitter=best, criterion=gini, max_depth=9, min_samples_leaf=1, total=   0.1s\n",
      "[CV] max_features=0.1, splitter=random, criterion=gini, max_depth=9, min_samples_leaf=2 \n",
      "[CV]  max_features=0.1, splitter=random, criterion=gini, max_depth=9, min_samples_leaf=2, total=   0.0s\n",
      "[CV] max_features=0.1, splitter=random, criterion=gini, max_depth=9, min_samples_leaf=2 \n",
      "[CV]  max_features=0.1, splitter=random, criterion=gini, max_depth=9, min_samples_leaf=2, total=   0.0s\n",
      "[CV] max_features=0.1, splitter=random, criterion=gini, max_depth=9, min_samples_leaf=2 \n",
      "[CV]  max_features=0.1, splitter=random, criterion=gini, max_depth=9, min_samples_leaf=2, total=   0.0s\n",
      "[CV] max_features=0.1, splitter=random, criterion=gini, max_depth=9, min_samples_leaf=2 \n",
      "[CV]  max_features=0.1, splitter=random, criterion=gini, max_depth=9, min_samples_leaf=2, total=   0.0s\n",
      "[CV] max_features=0.1, splitter=random, criterion=gini, max_depth=9, min_samples_leaf=2 \n",
      "[CV]  max_features=0.1, splitter=random, criterion=gini, max_depth=9, min_samples_leaf=2, total=   0.0s\n",
      "[CV]  max_features=0.7, splitter=best, criterion=gini, max_depth=7, min_samples_leaf=4, total=   0.4s\n",
      "[CV] max_features=0.1, splitter=best, criterion=gini, max_depth=9, min_samples_leaf=2 \n",
      "[CV] max_features=0.1, splitter=best, criterion=gini, max_depth=9, min_samples_leaf=2 \n",
      "[CV]  max_features=0.1, splitter=best, criterion=gini, max_depth=9, min_samples_leaf=2, total=   0.0s\n",
      "[CV] max_features=0.1, splitter=random, criterion=gini, max_depth=9, min_samples_leaf=3 \n",
      "[CV]  max_features=0.1, splitter=random, criterion=gini, max_depth=9, min_samples_leaf=3, total=   0.0s\n",
      "[CV] max_features=0.1, splitter=random, criterion=gini, max_depth=9, min_samples_leaf=3 \n",
      "[CV]  max_features=0.1, splitter=best, criterion=gini, max_depth=9, min_samples_leaf=2, total=   0.0s\n",
      "[CV] max_features=0.1, splitter=best, criterion=gini, max_depth=9, min_samples_leaf=2 \n",
      "[CV]  max_features=0.1, splitter=random, criterion=gini, max_depth=9, min_samples_leaf=3, total=   0.0s\n",
      "[CV] max_features=0.1, splitter=random, criterion=gini, max_depth=9, min_samples_leaf=3 \n",
      "[CV]  max_features=0.1, splitter=random, criterion=gini, max_depth=9, min_samples_leaf=3, total=   0.0s\n",
      "[CV] max_features=0.1, splitter=random, criterion=gini, max_depth=9, min_samples_leaf=3 \n",
      "[CV]  max_features=0.1, splitter=best, criterion=gini, max_depth=9, min_samples_leaf=2, total=   0.1s\n",
      "[CV] max_features=0.1, splitter=best, criterion=gini, max_depth=9, min_samples_leaf=2 \n",
      "[CV]  max_features=0.1, splitter=random, criterion=gini, max_depth=9, min_samples_leaf=3, total=   0.0s\n",
      "[CV] max_features=0.1, splitter=random, criterion=gini, max_depth=9, min_samples_leaf=3 \n",
      "[CV]  max_features=0.1, splitter=random, criterion=gini, max_depth=9, min_samples_leaf=3, total=   0.0s\n",
      "[CV] max_features=0.1, splitter=best, criterion=gini, max_depth=9, min_samples_leaf=3 \n",
      "[CV]  max_features=0.1, splitter=best, criterion=gini, max_depth=9, min_samples_leaf=3, total=   0.0s\n",
      "[CV] max_features=0.1, splitter=best, criterion=gini, max_depth=9, min_samples_leaf=3 \n",
      "[CV]  max_features=0.1, splitter=best, criterion=gini, max_depth=9, min_samples_leaf=2, total=   0.1s\n",
      "[CV] max_features=0.1, splitter=best, criterion=gini, max_depth=9, min_samples_leaf=2 \n",
      "[CV]  max_features=0.1, splitter=best, criterion=gini, max_depth=9, min_samples_leaf=3, total=   0.0s\n",
      "[CV] max_features=0.1, splitter=best, criterion=gini, max_depth=9, min_samples_leaf=3 \n",
      "[CV]  max_features=0.1, splitter=best, criterion=gini, max_depth=9, min_samples_leaf=3, total=   0.0s\n",
      "[CV] max_features=0.1, splitter=best, criterion=gini, max_depth=9, min_samples_leaf=3 \n",
      "[CV]  max_features=0.1, splitter=best, criterion=gini, max_depth=9, min_samples_leaf=2, total=   0.1s\n",
      "[CV] max_features=0.1, splitter=random, criterion=gini, max_depth=9, min_samples_leaf=4 \n",
      "[CV]  max_features=0.1, splitter=random, criterion=gini, max_depth=9, min_samples_leaf=4, total=   0.0s\n",
      "[CV] max_features=0.1, splitter=random, criterion=gini, max_depth=9, min_samples_leaf=4 \n",
      "[CV]  max_features=0.1, splitter=best, criterion=gini, max_depth=9, min_samples_leaf=3, total=   0.1s\n",
      "[CV] max_features=0.1, splitter=best, criterion=gini, max_depth=9, min_samples_leaf=3 \n",
      "[CV]  max_features=0.1, splitter=random, criterion=gini, max_depth=9, min_samples_leaf=4, total=   0.0s\n",
      "[CV] max_features=0.1, splitter=random, criterion=gini, max_depth=9, min_samples_leaf=4 \n",
      "[CV]  max_features=0.1, splitter=random, criterion=gini, max_depth=9, min_samples_leaf=4, total=   0.0s\n",
      "[CV] max_features=0.1, splitter=best, criterion=gini, max_depth=9, min_samples_leaf=4 \n",
      "[CV]  max_features=0.1, splitter=best, criterion=gini, max_depth=9, min_samples_leaf=4, total=   0.0s\n",
      "[CV] max_features=0.1, splitter=best, criterion=gini, max_depth=9, min_samples_leaf=4 \n",
      "[CV]  max_features=0.1, splitter=best, criterion=gini, max_depth=9, min_samples_leaf=3, total=   0.1s\n",
      "[CV] max_features=0.1, splitter=random, criterion=gini, max_depth=9, min_samples_leaf=4 \n",
      "[CV]  max_features=0.1, splitter=best, criterion=gini, max_depth=9, min_samples_leaf=4, total=   0.0s\n",
      "[CV] max_features=0.1, splitter=best, criterion=gini, max_depth=9, min_samples_leaf=4 \n",
      "[CV]  max_features=0.1, splitter=random, criterion=gini, max_depth=9, min_samples_leaf=4, total=   0.0s\n",
      "[CV] max_features=0.1, splitter=random, criterion=gini, max_depth=9, min_samples_leaf=4 \n",
      "[CV]  max_features=0.1, splitter=random, criterion=gini, max_depth=9, min_samples_leaf=4, total=   0.0s\n",
      "[CV] max_features=0.5, splitter=random, criterion=gini, max_depth=9, min_samples_leaf=1 \n",
      "[CV]  max_features=0.1, splitter=best, criterion=gini, max_depth=9, min_samples_leaf=4, total=   0.1s\n",
      "[CV] max_features=0.1, splitter=best, criterion=gini, max_depth=9, min_samples_leaf=4 \n",
      "[CV]  max_features=0.5, splitter=random, criterion=gini, max_depth=9, min_samples_leaf=1, total=   0.0s\n",
      "[CV] max_features=0.5, splitter=random, criterion=gini, max_depth=9, min_samples_leaf=1 \n",
      "[CV]  max_features=0.5, splitter=random, criterion=gini, max_depth=9, min_samples_leaf=1, total=   0.0s\n",
      "[CV] max_features=0.5, splitter=random, criterion=gini, max_depth=9, min_samples_leaf=1 \n",
      "[CV]  max_features=0.5, splitter=random, criterion=gini, max_depth=9, min_samples_leaf=1, total=   0.0s\n",
      "[CV] max_features=0.5, splitter=random, criterion=gini, max_depth=9, min_samples_leaf=1 \n",
      "[CV]  max_features=0.1, splitter=best, criterion=gini, max_depth=9, min_samples_leaf=4, total=   0.1s\n",
      "[CV] max_features=0.1, splitter=best, criterion=gini, max_depth=9, min_samples_leaf=4 \n",
      "[CV]  max_features=0.5, splitter=random, criterion=gini, max_depth=9, min_samples_leaf=1, total=   0.0s\n",
      "[CV] max_features=0.5, splitter=random, criterion=gini, max_depth=9, min_samples_leaf=1 \n",
      "[CV]  max_features=0.1, splitter=best, criterion=gini, max_depth=9, min_samples_leaf=4, total=   0.1s\n",
      "[CV] max_features=0.5, splitter=best, criterion=gini, max_depth=9, min_samples_leaf=1 \n",
      "[CV]  max_features=0.5, splitter=random, criterion=gini, max_depth=9, min_samples_leaf=1, total=   0.1s\n",
      "[CV] max_features=0.5, splitter=best, criterion=gini, max_depth=9, min_samples_leaf=1 \n",
      "[CV]  max_features=0.5, splitter=best, criterion=gini, max_depth=9, min_samples_leaf=1, total=   0.1s\n"
     ]
    },
    {
     "name": "stdout",
     "output_type": "stream",
     "text": [
      "[CV] max_features=0.5, splitter=best, criterion=gini, max_depth=9, min_samples_leaf=1 \n",
      "[CV]  max_features=0.5, splitter=best, criterion=gini, max_depth=9, min_samples_leaf=1, total=   0.1s\n",
      "[CV] max_features=0.5, splitter=best, criterion=gini, max_depth=9, min_samples_leaf=1 \n",
      "[CV]  max_features=0.5, splitter=best, criterion=gini, max_depth=9, min_samples_leaf=1, total=   0.3s\n",
      "[CV] max_features=0.5, splitter=best, criterion=gini, max_depth=9, min_samples_leaf=1 \n",
      "[CV]  max_features=0.5, splitter=best, criterion=gini, max_depth=9, min_samples_leaf=1, total=   0.2s\n",
      "[CV] max_features=0.5, splitter=random, criterion=gini, max_depth=9, min_samples_leaf=2 \n",
      "[CV]  max_features=0.5, splitter=random, criterion=gini, max_depth=9, min_samples_leaf=2, total=   0.0s\n",
      "[CV] max_features=0.5, splitter=random, criterion=gini, max_depth=9, min_samples_leaf=2 \n",
      "[CV]  max_features=0.5, splitter=random, criterion=gini, max_depth=9, min_samples_leaf=2, total=   0.0s\n",
      "[CV] max_features=0.5, splitter=random, criterion=gini, max_depth=9, min_samples_leaf=2 \n",
      "[CV]  max_features=0.5, splitter=random, criterion=gini, max_depth=9, min_samples_leaf=2, total=   0.0s\n",
      "[CV] max_features=0.5, splitter=best, criterion=gini, max_depth=9, min_samples_leaf=2 \n",
      "[CV]  max_features=0.5, splitter=best, criterion=gini, max_depth=9, min_samples_leaf=2, total=   0.1s\n",
      "[CV] max_features=0.5, splitter=best, criterion=gini, max_depth=9, min_samples_leaf=2 \n",
      "[CV]  max_features=0.5, splitter=best, criterion=gini, max_depth=9, min_samples_leaf=1, total=   0.3s\n",
      "[CV] max_features=0.5, splitter=random, criterion=gini, max_depth=9, min_samples_leaf=2 \n",
      "[CV]  max_features=0.5, splitter=random, criterion=gini, max_depth=9, min_samples_leaf=2, total=   0.0s\n",
      "[CV] max_features=0.5, splitter=random, criterion=gini, max_depth=9, min_samples_leaf=2 \n",
      "[CV]  max_features=0.5, splitter=random, criterion=gini, max_depth=9, min_samples_leaf=2, total=   0.0s\n",
      "[CV] max_features=0.5, splitter=random, criterion=gini, max_depth=9, min_samples_leaf=3 \n",
      "[CV]  max_features=0.5, splitter=best, criterion=gini, max_depth=9, min_samples_leaf=2, total=   0.1s\n",
      "[CV]  max_features=0.5, splitter=random, criterion=gini, max_depth=9, min_samples_leaf=3, total=   0.0s\n",
      "[CV] max_features=0.5, splitter=best, criterion=gini, max_depth=9, min_samples_leaf=2 \n",
      "[CV] max_features=0.5, splitter=random, criterion=gini, max_depth=9, min_samples_leaf=3 \n",
      "[CV]  max_features=0.5, splitter=random, criterion=gini, max_depth=9, min_samples_leaf=3, total=   0.0s\n",
      "[CV] max_features=0.5, splitter=random, criterion=gini, max_depth=9, min_samples_leaf=3 \n",
      "[CV]  max_features=0.5, splitter=random, criterion=gini, max_depth=9, min_samples_leaf=3, total=   0.0s\n",
      "[CV] max_features=0.5, splitter=random, criterion=gini, max_depth=9, min_samples_leaf=3 \n",
      "[CV]  max_features=0.5, splitter=random, criterion=gini, max_depth=9, min_samples_leaf=3, total=   0.0s\n",
      "[CV] max_features=0.5, splitter=random, criterion=gini, max_depth=9, min_samples_leaf=3 \n",
      "[CV]  max_features=0.5, splitter=random, criterion=gini, max_depth=9, min_samples_leaf=3, total=   0.1s\n",
      "[CV] max_features=0.5, splitter=best, criterion=gini, max_depth=9, min_samples_leaf=3 \n",
      "[CV]  max_features=0.5, splitter=best, criterion=gini, max_depth=9, min_samples_leaf=2, total=   0.2s\n",
      "[CV] max_features=0.5, splitter=best, criterion=gini, max_depth=9, min_samples_leaf=2 \n",
      "[CV]  max_features=0.5, splitter=best, criterion=gini, max_depth=9, min_samples_leaf=3, total=   0.1s\n",
      "[CV] max_features=0.5, splitter=best, criterion=gini, max_depth=9, min_samples_leaf=3 \n",
      "[CV]  max_features=0.5, splitter=best, criterion=gini, max_depth=9, min_samples_leaf=3, total=   0.1s\n",
      "[CV] max_features=0.5, splitter=best, criterion=gini, max_depth=9, min_samples_leaf=3 \n",
      "[CV]  max_features=0.5, splitter=best, criterion=gini, max_depth=9, min_samples_leaf=2, total=   0.2s\n",
      "[CV] max_features=0.5, splitter=best, criterion=gini, max_depth=9, min_samples_leaf=2 \n",
      "[CV]  max_features=0.5, splitter=best, criterion=gini, max_depth=9, min_samples_leaf=3, total=   0.2s\n",
      "[CV] max_features=0.5, splitter=best, criterion=gini, max_depth=9, min_samples_leaf=3 \n",
      "[CV]  max_features=0.5, splitter=best, criterion=gini, max_depth=9, min_samples_leaf=2, total=   0.3s\n",
      "[CV]  max_features=0.5, splitter=best, criterion=gini, max_depth=9, min_samples_leaf=3, total=   0.2s\n",
      "[CV] max_features=0.5, splitter=best, criterion=gini, max_depth=9, min_samples_leaf=3 \n",
      "[CV] max_features=0.5, splitter=random, criterion=gini, max_depth=9, min_samples_leaf=4 \n",
      "[CV]  max_features=0.5, splitter=random, criterion=gini, max_depth=9, min_samples_leaf=4, total=   0.0s\n",
      "[CV] max_features=0.5, splitter=random, criterion=gini, max_depth=9, min_samples_leaf=4 \n",
      "[CV]  max_features=0.5, splitter=random, criterion=gini, max_depth=9, min_samples_leaf=4, total=   0.0s\n",
      "[CV] max_features=0.5, splitter=random, criterion=gini, max_depth=9, min_samples_leaf=4 \n",
      "[CV]  max_features=0.5, splitter=random, criterion=gini, max_depth=9, min_samples_leaf=4, total=   0.0s\n",
      "[CV] max_features=0.5, splitter=best, criterion=gini, max_depth=9, min_samples_leaf=4 \n",
      "[CV]  max_features=0.5, splitter=best, criterion=gini, max_depth=9, min_samples_leaf=4, total=   0.1s\n",
      "[CV] max_features=0.5, splitter=best, criterion=gini, max_depth=9, min_samples_leaf=4 \n",
      "[CV]  max_features=0.5, splitter=best, criterion=gini, max_depth=9, min_samples_leaf=4, total=   0.1s\n",
      "[CV] max_features=0.5, splitter=best, criterion=gini, max_depth=9, min_samples_leaf=4 \n",
      "[CV]  max_features=0.5, splitter=best, criterion=gini, max_depth=9, min_samples_leaf=3, total=   0.3s\n",
      "[CV] max_features=0.5, splitter=random, criterion=gini, max_depth=9, min_samples_leaf=4 \n",
      "[CV]  max_features=0.5, splitter=random, criterion=gini, max_depth=9, min_samples_leaf=4, total=   0.0s\n",
      "[CV] max_features=0.5, splitter=random, criterion=gini, max_depth=9, min_samples_leaf=4 \n",
      "[CV]  max_features=0.5, splitter=random, criterion=gini, max_depth=9, min_samples_leaf=4, total=   0.0s\n",
      "[CV] max_features=0.7, splitter=random, criterion=gini, max_depth=9, min_samples_leaf=1 \n",
      "[CV]  max_features=0.7, splitter=random, criterion=gini, max_depth=9, min_samples_leaf=1, total=   0.0s\n",
      "[CV] max_features=0.7, splitter=random, criterion=gini, max_depth=9, min_samples_leaf=1 \n",
      "[CV]  max_features=0.7, splitter=random, criterion=gini, max_depth=9, min_samples_leaf=1, total=   0.0s\n",
      "[CV] max_features=0.7, splitter=random, criterion=gini, max_depth=9, min_samples_leaf=1 \n",
      "[CV]  max_features=0.7, splitter=random, criterion=gini, max_depth=9, min_samples_leaf=1, total=   0.0s\n",
      "[CV] max_features=0.7, splitter=random, criterion=gini, max_depth=9, min_samples_leaf=1 \n",
      "[CV]  max_features=0.5, splitter=best, criterion=gini, max_depth=9, min_samples_leaf=4, total=   0.2s\n",
      "[CV] max_features=0.5, splitter=best, criterion=gini, max_depth=9, min_samples_leaf=4 \n",
      "[CV]  max_features=0.7, splitter=random, criterion=gini, max_depth=9, min_samples_leaf=1, total=   0.0s\n",
      "[CV] max_features=0.7, splitter=random, criterion=gini, max_depth=9, min_samples_leaf=1 \n",
      "[CV]  max_features=0.7, splitter=random, criterion=gini, max_depth=9, min_samples_leaf=1, total=   0.1s\n",
      "[CV] max_features=0.7, splitter=best, criterion=gini, max_depth=9, min_samples_leaf=1 \n",
      "[CV]  max_features=0.7, splitter=best, criterion=gini, max_depth=9, min_samples_leaf=1, total=   0.1s\n",
      "[CV] max_features=0.7, splitter=best, criterion=gini, max_depth=9, min_samples_leaf=1 \n",
      "[CV]  max_features=0.5, splitter=best, criterion=gini, max_depth=9, min_samples_leaf=4, total=   0.2s\n",
      "[CV] max_features=0.5, splitter=best, criterion=gini, max_depth=9, min_samples_leaf=4 \n",
      "[CV]  max_features=0.7, splitter=best, criterion=gini, max_depth=9, min_samples_leaf=1, total=   0.2s\n",
      "[CV] max_features=0.7, splitter=best, criterion=gini, max_depth=9, min_samples_leaf=1 \n",
      "[CV]  max_features=0.5, splitter=best, criterion=gini, max_depth=9, min_samples_leaf=4, total=   0.3s\n",
      "[CV]  max_features=0.7, splitter=best, criterion=gini, max_depth=9, min_samples_leaf=1, total=   0.2s\n",
      "[CV] max_features=0.7, splitter=best, criterion=gini, max_depth=9, min_samples_leaf=1 \n",
      "[CV] max_features=0.7, splitter=random, criterion=gini, max_depth=9, min_samples_leaf=2 \n",
      "[CV]  max_features=0.7, splitter=random, criterion=gini, max_depth=9, min_samples_leaf=2, total=   0.0s\n"
     ]
    },
    {
     "name": "stdout",
     "output_type": "stream",
     "text": [
      "[CV] max_features=0.7, splitter=random, criterion=gini, max_depth=9, min_samples_leaf=2 \n",
      "[CV]  max_features=0.7, splitter=random, criterion=gini, max_depth=9, min_samples_leaf=2, total=   0.0s\n",
      "[CV] max_features=0.7, splitter=random, criterion=gini, max_depth=9, min_samples_leaf=2 \n",
      "[CV]  max_features=0.7, splitter=random, criterion=gini, max_depth=9, min_samples_leaf=2, total=   0.1s\n",
      "[CV] max_features=0.7, splitter=best, criterion=gini, max_depth=9, min_samples_leaf=2 \n",
      "[CV]  max_features=0.7, splitter=best, criterion=gini, max_depth=9, min_samples_leaf=2, total=   0.1s\n",
      "[CV] max_features=0.7, splitter=best, criterion=gini, max_depth=9, min_samples_leaf=2 \n",
      "[CV]  max_features=0.7, splitter=best, criterion=gini, max_depth=9, min_samples_leaf=1, total=   0.4s\n",
      "[CV] max_features=0.7, splitter=best, criterion=gini, max_depth=9, min_samples_leaf=1 \n",
      "[CV]  max_features=0.7, splitter=best, criterion=gini, max_depth=9, min_samples_leaf=2, total=   0.1s\n",
      "[CV] max_features=0.7, splitter=best, criterion=gini, max_depth=9, min_samples_leaf=2 \n",
      "[CV]  max_features=0.7, splitter=best, criterion=gini, max_depth=9, min_samples_leaf=2, total=   0.2s\n",
      "[CV] max_features=0.7, splitter=best, criterion=gini, max_depth=9, min_samples_leaf=2 \n",
      "[CV]  max_features=0.7, splitter=best, criterion=gini, max_depth=9, min_samples_leaf=1, total=   0.4s\n",
      "[CV] max_features=0.7, splitter=random, criterion=gini, max_depth=9, min_samples_leaf=2 \n",
      "[CV]  max_features=0.7, splitter=random, criterion=gini, max_depth=9, min_samples_leaf=2, total=   0.0s\n",
      "[CV] max_features=0.7, splitter=random, criterion=gini, max_depth=9, min_samples_leaf=2 \n",
      "[CV]  max_features=0.7, splitter=random, criterion=gini, max_depth=9, min_samples_leaf=2, total=   0.0s\n",
      "[CV] max_features=0.7, splitter=random, criterion=gini, max_depth=9, min_samples_leaf=3 \n",
      "[CV]  max_features=0.7, splitter=random, criterion=gini, max_depth=9, min_samples_leaf=3, total=   0.0s\n",
      "[CV] max_features=0.7, splitter=random, criterion=gini, max_depth=9, min_samples_leaf=3 \n",
      "[CV]  max_features=0.7, splitter=random, criterion=gini, max_depth=9, min_samples_leaf=3, total=   0.0s\n",
      "[CV] max_features=0.7, splitter=random, criterion=gini, max_depth=9, min_samples_leaf=3 \n",
      "[CV]  max_features=0.7, splitter=random, criterion=gini, max_depth=9, min_samples_leaf=3, total=   0.0s\n",
      "[CV] max_features=0.7, splitter=random, criterion=gini, max_depth=9, min_samples_leaf=3 \n",
      "[CV]  max_features=0.7, splitter=best, criterion=gini, max_depth=9, min_samples_leaf=2, total=   0.3s\n",
      "[CV] max_features=0.7, splitter=best, criterion=gini, max_depth=9, min_samples_leaf=2 \n",
      "[CV]  max_features=0.7, splitter=random, criterion=gini, max_depth=9, min_samples_leaf=3, total=   0.0s\n",
      "[CV] max_features=0.7, splitter=random, criterion=gini, max_depth=9, min_samples_leaf=3 \n",
      "[CV]  max_features=0.7, splitter=random, criterion=gini, max_depth=9, min_samples_leaf=3, total=   0.1s\n",
      "[CV] max_features=0.7, splitter=best, criterion=gini, max_depth=9, min_samples_leaf=3 \n",
      "[CV]  max_features=0.7, splitter=best, criterion=gini, max_depth=9, min_samples_leaf=3, total=   0.1s\n",
      "[CV] max_features=0.7, splitter=best, criterion=gini, max_depth=9, min_samples_leaf=3 \n",
      "[CV]  max_features=0.7, splitter=best, criterion=gini, max_depth=9, min_samples_leaf=3, total=   0.1s\n",
      "[CV] max_features=0.7, splitter=best, criterion=gini, max_depth=9, min_samples_leaf=3 \n",
      "[CV]  max_features=0.7, splitter=best, criterion=gini, max_depth=9, min_samples_leaf=2, total=   0.4s\n",
      "[CV] max_features=0.7, splitter=best, criterion=gini, max_depth=9, min_samples_leaf=3 \n",
      "[CV]  max_features=0.7, splitter=best, criterion=gini, max_depth=9, min_samples_leaf=3, total=   0.2s\n",
      "[CV] max_features=0.7, splitter=random, criterion=gini, max_depth=9, min_samples_leaf=4 \n",
      "[CV]  max_features=0.7, splitter=random, criterion=gini, max_depth=9, min_samples_leaf=4, total=   0.0s\n",
      "[CV] max_features=0.7, splitter=random, criterion=gini, max_depth=9, min_samples_leaf=4 \n",
      "[CV]  max_features=0.7, splitter=random, criterion=gini, max_depth=9, min_samples_leaf=4, total=   0.0s\n",
      "[CV] max_features=0.7, splitter=random, criterion=gini, max_depth=9, min_samples_leaf=4 \n",
      "[CV]  max_features=0.7, splitter=random, criterion=gini, max_depth=9, min_samples_leaf=4, total=   0.0s\n",
      "[CV] max_features=0.7, splitter=best, criterion=gini, max_depth=9, min_samples_leaf=4 \n",
      "[CV]  max_features=0.7, splitter=best, criterion=gini, max_depth=9, min_samples_leaf=4, total=   0.1s\n",
      "[CV] max_features=0.7, splitter=best, criterion=gini, max_depth=9, min_samples_leaf=4 \n",
      "[CV]  max_features=0.7, splitter=best, criterion=gini, max_depth=9, min_samples_leaf=3, total=   0.4s\n",
      "[CV] max_features=0.7, splitter=best, criterion=gini, max_depth=9, min_samples_leaf=3 \n",
      "[CV]  max_features=0.7, splitter=best, criterion=gini, max_depth=9, min_samples_leaf=4, total=   0.2s\n",
      "[CV] max_features=0.7, splitter=best, criterion=gini, max_depth=9, min_samples_leaf=4 \n",
      "[CV]  max_features=0.7, splitter=best, criterion=gini, max_depth=9, min_samples_leaf=4, total=   0.2s\n",
      "[CV] max_features=0.7, splitter=best, criterion=gini, max_depth=9, min_samples_leaf=4 \n",
      "[CV]  max_features=0.7, splitter=best, criterion=gini, max_depth=9, min_samples_leaf=3, total=   0.4s\n",
      "[CV] max_features=0.7, splitter=random, criterion=gini, max_depth=9, min_samples_leaf=4 \n",
      "[CV]  max_features=0.7, splitter=random, criterion=gini, max_depth=9, min_samples_leaf=4, total=   0.0s\n",
      "[CV] max_features=0.7, splitter=random, criterion=gini, max_depth=9, min_samples_leaf=4 \n",
      "[CV]  max_features=0.7, splitter=random, criterion=gini, max_depth=9, min_samples_leaf=4, total=   0.0s\n",
      "[CV] max_features=0.1, splitter=random, criterion=gini, max_depth=11, min_samples_leaf=1 \n",
      "[CV]  max_features=0.1, splitter=random, criterion=gini, max_depth=11, min_samples_leaf=1, total=   0.0s\n",
      "[CV] max_features=0.1, splitter=random, criterion=gini, max_depth=11, min_samples_leaf=1 \n",
      "[CV]  max_features=0.1, splitter=random, criterion=gini, max_depth=11, min_samples_leaf=1, total=   0.0s\n",
      "[CV] max_features=0.1, splitter=random, criterion=gini, max_depth=11, min_samples_leaf=1 \n",
      "[CV]  max_features=0.1, splitter=random, criterion=gini, max_depth=11, min_samples_leaf=1, total=   0.0s\n",
      "[CV] max_features=0.1, splitter=random, criterion=gini, max_depth=11, min_samples_leaf=1 \n",
      "[CV]  max_features=0.1, splitter=random, criterion=gini, max_depth=11, min_samples_leaf=1, total=   0.0s\n",
      "[CV] max_features=0.1, splitter=random, criterion=gini, max_depth=11, min_samples_leaf=1 \n",
      "[CV]  max_features=0.1, splitter=random, criterion=gini, max_depth=11, min_samples_leaf=1, total=   0.0s\n",
      "[CV] max_features=0.1, splitter=best, criterion=gini, max_depth=11, min_samples_leaf=1 \n",
      "[CV]  max_features=0.1, splitter=best, criterion=gini, max_depth=11, min_samples_leaf=1, total=   0.0s\n",
      "[CV] max_features=0.1, splitter=best, criterion=gini, max_depth=11, min_samples_leaf=1 \n",
      "[CV]  max_features=0.1, splitter=best, criterion=gini, max_depth=11, min_samples_leaf=1, total=   0.0s\n",
      "[CV] max_features=0.1, splitter=best, criterion=gini, max_depth=11, min_samples_leaf=1 \n",
      "[CV]  max_features=0.7, splitter=best, criterion=gini, max_depth=9, min_samples_leaf=4, total=   0.3s\n",
      "[CV] max_features=0.7, splitter=best, criterion=gini, max_depth=9, min_samples_leaf=4 \n",
      "[CV]  max_features=0.1, splitter=best, criterion=gini, max_depth=11, min_samples_leaf=1, total=   0.1s\n",
      "[CV] max_features=0.1, splitter=best, criterion=gini, max_depth=11, min_samples_leaf=1 \n",
      "[CV]  max_features=0.1, splitter=best, criterion=gini, max_depth=11, min_samples_leaf=1, total=   0.1s\n",
      "[CV] max_features=0.1, splitter=best, criterion=gini, max_depth=11, min_samples_leaf=1 \n",
      "[CV]  max_features=0.1, splitter=best, criterion=gini, max_depth=11, min_samples_leaf=1, total=   0.1s\n",
      "[CV] max_features=0.1, splitter=random, criterion=gini, max_depth=11, min_samples_leaf=2 \n",
      "[CV]  max_features=0.1, splitter=random, criterion=gini, max_depth=11, min_samples_leaf=2, total=   0.0s\n",
      "[CV] max_features=0.1, splitter=random, criterion=gini, max_depth=11, min_samples_leaf=2 \n",
      "[CV]  max_features=0.1, splitter=random, criterion=gini, max_depth=11, min_samples_leaf=2, total=   0.0s\n",
      "[CV] max_features=0.1, splitter=random, criterion=gini, max_depth=11, min_samples_leaf=2 \n",
      "[CV]  max_features=0.1, splitter=random, criterion=gini, max_depth=11, min_samples_leaf=2, total=   0.0s\n"
     ]
    },
    {
     "name": "stdout",
     "output_type": "stream",
     "text": [
      "[CV] max_features=0.1, splitter=random, criterion=gini, max_depth=11, min_samples_leaf=2 \n",
      "[CV]  max_features=0.1, splitter=random, criterion=gini, max_depth=11, min_samples_leaf=2, total=   0.0s\n",
      "[CV] max_features=0.1, splitter=random, criterion=gini, max_depth=11, min_samples_leaf=2 \n",
      "[CV]  max_features=0.1, splitter=random, criterion=gini, max_depth=11, min_samples_leaf=2, total=   0.0s\n",
      "[CV] max_features=0.1, splitter=best, criterion=gini, max_depth=11, min_samples_leaf=2 \n",
      "[CV]  max_features=0.1, splitter=best, criterion=gini, max_depth=11, min_samples_leaf=2, total=   0.0s\n",
      "[CV] max_features=0.1, splitter=best, criterion=gini, max_depth=11, min_samples_leaf=2 \n",
      "[CV]  max_features=0.1, splitter=best, criterion=gini, max_depth=11, min_samples_leaf=2, total=   0.0s\n",
      "[CV] max_features=0.1, splitter=best, criterion=gini, max_depth=11, min_samples_leaf=2 \n",
      "[CV]  max_features=0.7, splitter=best, criterion=gini, max_depth=9, min_samples_leaf=4, total=   0.5s\n",
      "[CV] max_features=0.1, splitter=random, criterion=gini, max_depth=11, min_samples_leaf=3 \n",
      "[CV]  max_features=0.1, splitter=random, criterion=gini, max_depth=11, min_samples_leaf=3, total=   0.0s\n",
      "[CV] max_features=0.1, splitter=random, criterion=gini, max_depth=11, min_samples_leaf=3 \n",
      "[CV]  max_features=0.1, splitter=best, criterion=gini, max_depth=11, min_samples_leaf=2, total=   0.1s\n",
      "[CV] max_features=0.1, splitter=best, criterion=gini, max_depth=11, min_samples_leaf=2 \n",
      "[CV]  max_features=0.1, splitter=random, criterion=gini, max_depth=11, min_samples_leaf=3, total=   0.0s\n",
      "[CV] max_features=0.1, splitter=random, criterion=gini, max_depth=11, min_samples_leaf=3 \n",
      "[CV]  max_features=0.1, splitter=random, criterion=gini, max_depth=11, min_samples_leaf=3, total=   0.0s\n",
      "[CV] max_features=0.1, splitter=random, criterion=gini, max_depth=11, min_samples_leaf=3 \n",
      "[CV]  max_features=0.1, splitter=random, criterion=gini, max_depth=11, min_samples_leaf=3, total=   0.0s\n",
      "[CV]  max_features=0.1, splitter=best, criterion=gini, max_depth=11, min_samples_leaf=2, total=   0.1s\n",
      "[CV] max_features=0.1, splitter=random, criterion=gini, max_depth=11, min_samples_leaf=3 \n",
      "[CV] max_features=0.1, splitter=best, criterion=gini, max_depth=11, min_samples_leaf=2 \n"
     ]
    },
    {
     "name": "stderr",
     "output_type": "stream",
     "text": [
      "[Parallel(n_jobs=2)]: Done 612 tasks      | elapsed:   26.0s\n"
     ]
    },
    {
     "name": "stdout",
     "output_type": "stream",
     "text": [
      "[CV]  max_features=0.1, splitter=random, criterion=gini, max_depth=11, min_samples_leaf=3, total=   0.0s\n",
      "[CV] max_features=0.1, splitter=best, criterion=gini, max_depth=11, min_samples_leaf=3 \n",
      "[CV]  max_features=0.1, splitter=best, criterion=gini, max_depth=11, min_samples_leaf=3, total=   0.0s\n",
      "[CV] max_features=0.1, splitter=best, criterion=gini, max_depth=11, min_samples_leaf=3 \n",
      "[CV]  max_features=0.1, splitter=best, criterion=gini, max_depth=11, min_samples_leaf=2, total=   0.1s\n",
      "[CV]  max_features=0.1, splitter=best, criterion=gini, max_depth=11, min_samples_leaf=3, total=   0.0s\n",
      "[CV] max_features=0.1, splitter=best, criterion=gini, max_depth=11, min_samples_leaf=3 \n",
      "[CV] max_features=0.1, splitter=best, criterion=gini, max_depth=11, min_samples_leaf=3 \n",
      "[CV]  max_features=0.1, splitter=best, criterion=gini, max_depth=11, min_samples_leaf=3, total=   0.1s\n",
      "[CV] max_features=0.1, splitter=random, criterion=gini, max_depth=11, min_samples_leaf=4 \n",
      "[CV]  max_features=0.1, splitter=random, criterion=gini, max_depth=11, min_samples_leaf=4, total=   0.0s\n",
      "[CV] max_features=0.1, splitter=random, criterion=gini, max_depth=11, min_samples_leaf=4 \n",
      "[CV]  max_features=0.1, splitter=best, criterion=gini, max_depth=11, min_samples_leaf=3, total=   0.1s\n",
      "[CV] max_features=0.1, splitter=best, criterion=gini, max_depth=11, min_samples_leaf=3 \n",
      "[CV]  max_features=0.1, splitter=random, criterion=gini, max_depth=11, min_samples_leaf=4, total=   0.0s\n",
      "[CV] max_features=0.1, splitter=random, criterion=gini, max_depth=11, min_samples_leaf=4 \n",
      "[CV]  max_features=0.1, splitter=random, criterion=gini, max_depth=11, min_samples_leaf=4, total=   0.0s\n",
      "[CV] max_features=0.1, splitter=best, criterion=gini, max_depth=11, min_samples_leaf=4 \n",
      "[CV]  max_features=0.1, splitter=best, criterion=gini, max_depth=11, min_samples_leaf=4, total=   0.0s\n",
      "[CV] max_features=0.1, splitter=best, criterion=gini, max_depth=11, min_samples_leaf=4 \n",
      "[CV]  max_features=0.1, splitter=best, criterion=gini, max_depth=11, min_samples_leaf=3, total=   0.1s\n",
      "[CV] max_features=0.1, splitter=random, criterion=gini, max_depth=11, min_samples_leaf=4 \n",
      "[CV]  max_features=0.1, splitter=random, criterion=gini, max_depth=11, min_samples_leaf=4, total=   0.0s\n",
      "[CV] max_features=0.1, splitter=random, criterion=gini, max_depth=11, min_samples_leaf=4 \n",
      "[CV]  max_features=0.1, splitter=best, criterion=gini, max_depth=11, min_samples_leaf=4, total=   0.0s\n",
      "[CV] max_features=0.1, splitter=best, criterion=gini, max_depth=11, min_samples_leaf=4 \n",
      "[CV]  max_features=0.1, splitter=random, criterion=gini, max_depth=11, min_samples_leaf=4, total=   0.0s\n",
      "[CV] max_features=0.5, splitter=random, criterion=gini, max_depth=11, min_samples_leaf=1 \n",
      "[CV]  max_features=0.5, splitter=random, criterion=gini, max_depth=11, min_samples_leaf=1, total=   0.0s\n",
      "[CV] max_features=0.5, splitter=random, criterion=gini, max_depth=11, min_samples_leaf=1 \n",
      "[CV]  max_features=0.1, splitter=best, criterion=gini, max_depth=11, min_samples_leaf=4, total=   0.1s\n",
      "[CV] max_features=0.1, splitter=best, criterion=gini, max_depth=11, min_samples_leaf=4 \n",
      "[CV]  max_features=0.5, splitter=random, criterion=gini, max_depth=11, min_samples_leaf=1, total=   0.0s\n",
      "[CV] max_features=0.5, splitter=random, criterion=gini, max_depth=11, min_samples_leaf=1 \n",
      "[CV]  max_features=0.5, splitter=random, criterion=gini, max_depth=11, min_samples_leaf=1, total=   0.0s\n",
      "[CV] max_features=0.5, splitter=random, criterion=gini, max_depth=11, min_samples_leaf=1 \n",
      "[CV]  max_features=0.1, splitter=best, criterion=gini, max_depth=11, min_samples_leaf=4, total=   0.1s\n",
      "[CV] max_features=0.1, splitter=best, criterion=gini, max_depth=11, min_samples_leaf=4 \n",
      "[CV]  max_features=0.5, splitter=random, criterion=gini, max_depth=11, min_samples_leaf=1, total=   0.0s\n",
      "[CV] max_features=0.5, splitter=random, criterion=gini, max_depth=11, min_samples_leaf=1 \n",
      "[CV]  max_features=0.1, splitter=best, criterion=gini, max_depth=11, min_samples_leaf=4, total=   0.1s\n",
      "[CV] max_features=0.5, splitter=best, criterion=gini, max_depth=11, min_samples_leaf=1 \n",
      "[CV]  max_features=0.5, splitter=random, criterion=gini, max_depth=11, min_samples_leaf=1, total=   0.1s\n",
      "[CV] max_features=0.5, splitter=best, criterion=gini, max_depth=11, min_samples_leaf=1 \n",
      "[CV]  max_features=0.5, splitter=best, criterion=gini, max_depth=11, min_samples_leaf=1, total=   0.1s\n",
      "[CV] max_features=0.5, splitter=best, criterion=gini, max_depth=11, min_samples_leaf=1 \n",
      "[CV]  max_features=0.5, splitter=best, criterion=gini, max_depth=11, min_samples_leaf=1, total=   0.1s\n",
      "[CV] max_features=0.5, splitter=best, criterion=gini, max_depth=11, min_samples_leaf=1 \n",
      "[CV]  max_features=0.5, splitter=best, criterion=gini, max_depth=11, min_samples_leaf=1, total=   0.3s\n",
      "[CV] max_features=0.5, splitter=best, criterion=gini, max_depth=11, min_samples_leaf=1 \n",
      "[CV]  max_features=0.5, splitter=best, criterion=gini, max_depth=11, min_samples_leaf=1, total=   0.2s\n",
      "[CV] max_features=0.5, splitter=random, criterion=gini, max_depth=11, min_samples_leaf=2 \n",
      "[CV]  max_features=0.5, splitter=random, criterion=gini, max_depth=11, min_samples_leaf=2, total=   0.0s\n",
      "[CV] max_features=0.5, splitter=random, criterion=gini, max_depth=11, min_samples_leaf=2 \n",
      "[CV]  max_features=0.5, splitter=random, criterion=gini, max_depth=11, min_samples_leaf=2, total=   0.0s\n",
      "[CV] max_features=0.5, splitter=random, criterion=gini, max_depth=11, min_samples_leaf=2 \n",
      "[CV]  max_features=0.5, splitter=random, criterion=gini, max_depth=11, min_samples_leaf=2, total=   0.0s\n",
      "[CV] max_features=0.5, splitter=best, criterion=gini, max_depth=11, min_samples_leaf=2 \n",
      "[CV]  max_features=0.5, splitter=best, criterion=gini, max_depth=11, min_samples_leaf=2, total=   0.1s\n",
      "[CV]  max_features=0.5, splitter=best, criterion=gini, max_depth=11, min_samples_leaf=1, total=   0.3s\n",
      "[CV] max_features=0.5, splitter=random, criterion=gini, max_depth=11, min_samples_leaf=2 \n",
      "[CV] max_features=0.5, splitter=best, criterion=gini, max_depth=11, min_samples_leaf=2 \n",
      "[CV]  max_features=0.5, splitter=random, criterion=gini, max_depth=11, min_samples_leaf=2, total=   0.0s\n",
      "[CV] max_features=0.5, splitter=random, criterion=gini, max_depth=11, min_samples_leaf=2 \n",
      "[CV]  max_features=0.5, splitter=random, criterion=gini, max_depth=11, min_samples_leaf=2, total=   0.0s\n",
      "[CV] max_features=0.5, splitter=random, criterion=gini, max_depth=11, min_samples_leaf=3 \n",
      "[CV]  max_features=0.5, splitter=random, criterion=gini, max_depth=11, min_samples_leaf=3, total=   0.0s\n",
      "[CV] max_features=0.5, splitter=random, criterion=gini, max_depth=11, min_samples_leaf=3 \n",
      "[CV]  max_features=0.5, splitter=random, criterion=gini, max_depth=11, min_samples_leaf=3, total=   0.0s\n",
      "[CV] max_features=0.5, splitter=random, criterion=gini, max_depth=11, min_samples_leaf=3 \n",
      "[CV]  max_features=0.5, splitter=best, criterion=gini, max_depth=11, min_samples_leaf=2, total=   0.1s\n",
      "[CV] max_features=0.5, splitter=best, criterion=gini, max_depth=11, min_samples_leaf=2 \n",
      "[CV]  max_features=0.5, splitter=random, criterion=gini, max_depth=11, min_samples_leaf=3, total=   0.0s\n",
      "[CV] max_features=0.5, splitter=random, criterion=gini, max_depth=11, min_samples_leaf=3 \n",
      "[CV]  max_features=0.5, splitter=random, criterion=gini, max_depth=11, min_samples_leaf=3, total=   0.0s\n",
      "[CV] max_features=0.5, splitter=random, criterion=gini, max_depth=11, min_samples_leaf=3 \n",
      "[CV]  max_features=0.5, splitter=random, criterion=gini, max_depth=11, min_samples_leaf=3, total=   0.1s\n",
      "[CV] max_features=0.5, splitter=best, criterion=gini, max_depth=11, min_samples_leaf=3 \n",
      "[CV]  max_features=0.5, splitter=best, criterion=gini, max_depth=11, min_samples_leaf=2, total=   0.2s\n",
      "[CV] max_features=0.5, splitter=best, criterion=gini, max_depth=11, min_samples_leaf=2 \n",
      "[CV]  max_features=0.5, splitter=best, criterion=gini, max_depth=11, min_samples_leaf=3, total=   0.1s\n",
      "[CV] max_features=0.5, splitter=best, criterion=gini, max_depth=11, min_samples_leaf=3 \n",
      "[CV]  max_features=0.5, splitter=best, criterion=gini, max_depth=11, min_samples_leaf=3, total=   0.1s\n",
      "[CV] max_features=0.5, splitter=best, criterion=gini, max_depth=11, min_samples_leaf=3 \n",
      "[CV]  max_features=0.5, splitter=best, criterion=gini, max_depth=11, min_samples_leaf=2, total=   0.3s\n"
     ]
    },
    {
     "name": "stdout",
     "output_type": "stream",
     "text": [
      "[CV] max_features=0.5, splitter=best, criterion=gini, max_depth=11, min_samples_leaf=2 \n",
      "[CV]  max_features=0.5, splitter=best, criterion=gini, max_depth=11, min_samples_leaf=3, total=   0.2s\n",
      "[CV] max_features=0.5, splitter=best, criterion=gini, max_depth=11, min_samples_leaf=3 \n",
      "[CV]  max_features=0.5, splitter=best, criterion=gini, max_depth=11, min_samples_leaf=2, total=   0.3s\n",
      "[CV] max_features=0.5, splitter=random, criterion=gini, max_depth=11, min_samples_leaf=4 \n",
      "[CV]  max_features=0.5, splitter=best, criterion=gini, max_depth=11, min_samples_leaf=3, total=   0.2s\n",
      "[CV] max_features=0.5, splitter=best, criterion=gini, max_depth=11, min_samples_leaf=3 \n",
      "[CV]  max_features=0.5, splitter=random, criterion=gini, max_depth=11, min_samples_leaf=4, total=   0.0s\n",
      "[CV] max_features=0.5, splitter=random, criterion=gini, max_depth=11, min_samples_leaf=4 \n",
      "[CV]  max_features=0.5, splitter=random, criterion=gini, max_depth=11, min_samples_leaf=4, total=   0.0s\n",
      "[CV] max_features=0.5, splitter=random, criterion=gini, max_depth=11, min_samples_leaf=4 \n",
      "[CV]  max_features=0.5, splitter=random, criterion=gini, max_depth=11, min_samples_leaf=4, total=   0.1s\n",
      "[CV] max_features=0.5, splitter=best, criterion=gini, max_depth=11, min_samples_leaf=4 \n",
      "[CV]  max_features=0.5, splitter=best, criterion=gini, max_depth=11, min_samples_leaf=4, total=   0.0s\n",
      "[CV] max_features=0.5, splitter=best, criterion=gini, max_depth=11, min_samples_leaf=4 \n",
      "[CV]  max_features=0.5, splitter=best, criterion=gini, max_depth=11, min_samples_leaf=4, total=   0.1s\n",
      "[CV] max_features=0.5, splitter=best, criterion=gini, max_depth=11, min_samples_leaf=4 \n",
      "[CV]  max_features=0.5, splitter=best, criterion=gini, max_depth=11, min_samples_leaf=3, total=   0.4s\n",
      "[CV] max_features=0.5, splitter=random, criterion=gini, max_depth=11, min_samples_leaf=4 \n",
      "[CV]  max_features=0.5, splitter=random, criterion=gini, max_depth=11, min_samples_leaf=4, total=   0.0s\n",
      "[CV] max_features=0.5, splitter=random, criterion=gini, max_depth=11, min_samples_leaf=4 \n",
      "[CV]  max_features=0.5, splitter=random, criterion=gini, max_depth=11, min_samples_leaf=4, total=   0.0s\n",
      "[CV] max_features=0.7, splitter=random, criterion=gini, max_depth=11, min_samples_leaf=1 \n",
      "[CV]  max_features=0.7, splitter=random, criterion=gini, max_depth=11, min_samples_leaf=1, total=   0.0s\n",
      "[CV] max_features=0.7, splitter=random, criterion=gini, max_depth=11, min_samples_leaf=1 \n",
      "[CV]  max_features=0.7, splitter=random, criterion=gini, max_depth=11, min_samples_leaf=1, total=   0.0s\n",
      "[CV] max_features=0.7, splitter=random, criterion=gini, max_depth=11, min_samples_leaf=1 \n",
      "[CV]  max_features=0.5, splitter=best, criterion=gini, max_depth=11, min_samples_leaf=4, total=   0.2s\n",
      "[CV] max_features=0.5, splitter=best, criterion=gini, max_depth=11, min_samples_leaf=4 \n",
      "[CV]  max_features=0.7, splitter=random, criterion=gini, max_depth=11, min_samples_leaf=1, total=   0.0s\n",
      "[CV] max_features=0.7, splitter=random, criterion=gini, max_depth=11, min_samples_leaf=1 \n",
      "[CV]  max_features=0.7, splitter=random, criterion=gini, max_depth=11, min_samples_leaf=1, total=   0.1s\n",
      "[CV] max_features=0.7, splitter=random, criterion=gini, max_depth=11, min_samples_leaf=1 \n",
      "[CV]  max_features=0.7, splitter=random, criterion=gini, max_depth=11, min_samples_leaf=1, total=   0.1s\n",
      "[CV] max_features=0.7, splitter=best, criterion=gini, max_depth=11, min_samples_leaf=1 \n",
      "[CV]  max_features=0.7, splitter=best, criterion=gini, max_depth=11, min_samples_leaf=1, total=   0.1s\n",
      "[CV] max_features=0.7, splitter=best, criterion=gini, max_depth=11, min_samples_leaf=1 \n",
      "[CV]  max_features=0.5, splitter=best, criterion=gini, max_depth=11, min_samples_leaf=4, total=   0.3s\n",
      "[CV] max_features=0.5, splitter=best, criterion=gini, max_depth=11, min_samples_leaf=4 \n",
      "[CV]  max_features=0.7, splitter=best, criterion=gini, max_depth=11, min_samples_leaf=1, total=   0.1s\n",
      "[CV] max_features=0.7, splitter=best, criterion=gini, max_depth=11, min_samples_leaf=1 \n",
      "[CV]  max_features=0.5, splitter=best, criterion=gini, max_depth=11, min_samples_leaf=4, total=   0.3s\n",
      "[CV] max_features=0.7, splitter=best, criterion=gini, max_depth=11, min_samples_leaf=1 \n",
      "[CV]  max_features=0.7, splitter=best, criterion=gini, max_depth=11, min_samples_leaf=1, total=   0.3s\n",
      "[CV] max_features=0.7, splitter=random, criterion=gini, max_depth=11, min_samples_leaf=2 \n",
      "[CV]  max_features=0.7, splitter=random, criterion=gini, max_depth=11, min_samples_leaf=2, total=   0.0s\n",
      "[CV] max_features=0.7, splitter=random, criterion=gini, max_depth=11, min_samples_leaf=2 \n",
      "[CV]  max_features=0.7, splitter=random, criterion=gini, max_depth=11, min_samples_leaf=2, total=   0.1s\n",
      "[CV] max_features=0.7, splitter=random, criterion=gini, max_depth=11, min_samples_leaf=2 \n",
      "[CV]  max_features=0.7, splitter=random, criterion=gini, max_depth=11, min_samples_leaf=2, total=   0.1s\n",
      "[CV] max_features=0.7, splitter=best, criterion=gini, max_depth=11, min_samples_leaf=2 \n",
      "[CV]  max_features=0.7, splitter=best, criterion=gini, max_depth=11, min_samples_leaf=2, total=   0.1s\n",
      "[CV] max_features=0.7, splitter=best, criterion=gini, max_depth=11, min_samples_leaf=2 \n",
      "[CV]  max_features=0.7, splitter=best, criterion=gini, max_depth=11, min_samples_leaf=1, total=   0.4s\n",
      "[CV] max_features=0.7, splitter=best, criterion=gini, max_depth=11, min_samples_leaf=1 \n",
      "[CV]  max_features=0.7, splitter=best, criterion=gini, max_depth=11, min_samples_leaf=2, total=   0.2s\n",
      "[CV] max_features=0.7, splitter=best, criterion=gini, max_depth=11, min_samples_leaf=2 \n",
      "[CV]  max_features=0.7, splitter=best, criterion=gini, max_depth=11, min_samples_leaf=2, total=   0.2s\n",
      "[CV] max_features=0.7, splitter=best, criterion=gini, max_depth=11, min_samples_leaf=2 \n",
      "[CV]  max_features=0.7, splitter=best, criterion=gini, max_depth=11, min_samples_leaf=1, total=   0.4s\n",
      "[CV] max_features=0.7, splitter=random, criterion=gini, max_depth=11, min_samples_leaf=2 \n",
      "[CV]  max_features=0.7, splitter=random, criterion=gini, max_depth=11, min_samples_leaf=2, total=   0.0s\n",
      "[CV] max_features=0.7, splitter=random, criterion=gini, max_depth=11, min_samples_leaf=2 \n",
      "[CV]  max_features=0.7, splitter=random, criterion=gini, max_depth=11, min_samples_leaf=2, total=   0.0s\n",
      "[CV] max_features=0.7, splitter=random, criterion=gini, max_depth=11, min_samples_leaf=3 \n",
      "[CV]  max_features=0.7, splitter=random, criterion=gini, max_depth=11, min_samples_leaf=3, total=   0.0s\n",
      "[CV] max_features=0.7, splitter=random, criterion=gini, max_depth=11, min_samples_leaf=3 \n",
      "[CV]  max_features=0.7, splitter=random, criterion=gini, max_depth=11, min_samples_leaf=3, total=   0.0s\n",
      "[CV] max_features=0.7, splitter=random, criterion=gini, max_depth=11, min_samples_leaf=3 \n",
      "[CV]  max_features=0.7, splitter=random, criterion=gini, max_depth=11, min_samples_leaf=3, total=   0.0s\n",
      "[CV] max_features=0.7, splitter=random, criterion=gini, max_depth=11, min_samples_leaf=3 \n",
      "[CV]  max_features=0.7, splitter=random, criterion=gini, max_depth=11, min_samples_leaf=3, total=   0.0s\n",
      "[CV]  max_features=0.7, splitter=best, criterion=gini, max_depth=11, min_samples_leaf=2, total=   0.4s\n",
      "[CV] max_features=0.7, splitter=best, criterion=gini, max_depth=11, min_samples_leaf=2 \n",
      "[CV] max_features=0.7, splitter=random, criterion=gini, max_depth=11, min_samples_leaf=3 \n",
      "[CV]  max_features=0.7, splitter=random, criterion=gini, max_depth=11, min_samples_leaf=3, total=   0.1s\n",
      "[CV] max_features=0.7, splitter=best, criterion=gini, max_depth=11, min_samples_leaf=3 \n",
      "[CV]  max_features=0.7, splitter=best, criterion=gini, max_depth=11, min_samples_leaf=3, total=   0.1s\n",
      "[CV] max_features=0.7, splitter=best, criterion=gini, max_depth=11, min_samples_leaf=3 \n",
      "[CV]  max_features=0.7, splitter=best, criterion=gini, max_depth=11, min_samples_leaf=3, total=   0.1s\n",
      "[CV] max_features=0.7, splitter=best, criterion=gini, max_depth=11, min_samples_leaf=3 \n",
      "[CV]  max_features=0.7, splitter=best, criterion=gini, max_depth=11, min_samples_leaf=2, total=   0.5s\n",
      "[CV] max_features=0.7, splitter=best, criterion=gini, max_depth=11, min_samples_leaf=3 \n",
      "[CV]  max_features=0.7, splitter=best, criterion=gini, max_depth=11, min_samples_leaf=3, total=   0.3s\n",
      "[CV] max_features=0.7, splitter=random, criterion=gini, max_depth=11, min_samples_leaf=4 \n",
      "[CV]  max_features=0.7, splitter=random, criterion=gini, max_depth=11, min_samples_leaf=4, total=   0.0s\n"
     ]
    },
    {
     "name": "stdout",
     "output_type": "stream",
     "text": [
      "[CV] max_features=0.7, splitter=random, criterion=gini, max_depth=11, min_samples_leaf=4 \n",
      "[CV]  max_features=0.7, splitter=random, criterion=gini, max_depth=11, min_samples_leaf=4, total=   0.1s\n",
      "[CV] max_features=0.7, splitter=random, criterion=gini, max_depth=11, min_samples_leaf=4 \n",
      "[CV]  max_features=0.7, splitter=random, criterion=gini, max_depth=11, min_samples_leaf=4, total=   0.1s\n",
      "[CV] max_features=0.7, splitter=best, criterion=gini, max_depth=11, min_samples_leaf=4 \n",
      "[CV]  max_features=0.7, splitter=best, criterion=gini, max_depth=11, min_samples_leaf=4, total=   0.1s\n",
      "[CV] max_features=0.7, splitter=best, criterion=gini, max_depth=11, min_samples_leaf=4 \n",
      "[CV]  max_features=0.7, splitter=best, criterion=gini, max_depth=11, min_samples_leaf=3, total=   0.4s\n",
      "[CV] max_features=0.7, splitter=best, criterion=gini, max_depth=11, min_samples_leaf=3 \n",
      "[CV]  max_features=0.7, splitter=best, criterion=gini, max_depth=11, min_samples_leaf=4, total=   0.1s\n",
      "[CV] max_features=0.7, splitter=best, criterion=gini, max_depth=11, min_samples_leaf=4 \n",
      "[CV]  max_features=0.7, splitter=best, criterion=gini, max_depth=11, min_samples_leaf=4, total=   0.2s\n",
      "[CV] max_features=0.7, splitter=best, criterion=gini, max_depth=11, min_samples_leaf=4 \n",
      "[CV]  max_features=0.7, splitter=best, criterion=gini, max_depth=11, min_samples_leaf=3, total=   0.4s\n",
      "[CV] max_features=0.7, splitter=random, criterion=gini, max_depth=11, min_samples_leaf=4 \n",
      "[CV]  max_features=0.7, splitter=random, criterion=gini, max_depth=11, min_samples_leaf=4, total=   0.0s\n",
      "[CV] max_features=0.7, splitter=random, criterion=gini, max_depth=11, min_samples_leaf=4 \n",
      "[CV]  max_features=0.7, splitter=random, criterion=gini, max_depth=11, min_samples_leaf=4, total=   0.0s\n",
      "[CV] max_features=0.1, splitter=random, criterion=entropy, max_depth=None, min_samples_leaf=1 \n",
      "[CV]  max_features=0.1, splitter=random, criterion=entropy, max_depth=None, min_samples_leaf=1, total=   0.0s\n",
      "[CV] max_features=0.1, splitter=random, criterion=entropy, max_depth=None, min_samples_leaf=1 \n",
      "[CV]  max_features=0.1, splitter=random, criterion=entropy, max_depth=None, min_samples_leaf=1, total=   0.0s\n",
      "[CV] max_features=0.1, splitter=random, criterion=entropy, max_depth=None, min_samples_leaf=1 \n",
      "[CV]  max_features=0.1, splitter=random, criterion=entropy, max_depth=None, min_samples_leaf=1, total=   0.0s\n",
      "[CV] max_features=0.1, splitter=random, criterion=entropy, max_depth=None, min_samples_leaf=1 \n",
      "[CV]  max_features=0.1, splitter=random, criterion=entropy, max_depth=None, min_samples_leaf=1, total=   0.0s\n",
      "[CV] max_features=0.1, splitter=random, criterion=entropy, max_depth=None, min_samples_leaf=1 \n",
      "[CV]  max_features=0.1, splitter=random, criterion=entropy, max_depth=None, min_samples_leaf=1, total=   0.0s\n",
      "[CV] max_features=0.1, splitter=best, criterion=entropy, max_depth=None, min_samples_leaf=1 \n",
      "[CV]  max_features=0.1, splitter=best, criterion=entropy, max_depth=None, min_samples_leaf=1, total=   0.0s\n",
      "[CV] max_features=0.1, splitter=best, criterion=entropy, max_depth=None, min_samples_leaf=1 \n",
      "[CV]  max_features=0.1, splitter=best, criterion=entropy, max_depth=None, min_samples_leaf=1, total=   0.1s\n",
      "[CV] max_features=0.1, splitter=best, criterion=entropy, max_depth=None, min_samples_leaf=1 \n",
      "[CV]  max_features=0.7, splitter=best, criterion=gini, max_depth=11, min_samples_leaf=4, total=   0.4s\n",
      "[CV] max_features=0.7, splitter=best, criterion=gini, max_depth=11, min_samples_leaf=4 \n",
      "[CV]  max_features=0.1, splitter=best, criterion=entropy, max_depth=None, min_samples_leaf=1, total=   0.1s\n",
      "[CV] max_features=0.1, splitter=best, criterion=entropy, max_depth=None, min_samples_leaf=1 \n",
      "[CV]  max_features=0.1, splitter=best, criterion=entropy, max_depth=None, min_samples_leaf=1, total=   0.1s\n",
      "[CV] max_features=0.1, splitter=best, criterion=entropy, max_depth=None, min_samples_leaf=1 \n",
      "[CV]  max_features=0.1, splitter=best, criterion=entropy, max_depth=None, min_samples_leaf=1, total=   0.2s\n",
      "[CV] max_features=0.1, splitter=random, criterion=entropy, max_depth=None, min_samples_leaf=2 \n",
      "[CV]  max_features=0.7, splitter=best, criterion=gini, max_depth=11, min_samples_leaf=4, total=   0.4s\n",
      "[CV]  max_features=0.1, splitter=random, criterion=entropy, max_depth=None, min_samples_leaf=2, total=   0.0s\n",
      "[CV] max_features=0.1, splitter=random, criterion=entropy, max_depth=None, min_samples_leaf=2 \n",
      "[CV] max_features=0.1, splitter=random, criterion=entropy, max_depth=None, min_samples_leaf=2 \n",
      "[CV]  max_features=0.1, splitter=random, criterion=entropy, max_depth=None, min_samples_leaf=2, total=   0.0s\n",
      "[CV] max_features=0.1, splitter=best, criterion=entropy, max_depth=None, min_samples_leaf=2 \n",
      "[CV]  max_features=0.1, splitter=random, criterion=entropy, max_depth=None, min_samples_leaf=2, total=   0.0s\n",
      "[CV] max_features=0.1, splitter=random, criterion=entropy, max_depth=None, min_samples_leaf=2 \n",
      "[CV]  max_features=0.1, splitter=random, criterion=entropy, max_depth=None, min_samples_leaf=2, total=   0.0s\n",
      "[CV] max_features=0.1, splitter=random, criterion=entropy, max_depth=None, min_samples_leaf=2 \n",
      "[CV]  max_features=0.1, splitter=best, criterion=entropy, max_depth=None, min_samples_leaf=2, total=   0.1s\n",
      "[CV] max_features=0.1, splitter=best, criterion=entropy, max_depth=None, min_samples_leaf=2 \n",
      "[CV]  max_features=0.1, splitter=random, criterion=entropy, max_depth=None, min_samples_leaf=2, total=   0.0s\n",
      "[CV] max_features=0.1, splitter=best, criterion=entropy, max_depth=None, min_samples_leaf=2 \n",
      "[CV]  max_features=0.1, splitter=best, criterion=entropy, max_depth=None, min_samples_leaf=2, total=   0.0s\n",
      "[CV] max_features=0.1, splitter=random, criterion=entropy, max_depth=None, min_samples_leaf=3 \n",
      "[CV]  max_features=0.1, splitter=random, criterion=entropy, max_depth=None, min_samples_leaf=3, total=   0.0s\n",
      "[CV] max_features=0.1, splitter=random, criterion=entropy, max_depth=None, min_samples_leaf=3 \n",
      "[CV]  max_features=0.1, splitter=best, criterion=entropy, max_depth=None, min_samples_leaf=2, total=   0.1s\n",
      "[CV] max_features=0.1, splitter=best, criterion=entropy, max_depth=None, min_samples_leaf=2 \n",
      "[CV]  max_features=0.1, splitter=random, criterion=entropy, max_depth=None, min_samples_leaf=3, total=   0.0s\n",
      "[CV] max_features=0.1, splitter=random, criterion=entropy, max_depth=None, min_samples_leaf=3 \n",
      "[CV]  max_features=0.1, splitter=random, criterion=entropy, max_depth=None, min_samples_leaf=3, total=   0.0s\n",
      "[CV] max_features=0.1, splitter=random, criterion=entropy, max_depth=None, min_samples_leaf=3 \n",
      "[CV]  max_features=0.1, splitter=random, criterion=entropy, max_depth=None, min_samples_leaf=3, total=   0.0s\n",
      "[CV] max_features=0.1, splitter=random, criterion=entropy, max_depth=None, min_samples_leaf=3 \n",
      "[CV]  max_features=0.1, splitter=random, criterion=entropy, max_depth=None, min_samples_leaf=3, total=   0.0s\n",
      "[CV] max_features=0.1, splitter=best, criterion=entropy, max_depth=None, min_samples_leaf=3 \n",
      "[CV]  max_features=0.1, splitter=best, criterion=entropy, max_depth=None, min_samples_leaf=2, total=   0.1s\n",
      "[CV] max_features=0.1, splitter=best, criterion=entropy, max_depth=None, min_samples_leaf=2 \n",
      "[CV]  max_features=0.1, splitter=best, criterion=entropy, max_depth=None, min_samples_leaf=3, total=   0.0s\n",
      "[CV] max_features=0.1, splitter=best, criterion=entropy, max_depth=None, min_samples_leaf=3 \n",
      "[CV]  max_features=0.1, splitter=best, criterion=entropy, max_depth=None, min_samples_leaf=3, total=   0.1s\n",
      "[CV] max_features=0.1, splitter=best, criterion=entropy, max_depth=None, min_samples_leaf=3 \n",
      "[CV]  max_features=0.1, splitter=best, criterion=entropy, max_depth=None, min_samples_leaf=2, total=   0.2s\n",
      "[CV] max_features=0.1, splitter=best, criterion=entropy, max_depth=None, min_samples_leaf=3 \n",
      "[CV]  max_features=0.1, splitter=best, criterion=entropy, max_depth=None, min_samples_leaf=3, total=   0.1s\n",
      "[CV] max_features=0.1, splitter=random, criterion=entropy, max_depth=None, min_samples_leaf=4 \n",
      "[CV]  max_features=0.1, splitter=random, criterion=entropy, max_depth=None, min_samples_leaf=4, total=   0.0s\n",
      "[CV] max_features=0.1, splitter=random, criterion=entropy, max_depth=None, min_samples_leaf=4 \n",
      "[CV]  max_features=0.1, splitter=random, criterion=entropy, max_depth=None, min_samples_leaf=4, total=   0.0s\n"
     ]
    },
    {
     "name": "stdout",
     "output_type": "stream",
     "text": [
      "[CV] max_features=0.1, splitter=random, criterion=entropy, max_depth=None, min_samples_leaf=4 \n",
      "[CV]  max_features=0.1, splitter=random, criterion=entropy, max_depth=None, min_samples_leaf=4, total=   0.0s\n",
      "[CV] max_features=0.1, splitter=best, criterion=entropy, max_depth=None, min_samples_leaf=4 \n",
      "[CV]  max_features=0.1, splitter=best, criterion=entropy, max_depth=None, min_samples_leaf=4, total=   0.0s\n",
      "[CV] max_features=0.1, splitter=best, criterion=entropy, max_depth=None, min_samples_leaf=4 \n",
      "[CV]  max_features=0.1, splitter=best, criterion=entropy, max_depth=None, min_samples_leaf=3, total=   0.2s\n",
      "[CV] max_features=0.1, splitter=best, criterion=entropy, max_depth=None, min_samples_leaf=3 \n",
      "[CV]  max_features=0.1, splitter=best, criterion=entropy, max_depth=None, min_samples_leaf=4, total=   0.1s\n",
      "[CV] max_features=0.1, splitter=best, criterion=entropy, max_depth=None, min_samples_leaf=4 \n",
      "[CV]  max_features=0.1, splitter=best, criterion=entropy, max_depth=None, min_samples_leaf=4, total=   0.1s\n",
      "[CV] max_features=0.1, splitter=best, criterion=entropy, max_depth=None, min_samples_leaf=4 \n",
      "[CV]  max_features=0.1, splitter=best, criterion=entropy, max_depth=None, min_samples_leaf=3, total=   0.2s\n",
      "[CV] max_features=0.1, splitter=random, criterion=entropy, max_depth=None, min_samples_leaf=4 \n",
      "[CV]  max_features=0.1, splitter=random, criterion=entropy, max_depth=None, min_samples_leaf=4, total=   0.0s\n",
      "[CV] max_features=0.1, splitter=random, criterion=entropy, max_depth=None, min_samples_leaf=4 \n",
      "[CV]  max_features=0.1, splitter=random, criterion=entropy, max_depth=None, min_samples_leaf=4, total=   0.0s\n",
      "[CV] max_features=0.5, splitter=random, criterion=entropy, max_depth=None, min_samples_leaf=1 \n",
      "[CV]  max_features=0.5, splitter=random, criterion=entropy, max_depth=None, min_samples_leaf=1, total=   0.0s\n",
      "[CV] max_features=0.5, splitter=random, criterion=entropy, max_depth=None, min_samples_leaf=1 \n",
      "[CV]  max_features=0.5, splitter=random, criterion=entropy, max_depth=None, min_samples_leaf=1, total=   0.0s\n",
      "[CV]  max_features=0.1, splitter=best, criterion=entropy, max_depth=None, min_samples_leaf=4, total=   0.2s\n",
      "[CV] max_features=0.5, splitter=random, criterion=entropy, max_depth=None, min_samples_leaf=1 \n",
      "[CV] max_features=0.1, splitter=best, criterion=entropy, max_depth=None, min_samples_leaf=4 \n",
      "[CV]  max_features=0.5, splitter=random, criterion=entropy, max_depth=None, min_samples_leaf=1, total=   0.0s\n",
      "[CV] max_features=0.5, splitter=random, criterion=entropy, max_depth=None, min_samples_leaf=1 \n",
      "[CV]  max_features=0.5, splitter=random, criterion=entropy, max_depth=None, min_samples_leaf=1, total=   0.1s\n",
      "[CV] max_features=0.5, splitter=random, criterion=entropy, max_depth=None, min_samples_leaf=1 \n",
      "[CV]  max_features=0.1, splitter=best, criterion=entropy, max_depth=None, min_samples_leaf=4, total=   0.2s\n",
      "[CV] max_features=0.5, splitter=best, criterion=entropy, max_depth=None, min_samples_leaf=1 \n",
      "[CV]  max_features=0.5, splitter=random, criterion=entropy, max_depth=None, min_samples_leaf=1, total=   0.1s\n",
      "[CV] max_features=0.5, splitter=best, criterion=entropy, max_depth=None, min_samples_leaf=1 \n",
      "[CV]  max_features=0.5, splitter=best, criterion=entropy, max_depth=None, min_samples_leaf=1, total=   0.1s\n",
      "[CV] max_features=0.5, splitter=best, criterion=entropy, max_depth=None, min_samples_leaf=1 \n",
      "[CV]  max_features=0.5, splitter=best, criterion=entropy, max_depth=None, min_samples_leaf=1, total=   0.2s\n",
      "[CV] max_features=0.5, splitter=best, criterion=entropy, max_depth=None, min_samples_leaf=1 \n",
      "[CV]  max_features=0.5, splitter=best, criterion=entropy, max_depth=None, min_samples_leaf=1, total=   0.6s\n",
      "[CV] max_features=0.5, splitter=best, criterion=entropy, max_depth=None, min_samples_leaf=1 \n",
      "[CV]  max_features=0.5, splitter=best, criterion=entropy, max_depth=None, min_samples_leaf=1, total=   0.4s\n",
      "[CV] max_features=0.5, splitter=random, criterion=entropy, max_depth=None, min_samples_leaf=2 \n",
      "[CV]  max_features=0.5, splitter=random, criterion=entropy, max_depth=None, min_samples_leaf=2, total=   0.0s\n",
      "[CV] max_features=0.5, splitter=random, criterion=entropy, max_depth=None, min_samples_leaf=2 \n",
      "[CV]  max_features=0.5, splitter=random, criterion=entropy, max_depth=None, min_samples_leaf=2, total=   0.1s\n",
      "[CV] max_features=0.5, splitter=random, criterion=entropy, max_depth=None, min_samples_leaf=2 \n",
      "[CV]  max_features=0.5, splitter=random, criterion=entropy, max_depth=None, min_samples_leaf=2, total=   0.1s\n",
      "[CV] max_features=0.5, splitter=best, criterion=entropy, max_depth=None, min_samples_leaf=2 \n",
      "[CV]  max_features=0.5, splitter=best, criterion=entropy, max_depth=None, min_samples_leaf=2, total=   0.1s\n",
      "[CV] max_features=0.5, splitter=best, criterion=entropy, max_depth=None, min_samples_leaf=2 \n",
      "[CV]  max_features=0.5, splitter=best, criterion=entropy, max_depth=None, min_samples_leaf=1, total=   0.7s\n",
      "[CV] max_features=0.5, splitter=random, criterion=entropy, max_depth=None, min_samples_leaf=2 \n",
      "[CV]  max_features=0.5, splitter=random, criterion=entropy, max_depth=None, min_samples_leaf=2, total=   0.0s\n",
      "[CV]  max_features=0.5, splitter=best, criterion=entropy, max_depth=None, min_samples_leaf=2, total=   0.2s\n",
      "[CV] max_features=0.5, splitter=random, criterion=entropy, max_depth=None, min_samples_leaf=2 \n",
      "[CV] max_features=0.5, splitter=best, criterion=entropy, max_depth=None, min_samples_leaf=2 \n",
      "[CV]  max_features=0.5, splitter=random, criterion=entropy, max_depth=None, min_samples_leaf=2, total=   0.0s\n",
      "[CV] max_features=0.5, splitter=random, criterion=entropy, max_depth=None, min_samples_leaf=3 \n",
      "[CV]  max_features=0.5, splitter=random, criterion=entropy, max_depth=None, min_samples_leaf=3, total=   0.0s\n",
      "[CV] max_features=0.5, splitter=random, criterion=entropy, max_depth=None, min_samples_leaf=3 \n",
      "[CV]  max_features=0.5, splitter=random, criterion=entropy, max_depth=None, min_samples_leaf=3, total=   0.0s\n",
      "[CV] max_features=0.5, splitter=random, criterion=entropy, max_depth=None, min_samples_leaf=3 \n",
      "[CV]  max_features=0.5, splitter=random, criterion=entropy, max_depth=None, min_samples_leaf=3, total=   0.1s\n",
      "[CV] max_features=0.5, splitter=random, criterion=entropy, max_depth=None, min_samples_leaf=3 \n",
      "[CV]  max_features=0.5, splitter=random, criterion=entropy, max_depth=None, min_samples_leaf=3, total=   0.1s\n",
      "[CV] max_features=0.5, splitter=random, criterion=entropy, max_depth=None, min_samples_leaf=3 \n",
      "[CV]  max_features=0.5, splitter=random, criterion=entropy, max_depth=None, min_samples_leaf=3, total=   0.1s\n",
      "[CV]  max_features=0.5, splitter=best, criterion=entropy, max_depth=None, min_samples_leaf=2, total=   0.3s\n",
      "[CV] max_features=0.5, splitter=best, criterion=entropy, max_depth=None, min_samples_leaf=2 \n",
      "[CV] max_features=0.5, splitter=best, criterion=entropy, max_depth=None, min_samples_leaf=3 \n",
      "[CV]  max_features=0.5, splitter=best, criterion=entropy, max_depth=None, min_samples_leaf=3, total=   0.1s\n",
      "[CV] max_features=0.5, splitter=best, criterion=entropy, max_depth=None, min_samples_leaf=3 \n",
      "[CV]  max_features=0.5, splitter=best, criterion=entropy, max_depth=None, min_samples_leaf=3, total=   0.2s\n",
      "[CV] max_features=0.5, splitter=best, criterion=entropy, max_depth=None, min_samples_leaf=3 \n",
      "[CV]  max_features=0.5, splitter=best, criterion=entropy, max_depth=None, min_samples_leaf=2, total=   0.6s\n",
      "[CV] max_features=0.5, splitter=best, criterion=entropy, max_depth=None, min_samples_leaf=2 \n",
      "[CV]  max_features=0.5, splitter=best, criterion=entropy, max_depth=None, min_samples_leaf=3, total=   0.4s\n",
      "[CV] max_features=0.5, splitter=best, criterion=entropy, max_depth=None, min_samples_leaf=3 \n",
      "[CV]  max_features=0.5, splitter=best, criterion=entropy, max_depth=None, min_samples_leaf=3, total=   0.4s\n",
      "[CV] max_features=0.5, splitter=best, criterion=entropy, max_depth=None, min_samples_leaf=3 \n",
      "[CV]  max_features=0.5, splitter=best, criterion=entropy, max_depth=None, min_samples_leaf=2, total=   0.7s\n",
      "[CV] max_features=0.5, splitter=random, criterion=entropy, max_depth=None, min_samples_leaf=4 \n",
      "[CV]  max_features=0.5, splitter=random, criterion=entropy, max_depth=None, min_samples_leaf=4, total=   0.0s\n",
      "[CV] max_features=0.5, splitter=random, criterion=entropy, max_depth=None, min_samples_leaf=4 \n"
     ]
    },
    {
     "name": "stdout",
     "output_type": "stream",
     "text": [
      "[CV]  max_features=0.5, splitter=random, criterion=entropy, max_depth=None, min_samples_leaf=4, total=   0.0s\n",
      "[CV] max_features=0.5, splitter=random, criterion=entropy, max_depth=None, min_samples_leaf=4 \n",
      "[CV]  max_features=0.5, splitter=random, criterion=entropy, max_depth=None, min_samples_leaf=4, total=   0.1s\n",
      "[CV] max_features=0.5, splitter=best, criterion=entropy, max_depth=None, min_samples_leaf=4 \n",
      "[CV]  max_features=0.5, splitter=best, criterion=entropy, max_depth=None, min_samples_leaf=4, total=   0.1s\n",
      "[CV] max_features=0.5, splitter=best, criterion=entropy, max_depth=None, min_samples_leaf=4 \n",
      "[CV]  max_features=0.5, splitter=best, criterion=entropy, max_depth=None, min_samples_leaf=4, total=   0.2s\n",
      "[CV] max_features=0.5, splitter=best, criterion=entropy, max_depth=None, min_samples_leaf=4 \n",
      "[CV]  max_features=0.5, splitter=best, criterion=entropy, max_depth=None, min_samples_leaf=3, total=   0.8s\n",
      "[CV] max_features=0.5, splitter=random, criterion=entropy, max_depth=None, min_samples_leaf=4 \n",
      "[CV]  max_features=0.5, splitter=random, criterion=entropy, max_depth=None, min_samples_leaf=4, total=   0.0s\n",
      "[CV] max_features=0.5, splitter=random, criterion=entropy, max_depth=None, min_samples_leaf=4 \n",
      "[CV]  max_features=0.5, splitter=random, criterion=entropy, max_depth=None, min_samples_leaf=4, total=   0.0s\n",
      "[CV] max_features=0.7, splitter=random, criterion=entropy, max_depth=None, min_samples_leaf=1 \n",
      "[CV]  max_features=0.7, splitter=random, criterion=entropy, max_depth=None, min_samples_leaf=1, total=   0.0s\n",
      "[CV] max_features=0.7, splitter=random, criterion=entropy, max_depth=None, min_samples_leaf=1 \n",
      "[CV]  max_features=0.7, splitter=random, criterion=entropy, max_depth=None, min_samples_leaf=1, total=   0.0s\n",
      "[CV] max_features=0.7, splitter=random, criterion=entropy, max_depth=None, min_samples_leaf=1 \n",
      "[CV]  max_features=0.7, splitter=random, criterion=entropy, max_depth=None, min_samples_leaf=1, total=   0.0s\n",
      "[CV] max_features=0.7, splitter=random, criterion=entropy, max_depth=None, min_samples_leaf=1 \n",
      "[CV]  max_features=0.7, splitter=random, criterion=entropy, max_depth=None, min_samples_leaf=1, total=   0.1s\n",
      "[CV] max_features=0.7, splitter=random, criterion=entropy, max_depth=None, min_samples_leaf=1 \n",
      "[CV]  max_features=0.5, splitter=best, criterion=entropy, max_depth=None, min_samples_leaf=4, total=   0.5s\n",
      "[CV] max_features=0.5, splitter=best, criterion=entropy, max_depth=None, min_samples_leaf=4 \n",
      "[CV]  max_features=0.7, splitter=random, criterion=entropy, max_depth=None, min_samples_leaf=1, total=   0.1s\n",
      "[CV] max_features=0.7, splitter=best, criterion=entropy, max_depth=None, min_samples_leaf=1 \n",
      "[CV]  max_features=0.7, splitter=best, criterion=entropy, max_depth=None, min_samples_leaf=1, total=   0.1s\n",
      "[CV] max_features=0.7, splitter=best, criterion=entropy, max_depth=None, min_samples_leaf=1 \n",
      "[CV]  max_features=0.7, splitter=best, criterion=entropy, max_depth=None, min_samples_leaf=1, total=   0.3s\n",
      "[CV] max_features=0.7, splitter=best, criterion=entropy, max_depth=None, min_samples_leaf=1 \n",
      "[CV]  max_features=0.5, splitter=best, criterion=entropy, max_depth=None, min_samples_leaf=4, total=   0.6s\n",
      "[CV] max_features=0.5, splitter=best, criterion=entropy, max_depth=None, min_samples_leaf=4 \n",
      "[CV]  max_features=0.7, splitter=best, criterion=entropy, max_depth=None, min_samples_leaf=1, total=   0.5s\n",
      "[CV] max_features=0.7, splitter=best, criterion=entropy, max_depth=None, min_samples_leaf=1 \n",
      "[CV]  max_features=0.5, splitter=best, criterion=entropy, max_depth=None, min_samples_leaf=4, total=   0.6s\n",
      "[CV] max_features=0.7, splitter=random, criterion=entropy, max_depth=None, min_samples_leaf=2 \n",
      "[CV]  max_features=0.7, splitter=random, criterion=entropy, max_depth=None, min_samples_leaf=2, total=   0.1s\n",
      "[CV] max_features=0.7, splitter=random, criterion=entropy, max_depth=None, min_samples_leaf=2 \n",
      "[CV]  max_features=0.7, splitter=random, criterion=entropy, max_depth=None, min_samples_leaf=2, total=   0.1s\n",
      "[CV] max_features=0.7, splitter=random, criterion=entropy, max_depth=None, min_samples_leaf=2 \n",
      "[CV]  max_features=0.7, splitter=random, criterion=entropy, max_depth=None, min_samples_leaf=2, total=   0.1s\n",
      "[CV] max_features=0.7, splitter=best, criterion=entropy, max_depth=None, min_samples_leaf=2 \n",
      "[CV]  max_features=0.7, splitter=best, criterion=entropy, max_depth=None, min_samples_leaf=2, total=   0.1s\n",
      "[CV] max_features=0.7, splitter=best, criterion=entropy, max_depth=None, min_samples_leaf=2 \n",
      "[CV]  max_features=0.7, splitter=best, criterion=entropy, max_depth=None, min_samples_leaf=1, total=   0.9s\n",
      "[CV] max_features=0.7, splitter=best, criterion=entropy, max_depth=None, min_samples_leaf=1 \n",
      "[CV]  max_features=0.7, splitter=best, criterion=entropy, max_depth=None, min_samples_leaf=2, total=   0.3s\n",
      "[CV] max_features=0.7, splitter=best, criterion=entropy, max_depth=None, min_samples_leaf=2 \n",
      "[CV]  max_features=0.7, splitter=best, criterion=entropy, max_depth=None, min_samples_leaf=2, total=   0.4s\n",
      "[CV] max_features=0.7, splitter=best, criterion=entropy, max_depth=None, min_samples_leaf=2 \n",
      "[CV]  max_features=0.7, splitter=best, criterion=entropy, max_depth=None, min_samples_leaf=1, total=   1.0s\n",
      "[CV] max_features=0.7, splitter=random, criterion=entropy, max_depth=None, min_samples_leaf=2 \n",
      "[CV]  max_features=0.7, splitter=random, criterion=entropy, max_depth=None, min_samples_leaf=2, total=   0.0s\n",
      "[CV] max_features=0.7, splitter=random, criterion=entropy, max_depth=None, min_samples_leaf=2 \n",
      "[CV]  max_features=0.7, splitter=random, criterion=entropy, max_depth=None, min_samples_leaf=2, total=   0.0s\n",
      "[CV] max_features=0.7, splitter=random, criterion=entropy, max_depth=None, min_samples_leaf=3 \n",
      "[CV]  max_features=0.7, splitter=random, criterion=entropy, max_depth=None, min_samples_leaf=3, total=   0.0s\n",
      "[CV] max_features=0.7, splitter=random, criterion=entropy, max_depth=None, min_samples_leaf=3 \n",
      "[CV]  max_features=0.7, splitter=random, criterion=entropy, max_depth=None, min_samples_leaf=3, total=   0.0s\n",
      "[CV] max_features=0.7, splitter=random, criterion=entropy, max_depth=None, min_samples_leaf=3 \n",
      "[CV]  max_features=0.7, splitter=random, criterion=entropy, max_depth=None, min_samples_leaf=3, total=   0.1s\n",
      "[CV] max_features=0.7, splitter=random, criterion=entropy, max_depth=None, min_samples_leaf=3 \n",
      "[CV]  max_features=0.7, splitter=best, criterion=entropy, max_depth=None, min_samples_leaf=2, total=   0.8s\n",
      "[CV] max_features=0.7, splitter=best, criterion=entropy, max_depth=None, min_samples_leaf=2 \n",
      "[CV]  max_features=0.7, splitter=random, criterion=entropy, max_depth=None, min_samples_leaf=3, total=   0.1s\n",
      "[CV] max_features=0.7, splitter=random, criterion=entropy, max_depth=None, min_samples_leaf=3 \n",
      "[CV]  max_features=0.7, splitter=random, criterion=entropy, max_depth=None, min_samples_leaf=3, total=   0.1s\n",
      "[CV] max_features=0.7, splitter=best, criterion=entropy, max_depth=None, min_samples_leaf=3 \n",
      "[CV]  max_features=0.7, splitter=best, criterion=entropy, max_depth=None, min_samples_leaf=3, total=   0.1s\n",
      "[CV] max_features=0.7, splitter=best, criterion=entropy, max_depth=None, min_samples_leaf=3 \n",
      "[CV]  max_features=0.7, splitter=best, criterion=entropy, max_depth=None, min_samples_leaf=3, total=   0.3s\n",
      "[CV] max_features=0.7, splitter=best, criterion=entropy, max_depth=None, min_samples_leaf=3 \n",
      "[CV]  max_features=0.7, splitter=best, criterion=entropy, max_depth=None, min_samples_leaf=2, total=   0.9s\n",
      "[CV] max_features=0.7, splitter=best, criterion=entropy, max_depth=None, min_samples_leaf=3 \n",
      "[CV]  max_features=0.7, splitter=best, criterion=entropy, max_depth=None, min_samples_leaf=3, total=   0.5s\n",
      "[CV] max_features=0.7, splitter=random, criterion=entropy, max_depth=None, min_samples_leaf=4 \n",
      "[CV]  max_features=0.7, splitter=random, criterion=entropy, max_depth=None, min_samples_leaf=4, total=   0.0s\n",
      "[CV] max_features=0.7, splitter=random, criterion=entropy, max_depth=None, min_samples_leaf=4 \n",
      "[CV]  max_features=0.7, splitter=random, criterion=entropy, max_depth=None, min_samples_leaf=4, total=   0.0s\n",
      "[CV] max_features=0.7, splitter=random, criterion=entropy, max_depth=None, min_samples_leaf=4 \n",
      "[CV]  max_features=0.7, splitter=random, criterion=entropy, max_depth=None, min_samples_leaf=4, total=   0.1s\n"
     ]
    },
    {
     "name": "stdout",
     "output_type": "stream",
     "text": [
      "[CV] max_features=0.7, splitter=random, criterion=entropy, max_depth=None, min_samples_leaf=4 \n",
      "[CV]  max_features=0.7, splitter=random, criterion=entropy, max_depth=None, min_samples_leaf=4, total=   0.1s\n",
      "[CV] max_features=0.7, splitter=random, criterion=entropy, max_depth=None, min_samples_leaf=4 \n",
      "[CV]  max_features=0.7, splitter=random, criterion=entropy, max_depth=None, min_samples_leaf=4, total=   0.1s\n",
      "[CV] max_features=0.7, splitter=best, criterion=entropy, max_depth=None, min_samples_leaf=4 \n",
      "[CV]  max_features=0.7, splitter=best, criterion=entropy, max_depth=None, min_samples_leaf=4, total=   0.1s\n",
      "[CV] max_features=0.7, splitter=best, criterion=entropy, max_depth=None, min_samples_leaf=4 \n",
      "[CV]  max_features=0.7, splitter=best, criterion=entropy, max_depth=None, min_samples_leaf=3, total=   0.7s\n",
      "[CV] max_features=0.7, splitter=best, criterion=entropy, max_depth=None, min_samples_leaf=3 \n",
      "[CV]  max_features=0.7, splitter=best, criterion=entropy, max_depth=None, min_samples_leaf=4, total=   0.3s\n",
      "[CV] max_features=0.7, splitter=best, criterion=entropy, max_depth=None, min_samples_leaf=4 \n",
      "[CV]  max_features=0.7, splitter=best, criterion=entropy, max_depth=None, min_samples_leaf=4, total=   0.5s\n",
      "[CV] max_features=0.7, splitter=best, criterion=entropy, max_depth=None, min_samples_leaf=4 \n",
      "[CV]  max_features=0.7, splitter=best, criterion=entropy, max_depth=None, min_samples_leaf=3, total=   0.9s\n",
      "[CV] max_features=0.1, splitter=random, criterion=entropy, max_depth=1, min_samples_leaf=1 \n",
      "[CV]  max_features=0.1, splitter=random, criterion=entropy, max_depth=1, min_samples_leaf=1, total=   0.0s\n",
      "[CV] max_features=0.1, splitter=random, criterion=entropy, max_depth=1, min_samples_leaf=1 \n",
      "[CV]  max_features=0.1, splitter=random, criterion=entropy, max_depth=1, min_samples_leaf=1, total=   0.0s\n",
      "[CV] max_features=0.1, splitter=random, criterion=entropy, max_depth=1, min_samples_leaf=1 \n",
      "[CV]  max_features=0.1, splitter=random, criterion=entropy, max_depth=1, min_samples_leaf=1, total=   0.0s\n",
      "[CV] max_features=0.1, splitter=random, criterion=entropy, max_depth=1, min_samples_leaf=1 \n",
      "[CV]  max_features=0.1, splitter=random, criterion=entropy, max_depth=1, min_samples_leaf=1, total=   0.0s\n",
      "[CV] max_features=0.1, splitter=random, criterion=entropy, max_depth=1, min_samples_leaf=1 \n",
      "[CV]  max_features=0.1, splitter=random, criterion=entropy, max_depth=1, min_samples_leaf=1, total=   0.0s\n",
      "[CV] max_features=0.1, splitter=best, criterion=entropy, max_depth=1, min_samples_leaf=1 \n",
      "[CV]  max_features=0.1, splitter=best, criterion=entropy, max_depth=1, min_samples_leaf=1, total=   0.0s\n",
      "[CV] max_features=0.1, splitter=best, criterion=entropy, max_depth=1, min_samples_leaf=1 \n",
      "[CV]  max_features=0.1, splitter=best, criterion=entropy, max_depth=1, min_samples_leaf=1, total=   0.0s\n",
      "[CV] max_features=0.1, splitter=best, criterion=entropy, max_depth=1, min_samples_leaf=1 \n",
      "[CV]  max_features=0.1, splitter=best, criterion=entropy, max_depth=1, min_samples_leaf=1, total=   0.0s\n",
      "[CV] max_features=0.1, splitter=best, criterion=entropy, max_depth=1, min_samples_leaf=1 \n",
      "[CV]  max_features=0.1, splitter=best, criterion=entropy, max_depth=1, min_samples_leaf=1, total=   0.0s\n",
      "[CV] max_features=0.1, splitter=best, criterion=entropy, max_depth=1, min_samples_leaf=1 \n",
      "[CV]  max_features=0.1, splitter=best, criterion=entropy, max_depth=1, min_samples_leaf=1, total=   0.0s\n",
      "[CV] max_features=0.1, splitter=random, criterion=entropy, max_depth=1, min_samples_leaf=2 \n",
      "[CV]  max_features=0.1, splitter=random, criterion=entropy, max_depth=1, min_samples_leaf=2, total=   0.0s\n",
      "[CV] max_features=0.1, splitter=random, criterion=entropy, max_depth=1, min_samples_leaf=2 \n",
      "[CV]  max_features=0.1, splitter=random, criterion=entropy, max_depth=1, min_samples_leaf=2, total=   0.0s\n",
      "[CV] max_features=0.1, splitter=random, criterion=entropy, max_depth=1, min_samples_leaf=2 \n",
      "[CV]  max_features=0.1, splitter=random, criterion=entropy, max_depth=1, min_samples_leaf=2, total=   0.0s\n",
      "[CV] max_features=0.1, splitter=random, criterion=entropy, max_depth=1, min_samples_leaf=2 \n",
      "[CV]  max_features=0.1, splitter=random, criterion=entropy, max_depth=1, min_samples_leaf=2, total=   0.0s\n",
      "[CV] max_features=0.1, splitter=random, criterion=entropy, max_depth=1, min_samples_leaf=2 \n",
      "[CV]  max_features=0.1, splitter=random, criterion=entropy, max_depth=1, min_samples_leaf=2, total=   0.0s\n",
      "[CV] max_features=0.1, splitter=best, criterion=entropy, max_depth=1, min_samples_leaf=2 \n",
      "[CV]  max_features=0.1, splitter=best, criterion=entropy, max_depth=1, min_samples_leaf=2, total=   0.0s\n",
      "[CV] max_features=0.1, splitter=best, criterion=entropy, max_depth=1, min_samples_leaf=2 \n",
      "[CV]  max_features=0.1, splitter=best, criterion=entropy, max_depth=1, min_samples_leaf=2, total=   0.0s\n",
      "[CV] max_features=0.1, splitter=best, criterion=entropy, max_depth=1, min_samples_leaf=2 \n",
      "[CV]  max_features=0.1, splitter=best, criterion=entropy, max_depth=1, min_samples_leaf=2, total=   0.0s\n",
      "[CV] max_features=0.1, splitter=best, criterion=entropy, max_depth=1, min_samples_leaf=2 \n",
      "[CV]  max_features=0.1, splitter=best, criterion=entropy, max_depth=1, min_samples_leaf=2, total=   0.0s\n",
      "[CV] max_features=0.1, splitter=best, criterion=entropy, max_depth=1, min_samples_leaf=2 \n",
      "[CV]  max_features=0.1, splitter=best, criterion=entropy, max_depth=1, min_samples_leaf=2, total=   0.0s\n",
      "[CV] max_features=0.1, splitter=random, criterion=entropy, max_depth=1, min_samples_leaf=3 \n",
      "[CV]  max_features=0.1, splitter=random, criterion=entropy, max_depth=1, min_samples_leaf=3, total=   0.0s\n",
      "[CV] max_features=0.1, splitter=random, criterion=entropy, max_depth=1, min_samples_leaf=3 \n",
      "[CV]  max_features=0.1, splitter=random, criterion=entropy, max_depth=1, min_samples_leaf=3, total=   0.0s\n",
      "[CV] max_features=0.1, splitter=random, criterion=entropy, max_depth=1, min_samples_leaf=3 \n",
      "[CV]  max_features=0.1, splitter=random, criterion=entropy, max_depth=1, min_samples_leaf=3, total=   0.0s\n",
      "[CV] max_features=0.1, splitter=random, criterion=entropy, max_depth=1, min_samples_leaf=3 \n",
      "[CV]  max_features=0.1, splitter=random, criterion=entropy, max_depth=1, min_samples_leaf=3, total=   0.0s\n",
      "[CV] max_features=0.1, splitter=random, criterion=entropy, max_depth=1, min_samples_leaf=3 \n",
      "[CV]  max_features=0.7, splitter=best, criterion=entropy, max_depth=None, min_samples_leaf=4, total=   0.9s\n",
      "[CV] max_features=0.7, splitter=best, criterion=entropy, max_depth=None, min_samples_leaf=4 \n",
      "[CV]  max_features=0.1, splitter=random, criterion=entropy, max_depth=1, min_samples_leaf=3, total=   0.0s\n",
      "[CV] max_features=0.1, splitter=best, criterion=entropy, max_depth=1, min_samples_leaf=3 \n",
      "[CV]  max_features=0.1, splitter=best, criterion=entropy, max_depth=1, min_samples_leaf=3, total=   0.0s\n",
      "[CV] max_features=0.1, splitter=best, criterion=entropy, max_depth=1, min_samples_leaf=3 \n",
      "[CV]  max_features=0.1, splitter=best, criterion=entropy, max_depth=1, min_samples_leaf=3, total=   0.0s\n",
      "[CV] max_features=0.1, splitter=best, criterion=entropy, max_depth=1, min_samples_leaf=3 \n",
      "[CV]  max_features=0.1, splitter=best, criterion=entropy, max_depth=1, min_samples_leaf=3, total=   0.0s\n",
      "[CV] max_features=0.1, splitter=best, criterion=entropy, max_depth=1, min_samples_leaf=3 \n",
      "[CV]  max_features=0.1, splitter=best, criterion=entropy, max_depth=1, min_samples_leaf=3, total=   0.0s\n",
      "[CV] max_features=0.1, splitter=best, criterion=entropy, max_depth=1, min_samples_leaf=3 \n",
      "[CV]  max_features=0.1, splitter=best, criterion=entropy, max_depth=1, min_samples_leaf=3, total=   0.0s\n",
      "[CV] max_features=0.1, splitter=random, criterion=entropy, max_depth=1, min_samples_leaf=4 \n",
      "[CV]  max_features=0.1, splitter=random, criterion=entropy, max_depth=1, min_samples_leaf=4, total=   0.0s\n",
      "[CV] max_features=0.1, splitter=random, criterion=entropy, max_depth=1, min_samples_leaf=4 \n",
      "[CV]  max_features=0.1, splitter=random, criterion=entropy, max_depth=1, min_samples_leaf=4, total=   0.0s\n",
      "[CV] max_features=0.1, splitter=random, criterion=entropy, max_depth=1, min_samples_leaf=4 \n",
      "[CV]  max_features=0.1, splitter=random, criterion=entropy, max_depth=1, min_samples_leaf=4, total=   0.0s\n",
      "[CV] max_features=0.1, splitter=random, criterion=entropy, max_depth=1, min_samples_leaf=4 \n"
     ]
    },
    {
     "name": "stdout",
     "output_type": "stream",
     "text": [
      "[CV]  max_features=0.1, splitter=random, criterion=entropy, max_depth=1, min_samples_leaf=4, total=   0.0s\n",
      "[CV] max_features=0.1, splitter=random, criterion=entropy, max_depth=1, min_samples_leaf=4 \n",
      "[CV]  max_features=0.1, splitter=random, criterion=entropy, max_depth=1, min_samples_leaf=4, total=   0.0s\n",
      "[CV] max_features=0.1, splitter=best, criterion=entropy, max_depth=1, min_samples_leaf=4 \n",
      "[CV]  max_features=0.1, splitter=best, criterion=entropy, max_depth=1, min_samples_leaf=4, total=   0.0s\n",
      "[CV] max_features=0.1, splitter=best, criterion=entropy, max_depth=1, min_samples_leaf=4 \n",
      "[CV]  max_features=0.1, splitter=best, criterion=entropy, max_depth=1, min_samples_leaf=4, total=   0.0s\n",
      "[CV] max_features=0.1, splitter=best, criterion=entropy, max_depth=1, min_samples_leaf=4 \n",
      "[CV]  max_features=0.1, splitter=best, criterion=entropy, max_depth=1, min_samples_leaf=4, total=   0.0s\n",
      "[CV] max_features=0.1, splitter=best, criterion=entropy, max_depth=1, min_samples_leaf=4 \n",
      "[CV]  max_features=0.1, splitter=best, criterion=entropy, max_depth=1, min_samples_leaf=4, total=   0.0s\n",
      "[CV] max_features=0.1, splitter=best, criterion=entropy, max_depth=1, min_samples_leaf=4 \n",
      "[CV]  max_features=0.1, splitter=best, criterion=entropy, max_depth=1, min_samples_leaf=4, total=   0.0s\n",
      "[CV] max_features=0.5, splitter=random, criterion=entropy, max_depth=1, min_samples_leaf=1 \n",
      "[CV]  max_features=0.5, splitter=random, criterion=entropy, max_depth=1, min_samples_leaf=1, total=   0.0s\n",
      "[CV] max_features=0.5, splitter=random, criterion=entropy, max_depth=1, min_samples_leaf=1 \n",
      "[CV]  max_features=0.5, splitter=random, criterion=entropy, max_depth=1, min_samples_leaf=1, total=   0.0s\n",
      "[CV] max_features=0.5, splitter=random, criterion=entropy, max_depth=1, min_samples_leaf=1 \n",
      "[CV]  max_features=0.5, splitter=random, criterion=entropy, max_depth=1, min_samples_leaf=1, total=   0.0s\n",
      "[CV] max_features=0.5, splitter=random, criterion=entropy, max_depth=1, min_samples_leaf=1 \n",
      "[CV]  max_features=0.5, splitter=random, criterion=entropy, max_depth=1, min_samples_leaf=1, total=   0.0s\n",
      "[CV] max_features=0.5, splitter=random, criterion=entropy, max_depth=1, min_samples_leaf=1 \n",
      "[CV]  max_features=0.5, splitter=random, criterion=entropy, max_depth=1, min_samples_leaf=1, total=   0.0s\n",
      "[CV] max_features=0.5, splitter=best, criterion=entropy, max_depth=1, min_samples_leaf=1 \n",
      "[CV]  max_features=0.5, splitter=best, criterion=entropy, max_depth=1, min_samples_leaf=1, total=   0.0s\n",
      "[CV] max_features=0.5, splitter=best, criterion=entropy, max_depth=1, min_samples_leaf=1 \n",
      "[CV]  max_features=0.5, splitter=best, criterion=entropy, max_depth=1, min_samples_leaf=1, total=   0.0s\n",
      "[CV] max_features=0.5, splitter=best, criterion=entropy, max_depth=1, min_samples_leaf=1 \n",
      "[CV]  max_features=0.5, splitter=best, criterion=entropy, max_depth=1, min_samples_leaf=1, total=   0.0s\n",
      "[CV] max_features=0.5, splitter=best, criterion=entropy, max_depth=1, min_samples_leaf=1 \n",
      "[CV]  max_features=0.5, splitter=best, criterion=entropy, max_depth=1, min_samples_leaf=1, total=   0.1s\n",
      "[CV] max_features=0.5, splitter=best, criterion=entropy, max_depth=1, min_samples_leaf=1 \n",
      "[CV]  max_features=0.5, splitter=best, criterion=entropy, max_depth=1, min_samples_leaf=1, total=   0.1s\n",
      "[CV] max_features=0.5, splitter=random, criterion=entropy, max_depth=1, min_samples_leaf=2 \n",
      "[CV]  max_features=0.5, splitter=random, criterion=entropy, max_depth=1, min_samples_leaf=2, total=   0.0s\n",
      "[CV] max_features=0.5, splitter=random, criterion=entropy, max_depth=1, min_samples_leaf=2 \n",
      "[CV]  max_features=0.5, splitter=random, criterion=entropy, max_depth=1, min_samples_leaf=2, total=   0.0s\n",
      "[CV] max_features=0.5, splitter=random, criterion=entropy, max_depth=1, min_samples_leaf=2 \n",
      "[CV]  max_features=0.5, splitter=random, criterion=entropy, max_depth=1, min_samples_leaf=2, total=   0.0s\n",
      "[CV] max_features=0.5, splitter=random, criterion=entropy, max_depth=1, min_samples_leaf=2 \n",
      "[CV]  max_features=0.5, splitter=random, criterion=entropy, max_depth=1, min_samples_leaf=2, total=   0.0s\n",
      "[CV] max_features=0.5, splitter=random, criterion=entropy, max_depth=1, min_samples_leaf=2 \n",
      "[CV]  max_features=0.5, splitter=random, criterion=entropy, max_depth=1, min_samples_leaf=2, total=   0.0s\n",
      "[CV] max_features=0.5, splitter=best, criterion=entropy, max_depth=1, min_samples_leaf=2 \n",
      "[CV]  max_features=0.5, splitter=best, criterion=entropy, max_depth=1, min_samples_leaf=2, total=   0.0s\n",
      "[CV] max_features=0.5, splitter=best, criterion=entropy, max_depth=1, min_samples_leaf=2 \n",
      "[CV]  max_features=0.5, splitter=best, criterion=entropy, max_depth=1, min_samples_leaf=2, total=   0.0s\n",
      "[CV] max_features=0.5, splitter=best, criterion=entropy, max_depth=1, min_samples_leaf=2 \n",
      "[CV]  max_features=0.5, splitter=best, criterion=entropy, max_depth=1, min_samples_leaf=2, total=   0.0s\n",
      "[CV] max_features=0.5, splitter=best, criterion=entropy, max_depth=1, min_samples_leaf=2 \n",
      "[CV]  max_features=0.5, splitter=best, criterion=entropy, max_depth=1, min_samples_leaf=2, total=   0.1s\n",
      "[CV] max_features=0.5, splitter=best, criterion=entropy, max_depth=1, min_samples_leaf=2 \n",
      "[CV]  max_features=0.7, splitter=best, criterion=entropy, max_depth=None, min_samples_leaf=4, total=   1.1s\n",
      "[CV] max_features=0.5, splitter=random, criterion=entropy, max_depth=1, min_samples_leaf=3 \n",
      "[CV]  max_features=0.5, splitter=random, criterion=entropy, max_depth=1, min_samples_leaf=3, total=   0.0s\n",
      "[CV] max_features=0.5, splitter=random, criterion=entropy, max_depth=1, min_samples_leaf=3 \n",
      "[CV]  max_features=0.5, splitter=random, criterion=entropy, max_depth=1, min_samples_leaf=3, total=   0.0s\n",
      "[CV] max_features=0.5, splitter=random, criterion=entropy, max_depth=1, min_samples_leaf=3 \n",
      "[CV]  max_features=0.5, splitter=best, criterion=entropy, max_depth=1, min_samples_leaf=2, total=   0.1s\n",
      "[CV]  max_features=0.5, splitter=random, criterion=entropy, max_depth=1, min_samples_leaf=3, total=   0.0s\n",
      "[CV] max_features=0.5, splitter=random, criterion=entropy, max_depth=1, min_samples_leaf=3 \n",
      "[CV] max_features=0.5, splitter=best, criterion=entropy, max_depth=1, min_samples_leaf=3 \n",
      "[CV]  max_features=0.5, splitter=random, criterion=entropy, max_depth=1, min_samples_leaf=3, total=   0.0s\n",
      "[CV] max_features=0.5, splitter=random, criterion=entropy, max_depth=1, min_samples_leaf=3 \n",
      "[CV]  max_features=0.5, splitter=random, criterion=entropy, max_depth=1, min_samples_leaf=3, total=   0.0s\n",
      "[CV]  max_features=0.5, splitter=best, criterion=entropy, max_depth=1, min_samples_leaf=3, total=   0.0s\n",
      "[CV] max_features=0.5, splitter=best, criterion=entropy, max_depth=1, min_samples_leaf=3 \n",
      "[CV] max_features=0.5, splitter=random, criterion=entropy, max_depth=1, min_samples_leaf=4 \n",
      "[CV]  max_features=0.5, splitter=random, criterion=entropy, max_depth=1, min_samples_leaf=4, total=   0.0s\n",
      "[CV] max_features=0.5, splitter=random, criterion=entropy, max_depth=1, min_samples_leaf=4 \n",
      "[CV]  max_features=0.5, splitter=random, criterion=entropy, max_depth=1, min_samples_leaf=4, total=   0.0s\n",
      "[CV] max_features=0.5, splitter=random, criterion=entropy, max_depth=1, min_samples_leaf=4 \n",
      "[CV]  max_features=0.5, splitter=best, criterion=entropy, max_depth=1, min_samples_leaf=3, total=   0.1s\n",
      "[CV] max_features=0.5, splitter=best, criterion=entropy, max_depth=1, min_samples_leaf=3 \n",
      "[CV]  max_features=0.5, splitter=random, criterion=entropy, max_depth=1, min_samples_leaf=4, total=   0.0s\n",
      "[CV] max_features=0.5, splitter=random, criterion=entropy, max_depth=1, min_samples_leaf=4 \n",
      "[CV]  max_features=0.5, splitter=random, criterion=entropy, max_depth=1, min_samples_leaf=4, total=   0.0s\n",
      "[CV] max_features=0.5, splitter=random, criterion=entropy, max_depth=1, min_samples_leaf=4 \n",
      "[CV]  max_features=0.5, splitter=best, criterion=entropy, max_depth=1, min_samples_leaf=3, total=   0.1s\n",
      "[CV] max_features=0.5, splitter=best, criterion=entropy, max_depth=1, min_samples_leaf=3 \n",
      "[CV]  max_features=0.5, splitter=random, criterion=entropy, max_depth=1, min_samples_leaf=4, total=   0.0s\n",
      "[CV] max_features=0.5, splitter=best, criterion=entropy, max_depth=1, min_samples_leaf=4 \n",
      "[CV]  max_features=0.5, splitter=best, criterion=entropy, max_depth=1, min_samples_leaf=4, total=   0.0s\n",
      "[CV] max_features=0.5, splitter=best, criterion=entropy, max_depth=1, min_samples_leaf=4 \n"
     ]
    },
    {
     "name": "stdout",
     "output_type": "stream",
     "text": [
      "[CV]  max_features=0.5, splitter=best, criterion=entropy, max_depth=1, min_samples_leaf=3, total=   0.1s\n",
      "[CV] max_features=0.5, splitter=best, criterion=entropy, max_depth=1, min_samples_leaf=3 \n",
      "[CV]  max_features=0.5, splitter=best, criterion=entropy, max_depth=1, min_samples_leaf=4, total=   0.0s\n",
      "[CV] max_features=0.5, splitter=best, criterion=entropy, max_depth=1, min_samples_leaf=4 \n",
      "[CV]  max_features=0.5, splitter=best, criterion=entropy, max_depth=1, min_samples_leaf=4, total=   0.0s\n",
      "[CV] max_features=0.5, splitter=best, criterion=entropy, max_depth=1, min_samples_leaf=4 \n",
      "[CV]  max_features=0.5, splitter=best, criterion=entropy, max_depth=1, min_samples_leaf=3, total=   0.1s\n",
      "[CV] max_features=0.7, splitter=random, criterion=entropy, max_depth=1, min_samples_leaf=1 \n",
      "[CV]  max_features=0.7, splitter=random, criterion=entropy, max_depth=1, min_samples_leaf=1, total=   0.0s\n",
      "[CV] max_features=0.7, splitter=random, criterion=entropy, max_depth=1, min_samples_leaf=1 \n",
      "[CV]  max_features=0.7, splitter=random, criterion=entropy, max_depth=1, min_samples_leaf=1, total=   0.0s\n",
      "[CV] max_features=0.7, splitter=random, criterion=entropy, max_depth=1, min_samples_leaf=1 \n",
      "[CV]  max_features=0.5, splitter=best, criterion=entropy, max_depth=1, min_samples_leaf=4, total=   0.1s\n",
      "[CV] max_features=0.5, splitter=best, criterion=entropy, max_depth=1, min_samples_leaf=4 \n",
      "[CV]  max_features=0.7, splitter=random, criterion=entropy, max_depth=1, min_samples_leaf=1, total=   0.0s\n",
      "[CV] max_features=0.7, splitter=best, criterion=entropy, max_depth=1, min_samples_leaf=1 \n",
      "[CV]  max_features=0.7, splitter=best, criterion=entropy, max_depth=1, min_samples_leaf=1, total=   0.0s\n",
      "[CV] max_features=0.7, splitter=best, criterion=entropy, max_depth=1, min_samples_leaf=1 \n",
      "[CV]  max_features=0.5, splitter=best, criterion=entropy, max_depth=1, min_samples_leaf=4, total=   0.1s\n",
      "[CV] max_features=0.7, splitter=random, criterion=entropy, max_depth=1, min_samples_leaf=1 \n",
      "[CV]  max_features=0.7, splitter=best, criterion=entropy, max_depth=1, min_samples_leaf=1, total=   0.0s\n",
      "[CV]  max_features=0.7, splitter=random, criterion=entropy, max_depth=1, min_samples_leaf=1, total=   0.0s\n",
      "[CV] max_features=0.7, splitter=random, criterion=entropy, max_depth=1, min_samples_leaf=1 \n",
      "[CV] max_features=0.7, splitter=best, criterion=entropy, max_depth=1, min_samples_leaf=1 \n",
      "[CV]  max_features=0.7, splitter=random, criterion=entropy, max_depth=1, min_samples_leaf=1, total=   0.0s\n",
      "[CV] max_features=0.7, splitter=random, criterion=entropy, max_depth=1, min_samples_leaf=2 \n",
      "[CV]  max_features=0.7, splitter=random, criterion=entropy, max_depth=1, min_samples_leaf=2, total=   0.0s\n",
      "[CV] max_features=0.7, splitter=random, criterion=entropy, max_depth=1, min_samples_leaf=2 \n",
      "[CV]  max_features=0.7, splitter=random, criterion=entropy, max_depth=1, min_samples_leaf=2, total=   0.0s\n",
      "[CV] max_features=0.7, splitter=random, criterion=entropy, max_depth=1, min_samples_leaf=2 \n",
      "[CV]  max_features=0.7, splitter=best, criterion=entropy, max_depth=1, min_samples_leaf=1, total=   0.1s\n",
      "[CV] max_features=0.7, splitter=best, criterion=entropy, max_depth=1, min_samples_leaf=1 \n",
      "[CV]  max_features=0.7, splitter=random, criterion=entropy, max_depth=1, min_samples_leaf=2, total=   0.0s\n",
      "[CV] max_features=0.7, splitter=random, criterion=entropy, max_depth=1, min_samples_leaf=2 \n",
      "[CV]  max_features=0.7, splitter=random, criterion=entropy, max_depth=1, min_samples_leaf=2, total=   0.0s\n",
      "[CV] max_features=0.7, splitter=random, criterion=entropy, max_depth=1, min_samples_leaf=2 \n",
      "[CV]  max_features=0.7, splitter=random, criterion=entropy, max_depth=1, min_samples_leaf=2, total=   0.0s\n",
      "[CV] max_features=0.7, splitter=best, criterion=entropy, max_depth=1, min_samples_leaf=2 \n",
      "[CV]  max_features=0.7, splitter=best, criterion=entropy, max_depth=1, min_samples_leaf=1, total=   0.1s\n",
      "[CV] max_features=0.7, splitter=best, criterion=entropy, max_depth=1, min_samples_leaf=1 \n",
      "[CV]  max_features=0.7, splitter=best, criterion=entropy, max_depth=1, min_samples_leaf=2, total=   0.0s\n",
      "[CV] max_features=0.7, splitter=best, criterion=entropy, max_depth=1, min_samples_leaf=2 \n",
      "[CV]  max_features=0.7, splitter=best, criterion=entropy, max_depth=1, min_samples_leaf=2, total=   0.0s\n",
      "[CV] max_features=0.7, splitter=best, criterion=entropy, max_depth=1, min_samples_leaf=2 \n",
      "[CV]  max_features=0.7, splitter=best, criterion=entropy, max_depth=1, min_samples_leaf=1, total=   0.1s\n",
      "[CV] max_features=0.7, splitter=best, criterion=entropy, max_depth=1, min_samples_leaf=2 \n",
      "[CV]  max_features=0.7, splitter=best, criterion=entropy, max_depth=1, min_samples_leaf=2, total=   0.1s\n",
      "[CV] max_features=0.7, splitter=random, criterion=entropy, max_depth=1, min_samples_leaf=3 \n",
      "[CV]  max_features=0.7, splitter=random, criterion=entropy, max_depth=1, min_samples_leaf=3, total=   0.0s\n",
      "[CV] max_features=0.7, splitter=random, criterion=entropy, max_depth=1, min_samples_leaf=3 \n",
      "[CV]  max_features=0.7, splitter=random, criterion=entropy, max_depth=1, min_samples_leaf=3, total=   0.0s\n",
      "[CV] max_features=0.7, splitter=random, criterion=entropy, max_depth=1, min_samples_leaf=3 \n",
      "[CV]  max_features=0.7, splitter=best, criterion=entropy, max_depth=1, min_samples_leaf=2, total=   0.1s\n",
      "[CV] max_features=0.7, splitter=best, criterion=entropy, max_depth=1, min_samples_leaf=2 \n",
      "[CV]  max_features=0.7, splitter=random, criterion=entropy, max_depth=1, min_samples_leaf=3, total=   0.0s\n",
      "[CV] max_features=0.7, splitter=best, criterion=entropy, max_depth=1, min_samples_leaf=3 \n",
      "[CV]  max_features=0.7, splitter=best, criterion=entropy, max_depth=1, min_samples_leaf=3, total=   0.0s\n",
      "[CV] max_features=0.7, splitter=best, criterion=entropy, max_depth=1, min_samples_leaf=3 \n",
      "[CV]  max_features=0.7, splitter=best, criterion=entropy, max_depth=1, min_samples_leaf=3, total=   0.0s\n",
      "[CV] max_features=0.7, splitter=best, criterion=entropy, max_depth=1, min_samples_leaf=3 \n",
      "[CV]  max_features=0.7, splitter=best, criterion=entropy, max_depth=1, min_samples_leaf=2, total=   0.1s\n",
      "[CV] max_features=0.7, splitter=random, criterion=entropy, max_depth=1, min_samples_leaf=3 \n",
      "[CV]  max_features=0.7, splitter=random, criterion=entropy, max_depth=1, min_samples_leaf=3, total=   0.0s\n",
      "[CV] max_features=0.7, splitter=random, criterion=entropy, max_depth=1, min_samples_leaf=3 \n",
      "[CV]  max_features=0.7, splitter=random, criterion=entropy, max_depth=1, min_samples_leaf=3, total=   0.0s\n",
      "[CV] max_features=0.7, splitter=random, criterion=entropy, max_depth=1, min_samples_leaf=4 \n",
      "[CV]  max_features=0.7, splitter=random, criterion=entropy, max_depth=1, min_samples_leaf=4, total=   0.0s\n",
      "[CV]  max_features=0.7, splitter=best, criterion=entropy, max_depth=1, min_samples_leaf=3, total=   0.1s\n",
      "[CV] max_features=0.7, splitter=random, criterion=entropy, max_depth=1, min_samples_leaf=4 \n",
      "[CV] max_features=0.7, splitter=best, criterion=entropy, max_depth=1, min_samples_leaf=3 \n",
      "[CV]  max_features=0.7, splitter=random, criterion=entropy, max_depth=1, min_samples_leaf=4, total=   0.0s\n",
      "[CV] max_features=0.7, splitter=random, criterion=entropy, max_depth=1, min_samples_leaf=4 \n",
      "[CV]  max_features=0.7, splitter=random, criterion=entropy, max_depth=1, min_samples_leaf=4, total=   0.0s\n",
      "[CV] max_features=0.7, splitter=random, criterion=entropy, max_depth=1, min_samples_leaf=4 \n",
      "[CV]  max_features=0.7, splitter=random, criterion=entropy, max_depth=1, min_samples_leaf=4, total=   0.0s\n",
      "[CV] max_features=0.7, splitter=random, criterion=entropy, max_depth=1, min_samples_leaf=4 \n",
      "[CV]  max_features=0.7, splitter=best, criterion=entropy, max_depth=1, min_samples_leaf=3, total=   0.1s\n",
      "[CV] max_features=0.7, splitter=best, criterion=entropy, max_depth=1, min_samples_leaf=3 \n",
      "[CV]  max_features=0.7, splitter=random, criterion=entropy, max_depth=1, min_samples_leaf=4, total=   0.0s\n",
      "[CV] max_features=0.7, splitter=best, criterion=entropy, max_depth=1, min_samples_leaf=4 \n",
      "[CV]  max_features=0.7, splitter=best, criterion=entropy, max_depth=1, min_samples_leaf=4, total=   0.0s\n",
      "[CV] max_features=0.7, splitter=best, criterion=entropy, max_depth=1, min_samples_leaf=4 \n",
      "[CV]  max_features=0.7, splitter=best, criterion=entropy, max_depth=1, min_samples_leaf=4, total=   0.0s\n",
      "[CV] max_features=0.7, splitter=best, criterion=entropy, max_depth=1, min_samples_leaf=4 \n"
     ]
    },
    {
     "name": "stdout",
     "output_type": "stream",
     "text": [
      "[CV]  max_features=0.7, splitter=best, criterion=entropy, max_depth=1, min_samples_leaf=3, total=   0.1s\n",
      "[CV] max_features=0.7, splitter=best, criterion=entropy, max_depth=1, min_samples_leaf=4 \n",
      "[CV]  max_features=0.7, splitter=best, criterion=entropy, max_depth=1, min_samples_leaf=4, total=   0.1s\n",
      "[CV] max_features=0.1, splitter=random, criterion=entropy, max_depth=5, min_samples_leaf=1 \n",
      "[CV]  max_features=0.1, splitter=random, criterion=entropy, max_depth=5, min_samples_leaf=1, total=   0.0s\n",
      "[CV] max_features=0.1, splitter=random, criterion=entropy, max_depth=5, min_samples_leaf=1 \n",
      "[CV]  max_features=0.7, splitter=best, criterion=entropy, max_depth=1, min_samples_leaf=4, total=   0.1s\n",
      "[CV] max_features=0.7, splitter=best, criterion=entropy, max_depth=1, min_samples_leaf=4 \n",
      "[CV]  max_features=0.1, splitter=random, criterion=entropy, max_depth=5, min_samples_leaf=1, total=   0.0s\n",
      "[CV] max_features=0.1, splitter=random, criterion=entropy, max_depth=5, min_samples_leaf=1 \n",
      "[CV]  max_features=0.1, splitter=random, criterion=entropy, max_depth=5, min_samples_leaf=1, total=   0.0s\n",
      "[CV] max_features=0.1, splitter=best, criterion=entropy, max_depth=5, min_samples_leaf=1 \n",
      "[CV]  max_features=0.1, splitter=best, criterion=entropy, max_depth=5, min_samples_leaf=1, total=   0.0s\n",
      "[CV] max_features=0.1, splitter=best, criterion=entropy, max_depth=5, min_samples_leaf=1 \n",
      "[CV]  max_features=0.1, splitter=best, criterion=entropy, max_depth=5, min_samples_leaf=1, total=   0.0s\n",
      "[CV] max_features=0.1, splitter=best, criterion=entropy, max_depth=5, min_samples_leaf=1 \n",
      "[CV]  max_features=0.7, splitter=best, criterion=entropy, max_depth=1, min_samples_leaf=4, total=   0.1s\n",
      "[CV] max_features=0.1, splitter=random, criterion=entropy, max_depth=5, min_samples_leaf=1 \n",
      "[CV]  max_features=0.1, splitter=random, criterion=entropy, max_depth=5, min_samples_leaf=1, total=   0.0s\n",
      "[CV] max_features=0.1, splitter=random, criterion=entropy, max_depth=5, min_samples_leaf=1 \n",
      "[CV]  max_features=0.1, splitter=random, criterion=entropy, max_depth=5, min_samples_leaf=1, total=   0.0s\n",
      "[CV] max_features=0.1, splitter=random, criterion=entropy, max_depth=5, min_samples_leaf=2 \n",
      "[CV]  max_features=0.1, splitter=best, criterion=entropy, max_depth=5, min_samples_leaf=1, total=   0.1s\n",
      "[CV] max_features=0.1, splitter=best, criterion=entropy, max_depth=5, min_samples_leaf=1 \n",
      "[CV]  max_features=0.1, splitter=random, criterion=entropy, max_depth=5, min_samples_leaf=2, total=   0.0s\n",
      "[CV] max_features=0.1, splitter=random, criterion=entropy, max_depth=5, min_samples_leaf=2 \n",
      "[CV]  max_features=0.1, splitter=random, criterion=entropy, max_depth=5, min_samples_leaf=2, total=   0.0s\n",
      "[CV] max_features=0.1, splitter=random, criterion=entropy, max_depth=5, min_samples_leaf=2 \n",
      "[CV]  max_features=0.1, splitter=random, criterion=entropy, max_depth=5, min_samples_leaf=2, total=   0.0s\n",
      "[CV] max_features=0.1, splitter=random, criterion=entropy, max_depth=5, min_samples_leaf=2 \n",
      "[CV]  max_features=0.1, splitter=random, criterion=entropy, max_depth=5, min_samples_leaf=2, total=   0.0s\n",
      "[CV]  max_features=0.1, splitter=best, criterion=entropy, max_depth=5, min_samples_leaf=1, total=   0.1s\n",
      "[CV] max_features=0.1, splitter=best, criterion=entropy, max_depth=5, min_samples_leaf=1 \n",
      "[CV] max_features=0.1, splitter=random, criterion=entropy, max_depth=5, min_samples_leaf=2 \n",
      "[CV]  max_features=0.1, splitter=random, criterion=entropy, max_depth=5, min_samples_leaf=2, total=   0.0s\n",
      "[CV] max_features=0.1, splitter=best, criterion=entropy, max_depth=5, min_samples_leaf=2 \n",
      "[CV]  max_features=0.1, splitter=best, criterion=entropy, max_depth=5, min_samples_leaf=2, total=   0.0s\n",
      "[CV] max_features=0.1, splitter=best, criterion=entropy, max_depth=5, min_samples_leaf=2 \n",
      "[CV]  max_features=0.1, splitter=best, criterion=entropy, max_depth=5, min_samples_leaf=1, total=   0.1s\n",
      "[CV] max_features=0.1, splitter=best, criterion=entropy, max_depth=5, min_samples_leaf=2 \n",
      "[CV]  max_features=0.1, splitter=best, criterion=entropy, max_depth=5, min_samples_leaf=2, total=   0.0s\n",
      "[CV] max_features=0.1, splitter=best, criterion=entropy, max_depth=5, min_samples_leaf=2 \n",
      "[CV]  max_features=0.1, splitter=best, criterion=entropy, max_depth=5, min_samples_leaf=2, total=   0.1s\n",
      "[CV] max_features=0.1, splitter=best, criterion=entropy, max_depth=5, min_samples_leaf=2 \n",
      "[CV]  max_features=0.1, splitter=best, criterion=entropy, max_depth=5, min_samples_leaf=2, total=   0.1s\n",
      "[CV] max_features=0.1, splitter=random, criterion=entropy, max_depth=5, min_samples_leaf=3 \n",
      "[CV]  max_features=0.1, splitter=random, criterion=entropy, max_depth=5, min_samples_leaf=3, total=   0.0s\n",
      "[CV] max_features=0.1, splitter=random, criterion=entropy, max_depth=5, min_samples_leaf=3 \n",
      "[CV]  max_features=0.1, splitter=random, criterion=entropy, max_depth=5, min_samples_leaf=3, total=   0.0s\n",
      "[CV] max_features=0.1, splitter=random, criterion=entropy, max_depth=5, min_samples_leaf=3 \n",
      "[CV]  max_features=0.1, splitter=random, criterion=entropy, max_depth=5, min_samples_leaf=3, total=   0.0s\n",
      "[CV]  max_features=0.1, splitter=best, criterion=entropy, max_depth=5, min_samples_leaf=2, total=   0.1s\n",
      "[CV] max_features=0.1, splitter=best, criterion=entropy, max_depth=5, min_samples_leaf=3 \n",
      "[CV] max_features=0.1, splitter=random, criterion=entropy, max_depth=5, min_samples_leaf=3 \n",
      "[CV]  max_features=0.1, splitter=random, criterion=entropy, max_depth=5, min_samples_leaf=3, total=   0.0s\n",
      "[CV] max_features=0.1, splitter=random, criterion=entropy, max_depth=5, min_samples_leaf=3 \n",
      "[CV]  max_features=0.1, splitter=best, criterion=entropy, max_depth=5, min_samples_leaf=3, total=   0.0s\n",
      "[CV] max_features=0.1, splitter=best, criterion=entropy, max_depth=5, min_samples_leaf=3 \n",
      "[CV]  max_features=0.1, splitter=random, criterion=entropy, max_depth=5, min_samples_leaf=3, total=   0.0s\n",
      "[CV] max_features=0.1, splitter=random, criterion=entropy, max_depth=5, min_samples_leaf=4 \n",
      "[CV]  max_features=0.1, splitter=random, criterion=entropy, max_depth=5, min_samples_leaf=4, total=   0.0s\n",
      "[CV] max_features=0.1, splitter=random, criterion=entropy, max_depth=5, min_samples_leaf=4 \n",
      "[CV]  max_features=0.1, splitter=best, criterion=entropy, max_depth=5, min_samples_leaf=3, total=   0.0s\n",
      "[CV] max_features=0.1, splitter=best, criterion=entropy, max_depth=5, min_samples_leaf=3 \n",
      "[CV]  max_features=0.1, splitter=random, criterion=entropy, max_depth=5, min_samples_leaf=4, total=   0.0s\n",
      "[CV] max_features=0.1, splitter=random, criterion=entropy, max_depth=5, min_samples_leaf=4 \n",
      "[CV]  max_features=0.1, splitter=random, criterion=entropy, max_depth=5, min_samples_leaf=4, total=   0.0s\n",
      "[CV] max_features=0.1, splitter=random, criterion=entropy, max_depth=5, min_samples_leaf=4 \n",
      "[CV]  max_features=0.1, splitter=best, criterion=entropy, max_depth=5, min_samples_leaf=3, total=   0.0s\n",
      "[CV] max_features=0.1, splitter=best, criterion=entropy, max_depth=5, min_samples_leaf=3 \n",
      "[CV]  max_features=0.1, splitter=random, criterion=entropy, max_depth=5, min_samples_leaf=4, total=   0.0s\n",
      "[CV] max_features=0.1, splitter=random, criterion=entropy, max_depth=5, min_samples_leaf=4 \n",
      "[CV]  max_features=0.1, splitter=random, criterion=entropy, max_depth=5, min_samples_leaf=4, total=   0.0s\n",
      "[CV] max_features=0.1, splitter=best, criterion=entropy, max_depth=5, min_samples_leaf=4 \n",
      "[CV]  max_features=0.1, splitter=best, criterion=entropy, max_depth=5, min_samples_leaf=3, total=   0.1s\n",
      "[CV] max_features=0.1, splitter=best, criterion=entropy, max_depth=5, min_samples_leaf=3 \n",
      "[CV]  max_features=0.1, splitter=best, criterion=entropy, max_depth=5, min_samples_leaf=4, total=   0.0s\n",
      "[CV] max_features=0.1, splitter=best, criterion=entropy, max_depth=5, min_samples_leaf=4 \n",
      "[CV]  max_features=0.1, splitter=best, criterion=entropy, max_depth=5, min_samples_leaf=4, total=   0.0s\n",
      "[CV] max_features=0.1, splitter=best, criterion=entropy, max_depth=5, min_samples_leaf=4 \n",
      "[CV]  max_features=0.1, splitter=best, criterion=entropy, max_depth=5, min_samples_leaf=3, total=   0.1s\n",
      "[CV] max_features=0.1, splitter=best, criterion=entropy, max_depth=5, min_samples_leaf=4 \n",
      "[CV]  max_features=0.1, splitter=best, criterion=entropy, max_depth=5, min_samples_leaf=4, total=   0.1s\n",
      "[CV] max_features=0.5, splitter=random, criterion=entropy, max_depth=5, min_samples_leaf=1 \n"
     ]
    },
    {
     "name": "stdout",
     "output_type": "stream",
     "text": [
      "[CV]  max_features=0.5, splitter=random, criterion=entropy, max_depth=5, min_samples_leaf=1, total=   0.0s\n",
      "[CV] max_features=0.5, splitter=random, criterion=entropy, max_depth=5, min_samples_leaf=1 \n",
      "[CV]  max_features=0.1, splitter=best, criterion=entropy, max_depth=5, min_samples_leaf=4, total=   0.1s\n",
      "[CV] max_features=0.1, splitter=best, criterion=entropy, max_depth=5, min_samples_leaf=4 \n",
      "[CV]  max_features=0.5, splitter=random, criterion=entropy, max_depth=5, min_samples_leaf=1, total=   0.0s\n",
      "[CV] max_features=0.5, splitter=random, criterion=entropy, max_depth=5, min_samples_leaf=1 \n",
      "[CV]  max_features=0.5, splitter=random, criterion=entropy, max_depth=5, min_samples_leaf=1, total=   0.0s\n",
      "[CV] max_features=0.5, splitter=best, criterion=entropy, max_depth=5, min_samples_leaf=1 \n",
      "[CV]  max_features=0.1, splitter=best, criterion=entropy, max_depth=5, min_samples_leaf=4, total=   0.1s\n",
      "[CV] max_features=0.5, splitter=random, criterion=entropy, max_depth=5, min_samples_leaf=1 \n",
      "[CV]  max_features=0.5, splitter=random, criterion=entropy, max_depth=5, min_samples_leaf=1, total=   0.0s\n",
      "[CV] max_features=0.5, splitter=random, criterion=entropy, max_depth=5, min_samples_leaf=1 \n",
      "[CV]  max_features=0.5, splitter=best, criterion=entropy, max_depth=5, min_samples_leaf=1, total=   0.1s\n",
      "[CV]  max_features=0.5, splitter=random, criterion=entropy, max_depth=5, min_samples_leaf=1, total=   0.0s\n",
      "[CV] max_features=0.5, splitter=random, criterion=entropy, max_depth=5, min_samples_leaf=2 \n",
      "[CV] max_features=0.5, splitter=best, criterion=entropy, max_depth=5, min_samples_leaf=1 \n",
      "[CV]  max_features=0.5, splitter=random, criterion=entropy, max_depth=5, min_samples_leaf=2, total=   0.0s\n",
      "[CV] max_features=0.5, splitter=random, criterion=entropy, max_depth=5, min_samples_leaf=2 \n",
      "[CV]  max_features=0.5, splitter=random, criterion=entropy, max_depth=5, min_samples_leaf=2, total=   0.0s\n",
      "[CV] max_features=0.5, splitter=random, criterion=entropy, max_depth=5, min_samples_leaf=2 \n",
      "[CV]  max_features=0.5, splitter=random, criterion=entropy, max_depth=5, min_samples_leaf=2, total=   0.0s\n",
      "[CV] max_features=0.5, splitter=random, criterion=entropy, max_depth=5, min_samples_leaf=2 \n",
      "[CV]  max_features=0.5, splitter=random, criterion=entropy, max_depth=5, min_samples_leaf=2, total=   0.0s\n",
      "[CV] max_features=0.5, splitter=random, criterion=entropy, max_depth=5, min_samples_leaf=2 \n",
      "[CV]  max_features=0.5, splitter=best, criterion=entropy, max_depth=5, min_samples_leaf=1, total=   0.2s\n",
      "[CV] max_features=0.5, splitter=best, criterion=entropy, max_depth=5, min_samples_leaf=1 \n",
      "[CV]  max_features=0.5, splitter=random, criterion=entropy, max_depth=5, min_samples_leaf=2, total=   0.0s\n",
      "[CV] max_features=0.5, splitter=best, criterion=entropy, max_depth=5, min_samples_leaf=2 \n",
      "[CV]  max_features=0.5, splitter=best, criterion=entropy, max_depth=5, min_samples_leaf=2, total=   0.1s\n",
      "[CV] max_features=0.5, splitter=best, criterion=entropy, max_depth=5, min_samples_leaf=2 \n",
      "[CV]  max_features=0.5, splitter=best, criterion=entropy, max_depth=5, min_samples_leaf=1, total=   0.2s\n",
      "[CV] max_features=0.5, splitter=best, criterion=entropy, max_depth=5, min_samples_leaf=1 \n",
      "[CV]  max_features=0.5, splitter=best, criterion=entropy, max_depth=5, min_samples_leaf=2, total=   0.1s\n",
      "[CV] max_features=0.5, splitter=best, criterion=entropy, max_depth=5, min_samples_leaf=2 \n",
      "[CV]  max_features=0.5, splitter=best, criterion=entropy, max_depth=5, min_samples_leaf=2, total=   0.2s\n",
      "[CV] max_features=0.5, splitter=best, criterion=entropy, max_depth=5, min_samples_leaf=2 \n",
      "[CV]  max_features=0.5, splitter=best, criterion=entropy, max_depth=5, min_samples_leaf=1, total=   0.2s\n",
      "[CV] max_features=0.5, splitter=best, criterion=entropy, max_depth=5, min_samples_leaf=1 \n",
      "[CV]  max_features=0.5, splitter=best, criterion=entropy, max_depth=5, min_samples_leaf=2, total=   0.2s\n",
      "[CV] max_features=0.5, splitter=best, criterion=entropy, max_depth=5, min_samples_leaf=2 \n",
      "[CV]  max_features=0.5, splitter=best, criterion=entropy, max_depth=5, min_samples_leaf=1, total=   0.3s\n",
      "[CV] max_features=0.5, splitter=random, criterion=entropy, max_depth=5, min_samples_leaf=3 \n",
      "[CV]  max_features=0.5, splitter=random, criterion=entropy, max_depth=5, min_samples_leaf=3, total=   0.0s\n",
      "[CV] max_features=0.5, splitter=random, criterion=entropy, max_depth=5, min_samples_leaf=3 \n",
      "[CV]  max_features=0.5, splitter=random, criterion=entropy, max_depth=5, min_samples_leaf=3, total=   0.0s\n",
      "[CV] max_features=0.5, splitter=random, criterion=entropy, max_depth=5, min_samples_leaf=3 \n",
      "[CV]  max_features=0.5, splitter=random, criterion=entropy, max_depth=5, min_samples_leaf=3, total=   0.0s\n",
      "[CV] max_features=0.5, splitter=best, criterion=entropy, max_depth=5, min_samples_leaf=3 \n",
      "[CV]  max_features=0.5, splitter=best, criterion=entropy, max_depth=5, min_samples_leaf=3, total=   0.1s\n",
      "[CV] max_features=0.5, splitter=best, criterion=entropy, max_depth=5, min_samples_leaf=3 \n",
      "[CV]  max_features=0.5, splitter=best, criterion=entropy, max_depth=5, min_samples_leaf=2, total=   0.3s\n",
      "[CV] max_features=0.5, splitter=random, criterion=entropy, max_depth=5, min_samples_leaf=3 \n",
      "[CV]  max_features=0.5, splitter=random, criterion=entropy, max_depth=5, min_samples_leaf=3, total=   0.0s\n",
      "[CV] max_features=0.5, splitter=random, criterion=entropy, max_depth=5, min_samples_leaf=3 \n",
      "[CV]  max_features=0.5, splitter=random, criterion=entropy, max_depth=5, min_samples_leaf=3, total=   0.0s\n",
      "[CV] max_features=0.5, splitter=random, criterion=entropy, max_depth=5, min_samples_leaf=4 \n",
      "[CV]  max_features=0.5, splitter=best, criterion=entropy, max_depth=5, min_samples_leaf=3, total=   0.1s\n",
      "[CV] max_features=0.5, splitter=best, criterion=entropy, max_depth=5, min_samples_leaf=3 \n",
      "[CV]  max_features=0.5, splitter=random, criterion=entropy, max_depth=5, min_samples_leaf=4, total=   0.0s\n",
      "[CV] max_features=0.5, splitter=random, criterion=entropy, max_depth=5, min_samples_leaf=4 \n",
      "[CV]  max_features=0.5, splitter=random, criterion=entropy, max_depth=5, min_samples_leaf=4, total=   0.0s\n",
      "[CV] max_features=0.5, splitter=random, criterion=entropy, max_depth=5, min_samples_leaf=4 \n",
      "[CV]  max_features=0.5, splitter=random, criterion=entropy, max_depth=5, min_samples_leaf=4, total=   0.0s\n",
      "[CV] max_features=0.5, splitter=random, criterion=entropy, max_depth=5, min_samples_leaf=4 \n",
      "[CV]  max_features=0.5, splitter=random, criterion=entropy, max_depth=5, min_samples_leaf=4, total=   0.0s\n",
      "[CV] max_features=0.5, splitter=random, criterion=entropy, max_depth=5, min_samples_leaf=4 \n",
      "[CV]  max_features=0.5, splitter=random, criterion=entropy, max_depth=5, min_samples_leaf=4, total=   0.0s\n",
      "[CV] max_features=0.5, splitter=best, criterion=entropy, max_depth=5, min_samples_leaf=4 \n",
      "[CV]  max_features=0.5, splitter=best, criterion=entropy, max_depth=5, min_samples_leaf=4, total=   0.1s\n",
      "[CV] max_features=0.5, splitter=best, criterion=entropy, max_depth=5, min_samples_leaf=4 \n",
      "[CV]  max_features=0.5, splitter=best, criterion=entropy, max_depth=5, min_samples_leaf=3, total=   0.2s\n",
      "[CV] max_features=0.5, splitter=best, criterion=entropy, max_depth=5, min_samples_leaf=3 \n",
      "[CV]  max_features=0.5, splitter=best, criterion=entropy, max_depth=5, min_samples_leaf=4, total=   0.1s\n",
      "[CV] max_features=0.5, splitter=best, criterion=entropy, max_depth=5, min_samples_leaf=4 \n",
      "[CV]  max_features=0.5, splitter=best, criterion=entropy, max_depth=5, min_samples_leaf=3, total=   0.2s\n",
      "[CV] max_features=0.5, splitter=best, criterion=entropy, max_depth=5, min_samples_leaf=3 \n",
      "[CV]  max_features=0.5, splitter=best, criterion=entropy, max_depth=5, min_samples_leaf=4, total=   0.2s\n",
      "[CV] max_features=0.5, splitter=best, criterion=entropy, max_depth=5, min_samples_leaf=4 \n",
      "[CV]  max_features=0.5, splitter=best, criterion=entropy, max_depth=5, min_samples_leaf=3, total=   0.3s\n",
      "[CV] max_features=0.7, splitter=random, criterion=entropy, max_depth=5, min_samples_leaf=1 \n",
      "[CV]  max_features=0.5, splitter=best, criterion=entropy, max_depth=5, min_samples_leaf=4, total=   0.2s\n",
      "[CV] max_features=0.5, splitter=best, criterion=entropy, max_depth=5, min_samples_leaf=4 \n",
      "[CV]  max_features=0.7, splitter=random, criterion=entropy, max_depth=5, min_samples_leaf=1, total=   0.0s\n",
      "[CV] max_features=0.7, splitter=random, criterion=entropy, max_depth=5, min_samples_leaf=1 \n"
     ]
    },
    {
     "name": "stdout",
     "output_type": "stream",
     "text": [
      "[CV]  max_features=0.7, splitter=random, criterion=entropy, max_depth=5, min_samples_leaf=1, total=   0.0s\n",
      "[CV] max_features=0.7, splitter=random, criterion=entropy, max_depth=5, min_samples_leaf=1 \n",
      "[CV]  max_features=0.7, splitter=random, criterion=entropy, max_depth=5, min_samples_leaf=1, total=   0.0s\n",
      "[CV] max_features=0.7, splitter=best, criterion=entropy, max_depth=5, min_samples_leaf=1 \n",
      "[CV]  max_features=0.7, splitter=best, criterion=entropy, max_depth=5, min_samples_leaf=1, total=   0.1s\n",
      "[CV] max_features=0.7, splitter=best, criterion=entropy, max_depth=5, min_samples_leaf=1 \n",
      "[CV]  max_features=0.5, splitter=best, criterion=entropy, max_depth=5, min_samples_leaf=4, total=   0.3s\n",
      "[CV] max_features=0.7, splitter=random, criterion=entropy, max_depth=5, min_samples_leaf=1 \n",
      "[CV]  max_features=0.7, splitter=random, criterion=entropy, max_depth=5, min_samples_leaf=1, total=   0.0s\n",
      "[CV] max_features=0.7, splitter=random, criterion=entropy, max_depth=5, min_samples_leaf=1 \n",
      "[CV]  max_features=0.7, splitter=random, criterion=entropy, max_depth=5, min_samples_leaf=1, total=   0.0s\n",
      "[CV]  max_features=0.7, splitter=best, criterion=entropy, max_depth=5, min_samples_leaf=1, total=   0.2s\n",
      "[CV] max_features=0.7, splitter=random, criterion=entropy, max_depth=5, min_samples_leaf=2 \n",
      "[CV] max_features=0.7, splitter=best, criterion=entropy, max_depth=5, min_samples_leaf=1 \n",
      "[CV]  max_features=0.7, splitter=random, criterion=entropy, max_depth=5, min_samples_leaf=2, total=   0.0s\n",
      "[CV] max_features=0.7, splitter=random, criterion=entropy, max_depth=5, min_samples_leaf=2 \n",
      "[CV]  max_features=0.7, splitter=random, criterion=entropy, max_depth=5, min_samples_leaf=2, total=   0.0s\n",
      "[CV] max_features=0.7, splitter=random, criterion=entropy, max_depth=5, min_samples_leaf=2 \n",
      "[CV]  max_features=0.7, splitter=random, criterion=entropy, max_depth=5, min_samples_leaf=2, total=   0.0s\n",
      "[CV] max_features=0.7, splitter=random, criterion=entropy, max_depth=5, min_samples_leaf=2 \n",
      "[CV]  max_features=0.7, splitter=random, criterion=entropy, max_depth=5, min_samples_leaf=2, total=   0.0s\n",
      "[CV] max_features=0.7, splitter=random, criterion=entropy, max_depth=5, min_samples_leaf=2 \n",
      "[CV]  max_features=0.7, splitter=random, criterion=entropy, max_depth=5, min_samples_leaf=2, total=   0.0s\n",
      "[CV] max_features=0.7, splitter=best, criterion=entropy, max_depth=5, min_samples_leaf=2 \n",
      "[CV]  max_features=0.7, splitter=best, criterion=entropy, max_depth=5, min_samples_leaf=2, total=   0.1s\n",
      "[CV] max_features=0.7, splitter=best, criterion=entropy, max_depth=5, min_samples_leaf=2 \n",
      "[CV]  max_features=0.7, splitter=best, criterion=entropy, max_depth=5, min_samples_leaf=1, total=   0.3s\n",
      "[CV] max_features=0.7, splitter=best, criterion=entropy, max_depth=5, min_samples_leaf=1 \n",
      "[CV]  max_features=0.7, splitter=best, criterion=entropy, max_depth=5, min_samples_leaf=2, total=   0.2s\n",
      "[CV] max_features=0.7, splitter=best, criterion=entropy, max_depth=5, min_samples_leaf=2 \n",
      "[CV]  max_features=0.7, splitter=best, criterion=entropy, max_depth=5, min_samples_leaf=1, total=   0.3s\n",
      "[CV] max_features=0.7, splitter=best, criterion=entropy, max_depth=5, min_samples_leaf=1 \n",
      "[CV]  max_features=0.7, splitter=best, criterion=entropy, max_depth=5, min_samples_leaf=2, total=   0.2s\n",
      "[CV] max_features=0.7, splitter=best, criterion=entropy, max_depth=5, min_samples_leaf=2 \n",
      "[CV]  max_features=0.7, splitter=best, criterion=entropy, max_depth=5, min_samples_leaf=2, total=   0.3s\n",
      "[CV] max_features=0.7, splitter=best, criterion=entropy, max_depth=5, min_samples_leaf=2 \n",
      "[CV]  max_features=0.7, splitter=best, criterion=entropy, max_depth=5, min_samples_leaf=1, total=   0.4s\n",
      "[CV] max_features=0.7, splitter=random, criterion=entropy, max_depth=5, min_samples_leaf=3 \n",
      "[CV]  max_features=0.7, splitter=random, criterion=entropy, max_depth=5, min_samples_leaf=3, total=   0.0s\n",
      "[CV] max_features=0.7, splitter=random, criterion=entropy, max_depth=5, min_samples_leaf=3 \n",
      "[CV]  max_features=0.7, splitter=random, criterion=entropy, max_depth=5, min_samples_leaf=3, total=   0.0s\n",
      "[CV] max_features=0.7, splitter=random, criterion=entropy, max_depth=5, min_samples_leaf=3 \n",
      "[CV]  max_features=0.7, splitter=random, criterion=entropy, max_depth=5, min_samples_leaf=3, total=   0.0s\n",
      "[CV] max_features=0.7, splitter=best, criterion=entropy, max_depth=5, min_samples_leaf=3 \n",
      "[CV]  max_features=0.7, splitter=best, criterion=entropy, max_depth=5, min_samples_leaf=3, total=   0.1s\n",
      "[CV] max_features=0.7, splitter=best, criterion=entropy, max_depth=5, min_samples_leaf=3 \n",
      "[CV]  max_features=0.7, splitter=best, criterion=entropy, max_depth=5, min_samples_leaf=3, total=   0.2s\n",
      "[CV] max_features=0.7, splitter=best, criterion=entropy, max_depth=5, min_samples_leaf=3 \n",
      "[CV]  max_features=0.7, splitter=best, criterion=entropy, max_depth=5, min_samples_leaf=2, total=   0.4s\n",
      "[CV] max_features=0.7, splitter=random, criterion=entropy, max_depth=5, min_samples_leaf=3 \n",
      "[CV]  max_features=0.7, splitter=random, criterion=entropy, max_depth=5, min_samples_leaf=3, total=   0.0s\n",
      "[CV] max_features=0.7, splitter=random, criterion=entropy, max_depth=5, min_samples_leaf=3 \n",
      "[CV]  max_features=0.7, splitter=random, criterion=entropy, max_depth=5, min_samples_leaf=3, total=   0.0s\n",
      "[CV] max_features=0.7, splitter=random, criterion=entropy, max_depth=5, min_samples_leaf=4 \n",
      "[CV]  max_features=0.7, splitter=random, criterion=entropy, max_depth=5, min_samples_leaf=4, total=   0.0s\n",
      "[CV] max_features=0.7, splitter=random, criterion=entropy, max_depth=5, min_samples_leaf=4 \n",
      "[CV]  max_features=0.7, splitter=random, criterion=entropy, max_depth=5, min_samples_leaf=4, total=   0.0s\n",
      "[CV] max_features=0.7, splitter=random, criterion=entropy, max_depth=5, min_samples_leaf=4 \n",
      "[CV]  max_features=0.7, splitter=random, criterion=entropy, max_depth=5, min_samples_leaf=4, total=   0.0s\n",
      "[CV] max_features=0.7, splitter=random, criterion=entropy, max_depth=5, min_samples_leaf=4 \n",
      "[CV]  max_features=0.7, splitter=random, criterion=entropy, max_depth=5, min_samples_leaf=4, total=   0.0s\n",
      "[CV] max_features=0.7, splitter=random, criterion=entropy, max_depth=5, min_samples_leaf=4 \n",
      "[CV]  max_features=0.7, splitter=random, criterion=entropy, max_depth=5, min_samples_leaf=4, total=   0.0s\n",
      "[CV] max_features=0.7, splitter=best, criterion=entropy, max_depth=5, min_samples_leaf=4 \n",
      "[CV]  max_features=0.7, splitter=best, criterion=entropy, max_depth=5, min_samples_leaf=3, total=   0.3s\n",
      "[CV] max_features=0.7, splitter=best, criterion=entropy, max_depth=5, min_samples_leaf=3 \n",
      "[CV]  max_features=0.7, splitter=best, criterion=entropy, max_depth=5, min_samples_leaf=4, total=   0.1s\n",
      "[CV] max_features=0.7, splitter=best, criterion=entropy, max_depth=5, min_samples_leaf=4 \n",
      "[CV]  max_features=0.7, splitter=best, criterion=entropy, max_depth=5, min_samples_leaf=4, total=   0.2s\n",
      "[CV] max_features=0.7, splitter=best, criterion=entropy, max_depth=5, min_samples_leaf=4 \n",
      "[CV]  max_features=0.7, splitter=best, criterion=entropy, max_depth=5, min_samples_leaf=3, total=   0.3s\n",
      "[CV] max_features=0.7, splitter=best, criterion=entropy, max_depth=5, min_samples_leaf=3 \n",
      "[CV]  max_features=0.7, splitter=best, criterion=entropy, max_depth=5, min_samples_leaf=4, total=   0.2s\n",
      "[CV] max_features=0.7, splitter=best, criterion=entropy, max_depth=5, min_samples_leaf=4 \n",
      "[CV]  max_features=0.7, splitter=best, criterion=entropy, max_depth=5, min_samples_leaf=3, total=   0.4s\n",
      "[CV] max_features=0.1, splitter=random, criterion=entropy, max_depth=7, min_samples_leaf=1 \n",
      "[CV]  max_features=0.7, splitter=best, criterion=entropy, max_depth=5, min_samples_leaf=4, total=   0.3s\n",
      "[CV] max_features=0.7, splitter=best, criterion=entropy, max_depth=5, min_samples_leaf=4 \n",
      "[CV]  max_features=0.1, splitter=random, criterion=entropy, max_depth=7, min_samples_leaf=1, total=   0.0s\n",
      "[CV] max_features=0.1, splitter=random, criterion=entropy, max_depth=7, min_samples_leaf=1 \n",
      "[CV]  max_features=0.1, splitter=random, criterion=entropy, max_depth=7, min_samples_leaf=1, total=   0.0s\n",
      "[CV] max_features=0.1, splitter=random, criterion=entropy, max_depth=7, min_samples_leaf=1 \n",
      "[CV]  max_features=0.1, splitter=random, criterion=entropy, max_depth=7, min_samples_leaf=1, total=   0.0s\n",
      "[CV] max_features=0.1, splitter=best, criterion=entropy, max_depth=7, min_samples_leaf=1 \n"
     ]
    },
    {
     "name": "stdout",
     "output_type": "stream",
     "text": [
      "[CV]  max_features=0.1, splitter=best, criterion=entropy, max_depth=7, min_samples_leaf=1, total=   0.0s\n",
      "[CV] max_features=0.1, splitter=best, criterion=entropy, max_depth=7, min_samples_leaf=1 \n",
      "[CV]  max_features=0.1, splitter=best, criterion=entropy, max_depth=7, min_samples_leaf=1, total=   0.0s\n",
      "[CV] max_features=0.1, splitter=best, criterion=entropy, max_depth=7, min_samples_leaf=1 \n",
      "[CV]  max_features=0.1, splitter=best, criterion=entropy, max_depth=7, min_samples_leaf=1, total=   0.1s\n",
      "[CV] max_features=0.1, splitter=best, criterion=entropy, max_depth=7, min_samples_leaf=1 \n",
      "[CV]  max_features=0.1, splitter=best, criterion=entropy, max_depth=7, min_samples_leaf=1, total=   0.1s\n",
      "[CV] max_features=0.1, splitter=best, criterion=entropy, max_depth=7, min_samples_leaf=1 \n",
      "[CV]  max_features=0.1, splitter=best, criterion=entropy, max_depth=7, min_samples_leaf=1, total=   0.1s\n",
      "[CV] max_features=0.1, splitter=random, criterion=entropy, max_depth=7, min_samples_leaf=2 \n",
      "[CV]  max_features=0.1, splitter=random, criterion=entropy, max_depth=7, min_samples_leaf=2, total=   0.0s\n",
      "[CV] max_features=0.1, splitter=random, criterion=entropy, max_depth=7, min_samples_leaf=2 \n",
      "[CV]  max_features=0.1, splitter=random, criterion=entropy, max_depth=7, min_samples_leaf=2, total=   0.0s\n",
      "[CV] max_features=0.1, splitter=random, criterion=entropy, max_depth=7, min_samples_leaf=2 \n",
      "[CV]  max_features=0.7, splitter=best, criterion=entropy, max_depth=5, min_samples_leaf=4, total=   0.4s\n",
      "[CV] max_features=0.1, splitter=random, criterion=entropy, max_depth=7, min_samples_leaf=1 \n",
      "[CV]  max_features=0.1, splitter=random, criterion=entropy, max_depth=7, min_samples_leaf=2, total=   0.0s\n",
      "[CV] max_features=0.1, splitter=random, criterion=entropy, max_depth=7, min_samples_leaf=2 \n",
      "[CV]  max_features=0.1, splitter=random, criterion=entropy, max_depth=7, min_samples_leaf=1, total=   0.0s\n",
      "[CV] max_features=0.1, splitter=random, criterion=entropy, max_depth=7, min_samples_leaf=1 \n",
      "[CV]  max_features=0.1, splitter=random, criterion=entropy, max_depth=7, min_samples_leaf=2, total=   0.0s\n",
      "[CV]  max_features=0.1, splitter=random, criterion=entropy, max_depth=7, min_samples_leaf=1, total=   0.0s\n",
      "[CV] max_features=0.1, splitter=random, criterion=entropy, max_depth=7, min_samples_leaf=2 \n",
      "[CV] max_features=0.1, splitter=best, criterion=entropy, max_depth=7, min_samples_leaf=2 \n",
      "[CV]  max_features=0.1, splitter=random, criterion=entropy, max_depth=7, min_samples_leaf=2, total=   0.0s\n",
      "[CV] max_features=0.1, splitter=best, criterion=entropy, max_depth=7, min_samples_leaf=2 \n",
      "[CV]  max_features=0.1, splitter=best, criterion=entropy, max_depth=7, min_samples_leaf=2, total=   0.0s\n",
      "[CV] max_features=0.1, splitter=best, criterion=entropy, max_depth=7, min_samples_leaf=2 \n",
      "[CV]  max_features=0.1, splitter=best, criterion=entropy, max_depth=7, min_samples_leaf=2, total=   0.1s\n",
      "[CV] max_features=0.1, splitter=best, criterion=entropy, max_depth=7, min_samples_leaf=2 \n",
      "[CV]  max_features=0.1, splitter=best, criterion=entropy, max_depth=7, min_samples_leaf=2, total=   0.0s\n",
      "[CV] max_features=0.1, splitter=best, criterion=entropy, max_depth=7, min_samples_leaf=2 \n",
      "[CV]  max_features=0.1, splitter=best, criterion=entropy, max_depth=7, min_samples_leaf=2, total=   0.1s\n",
      "[CV] max_features=0.1, splitter=random, criterion=entropy, max_depth=7, min_samples_leaf=3 \n",
      "[CV]  max_features=0.1, splitter=random, criterion=entropy, max_depth=7, min_samples_leaf=3, total=   0.0s\n",
      "[CV] max_features=0.1, splitter=random, criterion=entropy, max_depth=7, min_samples_leaf=3 \n",
      "[CV]  max_features=0.1, splitter=best, criterion=entropy, max_depth=7, min_samples_leaf=2, total=   0.1s\n",
      "[CV] max_features=0.1, splitter=random, criterion=entropy, max_depth=7, min_samples_leaf=3 \n",
      "[CV]  max_features=0.1, splitter=random, criterion=entropy, max_depth=7, min_samples_leaf=3, total=   0.0s\n",
      "[CV] max_features=0.1, splitter=random, criterion=entropy, max_depth=7, min_samples_leaf=3 \n",
      "[CV]  max_features=0.1, splitter=random, criterion=entropy, max_depth=7, min_samples_leaf=3, total=   0.0s\n",
      "[CV] max_features=0.1, splitter=random, criterion=entropy, max_depth=7, min_samples_leaf=3 \n",
      "[CV]  max_features=0.1, splitter=random, criterion=entropy, max_depth=7, min_samples_leaf=3, total=   0.0s\n",
      "[CV]  max_features=0.1, splitter=random, criterion=entropy, max_depth=7, min_samples_leaf=3, total=   0.0s\n",
      "[CV] max_features=0.1, splitter=best, criterion=entropy, max_depth=7, min_samples_leaf=3 \n",
      "[CV] max_features=0.1, splitter=best, criterion=entropy, max_depth=7, min_samples_leaf=3 \n",
      "[CV]  max_features=0.1, splitter=best, criterion=entropy, max_depth=7, min_samples_leaf=3, total=   0.0s\n",
      "[CV] max_features=0.1, splitter=random, criterion=entropy, max_depth=7, min_samples_leaf=4 \n",
      "[CV]  max_features=0.1, splitter=best, criterion=entropy, max_depth=7, min_samples_leaf=3, total=   0.1s\n",
      "[CV] max_features=0.1, splitter=best, criterion=entropy, max_depth=7, min_samples_leaf=3 \n",
      "[CV]  max_features=0.1, splitter=random, criterion=entropy, max_depth=7, min_samples_leaf=4, total=   0.0s\n",
      "[CV] max_features=0.1, splitter=random, criterion=entropy, max_depth=7, min_samples_leaf=4 \n",
      "[CV]  max_features=0.1, splitter=random, criterion=entropy, max_depth=7, min_samples_leaf=4, total=   0.0s\n",
      "[CV] max_features=0.1, splitter=random, criterion=entropy, max_depth=7, min_samples_leaf=4 \n",
      "[CV]  max_features=0.1, splitter=random, criterion=entropy, max_depth=7, min_samples_leaf=4, total=   0.0s\n",
      "[CV] max_features=0.1, splitter=random, criterion=entropy, max_depth=7, min_samples_leaf=4 \n",
      "[CV]  max_features=0.1, splitter=random, criterion=entropy, max_depth=7, min_samples_leaf=4, total=   0.0s\n",
      "[CV]  max_features=0.1, splitter=best, criterion=entropy, max_depth=7, min_samples_leaf=3, total=   0.1s\n",
      "[CV] max_features=0.1, splitter=best, criterion=entropy, max_depth=7, min_samples_leaf=3 \n",
      "[CV] max_features=0.1, splitter=random, criterion=entropy, max_depth=7, min_samples_leaf=4 \n",
      "[CV]  max_features=0.1, splitter=random, criterion=entropy, max_depth=7, min_samples_leaf=4, total=   0.0s\n",
      "[CV] max_features=0.1, splitter=best, criterion=entropy, max_depth=7, min_samples_leaf=4 \n",
      "[CV]  max_features=0.1, splitter=best, criterion=entropy, max_depth=7, min_samples_leaf=4, total=   0.0s\n",
      "[CV] max_features=0.1, splitter=best, criterion=entropy, max_depth=7, min_samples_leaf=4 \n",
      "[CV]  max_features=0.1, splitter=best, criterion=entropy, max_depth=7, min_samples_leaf=3, total=   0.1s\n",
      "[CV] max_features=0.1, splitter=best, criterion=entropy, max_depth=7, min_samples_leaf=3 \n",
      "[CV]  max_features=0.1, splitter=best, criterion=entropy, max_depth=7, min_samples_leaf=4, total=   0.0s\n",
      "[CV] max_features=0.1, splitter=best, criterion=entropy, max_depth=7, min_samples_leaf=4 \n",
      "[CV]  max_features=0.1, splitter=best, criterion=entropy, max_depth=7, min_samples_leaf=4, total=   0.1s\n",
      "[CV] max_features=0.1, splitter=best, criterion=entropy, max_depth=7, min_samples_leaf=4 \n",
      "[CV]  max_features=0.1, splitter=best, criterion=entropy, max_depth=7, min_samples_leaf=3, total=   0.1s\n",
      "[CV] max_features=0.5, splitter=random, criterion=entropy, max_depth=7, min_samples_leaf=1 \n",
      "[CV]  max_features=0.5, splitter=random, criterion=entropy, max_depth=7, min_samples_leaf=1, total=   0.0s\n",
      "[CV] max_features=0.5, splitter=random, criterion=entropy, max_depth=7, min_samples_leaf=1 \n",
      "[CV]  max_features=0.1, splitter=best, criterion=entropy, max_depth=7, min_samples_leaf=4, total=   0.1s\n",
      "[CV] max_features=0.1, splitter=best, criterion=entropy, max_depth=7, min_samples_leaf=4 \n",
      "[CV]  max_features=0.5, splitter=random, criterion=entropy, max_depth=7, min_samples_leaf=1, total=   0.0s\n",
      "[CV] max_features=0.5, splitter=random, criterion=entropy, max_depth=7, min_samples_leaf=1 \n",
      "[CV]  max_features=0.5, splitter=random, criterion=entropy, max_depth=7, min_samples_leaf=1, total=   0.0s\n",
      "[CV] max_features=0.5, splitter=best, criterion=entropy, max_depth=7, min_samples_leaf=1 \n",
      "[CV]  max_features=0.1, splitter=best, criterion=entropy, max_depth=7, min_samples_leaf=4, total=   0.1s\n",
      "[CV] max_features=0.5, splitter=random, criterion=entropy, max_depth=7, min_samples_leaf=1 \n",
      "[CV]  max_features=0.5, splitter=random, criterion=entropy, max_depth=7, min_samples_leaf=1, total=   0.0s\n",
      "[CV] max_features=0.5, splitter=random, criterion=entropy, max_depth=7, min_samples_leaf=1 \n"
     ]
    },
    {
     "name": "stdout",
     "output_type": "stream",
     "text": [
      "[CV]  max_features=0.5, splitter=best, criterion=entropy, max_depth=7, min_samples_leaf=1, total=   0.1s\n",
      "[CV]  max_features=0.5, splitter=random, criterion=entropy, max_depth=7, min_samples_leaf=1, total=   0.0s\n",
      "[CV] max_features=0.5, splitter=best, criterion=entropy, max_depth=7, min_samples_leaf=1 \n",
      "[CV] max_features=0.5, splitter=random, criterion=entropy, max_depth=7, min_samples_leaf=2 \n",
      "[CV]  max_features=0.5, splitter=random, criterion=entropy, max_depth=7, min_samples_leaf=2, total=   0.0s\n",
      "[CV] max_features=0.5, splitter=random, criterion=entropy, max_depth=7, min_samples_leaf=2 \n",
      "[CV]  max_features=0.5, splitter=random, criterion=entropy, max_depth=7, min_samples_leaf=2, total=   0.0s\n",
      "[CV] max_features=0.5, splitter=random, criterion=entropy, max_depth=7, min_samples_leaf=2 \n",
      "[CV]  max_features=0.5, splitter=random, criterion=entropy, max_depth=7, min_samples_leaf=2, total=   0.0s\n",
      "[CV] max_features=0.5, splitter=random, criterion=entropy, max_depth=7, min_samples_leaf=2 \n",
      "[CV]  max_features=0.5, splitter=random, criterion=entropy, max_depth=7, min_samples_leaf=2, total=   0.0s\n",
      "[CV] max_features=0.5, splitter=random, criterion=entropy, max_depth=7, min_samples_leaf=2 \n",
      "[CV]  max_features=0.5, splitter=best, criterion=entropy, max_depth=7, min_samples_leaf=1, total=   0.2s\n",
      "[CV] max_features=0.5, splitter=best, criterion=entropy, max_depth=7, min_samples_leaf=1 \n",
      "[CV]  max_features=0.5, splitter=random, criterion=entropy, max_depth=7, min_samples_leaf=2, total=   0.0s\n",
      "[CV] max_features=0.5, splitter=best, criterion=entropy, max_depth=7, min_samples_leaf=2 \n",
      "[CV]  max_features=0.5, splitter=best, criterion=entropy, max_depth=7, min_samples_leaf=2, total=   0.1s\n",
      "[CV] max_features=0.5, splitter=best, criterion=entropy, max_depth=7, min_samples_leaf=2 \n",
      "[CV]  max_features=0.5, splitter=best, criterion=entropy, max_depth=7, min_samples_leaf=1, total=   0.2s\n",
      "[CV] max_features=0.5, splitter=best, criterion=entropy, max_depth=7, min_samples_leaf=1 \n",
      "[CV]  max_features=0.5, splitter=best, criterion=entropy, max_depth=7, min_samples_leaf=2, total=   0.1s\n",
      "[CV] max_features=0.5, splitter=best, criterion=entropy, max_depth=7, min_samples_leaf=2 \n",
      "[CV]  max_features=0.5, splitter=best, criterion=entropy, max_depth=7, min_samples_leaf=2, total=   0.2s\n",
      "[CV] max_features=0.5, splitter=best, criterion=entropy, max_depth=7, min_samples_leaf=2 \n",
      "[CV]  max_features=0.5, splitter=best, criterion=entropy, max_depth=7, min_samples_leaf=1, total=   0.3s\n",
      "[CV] max_features=0.5, splitter=best, criterion=entropy, max_depth=7, min_samples_leaf=1 \n",
      "[CV]  max_features=0.5, splitter=best, criterion=entropy, max_depth=7, min_samples_leaf=2, total=   0.3s\n",
      "[CV] max_features=0.5, splitter=best, criterion=entropy, max_depth=7, min_samples_leaf=2 \n",
      "[CV]  max_features=0.5, splitter=best, criterion=entropy, max_depth=7, min_samples_leaf=1, total=   0.4s\n",
      "[CV] max_features=0.5, splitter=random, criterion=entropy, max_depth=7, min_samples_leaf=3 \n",
      "[CV]  max_features=0.5, splitter=random, criterion=entropy, max_depth=7, min_samples_leaf=3, total=   0.0s\n",
      "[CV] max_features=0.5, splitter=random, criterion=entropy, max_depth=7, min_samples_leaf=3 \n",
      "[CV]  max_features=0.5, splitter=random, criterion=entropy, max_depth=7, min_samples_leaf=3, total=   0.0s\n",
      "[CV] max_features=0.5, splitter=random, criterion=entropy, max_depth=7, min_samples_leaf=3 \n",
      "[CV]  max_features=0.5, splitter=random, criterion=entropy, max_depth=7, min_samples_leaf=3, total=   0.0s\n",
      "[CV] max_features=0.5, splitter=best, criterion=entropy, max_depth=7, min_samples_leaf=3 \n",
      "[CV]  max_features=0.5, splitter=best, criterion=entropy, max_depth=7, min_samples_leaf=3, total=   0.1s\n",
      "[CV] max_features=0.5, splitter=best, criterion=entropy, max_depth=7, min_samples_leaf=3 \n",
      "[CV]  max_features=0.5, splitter=best, criterion=entropy, max_depth=7, min_samples_leaf=2, total=   0.4s\n",
      "[CV] max_features=0.5, splitter=random, criterion=entropy, max_depth=7, min_samples_leaf=3 \n",
      "[CV]  max_features=0.5, splitter=random, criterion=entropy, max_depth=7, min_samples_leaf=3, total=   0.0s\n",
      "[CV] max_features=0.5, splitter=random, criterion=entropy, max_depth=7, min_samples_leaf=3 \n",
      "[CV]  max_features=0.5, splitter=random, criterion=entropy, max_depth=7, min_samples_leaf=3, total=   0.0s\n",
      "[CV] max_features=0.5, splitter=random, criterion=entropy, max_depth=7, min_samples_leaf=4 \n",
      "[CV]  max_features=0.5, splitter=random, criterion=entropy, max_depth=7, min_samples_leaf=4, total=   0.0s\n",
      "[CV] max_features=0.5, splitter=random, criterion=entropy, max_depth=7, min_samples_leaf=4 \n",
      "[CV]  max_features=0.5, splitter=random, criterion=entropy, max_depth=7, min_samples_leaf=4, total=   0.0s\n",
      "[CV] max_features=0.5, splitter=random, criterion=entropy, max_depth=7, min_samples_leaf=4 \n",
      "[CV]  max_features=0.5, splitter=best, criterion=entropy, max_depth=7, min_samples_leaf=3, total=   0.2s\n",
      "[CV] max_features=0.5, splitter=best, criterion=entropy, max_depth=7, min_samples_leaf=3 \n",
      "[CV]  max_features=0.5, splitter=random, criterion=entropy, max_depth=7, min_samples_leaf=4, total=   0.0s\n",
      "[CV] max_features=0.5, splitter=random, criterion=entropy, max_depth=7, min_samples_leaf=4 \n",
      "[CV]  max_features=0.5, splitter=random, criterion=entropy, max_depth=7, min_samples_leaf=4, total=   0.0s\n",
      "[CV] max_features=0.5, splitter=random, criterion=entropy, max_depth=7, min_samples_leaf=4 \n",
      "[CV]  max_features=0.5, splitter=random, criterion=entropy, max_depth=7, min_samples_leaf=4, total=   0.0s\n",
      "[CV] max_features=0.5, splitter=best, criterion=entropy, max_depth=7, min_samples_leaf=4 \n",
      "[CV]  max_features=0.5, splitter=best, criterion=entropy, max_depth=7, min_samples_leaf=4, total=   0.1s\n",
      "[CV] max_features=0.5, splitter=best, criterion=entropy, max_depth=7, min_samples_leaf=4 \n",
      "[CV]  max_features=0.5, splitter=best, criterion=entropy, max_depth=7, min_samples_leaf=3, total=   0.2s\n",
      "[CV] max_features=0.5, splitter=best, criterion=entropy, max_depth=7, min_samples_leaf=3 \n",
      "[CV]  max_features=0.5, splitter=best, criterion=entropy, max_depth=7, min_samples_leaf=4, total=   0.2s\n",
      "[CV] max_features=0.5, splitter=best, criterion=entropy, max_depth=7, min_samples_leaf=4 \n",
      "[CV]  max_features=0.5, splitter=best, criterion=entropy, max_depth=7, min_samples_leaf=3, total=   0.3s\n",
      "[CV] max_features=0.5, splitter=best, criterion=entropy, max_depth=7, min_samples_leaf=3 \n",
      "[CV]  max_features=0.5, splitter=best, criterion=entropy, max_depth=7, min_samples_leaf=4, total=   0.2s\n",
      "[CV] max_features=0.5, splitter=best, criterion=entropy, max_depth=7, min_samples_leaf=4 \n",
      "[CV]  max_features=0.5, splitter=best, criterion=entropy, max_depth=7, min_samples_leaf=4, total=   0.3s\n",
      "[CV] max_features=0.5, splitter=best, criterion=entropy, max_depth=7, min_samples_leaf=4 \n",
      "[CV]  max_features=0.5, splitter=best, criterion=entropy, max_depth=7, min_samples_leaf=3, total=   0.4s\n",
      "[CV] max_features=0.7, splitter=random, criterion=entropy, max_depth=7, min_samples_leaf=1 \n",
      "[CV]  max_features=0.7, splitter=random, criterion=entropy, max_depth=7, min_samples_leaf=1, total=   0.0s\n",
      "[CV] max_features=0.7, splitter=random, criterion=entropy, max_depth=7, min_samples_leaf=1 \n",
      "[CV]  max_features=0.7, splitter=random, criterion=entropy, max_depth=7, min_samples_leaf=1, total=   0.0s\n",
      "[CV] max_features=0.7, splitter=random, criterion=entropy, max_depth=7, min_samples_leaf=1 \n",
      "[CV]  max_features=0.7, splitter=random, criterion=entropy, max_depth=7, min_samples_leaf=1, total=   0.0s\n",
      "[CV] max_features=0.7, splitter=best, criterion=entropy, max_depth=7, min_samples_leaf=1 \n",
      "[CV]  max_features=0.7, splitter=best, criterion=entropy, max_depth=7, min_samples_leaf=1, total=   0.1s\n",
      "[CV] max_features=0.7, splitter=best, criterion=entropy, max_depth=7, min_samples_leaf=1 \n",
      "[CV]  max_features=0.5, splitter=best, criterion=entropy, max_depth=7, min_samples_leaf=4, total=   0.4s\n",
      "[CV] max_features=0.7, splitter=random, criterion=entropy, max_depth=7, min_samples_leaf=1 \n",
      "[CV]  max_features=0.7, splitter=random, criterion=entropy, max_depth=7, min_samples_leaf=1, total=   0.0s\n",
      "[CV] max_features=0.7, splitter=random, criterion=entropy, max_depth=7, min_samples_leaf=1 \n",
      "[CV]  max_features=0.7, splitter=random, criterion=entropy, max_depth=7, min_samples_leaf=1, total=   0.0s\n",
      "[CV] max_features=0.7, splitter=random, criterion=entropy, max_depth=7, min_samples_leaf=2 \n"
     ]
    },
    {
     "name": "stdout",
     "output_type": "stream",
     "text": [
      "[CV]  max_features=0.7, splitter=random, criterion=entropy, max_depth=7, min_samples_leaf=2, total=   0.0s\n",
      "[CV] max_features=0.7, splitter=random, criterion=entropy, max_depth=7, min_samples_leaf=2 \n",
      "[CV]  max_features=0.7, splitter=random, criterion=entropy, max_depth=7, min_samples_leaf=2, total=   0.0s\n",
      "[CV]  max_features=0.7, splitter=best, criterion=entropy, max_depth=7, min_samples_leaf=1, total=   0.2s\n",
      "[CV] max_features=0.7, splitter=random, criterion=entropy, max_depth=7, min_samples_leaf=2 \n",
      "[CV] max_features=0.7, splitter=best, criterion=entropy, max_depth=7, min_samples_leaf=1 \n",
      "[CV]  max_features=0.7, splitter=random, criterion=entropy, max_depth=7, min_samples_leaf=2, total=   0.0s\n",
      "[CV] max_features=0.7, splitter=random, criterion=entropy, max_depth=7, min_samples_leaf=2 \n",
      "[CV]  max_features=0.7, splitter=random, criterion=entropy, max_depth=7, min_samples_leaf=2, total=   0.0s\n",
      "[CV] max_features=0.7, splitter=random, criterion=entropy, max_depth=7, min_samples_leaf=2 \n",
      "[CV]  max_features=0.7, splitter=random, criterion=entropy, max_depth=7, min_samples_leaf=2, total=   0.1s\n",
      "[CV] max_features=0.7, splitter=best, criterion=entropy, max_depth=7, min_samples_leaf=2 \n",
      "[CV]  max_features=0.7, splitter=best, criterion=entropy, max_depth=7, min_samples_leaf=2, total=   0.1s\n",
      "[CV] max_features=0.7, splitter=best, criterion=entropy, max_depth=7, min_samples_leaf=2 \n",
      "[CV]  max_features=0.7, splitter=best, criterion=entropy, max_depth=7, min_samples_leaf=1, total=   0.3s\n",
      "[CV] max_features=0.7, splitter=best, criterion=entropy, max_depth=7, min_samples_leaf=1 \n",
      "[CV]  max_features=0.7, splitter=best, criterion=entropy, max_depth=7, min_samples_leaf=2, total=   0.2s\n",
      "[CV] max_features=0.7, splitter=best, criterion=entropy, max_depth=7, min_samples_leaf=2 \n",
      "[CV]  max_features=0.7, splitter=best, criterion=entropy, max_depth=7, min_samples_leaf=2, total=   0.3s\n",
      "[CV] max_features=0.7, splitter=best, criterion=entropy, max_depth=7, min_samples_leaf=2 \n",
      "[CV]  max_features=0.7, splitter=best, criterion=entropy, max_depth=7, min_samples_leaf=1, total=   0.4s\n",
      "[CV] max_features=0.7, splitter=best, criterion=entropy, max_depth=7, min_samples_leaf=1 \n",
      "[CV]  max_features=0.7, splitter=best, criterion=entropy, max_depth=7, min_samples_leaf=2, total=   0.4s\n",
      "[CV] max_features=0.7, splitter=best, criterion=entropy, max_depth=7, min_samples_leaf=2 \n",
      "[CV]  max_features=0.7, splitter=best, criterion=entropy, max_depth=7, min_samples_leaf=1, total=   0.5s\n",
      "[CV] max_features=0.7, splitter=random, criterion=entropy, max_depth=7, min_samples_leaf=3 \n",
      "[CV]  max_features=0.7, splitter=random, criterion=entropy, max_depth=7, min_samples_leaf=3, total=   0.0s\n",
      "[CV] max_features=0.7, splitter=random, criterion=entropy, max_depth=7, min_samples_leaf=3 \n",
      "[CV]  max_features=0.7, splitter=random, criterion=entropy, max_depth=7, min_samples_leaf=3, total=   0.0s\n",
      "[CV] max_features=0.7, splitter=random, criterion=entropy, max_depth=7, min_samples_leaf=3 \n",
      "[CV]  max_features=0.7, splitter=random, criterion=entropy, max_depth=7, min_samples_leaf=3, total=   0.0s\n",
      "[CV] max_features=0.7, splitter=best, criterion=entropy, max_depth=7, min_samples_leaf=3 \n",
      "[CV]  max_features=0.7, splitter=best, criterion=entropy, max_depth=7, min_samples_leaf=3, total=   0.1s\n",
      "[CV] max_features=0.7, splitter=best, criterion=entropy, max_depth=7, min_samples_leaf=3 \n",
      "[CV]  max_features=0.7, splitter=best, criterion=entropy, max_depth=7, min_samples_leaf=2, total=   0.6s\n",
      "[CV] max_features=0.7, splitter=random, criterion=entropy, max_depth=7, min_samples_leaf=3 \n",
      "[CV]  max_features=0.7, splitter=best, criterion=entropy, max_depth=7, min_samples_leaf=3, total=   0.2s\n",
      "[CV] max_features=0.7, splitter=best, criterion=entropy, max_depth=7, min_samples_leaf=3 \n",
      "[CV]  max_features=0.7, splitter=random, criterion=entropy, max_depth=7, min_samples_leaf=3, total=   0.0s\n",
      "[CV] max_features=0.7, splitter=random, criterion=entropy, max_depth=7, min_samples_leaf=3 \n",
      "[CV]  max_features=0.7, splitter=random, criterion=entropy, max_depth=7, min_samples_leaf=3, total=   0.0s\n",
      "[CV] max_features=0.7, splitter=random, criterion=entropy, max_depth=7, min_samples_leaf=4 \n",
      "[CV]  max_features=0.7, splitter=random, criterion=entropy, max_depth=7, min_samples_leaf=4, total=   0.0s\n",
      "[CV] max_features=0.7, splitter=random, criterion=entropy, max_depth=7, min_samples_leaf=4 \n",
      "[CV]  max_features=0.7, splitter=random, criterion=entropy, max_depth=7, min_samples_leaf=4, total=   0.0s\n",
      "[CV] max_features=0.7, splitter=random, criterion=entropy, max_depth=7, min_samples_leaf=4 \n",
      "[CV]  max_features=0.7, splitter=random, criterion=entropy, max_depth=7, min_samples_leaf=4, total=   0.0s\n",
      "[CV] max_features=0.7, splitter=random, criterion=entropy, max_depth=7, min_samples_leaf=4 \n",
      "[CV]  max_features=0.7, splitter=random, criterion=entropy, max_depth=7, min_samples_leaf=4, total=   0.0s\n",
      "[CV] max_features=0.7, splitter=random, criterion=entropy, max_depth=7, min_samples_leaf=4 \n",
      "[CV]  max_features=0.7, splitter=random, criterion=entropy, max_depth=7, min_samples_leaf=4, total=   0.0s\n",
      "[CV] max_features=0.7, splitter=best, criterion=entropy, max_depth=7, min_samples_leaf=4 \n",
      "[CV]  max_features=0.7, splitter=best, criterion=entropy, max_depth=7, min_samples_leaf=4, total=   0.1s\n",
      "[CV] max_features=0.7, splitter=best, criterion=entropy, max_depth=7, min_samples_leaf=4 \n",
      "[CV]  max_features=0.7, splitter=best, criterion=entropy, max_depth=7, min_samples_leaf=3, total=   0.4s\n",
      "[CV] max_features=0.7, splitter=best, criterion=entropy, max_depth=7, min_samples_leaf=3 \n",
      "[CV]  max_features=0.7, splitter=best, criterion=entropy, max_depth=7, min_samples_leaf=4, total=   0.2s\n",
      "[CV] max_features=0.7, splitter=best, criterion=entropy, max_depth=7, min_samples_leaf=4 \n",
      "[CV]  max_features=0.7, splitter=best, criterion=entropy, max_depth=7, min_samples_leaf=3, total=   0.4s\n",
      "[CV] max_features=0.7, splitter=best, criterion=entropy, max_depth=7, min_samples_leaf=3 \n",
      "[CV]  max_features=0.7, splitter=best, criterion=entropy, max_depth=7, min_samples_leaf=4, total=   0.3s\n",
      "[CV] max_features=0.7, splitter=best, criterion=entropy, max_depth=7, min_samples_leaf=4 \n",
      "[CV]  max_features=0.7, splitter=best, criterion=entropy, max_depth=7, min_samples_leaf=4, total=   0.4s\n",
      "[CV] max_features=0.7, splitter=best, criterion=entropy, max_depth=7, min_samples_leaf=4 \n",
      "[CV]  max_features=0.7, splitter=best, criterion=entropy, max_depth=7, min_samples_leaf=3, total=   0.5s\n",
      "[CV] max_features=0.1, splitter=random, criterion=entropy, max_depth=9, min_samples_leaf=1 \n",
      "[CV]  max_features=0.1, splitter=random, criterion=entropy, max_depth=9, min_samples_leaf=1, total=   0.0s\n",
      "[CV] max_features=0.1, splitter=random, criterion=entropy, max_depth=9, min_samples_leaf=1 \n",
      "[CV]  max_features=0.1, splitter=random, criterion=entropy, max_depth=9, min_samples_leaf=1, total=   0.0s\n",
      "[CV] max_features=0.1, splitter=random, criterion=entropy, max_depth=9, min_samples_leaf=1 \n",
      "[CV]  max_features=0.1, splitter=random, criterion=entropy, max_depth=9, min_samples_leaf=1, total=   0.0s\n",
      "[CV] max_features=0.1, splitter=best, criterion=entropy, max_depth=9, min_samples_leaf=1 \n",
      "[CV]  max_features=0.1, splitter=best, criterion=entropy, max_depth=9, min_samples_leaf=1, total=   0.0s\n",
      "[CV] max_features=0.1, splitter=best, criterion=entropy, max_depth=9, min_samples_leaf=1 \n",
      "[CV]  max_features=0.1, splitter=best, criterion=entropy, max_depth=9, min_samples_leaf=1, total=   0.0s\n",
      "[CV] max_features=0.1, splitter=best, criterion=entropy, max_depth=9, min_samples_leaf=1 \n",
      "[CV]  max_features=0.1, splitter=best, criterion=entropy, max_depth=9, min_samples_leaf=1, total=   0.1s\n",
      "[CV] max_features=0.1, splitter=best, criterion=entropy, max_depth=9, min_samples_leaf=1 \n",
      "[CV]  max_features=0.1, splitter=best, criterion=entropy, max_depth=9, min_samples_leaf=1, total=   0.1s\n",
      "[CV] max_features=0.1, splitter=best, criterion=entropy, max_depth=9, min_samples_leaf=1 \n",
      "[CV]  max_features=0.1, splitter=best, criterion=entropy, max_depth=9, min_samples_leaf=1, total=   0.1s\n",
      "[CV] max_features=0.1, splitter=random, criterion=entropy, max_depth=9, min_samples_leaf=2 \n",
      "[CV]  max_features=0.1, splitter=random, criterion=entropy, max_depth=9, min_samples_leaf=2, total=   0.0s\n",
      "[CV] max_features=0.1, splitter=random, criterion=entropy, max_depth=9, min_samples_leaf=2 \n"
     ]
    },
    {
     "name": "stdout",
     "output_type": "stream",
     "text": [
      "[CV]  max_features=0.1, splitter=random, criterion=entropy, max_depth=9, min_samples_leaf=2, total=   0.0s\n",
      "[CV] max_features=0.1, splitter=random, criterion=entropy, max_depth=9, min_samples_leaf=2 \n",
      "[CV]  max_features=0.7, splitter=best, criterion=entropy, max_depth=7, min_samples_leaf=4, total=   0.6s\n",
      "[CV] max_features=0.1, splitter=random, criterion=entropy, max_depth=9, min_samples_leaf=1 \n",
      "[CV]  max_features=0.1, splitter=random, criterion=entropy, max_depth=9, min_samples_leaf=2, total=   0.0s\n",
      "[CV] max_features=0.1, splitter=random, criterion=entropy, max_depth=9, min_samples_leaf=2 \n",
      "[CV]  max_features=0.1, splitter=random, criterion=entropy, max_depth=9, min_samples_leaf=1, total=   0.0s\n",
      "[CV] max_features=0.1, splitter=random, criterion=entropy, max_depth=9, min_samples_leaf=1 \n",
      "[CV]  max_features=0.1, splitter=random, criterion=entropy, max_depth=9, min_samples_leaf=1, total=   0.0s\n",
      "[CV]  max_features=0.1, splitter=random, criterion=entropy, max_depth=9, min_samples_leaf=2, total=   0.0s\n",
      "[CV] max_features=0.1, splitter=random, criterion=entropy, max_depth=9, min_samples_leaf=2 \n",
      "[CV] max_features=0.1, splitter=best, criterion=entropy, max_depth=9, min_samples_leaf=2 \n",
      "[CV]  max_features=0.1, splitter=random, criterion=entropy, max_depth=9, min_samples_leaf=2, total=   0.0s\n",
      "[CV] max_features=0.1, splitter=best, criterion=entropy, max_depth=9, min_samples_leaf=2 \n",
      "[CV]  max_features=0.1, splitter=best, criterion=entropy, max_depth=9, min_samples_leaf=2, total=   0.0s\n",
      "[CV] max_features=0.1, splitter=best, criterion=entropy, max_depth=9, min_samples_leaf=2 \n",
      "[CV]  max_features=0.1, splitter=best, criterion=entropy, max_depth=9, min_samples_leaf=2, total=   0.1s\n",
      "[CV] max_features=0.1, splitter=best, criterion=entropy, max_depth=9, min_samples_leaf=2 \n",
      "[CV]  max_features=0.1, splitter=best, criterion=entropy, max_depth=9, min_samples_leaf=2, total=   0.0s\n",
      "[CV] max_features=0.1, splitter=best, criterion=entropy, max_depth=9, min_samples_leaf=2 \n",
      "[CV]  max_features=0.1, splitter=best, criterion=entropy, max_depth=9, min_samples_leaf=2, total=   0.1s\n",
      "[CV] max_features=0.1, splitter=random, criterion=entropy, max_depth=9, min_samples_leaf=3 \n",
      "[CV]  max_features=0.1, splitter=random, criterion=entropy, max_depth=9, min_samples_leaf=3, total=   0.0s\n",
      "[CV] max_features=0.1, splitter=random, criterion=entropy, max_depth=9, min_samples_leaf=3 \n",
      "[CV]  max_features=0.1, splitter=best, criterion=entropy, max_depth=9, min_samples_leaf=2, total=   0.1s\n",
      "[CV] max_features=0.1, splitter=random, criterion=entropy, max_depth=9, min_samples_leaf=3 \n",
      "[CV]  max_features=0.1, splitter=random, criterion=entropy, max_depth=9, min_samples_leaf=3, total=   0.0s\n",
      "[CV] max_features=0.1, splitter=random, criterion=entropy, max_depth=9, min_samples_leaf=3 \n",
      "[CV]  max_features=0.1, splitter=random, criterion=entropy, max_depth=9, min_samples_leaf=3, total=   0.0s\n",
      "[CV] max_features=0.1, splitter=random, criterion=entropy, max_depth=9, min_samples_leaf=3 \n",
      "[CV]  max_features=0.1, splitter=random, criterion=entropy, max_depth=9, min_samples_leaf=3, total=   0.0s\n",
      "[CV]  max_features=0.1, splitter=random, criterion=entropy, max_depth=9, min_samples_leaf=3, total=   0.0s\n",
      "[CV] max_features=0.1, splitter=best, criterion=entropy, max_depth=9, min_samples_leaf=3 \n",
      "[CV] max_features=0.1, splitter=best, criterion=entropy, max_depth=9, min_samples_leaf=3 \n",
      "[CV]  max_features=0.1, splitter=best, criterion=entropy, max_depth=9, min_samples_leaf=3, total=   0.0s\n",
      "[CV] max_features=0.1, splitter=random, criterion=entropy, max_depth=9, min_samples_leaf=4 \n",
      "[CV]  max_features=0.1, splitter=random, criterion=entropy, max_depth=9, min_samples_leaf=4, total=   0.0s\n",
      "[CV] max_features=0.1, splitter=random, criterion=entropy, max_depth=9, min_samples_leaf=4 \n",
      "[CV]  max_features=0.1, splitter=best, criterion=entropy, max_depth=9, min_samples_leaf=3, total=   0.1s\n",
      "[CV] max_features=0.1, splitter=best, criterion=entropy, max_depth=9, min_samples_leaf=3 \n",
      "[CV]  max_features=0.1, splitter=random, criterion=entropy, max_depth=9, min_samples_leaf=4, total=   0.0s\n",
      "[CV] max_features=0.1, splitter=random, criterion=entropy, max_depth=9, min_samples_leaf=4 \n",
      "[CV]  max_features=0.1, splitter=random, criterion=entropy, max_depth=9, min_samples_leaf=4, total=   0.0s\n",
      "[CV] max_features=0.1, splitter=random, criterion=entropy, max_depth=9, min_samples_leaf=4 \n",
      "[CV]  max_features=0.1, splitter=random, criterion=entropy, max_depth=9, min_samples_leaf=4, total=   0.0s\n",
      "[CV] max_features=0.1, splitter=random, criterion=entropy, max_depth=9, min_samples_leaf=4 \n",
      "[CV]  max_features=0.1, splitter=best, criterion=entropy, max_depth=9, min_samples_leaf=3, total=   0.1s\n",
      "[CV] max_features=0.1, splitter=best, criterion=entropy, max_depth=9, min_samples_leaf=3 \n",
      "[CV]  max_features=0.1, splitter=random, criterion=entropy, max_depth=9, min_samples_leaf=4, total=   0.0s\n",
      "[CV] max_features=0.1, splitter=best, criterion=entropy, max_depth=9, min_samples_leaf=4 \n",
      "[CV]  max_features=0.1, splitter=best, criterion=entropy, max_depth=9, min_samples_leaf=4, total=   0.0s\n",
      "[CV] max_features=0.1, splitter=best, criterion=entropy, max_depth=9, min_samples_leaf=4 \n",
      "[CV]  max_features=0.1, splitter=best, criterion=entropy, max_depth=9, min_samples_leaf=4, total=   0.0s\n",
      "[CV] max_features=0.1, splitter=best, criterion=entropy, max_depth=9, min_samples_leaf=4 \n",
      "[CV]  max_features=0.1, splitter=best, criterion=entropy, max_depth=9, min_samples_leaf=3, total=   0.1s\n",
      "[CV] max_features=0.1, splitter=best, criterion=entropy, max_depth=9, min_samples_leaf=3 \n",
      "[CV]  max_features=0.1, splitter=best, criterion=entropy, max_depth=9, min_samples_leaf=4, total=   0.1s\n",
      "[CV] max_features=0.1, splitter=best, criterion=entropy, max_depth=9, min_samples_leaf=4 \n",
      "[CV]  max_features=0.1, splitter=best, criterion=entropy, max_depth=9, min_samples_leaf=3, total=   0.1s\n",
      "[CV] max_features=0.5, splitter=random, criterion=entropy, max_depth=9, min_samples_leaf=1 \n",
      "[CV]  max_features=0.5, splitter=random, criterion=entropy, max_depth=9, min_samples_leaf=1, total=   0.0s\n",
      "[CV] max_features=0.5, splitter=random, criterion=entropy, max_depth=9, min_samples_leaf=1 \n",
      "[CV]  max_features=0.1, splitter=best, criterion=entropy, max_depth=9, min_samples_leaf=4, total=   0.1s\n",
      "[CV] max_features=0.1, splitter=best, criterion=entropy, max_depth=9, min_samples_leaf=4 \n",
      "[CV]  max_features=0.5, splitter=random, criterion=entropy, max_depth=9, min_samples_leaf=1, total=   0.0s\n",
      "[CV] max_features=0.5, splitter=random, criterion=entropy, max_depth=9, min_samples_leaf=1 \n",
      "[CV]  max_features=0.5, splitter=random, criterion=entropy, max_depth=9, min_samples_leaf=1, total=   0.0s\n",
      "[CV] max_features=0.5, splitter=best, criterion=entropy, max_depth=9, min_samples_leaf=1 \n",
      "[CV]  max_features=0.1, splitter=best, criterion=entropy, max_depth=9, min_samples_leaf=4, total=   0.1s\n",
      "[CV] max_features=0.5, splitter=random, criterion=entropy, max_depth=9, min_samples_leaf=1 \n",
      "[CV]  max_features=0.5, splitter=random, criterion=entropy, max_depth=9, min_samples_leaf=1, total=   0.0s\n",
      "[CV] max_features=0.5, splitter=random, criterion=entropy, max_depth=9, min_samples_leaf=1 \n",
      "[CV]  max_features=0.5, splitter=random, criterion=entropy, max_depth=9, min_samples_leaf=1, total=   0.0s\n",
      "[CV]  max_features=0.5, splitter=best, criterion=entropy, max_depth=9, min_samples_leaf=1, total=   0.1s\n",
      "[CV] max_features=0.5, splitter=random, criterion=entropy, max_depth=9, min_samples_leaf=2 \n",
      "[CV] max_features=0.5, splitter=best, criterion=entropy, max_depth=9, min_samples_leaf=1 \n",
      "[CV]  max_features=0.5, splitter=random, criterion=entropy, max_depth=9, min_samples_leaf=2, total=   0.0s\n",
      "[CV] max_features=0.5, splitter=random, criterion=entropy, max_depth=9, min_samples_leaf=2 \n",
      "[CV]  max_features=0.5, splitter=random, criterion=entropy, max_depth=9, min_samples_leaf=2, total=   0.0s\n",
      "[CV] max_features=0.5, splitter=random, criterion=entropy, max_depth=9, min_samples_leaf=2 \n",
      "[CV]  max_features=0.5, splitter=random, criterion=entropy, max_depth=9, min_samples_leaf=2, total=   0.0s\n",
      "[CV] max_features=0.5, splitter=random, criterion=entropy, max_depth=9, min_samples_leaf=2 \n",
      "[CV]  max_features=0.5, splitter=random, criterion=entropy, max_depth=9, min_samples_leaf=2, total=   0.0s\n"
     ]
    },
    {
     "name": "stdout",
     "output_type": "stream",
     "text": [
      "[CV] max_features=0.5, splitter=random, criterion=entropy, max_depth=9, min_samples_leaf=2 \n",
      "[CV]  max_features=0.5, splitter=random, criterion=entropy, max_depth=9, min_samples_leaf=2, total=   0.1s\n",
      "[CV] max_features=0.5, splitter=best, criterion=entropy, max_depth=9, min_samples_leaf=2 \n",
      "[CV]  max_features=0.5, splitter=best, criterion=entropy, max_depth=9, min_samples_leaf=1, total=   0.2s\n",
      "[CV] max_features=0.5, splitter=best, criterion=entropy, max_depth=9, min_samples_leaf=1 \n",
      "[CV]  max_features=0.5, splitter=best, criterion=entropy, max_depth=9, min_samples_leaf=2, total=   0.1s\n",
      "[CV] max_features=0.5, splitter=best, criterion=entropy, max_depth=9, min_samples_leaf=2 \n",
      "[CV]  max_features=0.5, splitter=best, criterion=entropy, max_depth=9, min_samples_leaf=2, total=   0.2s\n",
      "[CV] max_features=0.5, splitter=best, criterion=entropy, max_depth=9, min_samples_leaf=2 \n",
      "[CV]  max_features=0.5, splitter=best, criterion=entropy, max_depth=9, min_samples_leaf=1, total=   0.3s\n",
      "[CV] max_features=0.5, splitter=best, criterion=entropy, max_depth=9, min_samples_leaf=1 \n",
      "[CV]  max_features=0.5, splitter=best, criterion=entropy, max_depth=9, min_samples_leaf=2, total=   0.3s\n",
      "[CV] max_features=0.5, splitter=best, criterion=entropy, max_depth=9, min_samples_leaf=2 \n",
      "[CV]  max_features=0.5, splitter=best, criterion=entropy, max_depth=9, min_samples_leaf=1, total=   0.4s\n",
      "[CV] max_features=0.5, splitter=best, criterion=entropy, max_depth=9, min_samples_leaf=1 \n",
      "[CV]  max_features=0.5, splitter=best, criterion=entropy, max_depth=9, min_samples_leaf=2, total=   0.4s\n",
      "[CV] max_features=0.5, splitter=best, criterion=entropy, max_depth=9, min_samples_leaf=2 \n",
      "[CV]  max_features=0.5, splitter=best, criterion=entropy, max_depth=9, min_samples_leaf=1, total=   0.4s\n",
      "[CV] max_features=0.5, splitter=random, criterion=entropy, max_depth=9, min_samples_leaf=3 \n",
      "[CV]  max_features=0.5, splitter=random, criterion=entropy, max_depth=9, min_samples_leaf=3, total=   0.0s\n",
      "[CV] max_features=0.5, splitter=random, criterion=entropy, max_depth=9, min_samples_leaf=3 \n",
      "[CV]  max_features=0.5, splitter=random, criterion=entropy, max_depth=9, min_samples_leaf=3, total=   0.0s\n",
      "[CV] max_features=0.5, splitter=random, criterion=entropy, max_depth=9, min_samples_leaf=3 \n",
      "[CV]  max_features=0.5, splitter=random, criterion=entropy, max_depth=9, min_samples_leaf=3, total=   0.0s\n",
      "[CV] max_features=0.5, splitter=best, criterion=entropy, max_depth=9, min_samples_leaf=3 \n",
      "[CV]  max_features=0.5, splitter=best, criterion=entropy, max_depth=9, min_samples_leaf=3, total=   0.1s\n",
      "[CV] max_features=0.5, splitter=best, criterion=entropy, max_depth=9, min_samples_leaf=3 \n",
      "[CV]  max_features=0.5, splitter=best, criterion=entropy, max_depth=9, min_samples_leaf=2, total=   0.5s\n",
      "[CV] max_features=0.5, splitter=random, criterion=entropy, max_depth=9, min_samples_leaf=3 \n",
      "[CV]  max_features=0.5, splitter=random, criterion=entropy, max_depth=9, min_samples_leaf=3, total=   0.0s\n",
      "[CV] max_features=0.5, splitter=random, criterion=entropy, max_depth=9, min_samples_leaf=3 \n",
      "[CV]  max_features=0.5, splitter=random, criterion=entropy, max_depth=9, min_samples_leaf=3, total=   0.0s\n",
      "[CV] max_features=0.5, splitter=random, criterion=entropy, max_depth=9, min_samples_leaf=4 \n",
      "[CV]  max_features=0.5, splitter=random, criterion=entropy, max_depth=9, min_samples_leaf=4, total=   0.0s\n",
      "[CV] max_features=0.5, splitter=random, criterion=entropy, max_depth=9, min_samples_leaf=4 \n",
      "[CV]  max_features=0.5, splitter=random, criterion=entropy, max_depth=9, min_samples_leaf=4, total=   0.0s\n",
      "[CV] max_features=0.5, splitter=random, criterion=entropy, max_depth=9, min_samples_leaf=4 \n",
      "[CV]  max_features=0.5, splitter=best, criterion=entropy, max_depth=9, min_samples_leaf=3, total=   0.2s\n",
      "[CV] max_features=0.5, splitter=best, criterion=entropy, max_depth=9, min_samples_leaf=3 \n",
      "[CV]  max_features=0.5, splitter=random, criterion=entropy, max_depth=9, min_samples_leaf=4, total=   0.0s\n",
      "[CV] max_features=0.5, splitter=random, criterion=entropy, max_depth=9, min_samples_leaf=4 \n",
      "[CV]  max_features=0.5, splitter=random, criterion=entropy, max_depth=9, min_samples_leaf=4, total=   0.0s\n",
      "[CV] max_features=0.5, splitter=random, criterion=entropy, max_depth=9, min_samples_leaf=4 \n",
      "[CV]  max_features=0.5, splitter=random, criterion=entropy, max_depth=9, min_samples_leaf=4, total=   0.0s\n",
      "[CV] max_features=0.5, splitter=best, criterion=entropy, max_depth=9, min_samples_leaf=4 \n",
      "[CV]  max_features=0.5, splitter=best, criterion=entropy, max_depth=9, min_samples_leaf=4, total=   0.1s\n",
      "[CV] max_features=0.5, splitter=best, criterion=entropy, max_depth=9, min_samples_leaf=4 \n",
      "[CV]  max_features=0.5, splitter=best, criterion=entropy, max_depth=9, min_samples_leaf=3, total=   0.3s\n",
      "[CV] max_features=0.5, splitter=best, criterion=entropy, max_depth=9, min_samples_leaf=3 \n",
      "[CV]  max_features=0.5, splitter=best, criterion=entropy, max_depth=9, min_samples_leaf=4, total=   0.2s\n",
      "[CV] max_features=0.5, splitter=best, criterion=entropy, max_depth=9, min_samples_leaf=4 \n",
      "[CV]  max_features=0.5, splitter=best, criterion=entropy, max_depth=9, min_samples_leaf=4, total=   0.2s\n",
      "[CV] max_features=0.5, splitter=best, criterion=entropy, max_depth=9, min_samples_leaf=4 \n",
      "[CV]  max_features=0.5, splitter=best, criterion=entropy, max_depth=9, min_samples_leaf=3, total=   0.3s\n",
      "[CV] max_features=0.5, splitter=best, criterion=entropy, max_depth=9, min_samples_leaf=3 \n",
      "[CV]  max_features=0.5, splitter=best, criterion=entropy, max_depth=9, min_samples_leaf=4, total=   0.4s\n",
      "[CV] max_features=0.5, splitter=best, criterion=entropy, max_depth=9, min_samples_leaf=4 \n",
      "[CV]  max_features=0.5, splitter=best, criterion=entropy, max_depth=9, min_samples_leaf=3, total=   0.4s\n",
      "[CV] max_features=0.7, splitter=random, criterion=entropy, max_depth=9, min_samples_leaf=1 \n",
      "[CV]  max_features=0.7, splitter=random, criterion=entropy, max_depth=9, min_samples_leaf=1, total=   0.0s\n",
      "[CV] max_features=0.7, splitter=random, criterion=entropy, max_depth=9, min_samples_leaf=1 \n",
      "[CV]  max_features=0.7, splitter=random, criterion=entropy, max_depth=9, min_samples_leaf=1, total=   0.0s\n",
      "[CV] max_features=0.7, splitter=random, criterion=entropy, max_depth=9, min_samples_leaf=1 \n",
      "[CV]  max_features=0.7, splitter=random, criterion=entropy, max_depth=9, min_samples_leaf=1, total=   0.0s\n",
      "[CV] max_features=0.7, splitter=best, criterion=entropy, max_depth=9, min_samples_leaf=1 \n",
      "[CV]  max_features=0.7, splitter=best, criterion=entropy, max_depth=9, min_samples_leaf=1, total=   0.1s\n",
      "[CV] max_features=0.7, splitter=best, criterion=entropy, max_depth=9, min_samples_leaf=1 \n",
      "[CV]  max_features=0.5, splitter=best, criterion=entropy, max_depth=9, min_samples_leaf=4, total=   0.5s\n",
      "[CV] max_features=0.7, splitter=random, criterion=entropy, max_depth=9, min_samples_leaf=1 \n",
      "[CV]  max_features=0.7, splitter=random, criterion=entropy, max_depth=9, min_samples_leaf=1, total=   0.0s\n",
      "[CV] max_features=0.7, splitter=random, criterion=entropy, max_depth=9, min_samples_leaf=1 \n",
      "[CV]  max_features=0.7, splitter=random, criterion=entropy, max_depth=9, min_samples_leaf=1, total=   0.0s\n",
      "[CV] max_features=0.7, splitter=random, criterion=entropy, max_depth=9, min_samples_leaf=2 \n",
      "[CV]  max_features=0.7, splitter=random, criterion=entropy, max_depth=9, min_samples_leaf=2, total=   0.0s\n",
      "[CV] max_features=0.7, splitter=random, criterion=entropy, max_depth=9, min_samples_leaf=2 \n",
      "[CV]  max_features=0.7, splitter=best, criterion=entropy, max_depth=9, min_samples_leaf=1, total=   0.3s\n",
      "[CV] max_features=0.7, splitter=best, criterion=entropy, max_depth=9, min_samples_leaf=1 \n",
      "[CV]  max_features=0.7, splitter=random, criterion=entropy, max_depth=9, min_samples_leaf=2, total=   0.0s\n",
      "[CV] max_features=0.7, splitter=random, criterion=entropy, max_depth=9, min_samples_leaf=2 \n",
      "[CV]  max_features=0.7, splitter=random, criterion=entropy, max_depth=9, min_samples_leaf=2, total=   0.0s\n",
      "[CV] max_features=0.7, splitter=random, criterion=entropy, max_depth=9, min_samples_leaf=2 \n",
      "[CV]  max_features=0.7, splitter=random, criterion=entropy, max_depth=9, min_samples_leaf=2, total=   0.0s\n",
      "[CV] max_features=0.7, splitter=random, criterion=entropy, max_depth=9, min_samples_leaf=2 \n",
      "[CV]  max_features=0.7, splitter=random, criterion=entropy, max_depth=9, min_samples_leaf=2, total=   0.1s\n"
     ]
    },
    {
     "name": "stdout",
     "output_type": "stream",
     "text": [
      "[CV] max_features=0.7, splitter=best, criterion=entropy, max_depth=9, min_samples_leaf=2 \n",
      "[CV]  max_features=0.7, splitter=best, criterion=entropy, max_depth=9, min_samples_leaf=2, total=   0.1s\n",
      "[CV] max_features=0.7, splitter=best, criterion=entropy, max_depth=9, min_samples_leaf=2 \n",
      "[CV]  max_features=0.7, splitter=best, criterion=entropy, max_depth=9, min_samples_leaf=1, total=   0.4s\n",
      "[CV] max_features=0.7, splitter=best, criterion=entropy, max_depth=9, min_samples_leaf=1 \n",
      "[CV]  max_features=0.7, splitter=best, criterion=entropy, max_depth=9, min_samples_leaf=2, total=   0.2s\n",
      "[CV] max_features=0.7, splitter=best, criterion=entropy, max_depth=9, min_samples_leaf=2 \n",
      "[CV]  max_features=0.7, splitter=best, criterion=entropy, max_depth=9, min_samples_leaf=1, total=   0.5s\n",
      "[CV] max_features=0.7, splitter=best, criterion=entropy, max_depth=9, min_samples_leaf=1 \n",
      "[CV]  max_features=0.7, splitter=best, criterion=entropy, max_depth=9, min_samples_leaf=2, total=   0.3s\n",
      "[CV] max_features=0.7, splitter=best, criterion=entropy, max_depth=9, min_samples_leaf=2 \n",
      "[CV]  max_features=0.7, splitter=best, criterion=entropy, max_depth=9, min_samples_leaf=2, total=   0.4s\n",
      "[CV] max_features=0.7, splitter=best, criterion=entropy, max_depth=9, min_samples_leaf=2 \n",
      "[CV]  max_features=0.7, splitter=best, criterion=entropy, max_depth=9, min_samples_leaf=1, total=   0.6s\n",
      "[CV] max_features=0.7, splitter=random, criterion=entropy, max_depth=9, min_samples_leaf=3 \n",
      "[CV]  max_features=0.7, splitter=random, criterion=entropy, max_depth=9, min_samples_leaf=3, total=   0.0s\n",
      "[CV] max_features=0.7, splitter=random, criterion=entropy, max_depth=9, min_samples_leaf=3 \n",
      "[CV]  max_features=0.7, splitter=random, criterion=entropy, max_depth=9, min_samples_leaf=3, total=   0.0s\n",
      "[CV] max_features=0.7, splitter=random, criterion=entropy, max_depth=9, min_samples_leaf=3 \n",
      "[CV]  max_features=0.7, splitter=random, criterion=entropy, max_depth=9, min_samples_leaf=3, total=   0.1s\n",
      "[CV] max_features=0.7, splitter=best, criterion=entropy, max_depth=9, min_samples_leaf=3 \n",
      "[CV]  max_features=0.7, splitter=best, criterion=entropy, max_depth=9, min_samples_leaf=3, total=   0.1s\n",
      "[CV] max_features=0.7, splitter=best, criterion=entropy, max_depth=9, min_samples_leaf=3 \n",
      "[CV]  max_features=0.7, splitter=best, criterion=entropy, max_depth=9, min_samples_leaf=3, total=   0.2s\n",
      "[CV] max_features=0.7, splitter=best, criterion=entropy, max_depth=9, min_samples_leaf=3 \n",
      "[CV]  max_features=0.7, splitter=best, criterion=entropy, max_depth=9, min_samples_leaf=2, total=   0.7s\n",
      "[CV] max_features=0.7, splitter=random, criterion=entropy, max_depth=9, min_samples_leaf=3 \n",
      "[CV]  max_features=0.7, splitter=random, criterion=entropy, max_depth=9, min_samples_leaf=3, total=   0.0s\n",
      "[CV] max_features=0.7, splitter=random, criterion=entropy, max_depth=9, min_samples_leaf=3 \n",
      "[CV]  max_features=0.7, splitter=random, criterion=entropy, max_depth=9, min_samples_leaf=3, total=   0.0s\n",
      "[CV] max_features=0.7, splitter=random, criterion=entropy, max_depth=9, min_samples_leaf=4 \n",
      "[CV]  max_features=0.7, splitter=random, criterion=entropy, max_depth=9, min_samples_leaf=4, total=   0.0s\n",
      "[CV] max_features=0.7, splitter=random, criterion=entropy, max_depth=9, min_samples_leaf=4 \n",
      "[CV]  max_features=0.7, splitter=random, criterion=entropy, max_depth=9, min_samples_leaf=4, total=   0.0s\n",
      "[CV] max_features=0.7, splitter=random, criterion=entropy, max_depth=9, min_samples_leaf=4 \n",
      "[CV]  max_features=0.7, splitter=random, criterion=entropy, max_depth=9, min_samples_leaf=4, total=   0.0s\n",
      "[CV] max_features=0.7, splitter=random, criterion=entropy, max_depth=9, min_samples_leaf=4 \n",
      "[CV]  max_features=0.7, splitter=random, criterion=entropy, max_depth=9, min_samples_leaf=4, total=   0.0s\n",
      "[CV] max_features=0.7, splitter=random, criterion=entropy, max_depth=9, min_samples_leaf=4 \n",
      "[CV]  max_features=0.7, splitter=random, criterion=entropy, max_depth=9, min_samples_leaf=4, total=   0.1s\n",
      "[CV] max_features=0.7, splitter=best, criterion=entropy, max_depth=9, min_samples_leaf=4 \n",
      "[CV]  max_features=0.7, splitter=best, criterion=entropy, max_depth=9, min_samples_leaf=4, total=   0.1s\n",
      "[CV] max_features=0.7, splitter=best, criterion=entropy, max_depth=9, min_samples_leaf=4 \n",
      "[CV]  max_features=0.7, splitter=best, criterion=entropy, max_depth=9, min_samples_leaf=3, total=   0.4s\n",
      "[CV] max_features=0.7, splitter=best, criterion=entropy, max_depth=9, min_samples_leaf=3 \n",
      "[CV]  max_features=0.7, splitter=best, criterion=entropy, max_depth=9, min_samples_leaf=4, total=   0.2s\n",
      "[CV] max_features=0.7, splitter=best, criterion=entropy, max_depth=9, min_samples_leaf=4 \n",
      "[CV]  max_features=0.7, splitter=best, criterion=entropy, max_depth=9, min_samples_leaf=3, total=   0.5s\n",
      "[CV] max_features=0.7, splitter=best, criterion=entropy, max_depth=9, min_samples_leaf=3 \n",
      "[CV]  max_features=0.7, splitter=best, criterion=entropy, max_depth=9, min_samples_leaf=4, total=   0.4s\n",
      "[CV] max_features=0.7, splitter=best, criterion=entropy, max_depth=9, min_samples_leaf=4 \n",
      "[CV]  max_features=0.7, splitter=best, criterion=entropy, max_depth=9, min_samples_leaf=4, total=   0.5s\n",
      "[CV] max_features=0.7, splitter=best, criterion=entropy, max_depth=9, min_samples_leaf=4 \n",
      "[CV]  max_features=0.7, splitter=best, criterion=entropy, max_depth=9, min_samples_leaf=3, total=   0.6s\n",
      "[CV] max_features=0.1, splitter=random, criterion=entropy, max_depth=11, min_samples_leaf=1 \n",
      "[CV]  max_features=0.1, splitter=random, criterion=entropy, max_depth=11, min_samples_leaf=1, total=   0.0s\n",
      "[CV] max_features=0.1, splitter=random, criterion=entropy, max_depth=11, min_samples_leaf=1 \n",
      "[CV]  max_features=0.1, splitter=random, criterion=entropy, max_depth=11, min_samples_leaf=1, total=   0.0s\n",
      "[CV] max_features=0.1, splitter=random, criterion=entropy, max_depth=11, min_samples_leaf=1 \n",
      "[CV]  max_features=0.1, splitter=random, criterion=entropy, max_depth=11, min_samples_leaf=1, total=   0.0s\n",
      "[CV] max_features=0.1, splitter=best, criterion=entropy, max_depth=11, min_samples_leaf=1 \n",
      "[CV]  max_features=0.1, splitter=best, criterion=entropy, max_depth=11, min_samples_leaf=1, total=   0.0s\n",
      "[CV] max_features=0.1, splitter=best, criterion=entropy, max_depth=11, min_samples_leaf=1 \n",
      "[CV]  max_features=0.1, splitter=best, criterion=entropy, max_depth=11, min_samples_leaf=1, total=   0.1s\n",
      "[CV] max_features=0.1, splitter=best, criterion=entropy, max_depth=11, min_samples_leaf=1 \n",
      "[CV]  max_features=0.1, splitter=best, criterion=entropy, max_depth=11, min_samples_leaf=1, total=   0.1s\n",
      "[CV] max_features=0.1, splitter=best, criterion=entropy, max_depth=11, min_samples_leaf=1 \n",
      "[CV]  max_features=0.1, splitter=best, criterion=entropy, max_depth=11, min_samples_leaf=1, total=   0.1s\n",
      "[CV] max_features=0.1, splitter=best, criterion=entropy, max_depth=11, min_samples_leaf=1 \n",
      "[CV]  max_features=0.1, splitter=best, criterion=entropy, max_depth=11, min_samples_leaf=1, total=   0.1s\n",
      "[CV] max_features=0.1, splitter=random, criterion=entropy, max_depth=11, min_samples_leaf=2 \n",
      "[CV]  max_features=0.1, splitter=random, criterion=entropy, max_depth=11, min_samples_leaf=2, total=   0.0s\n",
      "[CV] max_features=0.1, splitter=random, criterion=entropy, max_depth=11, min_samples_leaf=2 \n",
      "[CV]  max_features=0.1, splitter=random, criterion=entropy, max_depth=11, min_samples_leaf=2, total=   0.0s\n",
      "[CV] max_features=0.1, splitter=random, criterion=entropy, max_depth=11, min_samples_leaf=2 \n",
      "[CV]  max_features=0.1, splitter=random, criterion=entropy, max_depth=11, min_samples_leaf=2, total=   0.0s\n",
      "[CV] max_features=0.1, splitter=random, criterion=entropy, max_depth=11, min_samples_leaf=2 \n",
      "[CV]  max_features=0.1, splitter=random, criterion=entropy, max_depth=11, min_samples_leaf=2, total=   0.0s\n",
      "[CV] max_features=0.1, splitter=random, criterion=entropy, max_depth=11, min_samples_leaf=2 \n",
      "[CV]  max_features=0.7, splitter=best, criterion=entropy, max_depth=9, min_samples_leaf=4, total=   0.7s\n",
      "[CV] max_features=0.1, splitter=random, criterion=entropy, max_depth=11, min_samples_leaf=1 \n",
      "[CV]  max_features=0.1, splitter=random, criterion=entropy, max_depth=11, min_samples_leaf=1, total=   0.0s\n",
      "[CV] max_features=0.1, splitter=random, criterion=entropy, max_depth=11, min_samples_leaf=1 \n",
      "[CV]  max_features=0.1, splitter=random, criterion=entropy, max_depth=11, min_samples_leaf=2, total=   0.0s\n"
     ]
    },
    {
     "name": "stdout",
     "output_type": "stream",
     "text": [
      "[CV] max_features=0.1, splitter=best, criterion=entropy, max_depth=11, min_samples_leaf=2 \n",
      "[CV]  max_features=0.1, splitter=random, criterion=entropy, max_depth=11, min_samples_leaf=1, total=   0.0s\n",
      "[CV] max_features=0.1, splitter=best, criterion=entropy, max_depth=11, min_samples_leaf=2 \n",
      "[CV]  max_features=0.1, splitter=best, criterion=entropy, max_depth=11, min_samples_leaf=2, total=   0.1s\n",
      "[CV] max_features=0.1, splitter=best, criterion=entropy, max_depth=11, min_samples_leaf=2 \n",
      "[CV]  max_features=0.1, splitter=best, criterion=entropy, max_depth=11, min_samples_leaf=2, total=   0.1s\n",
      "[CV] max_features=0.1, splitter=best, criterion=entropy, max_depth=11, min_samples_leaf=2 \n",
      "[CV]  max_features=0.1, splitter=best, criterion=entropy, max_depth=11, min_samples_leaf=2, total=   0.1s\n",
      "[CV] max_features=0.1, splitter=best, criterion=entropy, max_depth=11, min_samples_leaf=2 \n",
      "[CV]  max_features=0.1, splitter=best, criterion=entropy, max_depth=11, min_samples_leaf=2, total=   0.1s\n",
      "[CV] max_features=0.1, splitter=random, criterion=entropy, max_depth=11, min_samples_leaf=3 \n",
      "[CV]  max_features=0.1, splitter=random, criterion=entropy, max_depth=11, min_samples_leaf=3, total=   0.0s\n",
      "[CV] max_features=0.1, splitter=random, criterion=entropy, max_depth=11, min_samples_leaf=3 \n",
      "[CV]  max_features=0.1, splitter=random, criterion=entropy, max_depth=11, min_samples_leaf=3, total=   0.0s\n",
      "[CV] max_features=0.1, splitter=random, criterion=entropy, max_depth=11, min_samples_leaf=3 \n",
      "[CV]  max_features=0.1, splitter=random, criterion=entropy, max_depth=11, min_samples_leaf=3, total=   0.0s\n",
      "[CV] max_features=0.1, splitter=best, criterion=entropy, max_depth=11, min_samples_leaf=3 \n",
      "[CV]  max_features=0.1, splitter=best, criterion=entropy, max_depth=11, min_samples_leaf=2, total=   0.1s\n",
      "[CV] max_features=0.1, splitter=random, criterion=entropy, max_depth=11, min_samples_leaf=3 \n",
      "[CV]  max_features=0.1, splitter=random, criterion=entropy, max_depth=11, min_samples_leaf=3, total=   0.0s\n",
      "[CV] max_features=0.1, splitter=random, criterion=entropy, max_depth=11, min_samples_leaf=3 \n",
      "[CV]  max_features=0.1, splitter=best, criterion=entropy, max_depth=11, min_samples_leaf=3, total=   0.0s\n",
      "[CV]  max_features=0.1, splitter=random, criterion=entropy, max_depth=11, min_samples_leaf=3, total=   0.0s\n",
      "[CV] max_features=0.1, splitter=random, criterion=entropy, max_depth=11, min_samples_leaf=4 \n",
      "[CV] max_features=0.1, splitter=best, criterion=entropy, max_depth=11, min_samples_leaf=3 \n",
      "[CV]  max_features=0.1, splitter=random, criterion=entropy, max_depth=11, min_samples_leaf=4, total=   0.0s\n",
      "[CV] max_features=0.1, splitter=random, criterion=entropy, max_depth=11, min_samples_leaf=4 \n",
      "[CV]  max_features=0.1, splitter=random, criterion=entropy, max_depth=11, min_samples_leaf=4, total=   0.0s\n",
      "[CV] max_features=0.1, splitter=random, criterion=entropy, max_depth=11, min_samples_leaf=4 \n",
      "[CV]  max_features=0.1, splitter=random, criterion=entropy, max_depth=11, min_samples_leaf=4, total=   0.0s\n",
      "[CV] max_features=0.1, splitter=random, criterion=entropy, max_depth=11, min_samples_leaf=4 \n",
      "[CV]  max_features=0.1, splitter=best, criterion=entropy, max_depth=11, min_samples_leaf=3, total=   0.1s\n",
      "[CV] max_features=0.1, splitter=best, criterion=entropy, max_depth=11, min_samples_leaf=3 \n",
      "[CV]  max_features=0.1, splitter=random, criterion=entropy, max_depth=11, min_samples_leaf=4, total=   0.0s\n",
      "[CV] max_features=0.1, splitter=random, criterion=entropy, max_depth=11, min_samples_leaf=4 \n",
      "[CV]  max_features=0.1, splitter=random, criterion=entropy, max_depth=11, min_samples_leaf=4, total=   0.0s\n",
      "[CV] max_features=0.1, splitter=best, criterion=entropy, max_depth=11, min_samples_leaf=4 \n",
      "[CV]  max_features=0.1, splitter=best, criterion=entropy, max_depth=11, min_samples_leaf=3, total=   0.1s\n",
      "[CV]  max_features=0.1, splitter=best, criterion=entropy, max_depth=11, min_samples_leaf=4, total=   0.0s\n",
      "[CV] max_features=0.1, splitter=best, criterion=entropy, max_depth=11, min_samples_leaf=4 \n",
      "[CV] max_features=0.1, splitter=best, criterion=entropy, max_depth=11, min_samples_leaf=3 \n",
      "[CV]  max_features=0.1, splitter=best, criterion=entropy, max_depth=11, min_samples_leaf=4, total=   0.0s\n",
      "[CV] max_features=0.1, splitter=best, criterion=entropy, max_depth=11, min_samples_leaf=4 \n",
      "[CV]  max_features=0.1, splitter=best, criterion=entropy, max_depth=11, min_samples_leaf=3, total=   0.1s\n",
      "[CV] max_features=0.1, splitter=best, criterion=entropy, max_depth=11, min_samples_leaf=3 \n",
      "[CV]  max_features=0.1, splitter=best, criterion=entropy, max_depth=11, min_samples_leaf=4, total=   0.1s\n",
      "[CV] max_features=0.1, splitter=best, criterion=entropy, max_depth=11, min_samples_leaf=4 \n",
      "[CV]  max_features=0.1, splitter=best, criterion=entropy, max_depth=11, min_samples_leaf=4, total=   0.1s\n",
      "[CV] max_features=0.1, splitter=best, criterion=entropy, max_depth=11, min_samples_leaf=4 \n",
      "[CV]  max_features=0.1, splitter=best, criterion=entropy, max_depth=11, min_samples_leaf=3, total=   0.1s\n",
      "[CV] max_features=0.5, splitter=random, criterion=entropy, max_depth=11, min_samples_leaf=1 \n",
      "[CV]  max_features=0.5, splitter=random, criterion=entropy, max_depth=11, min_samples_leaf=1, total=   0.0s\n",
      "[CV] max_features=0.5, splitter=random, criterion=entropy, max_depth=11, min_samples_leaf=1 \n",
      "[CV]  max_features=0.5, splitter=random, criterion=entropy, max_depth=11, min_samples_leaf=1, total=   0.0s\n",
      "[CV] max_features=0.5, splitter=random, criterion=entropy, max_depth=11, min_samples_leaf=1 \n",
      "[CV]  max_features=0.5, splitter=random, criterion=entropy, max_depth=11, min_samples_leaf=1, total=   0.1s\n",
      "[CV]  max_features=0.1, splitter=best, criterion=entropy, max_depth=11, min_samples_leaf=4, total=   0.2s\n",
      "[CV] max_features=0.5, splitter=best, criterion=entropy, max_depth=11, min_samples_leaf=1 \n",
      "[CV] max_features=0.5, splitter=random, criterion=entropy, max_depth=11, min_samples_leaf=1 \n",
      "[CV]  max_features=0.5, splitter=random, criterion=entropy, max_depth=11, min_samples_leaf=1, total=   0.0s\n",
      "[CV] max_features=0.5, splitter=random, criterion=entropy, max_depth=11, min_samples_leaf=1 \n",
      "[CV]  max_features=0.5, splitter=random, criterion=entropy, max_depth=11, min_samples_leaf=1, total=   0.0s\n",
      "[CV] max_features=0.5, splitter=best, criterion=entropy, max_depth=11, min_samples_leaf=1 \n",
      "[CV]  max_features=0.5, splitter=best, criterion=entropy, max_depth=11, min_samples_leaf=1, total=   0.1s\n",
      "[CV] max_features=0.5, splitter=random, criterion=entropy, max_depth=11, min_samples_leaf=2 \n",
      "[CV]  max_features=0.5, splitter=random, criterion=entropy, max_depth=11, min_samples_leaf=2, total=   0.0s\n",
      "[CV] max_features=0.5, splitter=random, criterion=entropy, max_depth=11, min_samples_leaf=2 \n",
      "[CV]  max_features=0.5, splitter=random, criterion=entropy, max_depth=11, min_samples_leaf=2, total=   0.0s\n",
      "[CV] max_features=0.5, splitter=random, criterion=entropy, max_depth=11, min_samples_leaf=2 \n",
      "[CV]  max_features=0.5, splitter=random, criterion=entropy, max_depth=11, min_samples_leaf=2, total=   0.0s\n",
      "[CV] max_features=0.5, splitter=random, criterion=entropy, max_depth=11, min_samples_leaf=2 \n",
      "[CV]  max_features=0.5, splitter=random, criterion=entropy, max_depth=11, min_samples_leaf=2, total=   0.0s\n",
      "[CV] max_features=0.5, splitter=random, criterion=entropy, max_depth=11, min_samples_leaf=2 \n",
      "[CV]  max_features=0.5, splitter=best, criterion=entropy, max_depth=11, min_samples_leaf=1, total=   0.2s\n",
      "[CV] max_features=0.5, splitter=best, criterion=entropy, max_depth=11, min_samples_leaf=1 \n",
      "[CV]  max_features=0.5, splitter=random, criterion=entropy, max_depth=11, min_samples_leaf=2, total=   0.1s\n",
      "[CV] max_features=0.5, splitter=best, criterion=entropy, max_depth=11, min_samples_leaf=2 \n",
      "[CV]  max_features=0.5, splitter=best, criterion=entropy, max_depth=11, min_samples_leaf=2, total=   0.1s\n",
      "[CV] max_features=0.5, splitter=best, criterion=entropy, max_depth=11, min_samples_leaf=2 \n",
      "[CV]  max_features=0.5, splitter=best, criterion=entropy, max_depth=11, min_samples_leaf=2, total=   0.2s\n",
      "[CV] max_features=0.5, splitter=best, criterion=entropy, max_depth=11, min_samples_leaf=2 \n",
      "[CV]  max_features=0.5, splitter=best, criterion=entropy, max_depth=11, min_samples_leaf=1, total=   0.3s\n",
      "[CV] max_features=0.5, splitter=best, criterion=entropy, max_depth=11, min_samples_leaf=1 \n"
     ]
    },
    {
     "name": "stdout",
     "output_type": "stream",
     "text": [
      "[CV]  max_features=0.5, splitter=best, criterion=entropy, max_depth=11, min_samples_leaf=2, total=   0.3s\n",
      "[CV] max_features=0.5, splitter=best, criterion=entropy, max_depth=11, min_samples_leaf=2 \n",
      "[CV]  max_features=0.5, splitter=best, criterion=entropy, max_depth=11, min_samples_leaf=1, total=   0.4s\n",
      "[CV] max_features=0.5, splitter=best, criterion=entropy, max_depth=11, min_samples_leaf=1 \n"
     ]
    },
    {
     "name": "stderr",
     "output_type": "stream",
     "text": [
      "[Parallel(n_jobs=2)]: Done 1374 tasks      | elapsed:  1.2min\n"
     ]
    },
    {
     "name": "stdout",
     "output_type": "stream",
     "text": [
      "[CV]  max_features=0.5, splitter=best, criterion=entropy, max_depth=11, min_samples_leaf=2, total=   0.4s\n",
      "[CV] max_features=0.5, splitter=best, criterion=entropy, max_depth=11, min_samples_leaf=2 \n",
      "[CV]  max_features=0.5, splitter=best, criterion=entropy, max_depth=11, min_samples_leaf=1, total=   0.5s\n",
      "[CV] max_features=0.5, splitter=random, criterion=entropy, max_depth=11, min_samples_leaf=3 \n",
      "[CV]  max_features=0.5, splitter=random, criterion=entropy, max_depth=11, min_samples_leaf=3, total=   0.0s\n",
      "[CV] max_features=0.5, splitter=random, criterion=entropy, max_depth=11, min_samples_leaf=3 \n",
      "[CV]  max_features=0.5, splitter=random, criterion=entropy, max_depth=11, min_samples_leaf=3, total=   0.0s\n",
      "[CV] max_features=0.5, splitter=random, criterion=entropy, max_depth=11, min_samples_leaf=3 \n",
      "[CV]  max_features=0.5, splitter=random, criterion=entropy, max_depth=11, min_samples_leaf=3, total=   0.0s\n",
      "[CV] max_features=0.5, splitter=best, criterion=entropy, max_depth=11, min_samples_leaf=3 \n",
      "[CV]  max_features=0.5, splitter=best, criterion=entropy, max_depth=11, min_samples_leaf=3, total=   0.1s\n",
      "[CV] max_features=0.5, splitter=best, criterion=entropy, max_depth=11, min_samples_leaf=3 \n",
      "[CV]  max_features=0.5, splitter=best, criterion=entropy, max_depth=11, min_samples_leaf=2, total=   0.6s\n",
      "[CV] max_features=0.5, splitter=random, criterion=entropy, max_depth=11, min_samples_leaf=3 \n",
      "[CV]  max_features=0.5, splitter=random, criterion=entropy, max_depth=11, min_samples_leaf=3, total=   0.0s\n",
      "[CV] max_features=0.5, splitter=random, criterion=entropy, max_depth=11, min_samples_leaf=3 \n",
      "[CV]  max_features=0.5, splitter=random, criterion=entropy, max_depth=11, min_samples_leaf=3, total=   0.0s\n",
      "[CV] max_features=0.5, splitter=random, criterion=entropy, max_depth=11, min_samples_leaf=4 \n",
      "[CV]  max_features=0.5, splitter=random, criterion=entropy, max_depth=11, min_samples_leaf=4, total=   0.0s\n",
      "[CV] max_features=0.5, splitter=random, criterion=entropy, max_depth=11, min_samples_leaf=4 \n",
      "[CV]  max_features=0.5, splitter=random, criterion=entropy, max_depth=11, min_samples_leaf=4, total=   0.0s\n",
      "[CV] max_features=0.5, splitter=random, criterion=entropy, max_depth=11, min_samples_leaf=4 \n",
      "[CV]  max_features=0.5, splitter=best, criterion=entropy, max_depth=11, min_samples_leaf=3, total=   0.2s\n",
      "[CV] max_features=0.5, splitter=best, criterion=entropy, max_depth=11, min_samples_leaf=3 \n",
      "[CV]  max_features=0.5, splitter=random, criterion=entropy, max_depth=11, min_samples_leaf=4, total=   0.0s\n",
      "[CV] max_features=0.5, splitter=random, criterion=entropy, max_depth=11, min_samples_leaf=4 \n",
      "[CV]  max_features=0.5, splitter=random, criterion=entropy, max_depth=11, min_samples_leaf=4, total=   0.0s\n",
      "[CV] max_features=0.5, splitter=random, criterion=entropy, max_depth=11, min_samples_leaf=4 \n",
      "[CV]  max_features=0.5, splitter=random, criterion=entropy, max_depth=11, min_samples_leaf=4, total=   0.1s\n",
      "[CV] max_features=0.5, splitter=best, criterion=entropy, max_depth=11, min_samples_leaf=4 \n",
      "[CV]  max_features=0.5, splitter=best, criterion=entropy, max_depth=11, min_samples_leaf=4, total=   0.1s\n",
      "[CV] max_features=0.5, splitter=best, criterion=entropy, max_depth=11, min_samples_leaf=4 \n",
      "[CV]  max_features=0.5, splitter=best, criterion=entropy, max_depth=11, min_samples_leaf=3, total=   0.3s\n",
      "[CV] max_features=0.5, splitter=best, criterion=entropy, max_depth=11, min_samples_leaf=3 \n",
      "[CV]  max_features=0.5, splitter=best, criterion=entropy, max_depth=11, min_samples_leaf=4, total=   0.2s\n",
      "[CV] max_features=0.5, splitter=best, criterion=entropy, max_depth=11, min_samples_leaf=4 \n",
      "[CV]  max_features=0.5, splitter=best, criterion=entropy, max_depth=11, min_samples_leaf=4, total=   0.3s\n",
      "[CV] max_features=0.5, splitter=best, criterion=entropy, max_depth=11, min_samples_leaf=4 \n",
      "[CV]  max_features=0.5, splitter=best, criterion=entropy, max_depth=11, min_samples_leaf=3, total=   0.4s\n",
      "[CV] max_features=0.5, splitter=best, criterion=entropy, max_depth=11, min_samples_leaf=3 \n",
      "[CV]  max_features=0.5, splitter=best, criterion=entropy, max_depth=11, min_samples_leaf=4, total=   0.4s\n",
      "[CV] max_features=0.5, splitter=best, criterion=entropy, max_depth=11, min_samples_leaf=4 \n",
      "[CV]  max_features=0.5, splitter=best, criterion=entropy, max_depth=11, min_samples_leaf=3, total=   0.5s\n",
      "[CV] max_features=0.7, splitter=random, criterion=entropy, max_depth=11, min_samples_leaf=1 \n",
      "[CV]  max_features=0.7, splitter=random, criterion=entropy, max_depth=11, min_samples_leaf=1, total=   0.0s\n",
      "[CV] max_features=0.7, splitter=random, criterion=entropy, max_depth=11, min_samples_leaf=1 \n",
      "[CV]  max_features=0.7, splitter=random, criterion=entropy, max_depth=11, min_samples_leaf=1, total=   0.0s\n",
      "[CV] max_features=0.7, splitter=random, criterion=entropy, max_depth=11, min_samples_leaf=1 \n",
      "[CV]  max_features=0.7, splitter=random, criterion=entropy, max_depth=11, min_samples_leaf=1, total=   0.1s\n",
      "[CV] max_features=0.7, splitter=best, criterion=entropy, max_depth=11, min_samples_leaf=1 \n",
      "[CV]  max_features=0.7, splitter=best, criterion=entropy, max_depth=11, min_samples_leaf=1, total=   0.1s\n",
      "[CV] max_features=0.7, splitter=best, criterion=entropy, max_depth=11, min_samples_leaf=1 \n",
      "[CV]  max_features=0.5, splitter=best, criterion=entropy, max_depth=11, min_samples_leaf=4, total=   0.6s\n",
      "[CV] max_features=0.7, splitter=random, criterion=entropy, max_depth=11, min_samples_leaf=1 \n",
      "[CV]  max_features=0.7, splitter=random, criterion=entropy, max_depth=11, min_samples_leaf=1, total=   0.0s\n",
      "[CV] max_features=0.7, splitter=random, criterion=entropy, max_depth=11, min_samples_leaf=1 \n",
      "[CV]  max_features=0.7, splitter=random, criterion=entropy, max_depth=11, min_samples_leaf=1, total=   0.0s\n",
      "[CV] max_features=0.7, splitter=random, criterion=entropy, max_depth=11, min_samples_leaf=2 \n",
      "[CV]  max_features=0.7, splitter=random, criterion=entropy, max_depth=11, min_samples_leaf=2, total=   0.0s\n",
      "[CV] max_features=0.7, splitter=random, criterion=entropy, max_depth=11, min_samples_leaf=2 \n",
      "[CV]  max_features=0.7, splitter=random, criterion=entropy, max_depth=11, min_samples_leaf=2, total=   0.0s\n",
      "[CV] max_features=0.7, splitter=random, criterion=entropy, max_depth=11, min_samples_leaf=2 \n",
      "[CV]  max_features=0.7, splitter=best, criterion=entropy, max_depth=11, min_samples_leaf=1, total=   0.3s\n",
      "[CV] max_features=0.7, splitter=best, criterion=entropy, max_depth=11, min_samples_leaf=1 \n",
      "[CV]  max_features=0.7, splitter=random, criterion=entropy, max_depth=11, min_samples_leaf=2, total=   0.0s\n",
      "[CV] max_features=0.7, splitter=random, criterion=entropy, max_depth=11, min_samples_leaf=2 \n",
      "[CV]  max_features=0.7, splitter=random, criterion=entropy, max_depth=11, min_samples_leaf=2, total=   0.0s\n",
      "[CV] max_features=0.7, splitter=random, criterion=entropy, max_depth=11, min_samples_leaf=2 \n",
      "[CV]  max_features=0.7, splitter=random, criterion=entropy, max_depth=11, min_samples_leaf=2, total=   0.1s\n",
      "[CV] max_features=0.7, splitter=best, criterion=entropy, max_depth=11, min_samples_leaf=2 \n",
      "[CV]  max_features=0.7, splitter=best, criterion=entropy, max_depth=11, min_samples_leaf=2, total=   0.1s\n",
      "[CV] max_features=0.7, splitter=best, criterion=entropy, max_depth=11, min_samples_leaf=2 \n",
      "[CV]  max_features=0.7, splitter=best, criterion=entropy, max_depth=11, min_samples_leaf=1, total=   0.5s\n",
      "[CV] max_features=0.7, splitter=best, criterion=entropy, max_depth=11, min_samples_leaf=1 \n",
      "[CV]  max_features=0.7, splitter=best, criterion=entropy, max_depth=11, min_samples_leaf=2, total=   0.2s\n",
      "[CV] max_features=0.7, splitter=best, criterion=entropy, max_depth=11, min_samples_leaf=2 \n",
      "[CV]  max_features=0.7, splitter=best, criterion=entropy, max_depth=11, min_samples_leaf=2, total=   0.5s\n",
      "[CV] max_features=0.7, splitter=best, criterion=entropy, max_depth=11, min_samples_leaf=2 \n",
      "[CV]  max_features=0.7, splitter=best, criterion=entropy, max_depth=11, min_samples_leaf=1, total=   0.7s\n",
      "[CV] max_features=0.7, splitter=best, criterion=entropy, max_depth=11, min_samples_leaf=1 \n",
      "[CV]  max_features=0.7, splitter=best, criterion=entropy, max_depth=11, min_samples_leaf=2, total=   0.6s\n",
      "[CV] max_features=0.7, splitter=best, criterion=entropy, max_depth=11, min_samples_leaf=2 \n",
      "[CV]  max_features=0.7, splitter=best, criterion=entropy, max_depth=11, min_samples_leaf=1, total=   0.7s\n"
     ]
    },
    {
     "name": "stdout",
     "output_type": "stream",
     "text": [
      "[CV] max_features=0.7, splitter=random, criterion=entropy, max_depth=11, min_samples_leaf=3 \n",
      "[CV]  max_features=0.7, splitter=random, criterion=entropy, max_depth=11, min_samples_leaf=3, total=   0.0s\n",
      "[CV] max_features=0.7, splitter=random, criterion=entropy, max_depth=11, min_samples_leaf=3 \n",
      "[CV]  max_features=0.7, splitter=random, criterion=entropy, max_depth=11, min_samples_leaf=3, total=   0.0s\n",
      "[CV] max_features=0.7, splitter=random, criterion=entropy, max_depth=11, min_samples_leaf=3 \n",
      "[CV]  max_features=0.7, splitter=random, criterion=entropy, max_depth=11, min_samples_leaf=3, total=   0.1s\n",
      "[CV] max_features=0.7, splitter=best, criterion=entropy, max_depth=11, min_samples_leaf=3 \n",
      "[CV]  max_features=0.7, splitter=best, criterion=entropy, max_depth=11, min_samples_leaf=3, total=   0.1s\n",
      "[CV] max_features=0.7, splitter=best, criterion=entropy, max_depth=11, min_samples_leaf=3 \n",
      "[CV]  max_features=0.7, splitter=best, criterion=entropy, max_depth=11, min_samples_leaf=3, total=   0.2s\n",
      "[CV] max_features=0.7, splitter=best, criterion=entropy, max_depth=11, min_samples_leaf=3 \n",
      "[CV]  max_features=0.7, splitter=best, criterion=entropy, max_depth=11, min_samples_leaf=2, total=   0.8s\n",
      "[CV] max_features=0.7, splitter=random, criterion=entropy, max_depth=11, min_samples_leaf=3 \n",
      "[CV]  max_features=0.7, splitter=random, criterion=entropy, max_depth=11, min_samples_leaf=3, total=   0.0s\n",
      "[CV] max_features=0.7, splitter=random, criterion=entropy, max_depth=11, min_samples_leaf=3 \n",
      "[CV]  max_features=0.7, splitter=random, criterion=entropy, max_depth=11, min_samples_leaf=3, total=   0.0s\n",
      "[CV] max_features=0.7, splitter=random, criterion=entropy, max_depth=11, min_samples_leaf=4 \n",
      "[CV]  max_features=0.7, splitter=random, criterion=entropy, max_depth=11, min_samples_leaf=4, total=   0.0s\n",
      "[CV] max_features=0.7, splitter=random, criterion=entropy, max_depth=11, min_samples_leaf=4 \n",
      "[CV]  max_features=0.7, splitter=random, criterion=entropy, max_depth=11, min_samples_leaf=4, total=   0.0s\n",
      "[CV] max_features=0.7, splitter=random, criterion=entropy, max_depth=11, min_samples_leaf=4 \n",
      "[CV]  max_features=0.7, splitter=random, criterion=entropy, max_depth=11, min_samples_leaf=4, total=   0.0s\n",
      "[CV] max_features=0.7, splitter=random, criterion=entropy, max_depth=11, min_samples_leaf=4 \n",
      "[CV]  max_features=0.7, splitter=random, criterion=entropy, max_depth=11, min_samples_leaf=4, total=   0.1s\n",
      "[CV] max_features=0.7, splitter=random, criterion=entropy, max_depth=11, min_samples_leaf=4 \n",
      "[CV]  max_features=0.7, splitter=random, criterion=entropy, max_depth=11, min_samples_leaf=4, total=   0.1s\n",
      "[CV] max_features=0.7, splitter=best, criterion=entropy, max_depth=11, min_samples_leaf=4 \n",
      "[CV]  max_features=0.7, splitter=best, criterion=entropy, max_depth=11, min_samples_leaf=4, total=   0.1s\n",
      "[CV] max_features=0.7, splitter=best, criterion=entropy, max_depth=11, min_samples_leaf=4 \n",
      "[CV]  max_features=0.7, splitter=best, criterion=entropy, max_depth=11, min_samples_leaf=3, total=   0.5s\n",
      "[CV] max_features=0.7, splitter=best, criterion=entropy, max_depth=11, min_samples_leaf=3 \n",
      "[CV]  max_features=0.7, splitter=best, criterion=entropy, max_depth=11, min_samples_leaf=4, total=   0.2s\n",
      "[CV] max_features=0.7, splitter=best, criterion=entropy, max_depth=11, min_samples_leaf=4 \n",
      "[CV]  max_features=0.7, splitter=best, criterion=entropy, max_depth=11, min_samples_leaf=3, total=   0.5s\n",
      "[CV] max_features=0.7, splitter=best, criterion=entropy, max_depth=11, min_samples_leaf=3 \n",
      "[CV]  max_features=0.7, splitter=best, criterion=entropy, max_depth=11, min_samples_leaf=4, total=   0.4s\n",
      "[CV] max_features=0.7, splitter=best, criterion=entropy, max_depth=11, min_samples_leaf=4 \n",
      "[CV]  max_features=0.7, splitter=best, criterion=entropy, max_depth=11, min_samples_leaf=4, total=   0.5s\n",
      "[CV] max_features=0.7, splitter=best, criterion=entropy, max_depth=11, min_samples_leaf=4 \n",
      "[CV]  max_features=0.7, splitter=best, criterion=entropy, max_depth=11, min_samples_leaf=3, total=   0.7s\n",
      "[CV]  max_features=0.7, splitter=best, criterion=entropy, max_depth=11, min_samples_leaf=4, total=   0.6s\n"
     ]
    },
    {
     "name": "stderr",
     "output_type": "stream",
     "text": [
      "[Parallel(n_jobs=2)]: Done 1440 out of 1440 | elapsed:  1.3min finished\n"
     ]
    },
    {
     "data": {
      "text/plain": [
       "GridSearchCV(cv=TimeSeriesSplit(n_splits=5), error_score='raise',\n",
       "       estimator=ExtraTreeClassifier(class_weight=None, criterion='gini', max_depth=None,\n",
       "          max_features='auto', max_leaf_nodes=None,\n",
       "          min_impurity_split=1e-07, min_samples_leaf=1,\n",
       "          min_samples_split=2, min_weight_fraction_leaf=0.0,\n",
       "          random_state=None, splitter='random'),\n",
       "       fit_params={}, iid=True, n_jobs=2,\n",
       "       param_grid={'max_features': [0.1, 0.5, 0.7], 'splitter': ['random', 'best'], 'criterion': ['gini', 'entropy'], 'max_depth': [None, 1, 5, 7, 9, 11], 'min_samples_leaf': [1, 2, 3, 4]},\n",
       "       pre_dispatch='2*n_jobs', refit=True, return_train_score=True,\n",
       "       scoring=None, verbose=2)"
      ]
     },
     "execution_count": 140,
     "metadata": {},
     "output_type": "execute_result"
    }
   ],
   "source": [
    "# parameters to tune\n",
    "param_grid = {\"criterion\" : [\"gini\", \"entropy\"],\n",
    "              \"min_samples_leaf\": [1, 2, 3, 4],\n",
    "              \"max_features\": [0.1, 0.5, 0.7],\n",
    "              \"max_depth\": [None, 1, 5, 7, 9, 11],\n",
    "              \"splitter\" : ['random', 'best']\n",
    "             }\n",
    "cv = TimeSeriesSplit(n_splits=5)\n",
    "et = ExtraTreeClassifier()\n",
    "grid_search_et = GridSearchCV(et, param_grid=param_grid, verbose=2, cv=cv, n_jobs=2)\n",
    "grid_search_et.fit(X_train, y_train)"
   ]
  },
  {
   "cell_type": "code",
   "execution_count": 141,
   "metadata": {},
   "outputs": [
    {
     "name": "stdout",
     "output_type": "stream",
     "text": [
      "Best model:\n",
      "ExtraTreeClassifier(class_weight=None, criterion='entropy', max_depth=9,\n",
      "          max_features=0.1, max_leaf_nodes=None, min_impurity_split=1e-07,\n",
      "          min_samples_leaf=2, min_samples_split=2,\n",
      "          min_weight_fraction_leaf=0.0, random_state=None, splitter='best')\n"
     ]
    }
   ],
   "source": [
    "# best model estimator\n",
    "et_best_model = grid_search_et.best_estimator_\n",
    "print \"Best model:\\n\", et_best_model"
   ]
  },
  {
   "cell_type": "code",
   "execution_count": 142,
   "metadata": {},
   "outputs": [
    {
     "name": "stdout",
     "output_type": "stream",
     "text": [
      "Best parameters:\n",
      "{'max_features': 0.1, 'splitter': 'best', 'criterion': 'entropy', 'max_depth': 9, 'min_samples_leaf': 2}\n"
     ]
    }
   ],
   "source": [
    "# best tuned parameters\n",
    "et_best_parameters = grid_search_et.best_params_\n",
    "print \"Best parameters:\\n\", et_best_parameters"
   ]
  },
  {
   "cell_type": "code",
   "execution_count": 143,
   "metadata": {},
   "outputs": [
    {
     "name": "stdout",
     "output_type": "stream",
     "text": [
      "Baseline score:\t0.521\n",
      "Best score:\t0.508\n",
      "Precision score: 0.53\n",
      "Recall score:  0.49\n"
     ]
    }
   ],
   "source": [
    "# best score\n",
    "et_best_score = et_best_model.score(X_test, y_test)\n",
    "# model predictions\n",
    "et_pred = et_best_model.predict(X_test)\n",
    "et_precision = precision_score(y_test, et_pred)\n",
    "et_recall = recall_score(y_test, et_pred)\n",
    "print \"Baseline score:\\t{:.3f}\".format(1 - y.mean())\n",
    "print \"Best score:\\t{:.3f}\".format(et_best_score)\n",
    "print \"Precision score:{: .2f}\".format(et_precision)\n",
    "print \"Recall score: {: .2f}\".format(et_recall)"
   ]
  },
  {
   "cell_type": "code",
   "execution_count": 227,
   "metadata": {},
   "outputs": [],
   "source": [
    "et_feature_importances = pd.DataFrame(et_best_model.feature_importances_,\n",
    "                                   index = data.iloc[:train_set, :-2].columns,\n",
    "                                    columns=['importance'])\n",
    "top_10 = et_feature_importances.sort_values(by='importance', ascending=True).tail(10)"
   ]
  },
  {
   "cell_type": "code",
   "execution_count": 228,
   "metadata": {},
   "outputs": [
    {
     "data": {
      "text/html": [
       "<div>\n",
       "<style>\n",
       "    .dataframe thead tr:only-child th {\n",
       "        text-align: right;\n",
       "    }\n",
       "\n",
       "    .dataframe thead th {\n",
       "        text-align: left;\n",
       "    }\n",
       "\n",
       "    .dataframe tbody tr th {\n",
       "        vertical-align: top;\n",
       "    }\n",
       "</style>\n",
       "<table border=\"1\" class=\"dataframe\">\n",
       "  <thead>\n",
       "    <tr style=\"text-align: right;\">\n",
       "      <th></th>\n",
       "      <th>importance</th>\n",
       "    </tr>\n",
       "  </thead>\n",
       "  <tbody>\n",
       "    <tr>\n",
       "      <th>s_p_500_one_change</th>\n",
       "      <td>0.038446</td>\n",
       "    </tr>\n",
       "    <tr>\n",
       "      <th>chf_gold_one_change</th>\n",
       "      <td>0.029598</td>\n",
       "    </tr>\n",
       "    <tr>\n",
       "      <th>swed10_yield_one_change_5d_mean</th>\n",
       "      <td>0.026185</td>\n",
       "    </tr>\n",
       "    <tr>\n",
       "      <th>aus10_yield_one_change_5d_std</th>\n",
       "      <td>0.024190</td>\n",
       "    </tr>\n",
       "    <tr>\n",
       "      <th>30mortgage_one_change</th>\n",
       "      <td>0.023047</td>\n",
       "    </tr>\n",
       "    <tr>\n",
       "      <th>SwedEERI_one_change_5d_mean</th>\n",
       "      <td>0.022747</td>\n",
       "    </tr>\n",
       "    <tr>\n",
       "      <th>ger_dax_one_change_5d_min</th>\n",
       "      <td>0.021656</td>\n",
       "    </tr>\n",
       "    <tr>\n",
       "      <th>uk_ftse_five_change</th>\n",
       "      <td>0.021584</td>\n",
       "    </tr>\n",
       "    <tr>\n",
       "      <th>chf_gold_one_change_5d_mean</th>\n",
       "      <td>0.020158</td>\n",
       "    </tr>\n",
       "    <tr>\n",
       "      <th>ita10_yield_one_change_5d_mean</th>\n",
       "      <td>0.020041</td>\n",
       "    </tr>\n",
       "  </tbody>\n",
       "</table>\n",
       "</div>"
      ],
      "text/plain": [
       "                                 importance\n",
       "s_p_500_one_change                 0.038446\n",
       "chf_gold_one_change                0.029598\n",
       "swed10_yield_one_change_5d_mean    0.026185\n",
       "aus10_yield_one_change_5d_std      0.024190\n",
       "30mortgage_one_change              0.023047\n",
       "SwedEERI_one_change_5d_mean        0.022747\n",
       "ger_dax_one_change_5d_min          0.021656\n",
       "uk_ftse_five_change                0.021584\n",
       "chf_gold_one_change_5d_mean        0.020158\n",
       "ita10_yield_one_change_5d_mean     0.020041"
      ]
     },
     "execution_count": 228,
     "metadata": {},
     "output_type": "execute_result"
    }
   ],
   "source": [
    "top_10.sort_values(by='importance', ascending=False)"
   ]
  },
  {
   "cell_type": "code",
   "execution_count": 229,
   "metadata": {},
   "outputs": [
    {
     "data": {
      "image/png": "[encoded data removed]",
      "text/plain": [
       "<matplotlib.figure.Figure at 0x115dc8c50>"
      ]
     },
     "metadata": {},
     "output_type": "display_data"
    }
   ],
   "source": [
    "top_10.plot(kind = \"barh\", figsize=(10,6), fontsize=14)\n",
    "plt.title(\"Top 10 important features in ExtraTreeClassifier Model\", fontsize=14)\n",
    "plt.show()"
   ]
  },
  {
   "cell_type": "markdown",
   "metadata": {},
   "source": [
    "### Compare feature importance by each model"
   ]
  },
  {
   "cell_type": "code",
   "execution_count": 506,
   "metadata": {
    "collapsed": true
   },
   "outputs": [],
   "source": [
    "importances = pd.DataFrame(zip(dtc_best_model.feature_importances_,abc_best_model.feature_importances_,\\\n",
    "            rf_best_model.feature_importances_, gb_best_model.feature_importances_, et_best_model.feature_importances_),\n",
    "            index=data.iloc[:train_set, :-2].columns, columns=['dtc_importance', 'abc_importance', 'rf_importance',\\\n",
    "                                           'gb_importance', 'et_importance']).sort_values('dtc_importance',ascending=False)               \n",
    "importances = importances.head(10)"
   ]
  },
  {
   "cell_type": "code",
   "execution_count": 507,
   "metadata": {},
   "outputs": [
    {
     "data": {
      "image/png": "[encoded data removed]",
      "text/plain": [
       "<matplotlib.figure.Figure at 0x12752e490>"
      ]
     },
     "metadata": {},
     "output_type": "display_data"
    }
   ],
   "source": [
    "fig, ax = plt.subplots(figsize=(16,8))\n",
    "importances.plot(kind='bar', ax=ax, fontsize=14)\n",
    "plt.title(\"Top 10 important features in 5 Models\", fontsize=14);\n"
   ]
  },
  {
   "cell_type": "markdown",
   "metadata": {},
   "source": [
    "### Compare scores by each model"
   ]
  },
  {
   "cell_type": "code",
   "execution_count": 342,
   "metadata": {},
   "outputs": [],
   "source": [
    "scores = pd.DataFrame({'ExtraTreeClassifier': [et_best_score, et_precision, et_recall], \n",
    "             'GradientBoostingClassifier': [gb_best_score, gb_precision, gb_recall],\n",
    "             'RandomForestClassifier': [rf_best_score, rf_precision, rf_recall],\n",
    "             'AdaBoostClassifier': [abc_best_score, abc_precision, abc_recall],\n",
    "             'AdaBoostClassifier SGD': [abc_sgd_best_score, abc_sgd_precision, abc_sgd_recall],\n",
    "             'BaggingClassifier': [bc_best_score, bc_precision, bc_recall],\n",
    "             'BaggingClassifier': [bc_sgd_best_score, bc_sgd_precision, bc_sgd_recall],                        \n",
    "             'DecisionTreeClassifier': [dtc_best_score, dtc_precision, dtc_recall],\n",
    "             'SVC': [svc_best_score, svc_precision, svc_recall],\n",
    "             'KNeighborsClassifier': [knn_best_score, knn_precision, knn_recall],\n",
    "             'BernoulliNB': [bn_best_score, bn_precision, bn_recall],\n",
    "             })\n",
    "scores = scores.T.rename(columns={0:'Accuracy score', 1:'Precision score', 2: 'Recall score'}).sort_values('Precision score', ascending=False)\n"
   ]
  },
  {
   "cell_type": "code",
   "execution_count": 343,
   "metadata": {},
   "outputs": [
    {
     "data": {
      "text/html": [
       "<div>\n",
       "<style>\n",
       "    .dataframe thead tr:only-child th {\n",
       "        text-align: right;\n",
       "    }\n",
       "\n",
       "    .dataframe thead th {\n",
       "        text-align: left;\n",
       "    }\n",
       "\n",
       "    .dataframe tbody tr th {\n",
       "        vertical-align: top;\n",
       "    }\n",
       "</style>\n",
       "<table border=\"1\" class=\"dataframe\">\n",
       "  <thead>\n",
       "    <tr style=\"text-align: right;\">\n",
       "      <th></th>\n",
       "      <th>Accuracy score</th>\n",
       "      <th>Precision score</th>\n",
       "      <th>Recall score</th>\n",
       "    </tr>\n",
       "  </thead>\n",
       "  <tbody>\n",
       "    <tr>\n",
       "      <th>DecisionTreeClassifier</th>\n",
       "      <td>0.538934</td>\n",
       "      <td>0.555133</td>\n",
       "      <td>0.574803</td>\n",
       "    </tr>\n",
       "    <tr>\n",
       "      <th>RandomForestClassifier</th>\n",
       "      <td>0.516393</td>\n",
       "      <td>0.554217</td>\n",
       "      <td>0.362205</td>\n",
       "    </tr>\n",
       "    <tr>\n",
       "      <th>BernoulliNB</th>\n",
       "      <td>0.514344</td>\n",
       "      <td>0.538117</td>\n",
       "      <td>0.472441</td>\n",
       "    </tr>\n",
       "    <tr>\n",
       "      <th>SVC</th>\n",
       "      <td>0.500000</td>\n",
       "      <td>0.536232</td>\n",
       "      <td>0.291339</td>\n",
       "    </tr>\n",
       "    <tr>\n",
       "      <th>ExtraTreeClassifier</th>\n",
       "      <td>0.508197</td>\n",
       "      <td>0.529661</td>\n",
       "      <td>0.492126</td>\n",
       "    </tr>\n",
       "    <tr>\n",
       "      <th>GradientBoostingClassifier</th>\n",
       "      <td>0.506148</td>\n",
       "      <td>0.528139</td>\n",
       "      <td>0.480315</td>\n",
       "    </tr>\n",
       "    <tr>\n",
       "      <th>AdaBoostClassifier</th>\n",
       "      <td>0.502049</td>\n",
       "      <td>0.522634</td>\n",
       "      <td>0.500000</td>\n",
       "    </tr>\n",
       "    <tr>\n",
       "      <th>AdaBoostClassifier SGD</th>\n",
       "      <td>0.500000</td>\n",
       "      <td>0.521739</td>\n",
       "      <td>0.472441</td>\n",
       "    </tr>\n",
       "    <tr>\n",
       "      <th>BaggingClassifier</th>\n",
       "      <td>0.489754</td>\n",
       "      <td>0.511013</td>\n",
       "      <td>0.456693</td>\n",
       "    </tr>\n",
       "    <tr>\n",
       "      <th>KNeighborsClassifier</th>\n",
       "      <td>0.477459</td>\n",
       "      <td>0.495935</td>\n",
       "      <td>0.240157</td>\n",
       "    </tr>\n",
       "  </tbody>\n",
       "</table>\n",
       "</div>"
      ],
      "text/plain": [
       "                            Accuracy score  Precision score  Recall score\n",
       "DecisionTreeClassifier            0.538934         0.555133      0.574803\n",
       "RandomForestClassifier            0.516393         0.554217      0.362205\n",
       "BernoulliNB                       0.514344         0.538117      0.472441\n",
       "SVC                               0.500000         0.536232      0.291339\n",
       "ExtraTreeClassifier               0.508197         0.529661      0.492126\n",
       "GradientBoostingClassifier        0.506148         0.528139      0.480315\n",
       "AdaBoostClassifier                0.502049         0.522634      0.500000\n",
       "AdaBoostClassifier SGD            0.500000         0.521739      0.472441\n",
       "BaggingClassifier                 0.489754         0.511013      0.456693\n",
       "KNeighborsClassifier              0.477459         0.495935      0.240157"
      ]
     },
     "execution_count": 343,
     "metadata": {},
     "output_type": "execute_result"
    }
   ],
   "source": [
    "scores"
   ]
  },
  {
   "cell_type": "markdown",
   "metadata": {},
   "source": [
    "### Train / Test split for final result"
   ]
  },
  {
   "cell_type": "code",
   "execution_count": 347,
   "metadata": {},
   "outputs": [
    {
     "data": {
      "text/plain": [
       "2442"
      ]
     },
     "execution_count": 347,
     "metadata": {},
     "output_type": "execute_result"
    }
   ],
   "source": [
    "train_set = int(round(data.shape[0]*.8))\n",
    "train_set"
   ]
  },
  {
   "cell_type": "code",
   "execution_count": 348,
   "metadata": {
    "scrolled": true
   },
   "outputs": [
    {
     "data": {
      "text/plain": [
       "(610, 384)"
      ]
     },
     "execution_count": 348,
     "metadata": {},
     "output_type": "execute_result"
    }
   ],
   "source": [
    "X_final_test = data.iloc[train_set:, :-2]\n",
    "X_final_test.shape"
   ]
  },
  {
   "cell_type": "code",
   "execution_count": 349,
   "metadata": {
    "scrolled": true
   },
   "outputs": [
    {
     "data": {
      "text/plain": [
       "(2442, 384)"
      ]
     },
     "execution_count": 349,
     "metadata": {},
     "output_type": "execute_result"
    }
   ],
   "source": [
    "X_final_train = data.iloc[:train_set, :-2]\n",
    "X_final_train.shape"
   ]
  },
  {
   "cell_type": "code",
   "execution_count": 350,
   "metadata": {},
   "outputs": [
    {
     "data": {
      "text/plain": [
       "(2442,)"
      ]
     },
     "execution_count": 350,
     "metadata": {},
     "output_type": "execute_result"
    }
   ],
   "source": [
    "y_final_train = data.iloc[:train_set, -1].values\n",
    "y_final_train.shape"
   ]
  },
  {
   "cell_type": "code",
   "execution_count": 351,
   "metadata": {},
   "outputs": [
    {
     "data": {
      "text/plain": [
       "(610,)"
      ]
     },
     "execution_count": 351,
     "metadata": {},
     "output_type": "execute_result"
    }
   ],
   "source": [
    "y_final_test = data.iloc[train_set:, -1].values\n",
    "y_final_test.shape"
   ]
  },
  {
   "cell_type": "markdown",
   "metadata": {},
   "source": [
    "#### Fit model on train set"
   ]
  },
  {
   "cell_type": "code",
   "execution_count": 217,
   "metadata": {},
   "outputs": [
    {
     "data": {
      "text/plain": [
       "DecisionTreeClassifier(class_weight=None, criterion='gini', max_depth=6,\n",
       "            max_features=0.6, max_leaf_nodes=None,\n",
       "            min_impurity_split=1e-07, min_samples_leaf=16,\n",
       "            min_samples_split=6, min_weight_fraction_leaf=0.0,\n",
       "            presort=False, random_state=None, splitter='random')"
      ]
     },
     "execution_count": 217,
     "metadata": {},
     "output_type": "execute_result"
    }
   ],
   "source": [
    "dtc_best_model.fit(X_final_train, y_final_train)"
   ]
  },
  {
   "cell_type": "markdown",
   "metadata": {},
   "source": [
    "#### Generate predictions"
   ]
  },
  {
   "cell_type": "code",
   "execution_count": 513,
   "metadata": {
    "collapsed": true
   },
   "outputs": [],
   "source": [
    "final_results = dtc_best_model.predict(X_final_test)"
   ]
  },
  {
   "cell_type": "code",
   "execution_count": 514,
   "metadata": {
    "collapsed": true
   },
   "outputs": [],
   "source": [
    "final_df = data.iloc[train_set:, :]"
   ]
  },
  {
   "cell_type": "code",
   "execution_count": 515,
   "metadata": {
    "collapsed": true
   },
   "outputs": [],
   "source": [
    "final_df['predictions'] = final_results"
   ]
  },
  {
   "cell_type": "code",
   "execution_count": 516,
   "metadata": {
    "scrolled": true
   },
   "outputs": [
    {
     "data": {
      "text/plain": [
       "0    584\n",
       "1     26\n",
       "Name: predictions, dtype: int64"
      ]
     },
     "execution_count": 516,
     "metadata": {},
     "output_type": "execute_result"
    }
   ],
   "source": [
    "final_df['predictions'].value_counts()"
   ]
  },
  {
   "cell_type": "code",
   "execution_count": 517,
   "metadata": {},
   "outputs": [
    {
     "data": {
      "text/html": [
       "<div>\n",
       "<style>\n",
       "    .dataframe thead tr:only-child th {\n",
       "        text-align: right;\n",
       "    }\n",
       "\n",
       "    .dataframe thead th {\n",
       "        text-align: left;\n",
       "    }\n",
       "\n",
       "    .dataframe tbody tr th {\n",
       "        vertical-align: top;\n",
       "    }\n",
       "</style>\n",
       "<table border=\"1\" class=\"dataframe\">\n",
       "  <thead>\n",
       "    <tr style=\"text-align: right;\">\n",
       "      <th></th>\n",
       "      <th>returns</th>\n",
       "      <th>predictions</th>\n",
       "    </tr>\n",
       "    <tr>\n",
       "      <th>Date</th>\n",
       "      <th></th>\n",
       "      <th></th>\n",
       "    </tr>\n",
       "  </thead>\n",
       "  <tbody>\n",
       "    <tr>\n",
       "      <th>2015-04-15</th>\n",
       "      <td>-0.007319</td>\n",
       "      <td>0</td>\n",
       "    </tr>\n",
       "    <tr>\n",
       "      <th>2015-04-16</th>\n",
       "      <td>-0.002048</td>\n",
       "      <td>0</td>\n",
       "    </tr>\n",
       "    <tr>\n",
       "      <th>2015-04-17</th>\n",
       "      <td>0.004823</td>\n",
       "      <td>0</td>\n",
       "    </tr>\n",
       "    <tr>\n",
       "      <th>2015-04-20</th>\n",
       "      <td>0.000408</td>\n",
       "      <td>0</td>\n",
       "    </tr>\n",
       "    <tr>\n",
       "      <th>2015-04-21</th>\n",
       "      <td>0.001123</td>\n",
       "      <td>0</td>\n",
       "    </tr>\n",
       "    <tr>\n",
       "      <th>2015-04-22</th>\n",
       "      <td>-0.007750</td>\n",
       "      <td>0</td>\n",
       "    </tr>\n",
       "    <tr>\n",
       "      <th>2015-04-23</th>\n",
       "      <td>-0.004624</td>\n",
       "      <td>0</td>\n",
       "    </tr>\n",
       "    <tr>\n",
       "      <th>2015-04-24</th>\n",
       "      <td>-0.001136</td>\n",
       "      <td>0</td>\n",
       "    </tr>\n",
       "    <tr>\n",
       "      <th>2015-04-27</th>\n",
       "      <td>-0.006925</td>\n",
       "      <td>0</td>\n",
       "    </tr>\n",
       "    <tr>\n",
       "      <th>2015-04-28</th>\n",
       "      <td>-0.009055</td>\n",
       "      <td>0</td>\n",
       "    </tr>\n",
       "  </tbody>\n",
       "</table>\n",
       "</div>"
      ],
      "text/plain": [
       "             returns  predictions\n",
       "Date                             \n",
       "2015-04-15 -0.007319            0\n",
       "2015-04-16 -0.002048            0\n",
       "2015-04-17  0.004823            0\n",
       "2015-04-20  0.000408            0\n",
       "2015-04-21  0.001123            0\n",
       "2015-04-22 -0.007750            0\n",
       "2015-04-23 -0.004624            0\n",
       "2015-04-24 -0.001136            0\n",
       "2015-04-27 -0.006925            0\n",
       "2015-04-28 -0.009055            0"
      ]
     },
     "execution_count": 517,
     "metadata": {},
     "output_type": "execute_result"
    }
   ],
   "source": [
    "final_df[['returns', 'predictions']][:10]"
   ]
  },
  {
   "cell_type": "markdown",
   "metadata": {},
   "source": [
    "#### The 'Buy' or 'Sell' strategy"
   ]
  },
  {
   "cell_type": "code",
   "execution_count": 520,
   "metadata": {
    "collapsed": true
   },
   "outputs": [],
   "source": [
    "new_list = []\n",
    "for i, j in zip(final_df.returns, final_df.predictions):\n",
    "    if j == 1:\n",
    "        new_list.append(i)\n",
    "    else:\n",
    "        new_list.append(-i)\n",
    "        "
   ]
  },
  {
   "cell_type": "code",
   "execution_count": 521,
   "metadata": {
    "collapsed": true
   },
   "outputs": [],
   "source": [
    "# create 'simulation' column to perform trading\n",
    "final_df['simulation'] = new_list"
   ]
  },
  {
   "cell_type": "code",
   "execution_count": 561,
   "metadata": {},
   "outputs": [],
   "source": [
    "final_return = (final_df.simulation.compound())"
   ]
  },
  {
   "cell_type": "code",
   "execution_count": 562,
   "metadata": {},
   "outputs": [],
   "source": [
    "max_profit = final_df.simulation.max()"
   ]
  },
  {
   "cell_type": "code",
   "execution_count": null,
   "metadata": {
    "collapsed": true
   },
   "outputs": [],
   "source": [
    "max_loss = final_df.simulation.min()"
   ]
  },
  {
   "cell_type": "code",
   "execution_count": null,
   "metadata": {
    "collapsed": true
   },
   "outputs": [],
   "source": [
    "profitable_days = final_df2.simulation[final_df2.simulation >= 0].size"
   ]
  },
  {
   "cell_type": "code",
   "execution_count": null,
   "metadata": {
    "collapsed": true
   },
   "outputs": [],
   "source": [
    "losing_days = final_df2.simulation[final_df2.simulation < 0].size"
   ]
  },
  {
   "cell_type": "code",
   "execution_count": null,
   "metadata": {
    "collapsed": true
   },
   "outputs": [],
   "source": [
    "average_profit = final_df2.simulation[final_df2.simulation >= 0].mean()"
   ]
  },
  {
   "cell_type": "code",
   "execution_count": null,
   "metadata": {
    "collapsed": true
   },
   "outputs": [],
   "source": [
    "average_loss = final_df2.simulation[final_df2.simulation < 0].mean()"
   ]
  },
  {
   "cell_type": "code",
   "execution_count": 563,
   "metadata": {},
   "outputs": [
    {
     "name": "stdout",
     "output_type": "stream",
     "text": [
      "The return over 2 years period is: 8.48%\n",
      "Total profitable days: 312\n",
      "The maximum daily profit is: 2.09%\n",
      "Average daily profit is: 0.36%\n"
     ]
    }
   ],
   "source": [
    "print 'The return over 2 years period is:', str(round(final_return*100, 2)) + '%'\n",
    "print 'Total profitable days:', profitable_days\n",
    "print 'The maximum daily profit is:', str(round(max_profit*100, 2)) + '%'\n",
    "print \"Average daily profit is:\", str(round(average_profit*100, 2)) + '%'"
   ]
  },
  {
   "cell_type": "code",
   "execution_count": 564,
   "metadata": {},
   "outputs": [
    {
     "name": "stdout",
     "output_type": "stream",
     "text": [
      "Total losing days: 298\n",
      "The maximum daily loss is: -2.63%\n",
      "Average daily loss is: -0.35%\n"
     ]
    }
   ],
   "source": [
    "print 'Total losing days:', losing_days\n",
    "print 'The maximum daily loss is:', str(round(max_loss*100, 2)) + '%'\n",
    "print \"Average daily loss is:\", str(round(average_loss*100, 2)) + '%'"
   ]
  },
  {
   "cell_type": "markdown",
   "metadata": {},
   "source": [
    "#### Only 'Buy' strategy"
   ]
  },
  {
   "cell_type": "code",
   "execution_count": 572,
   "metadata": {},
   "outputs": [],
   "source": [
    "buy_return = final_df['returns'][final_df.predictions == 1].compound()\n"
   ]
  },
  {
   "cell_type": "code",
   "execution_count": 573,
   "metadata": {
    "collapsed": true
   },
   "outputs": [],
   "source": [
    "buy_loss = []\n",
    "buy_profit = []\n",
    "for i, j in zip(final_df.returns, final_df.predictions):\n",
    "    if i >= 0 and j == 1:\n",
    "        buy_profit.append(i)\n",
    "    elif i < 0 and j == 1:\n",
    "        buy_loss.append(i)"
   ]
  },
  {
   "cell_type": "code",
   "execution_count": 577,
   "metadata": {},
   "outputs": [
    {
     "name": "stdout",
     "output_type": "stream",
     "text": [
      "The return over 2 years period is: 2.17%\n",
      "Total profitable days: 14\n",
      "Maximum daily profit: 0.87%\n",
      "Average daily profit: 0.42%\n"
     ]
    }
   ],
   "source": [
    "print 'The return over 2 years period is:', str(round(buy_return*100, 2)) + '%'\n",
    "print 'Total profitable days:', len(buy_profit)\n",
    "print 'Maximum daily profit:', str(round(max(buy_profit)*100,2)) + '%'\n",
    "print 'Average daily profit:', str(round(np.mean(buy_profit)*100,2)) + '%'"
   ]
  },
  {
   "cell_type": "code",
   "execution_count": 578,
   "metadata": {},
   "outputs": [
    {
     "name": "stdout",
     "output_type": "stream",
     "text": [
      "Total losing days: 12\n",
      "Maximum daily loss: -0.76%\n",
      "Average daily loss: -0.3%\n"
     ]
    }
   ],
   "source": [
    "print 'Total losing days:', len(buy_loss)\n",
    "print 'Maximum daily loss:', str(round(min(buy_loss)*100,2)) + '%'\n",
    "print 'Average daily loss:', str(round(np.mean(buy_loss)*100,2)) + '%'"
   ]
  },
  {
   "cell_type": "markdown",
   "metadata": {},
   "source": [
    "#### Only 'Sell' strategy"
   ]
  },
  {
   "cell_type": "code",
   "execution_count": 579,
   "metadata": {},
   "outputs": [],
   "source": [
    "sell_return = final_df['returns'][final_df.predictions == 0].compound()"
   ]
  },
  {
   "cell_type": "code",
   "execution_count": 558,
   "metadata": {
    "collapsed": true
   },
   "outputs": [],
   "source": [
    "sell_loss = []\n",
    "sell_profit = []\n",
    "for i, j in zip(final_df.returns, final_df.predictions):\n",
    "    if i <= 0 and j == 0:\n",
    "        sell_profit.append(i)\n",
    "    elif i > 0 and j == 0:\n",
    "        sell_loss.append(i)"
   ]
  },
  {
   "cell_type": "code",
   "execution_count": 587,
   "metadata": {},
   "outputs": [
    {
     "name": "stdout",
     "output_type": "stream",
     "text": [
      "The return over 2 years period is: 7.03%\n",
      "Total profitable days: 298\n",
      "Maximum daily return: 2.09%\n",
      "Average daily return: 0.36%\n"
     ]
    }
   ],
   "source": [
    "print 'The return over 2 years period is:', str(abs(round(sell_return*100, 2))) + '%'\n",
    "print 'Total profitable days:', len(sell_profit)\n",
    "print 'Maximum daily return:', str(abs(round(min(sell_profit)*100,2))) + '%'\n",
    "print 'Average daily return:', str(abs(round(np.mean(sell_profit)*100,2))) + '%'"
   ]
  },
  {
   "cell_type": "code",
   "execution_count": 588,
   "metadata": {},
   "outputs": [
    {
     "name": "stdout",
     "output_type": "stream",
     "text": [
      "Average daily loss: 0.35%\n",
      "Maximum daily loss: 2.63%\n",
      "Total losing days: 286\n"
     ]
    }
   ],
   "source": [
    "print 'Average daily loss:', str(abs(round(np.mean(sell_loss)*100,2))) + '%'\n",
    "print 'Maximum daily loss:', str(abs(round(max(sell_loss)*100,2))) + '%'\n",
    "print 'Total losing days:', len(sell_loss)"
   ]
  },
  {
   "cell_type": "code",
   "execution_count": null,
   "metadata": {
    "collapsed": true
   },
   "outputs": [],
   "source": []
  }
 ],
 "metadata": {
  "kernelspec": {
   "display_name": "Python 2",
   "language": "python",
   "name": "python2"
  },
  "language_info": {
   "codemirror_mode": {
    "name": "ipython",
    "version": 2
   },
   "file_extension": ".py",
   "mimetype": "text/x-python",
   "name": "python",
   "nbconvert_exporter": "python",
   "pygments_lexer": "ipython2",
   "version": "2.7.13"
  }
 },
 "nbformat": 4,
 "nbformat_minor": 2
}
